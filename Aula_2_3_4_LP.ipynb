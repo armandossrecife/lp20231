{
  "nbformat": 4,
  "nbformat_minor": 0,
  "metadata": {
    "colab": {
      "provenance": [],
      "collapsed_sections": [
        "pVfkcH-Ck9LT",
        "kG4SQwCMiGo4",
        "X6mPLF8hlVeo",
        "sTnHHczYmcuq",
        "7Kc79V8Kmtyn",
        "xA2TRh5AnbdG",
        "J__VwJvkrud4",
        "RpElLWK93j8k",
        "vxOtCg2Jrvwf",
        "nbbs737orxyu",
        "5yo4gFrDxhTO"
      ],
      "authorship_tag": "ABX9TyNDcUQTnFQ98JhEApxAjYa4",
      "include_colab_link": true
    },
    "kernelspec": {
      "name": "python3",
      "display_name": "Python 3"
    },
    "language_info": {
      "name": "python"
    }
  },
  "cells": [
    {
      "cell_type": "markdown",
      "metadata": {
        "id": "view-in-github",
        "colab_type": "text"
      },
      "source": [
        "<a href=\"https://colab.research.google.com/github/armandossrecife/lp20231/blob/main/Aula_2_3_4_LP.ipynb\" target=\"_parent\"><img src=\"https://colab.research.google.com/assets/colab-badge.svg\" alt=\"Open In Colab\"/></a>"
      ]
    },
    {
      "cell_type": "markdown",
      "source": [
        "# Uso de variáveis"
      ],
      "metadata": {
        "id": "pVfkcH-Ck9LT"
      }
    },
    {
      "cell_type": "code",
      "source": [
        "verdade = True"
      ],
      "metadata": {
        "id": "olQ7k14Tz1Mt"
      },
      "execution_count": null,
      "outputs": []
    },
    {
      "cell_type": "code",
      "source": [
        "mentira = False"
      ],
      "metadata": {
        "id": "qJj3MnE0z3yb"
      },
      "execution_count": null,
      "outputs": []
    },
    {
      "cell_type": "code",
      "source": [
        "meu_texto =  \"\""
      ],
      "metadata": {
        "id": "AxfdsDJLzY-x"
      },
      "execution_count": null,
      "outputs": []
    },
    {
      "cell_type": "code",
      "source": [
        "meu_numerot_inteiro = 0"
      ],
      "metadata": {
        "id": "vATuKOC7zdBB"
      },
      "execution_count": null,
      "outputs": []
    },
    {
      "cell_type": "code",
      "source": [
        "minha_altura = 0"
      ],
      "metadata": {
        "id": "lrxPVY2uzh00"
      },
      "execution_count": null,
      "outputs": []
    },
    {
      "cell_type": "code",
      "source": [
        "# Principais tipos de variaveis\n",
        "\n",
        "# str\n",
        "nome_usuario = \"armando\"\n",
        "\n",
        "# int\n",
        "qtd_acessos = 10\n",
        "\n",
        "# float\n",
        "altura_usuario = 1.7\n",
        "\n",
        "# bool\n",
        "logado = True"
      ],
      "metadata": {
        "id": "_XULQcHNk_Vz"
      },
      "execution_count": null,
      "outputs": []
    },
    {
      "cell_type": "markdown",
      "source": [
        "# Operadores"
      ],
      "metadata": {
        "id": "kG4SQwCMiGo4"
      }
    },
    {
      "cell_type": "markdown",
      "source": [
        "arithmetic operators (+, -, *, /)\n",
        "\n",
        "comparison operators (>, <, ==, !=)\n",
        "\n",
        "logical operators (and, or, not)."
      ],
      "metadata": {
        "id": "S3oxNDtyiJqb"
      }
    },
    {
      "cell_type": "code",
      "source": [
        "# operador módulo\n",
        "3 % 2"
      ],
      "metadata": {
        "colab": {
          "base_uri": "https://localhost:8080/"
        },
        "id": "JUNCD3mF0VvQ",
        "outputId": "53f76320-c232-47e5-b6f1-165098127950"
      },
      "execution_count": null,
      "outputs": [
        {
          "output_type": "execute_result",
          "data": {
            "text/plain": [
              "1"
            ]
          },
          "metadata": {},
          "execution_count": 7
        }
      ]
    },
    {
      "cell_type": "markdown",
      "source": [
        "# Estrutura de seleção (if)"
      ],
      "metadata": {
        "id": "X6mPLF8hlVeo"
      }
    },
    {
      "cell_type": "code",
      "source": [
        "# bloco1\n",
        "print(\"Bem vindo ao sistema de testes\")\n",
        "print(\"Este será nosso ambiente de testes para exercitar a linguagem Python\")\n",
        "\n",
        "if logado:\n",
        "  # bloco2\n",
        "  print(\"--- Usuário logado ---\")\n",
        "  print(f\"O usuário {nome_usuario} teve {qtd_acessos} acesssos\")\n",
        "  print(\"-----------------------------------\")\n",
        "else:\n",
        "  # bloco3 \n",
        "  print(\"Nenhum usuário logado!\")\n",
        "  print(\"---\")\n",
        "# bloco4\n",
        "print(\"É necessário treinar todos os dias para se acostumar com o ambiente e a linguagem.\")\n",
        "print(\"Treinar, treinar e treinar...\")"
      ],
      "metadata": {
        "colab": {
          "base_uri": "https://localhost:8080/"
        },
        "id": "X4bJ2LvQ0wRf",
        "outputId": "0fca6f92-47de-4c64-a856-874c547c99d4"
      },
      "execution_count": null,
      "outputs": [
        {
          "output_type": "stream",
          "name": "stdout",
          "text": [
            "Bem vindo ao sistema de testes\n",
            "Este será nosso ambiente de testes para exercitar a linguagem Python\n",
            "--- Usuário logado ---\n",
            "O usuário armando teve 10 acesssos\n",
            "-----------------------------------\n",
            "É necessário treinar todos os dias para se acostumar com o ambiente e a linguagem.\n",
            "Treinar, treinar e treinar...\n"
          ]
        }
      ]
    },
    {
      "cell_type": "markdown",
      "source": [
        "# Aspectos básicos do tipo String"
      ],
      "metadata": {
        "id": "sTnHHczYmcuq"
      }
    },
    {
      "cell_type": "code",
      "source": [
        "texto = 'Ciência da Computação'\n",
        "\n",
        "primeiro_caractere = texto[0]\n",
        "\n",
        "print(f\"Primeiro caractere: {primeiro_caractere}\")\n",
        "print(f\"Tamanho do texto: {len(texto)}\")\n",
        "print(f\"último caractere: {texto[20]}\")"
      ],
      "metadata": {
        "colab": {
          "base_uri": "https://localhost:8080/"
        },
        "id": "fNyzLcNd3HRZ",
        "outputId": "b6534a68-50b6-4e9c-e157-08e87b35672f"
      },
      "execution_count": null,
      "outputs": [
        {
          "output_type": "stream",
          "name": "stdout",
          "text": [
            "Primeiro caractere: C\n",
            "Tamanho do texto: 21\n",
            "último caractere: o\n"
          ]
        }
      ]
    },
    {
      "cell_type": "code",
      "source": [
        "print(texto)\n",
        "\n",
        "centro = 'Ciência da Natureza'\n",
        "\n",
        "descricao_curso = texto + \" - \" + centro\n",
        "print(descricao_curso)"
      ],
      "metadata": {
        "colab": {
          "base_uri": "https://localhost:8080/"
        },
        "id": "YR_jlfYZ5KdW",
        "outputId": "f9b0ef5c-0f52-4be1-892f-82f656bf8d7b"
      },
      "execution_count": null,
      "outputs": [
        {
          "output_type": "stream",
          "name": "stdout",
          "text": [
            "Ciência da Computação\n",
            "Ciência da Computação - Ciência da Natureza\n"
          ]
        }
      ]
    },
    {
      "cell_type": "code",
      "source": [
        "print(descricao_curso[10:])"
      ],
      "metadata": {
        "colab": {
          "base_uri": "https://localhost:8080/"
        },
        "id": "7Rv1elvl5pyT",
        "outputId": "eb561a1e-0082-4239-92cf-7a3d9a616f02"
      },
      "execution_count": null,
      "outputs": [
        {
          "output_type": "stream",
          "name": "stdout",
          "text": [
            " Computação - Ciência da Natureza\n"
          ]
        }
      ]
    },
    {
      "cell_type": "code",
      "source": [
        "print(descricao_curso[-1])"
      ],
      "metadata": {
        "colab": {
          "base_uri": "https://localhost:8080/"
        },
        "id": "4Tag9cfk52Cw",
        "outputId": "e7bb9287-653e-4f15-f699-45ab9c29e867"
      },
      "execution_count": null,
      "outputs": [
        {
          "output_type": "stream",
          "name": "stdout",
          "text": [
            "a\n"
          ]
        }
      ]
    },
    {
      "cell_type": "code",
      "source": [
        "print(descricao_curso[-2])"
      ],
      "metadata": {
        "colab": {
          "base_uri": "https://localhost:8080/"
        },
        "id": "tWr5kgZK6MxU",
        "outputId": "b02dadd3-425d-481d-f812-a702c997e4c8"
      },
      "execution_count": null,
      "outputs": [
        {
          "output_type": "stream",
          "name": "stdout",
          "text": [
            "z\n"
          ]
        }
      ]
    },
    {
      "cell_type": "code",
      "source": [
        "texto = \"Armando Soares Sousa\"\n",
        "print(texto)\n",
        "\n",
        "# Tamanho da string\n",
        "print(f\"Tamanho da string: {len(texto)}\")\n",
        "\n",
        "# Primeiro caractere\n",
        "print(f\"Primeiro caractere: {texto[0]}\")\n",
        "\n",
        "# Ultimo caractere\n",
        "tamanho_texto = len(texto)\n",
        "print(f\"Último caractere do texto: {texto[tamanho_texto-1]}\")\n",
        "\n",
        "# Concatenando strings \n",
        "professor_armando = texto + ' - Professor do Departamento de Computação - UFPI'\n",
        "print(professor_armando)\n",
        "\n",
        "print(professor_armando[7:])\n",
        "\n",
        "print(professor_armando[7:20])\n",
        "\n",
        "# Metodos mais comuns de manipulacao de strings\n",
        "\n"
      ],
      "metadata": {
        "colab": {
          "base_uri": "https://localhost:8080/"
        },
        "id": "0B2jPKqAl4Lw",
        "outputId": "2ee06190-9f4e-4316-cdc7-7e627a70181e"
      },
      "execution_count": null,
      "outputs": [
        {
          "output_type": "stream",
          "name": "stdout",
          "text": [
            "Armando Soares Sousa\n",
            "Tamanho da string: 20\n",
            "Primeiro caractere: A\n",
            "Último caractere do texto: a\n",
            "Armando Soares Sousa - Professor do Departamento de Computação - UFPI\n",
            " Soares Sousa - Professor do Departamento de Computação - UFPI\n",
            " Soares Sousa\n"
          ]
        }
      ]
    },
    {
      "cell_type": "code",
      "source": [
        "# Upper case\n",
        "print(professor_armando.upper())\n",
        "\n",
        "# Lower case\n",
        "print(professor_armando.lower())\n",
        "\n",
        "# Capitalize \n",
        "print(professor_armando.capitalize())"
      ],
      "metadata": {
        "colab": {
          "base_uri": "https://localhost:8080/"
        },
        "id": "pBS9Zjw56gqX",
        "outputId": "18326336-0738-49d9-b06d-e8b2f4ebbc0c"
      },
      "execution_count": null,
      "outputs": [
        {
          "output_type": "stream",
          "name": "stdout",
          "text": [
            "ARMANDO SOARES SOUSA - PROFESSOR DO DEPARTAMENTO DE COMPUTAÇÃO - UFPI\n",
            "armando soares sousa - professor do departamento de computação - ufpi\n",
            "Armando soares sousa - professor do departamento de computação - ufpi\n"
          ]
        }
      ]
    },
    {
      "cell_type": "code",
      "source": [
        "# Find\n",
        "print(professor_armando.find(\"Sousa\"))"
      ],
      "metadata": {
        "colab": {
          "base_uri": "https://localhost:8080/"
        },
        "id": "_Jv7lPA26_uN",
        "outputId": "ddc14593-5529-47f8-ad28-e8fb67b0bb93"
      },
      "execution_count": null,
      "outputs": [
        {
          "output_type": "stream",
          "name": "stdout",
          "text": [
            "15\n"
          ]
        }
      ]
    },
    {
      "cell_type": "code",
      "source": [
        "# Find\n",
        "print(professor_armando.find(\"Sousa\"))\n",
        "print(professor_armando[15])\n",
        "\n",
        "print(professor_armando.find(\"Souza\"))\n",
        "\n",
        "print(professor_armando.index(\"Sousa\"))"
      ],
      "metadata": {
        "colab": {
          "base_uri": "https://localhost:8080/"
        },
        "id": "tFOzqem463VT",
        "outputId": "76ede622-0d40-40ff-9e75-7622659974b1"
      },
      "execution_count": null,
      "outputs": [
        {
          "output_type": "stream",
          "name": "stdout",
          "text": [
            "15\n",
            "S\n",
            "-1\n",
            "15\n"
          ]
        }
      ]
    },
    {
      "cell_type": "code",
      "source": [
        "meu_texto1 = '''Você também pode definir um texto qualquer \n",
        "que tenha inclusive linhas entre o texto\n",
        "esta é a 3a. linha\n",
        "esta é a 4a. linha'''\n",
        "\n",
        "print(meu_texto1)"
      ],
      "metadata": {
        "colab": {
          "base_uri": "https://localhost:8080/"
        },
        "id": "NgQUyoA1k4xy",
        "outputId": "5ba20b11-b191-4414-d340-1d26d1874050"
      },
      "execution_count": null,
      "outputs": [
        {
          "output_type": "stream",
          "name": "stdout",
          "text": [
            "Você também pode definir um texto qualquer \n",
            "que tenha inclusive linhas entre o texto\n",
            "esta é a 3a. linha\n",
            "esta é a 4a. linha\n"
          ]
        }
      ]
    },
    {
      "cell_type": "markdown",
      "source": [
        "# Entrada padrão (teclado)\n",
        "\n",
        "input(..)"
      ],
      "metadata": {
        "id": "7Kc79V8Kmtyn"
      }
    },
    {
      "cell_type": "code",
      "source": [
        "nome_usuario = input(\"Qual o seu usuário? \")\n",
        "print(f\"Bem vindo {nome_usuario} ao sistema!\")"
      ],
      "metadata": {
        "colab": {
          "base_uri": "https://localhost:8080/"
        },
        "id": "ydQ99GZ770id",
        "outputId": "17050f0f-f6f9-4c1a-fa69-3c764bb8b9e3"
      },
      "execution_count": null,
      "outputs": [
        {
          "output_type": "stream",
          "name": "stdout",
          "text": [
            "Qual o seu usuário? armando\n",
            "Bem vindo armando ao sistema!\n"
          ]
        }
      ]
    },
    {
      "cell_type": "code",
      "source": [
        "## Entrada padrao (teclado) input \n",
        "\n",
        "nome_usuario = input(\"Qual o seu usuário? \")\n",
        "print(f\"Bem vindo {nome_usuario} ao sistema!\")\n",
        "\n",
        "ano_nascimento = int(input(\"Qual seu ano de nascimento? \"))\n",
        "print(f\"O usuário {nome_usuario} nasceu em {ano_nascimento}.\")"
      ],
      "metadata": {
        "colab": {
          "base_uri": "https://localhost:8080/"
        },
        "id": "EnaGfmJQml0I",
        "outputId": "04961d35-c9cd-48b3-81aa-526471d622e0"
      },
      "execution_count": null,
      "outputs": [
        {
          "output_type": "stream",
          "name": "stdout",
          "text": [
            "Qual o seu usuário? armando.sousa\n",
            "Bem vindo armando.sousa ao sistema!\n",
            "Qual seu ano de nascimento? 1979\n",
            "O usuário armando.sousa nasceu em 1979.\n"
          ]
        }
      ]
    },
    {
      "cell_type": "code",
      "source": [
        "type(ano_nascimento)"
      ],
      "metadata": {
        "colab": {
          "base_uri": "https://localhost:8080/"
        },
        "id": "Y09yIEqM8Ppq",
        "outputId": "bbe4def9-78c6-4ed8-c9fb-36f6224de399"
      },
      "execution_count": null,
      "outputs": [
        {
          "output_type": "execute_result",
          "data": {
            "text/plain": [
              "int"
            ]
          },
          "metadata": {},
          "execution_count": 302
        }
      ]
    },
    {
      "cell_type": "code",
      "source": [
        "ano_corrente = int(input(\"Qual o ano corrente? \"))\n",
        "\n",
        "idade = ano_corrente - ano_nascimento\n",
        "\n",
        "print(f\"O usuário {nome_usuario} tem {idade} anos.\")"
      ],
      "metadata": {
        "colab": {
          "base_uri": "https://localhost:8080/"
        },
        "id": "2luVmwsFmxyh",
        "outputId": "00d3f786-e439-47a3-c588-2669127d6c14"
      },
      "execution_count": null,
      "outputs": [
        {
          "output_type": "stream",
          "name": "stdout",
          "text": [
            "Qual o ano corrente? 2023\n",
            "O usuário armando.sousa tem 44 anos.\n"
          ]
        }
      ]
    },
    {
      "cell_type": "code",
      "source": [
        "# Exemplo de tratamento de exeção\n",
        "try:\n",
        "  ano_nascimento = int(input(\"Qual o ano de nascimento? \"))\n",
        "  print(ano_nascimento)\n",
        "except Exception:\n",
        "  print(\"Digite um número inteiro válido!\")"
      ],
      "metadata": {
        "colab": {
          "base_uri": "https://localhost:8080/"
        },
        "id": "IlZ0Rrfq8uxM",
        "outputId": "46eb9a66-68b0-456b-9020-5a84a513285e"
      },
      "execution_count": null,
      "outputs": [
        {
          "output_type": "stream",
          "name": "stdout",
          "text": [
            "Qual o ano de nascimento? 1979\n",
            "1979\n"
          ]
        }
      ]
    },
    {
      "cell_type": "code",
      "source": [
        "try:\n",
        "  numero = int(input(\"Digite um número: \"))\n",
        "  print(numero)\n",
        "except Exception as ex:\n",
        "  print(f\"Valor inválido! Digite um número inteiro! - Erro: {ex}\")"
      ],
      "metadata": {
        "colab": {
          "base_uri": "https://localhost:8080/"
        },
        "id": "Qt5MtK3RizLC",
        "outputId": "ee9eef17-eb67-4091-eff0-8f34ed7235d4"
      },
      "execution_count": null,
      "outputs": [
        {
          "output_type": "stream",
          "name": "stdout",
          "text": [
            "Digite um número: 10\n",
            "10\n"
          ]
        }
      ]
    },
    {
      "cell_type": "markdown",
      "source": [
        "# Loops"
      ],
      "metadata": {
        "id": "xA2TRh5AnbdG"
      }
    },
    {
      "cell_type": "code",
      "source": [
        "lista_numeros = [2,4,6,8,10,12]\n",
        "print(lista_numeros)"
      ],
      "metadata": {
        "colab": {
          "base_uri": "https://localhost:8080/"
        },
        "id": "ulfcucHh-LWZ",
        "outputId": "e4dcfe0f-f20f-4c8e-fce5-0eecc031be70"
      },
      "execution_count": null,
      "outputs": [
        {
          "output_type": "stream",
          "name": "stdout",
          "text": [
            "[2, 4, 6, 8, 10, 12]\n"
          ]
        }
      ]
    },
    {
      "cell_type": "code",
      "source": [
        "type(lista_numeros)"
      ],
      "metadata": {
        "colab": {
          "base_uri": "https://localhost:8080/"
        },
        "id": "QuG5ZBQ0-WuK",
        "outputId": "92cc1659-9a6c-40a9-e73e-163ca5e7b14e"
      },
      "execution_count": null,
      "outputs": [
        {
          "output_type": "execute_result",
          "data": {
            "text/plain": [
              "list"
            ]
          },
          "metadata": {},
          "execution_count": 307
        }
      ]
    },
    {
      "cell_type": "code",
      "source": [
        "for elemento in lista_numeros:\n",
        "  print(elemento)"
      ],
      "metadata": {
        "colab": {
          "base_uri": "https://localhost:8080/"
        },
        "id": "74tOOLa9-hFd",
        "outputId": "c605642d-cd69-4a05-f331-d4dec73f2100"
      },
      "execution_count": null,
      "outputs": [
        {
          "output_type": "stream",
          "name": "stdout",
          "text": [
            "2\n",
            "4\n",
            "6\n",
            "8\n",
            "10\n",
            "12\n"
          ]
        }
      ]
    },
    {
      "cell_type": "code",
      "source": [
        "len(lista_numeros)"
      ],
      "metadata": {
        "colab": {
          "base_uri": "https://localhost:8080/"
        },
        "id": "QL46SWho_UKm",
        "outputId": "043bce7d-519d-481c-d663-06620779b935"
      },
      "execution_count": null,
      "outputs": [
        {
          "output_type": "execute_result",
          "data": {
            "text/plain": [
              "6"
            ]
          },
          "metadata": {},
          "execution_count": 309
        }
      ]
    },
    {
      "cell_type": "code",
      "source": [
        "for i in range(len(lista_numeros)):\n",
        "  print(f\"índice: {i}, elemento da lista: {lista_numeros[i]}\")"
      ],
      "metadata": {
        "colab": {
          "base_uri": "https://localhost:8080/"
        },
        "id": "D5ZBw5TX_YlN",
        "outputId": "98652884-9a3c-43a4-ef8e-4d8549e0221d"
      },
      "execution_count": null,
      "outputs": [
        {
          "output_type": "stream",
          "name": "stdout",
          "text": [
            "índice: 0, elemento da lista: 2\n",
            "índice: 1, elemento da lista: 4\n",
            "índice: 2, elemento da lista: 6\n",
            "índice: 3, elemento da lista: 8\n",
            "índice: 4, elemento da lista: 10\n",
            "índice: 5, elemento da lista: 12\n"
          ]
        }
      ]
    },
    {
      "cell_type": "code",
      "source": [
        "range(10)"
      ],
      "metadata": {
        "colab": {
          "base_uri": "https://localhost:8080/"
        },
        "id": "vBctqM6X-22d",
        "outputId": "3b082d72-b035-4175-8e7a-3734d3e10627"
      },
      "execution_count": null,
      "outputs": [
        {
          "output_type": "execute_result",
          "data": {
            "text/plain": [
              "range(0, 10)"
            ]
          },
          "metadata": {},
          "execution_count": 311
        }
      ]
    },
    {
      "cell_type": "code",
      "source": [
        "for i in range(5):\n",
        "  print(i)"
      ],
      "metadata": {
        "colab": {
          "base_uri": "https://localhost:8080/"
        },
        "id": "OvvXtWJH_CEy",
        "outputId": "38fe6e06-c146-47f9-bae6-82ccb46f87e3"
      },
      "execution_count": null,
      "outputs": [
        {
          "output_type": "stream",
          "name": "stdout",
          "text": [
            "0\n",
            "1\n",
            "2\n",
            "3\n",
            "4\n"
          ]
        }
      ]
    },
    {
      "cell_type": "markdown",
      "source": [
        "## For"
      ],
      "metadata": {
        "id": "XQ0Ah0R9ndzB"
      }
    },
    {
      "cell_type": "code",
      "source": [
        "# For no python\n",
        "lista_numeros = [1,2,3,4,5]\n",
        "print(lista_numeros)\n",
        "\n",
        "for i in lista_numeros:\n",
        "    print(i)"
      ],
      "metadata": {
        "colab": {
          "base_uri": "https://localhost:8080/"
        },
        "id": "Qk8GGcKvnHeI",
        "outputId": "47373d50-0411-4a33-eae0-69c201e45770"
      },
      "execution_count": null,
      "outputs": [
        {
          "output_type": "stream",
          "name": "stdout",
          "text": [
            "[1, 2, 3, 4, 5]\n",
            "1\n",
            "2\n",
            "3\n",
            "4\n",
            "5\n"
          ]
        }
      ]
    },
    {
      "cell_type": "code",
      "source": [
        "lista_nomes = ['Maria', 'Ana', 'Carla']\n",
        "print(lista_nomes)"
      ],
      "metadata": {
        "colab": {
          "base_uri": "https://localhost:8080/"
        },
        "id": "9hnis7WeAN7h",
        "outputId": "4e32a4d3-1379-4af3-878d-d2c85f1dd4ed"
      },
      "execution_count": null,
      "outputs": [
        {
          "output_type": "stream",
          "name": "stdout",
          "text": [
            "['Maria', 'Ana', 'Carla']\n"
          ]
        }
      ]
    },
    {
      "cell_type": "code",
      "source": [
        "for elemento in lista_nomes:\n",
        "    print(elemento)"
      ],
      "metadata": {
        "colab": {
          "base_uri": "https://localhost:8080/"
        },
        "id": "IrLo25ZGnk4j",
        "outputId": "0f146eec-7bdb-4310-b17a-67f8e4a6729c"
      },
      "execution_count": null,
      "outputs": [
        {
          "output_type": "stream",
          "name": "stdout",
          "text": [
            "Maria\n",
            "Ana\n",
            "Carla\n"
          ]
        }
      ]
    },
    {
      "cell_type": "code",
      "source": [
        "print(range(5))\n",
        "\n",
        "print(\"A classe range\")\n",
        "for i in range(5):\n",
        "    print(i)"
      ],
      "metadata": {
        "colab": {
          "base_uri": "https://localhost:8080/"
        },
        "id": "-rg0D176no_r",
        "outputId": "be672470-9329-4aa8-805a-8a7668d5b98f"
      },
      "execution_count": null,
      "outputs": [
        {
          "output_type": "stream",
          "name": "stdout",
          "text": [
            "range(0, 5)\n",
            "A classe range\n",
            "0\n",
            "1\n",
            "2\n",
            "3\n",
            "4\n"
          ]
        }
      ]
    },
    {
      "cell_type": "code",
      "source": [
        "print(\"O comando break\")\n",
        "for i in range(10):\n",
        "  # sai do for se i for igual a 5\n",
        "  if i == 5:\n",
        "    break\n",
        "  else:\n",
        "    print(i)\n",
        "print(\"A execução do programa continua daqui...\")"
      ],
      "metadata": {
        "colab": {
          "base_uri": "https://localhost:8080/"
        },
        "id": "ksT2Weahnsic",
        "outputId": "eda24267-4e0a-4eb5-d78e-94da11b2e2cf"
      },
      "execution_count": null,
      "outputs": [
        {
          "output_type": "stream",
          "name": "stdout",
          "text": [
            "O comando break\n",
            "0\n",
            "1\n",
            "2\n",
            "3\n",
            "4\n",
            "A execução do programa continua daqui...\n"
          ]
        }
      ]
    },
    {
      "cell_type": "code",
      "source": [
        "print(\"O comando continue\")\n",
        "for i in range(10):\n",
        "    if i == 5:\n",
        "        # pula a iteracao se i == 5\n",
        "        continue\n",
        "    else:\n",
        "        print(i)"
      ],
      "metadata": {
        "colab": {
          "base_uri": "https://localhost:8080/"
        },
        "id": "o6rQVKVNnvAo",
        "outputId": "cc750900-bb76-4284-e2cd-19e6bfa4bee1"
      },
      "execution_count": null,
      "outputs": [
        {
          "output_type": "stream",
          "name": "stdout",
          "text": [
            "O comando continue\n",
            "0\n",
            "1\n",
            "2\n",
            "3\n",
            "4\n",
            "6\n",
            "7\n",
            "8\n",
            "9\n"
          ]
        }
      ]
    },
    {
      "cell_type": "code",
      "source": [
        "print(\"Mostra os números pares de 0 até 10\")\n",
        "for i in range(11):\n",
        "    if i%2==0:\n",
        "        print(i)"
      ],
      "metadata": {
        "colab": {
          "base_uri": "https://localhost:8080/"
        },
        "id": "sqA9JaS1nw6n",
        "outputId": "90922ea9-9492-4c9d-b67b-c2d150e0af12"
      },
      "execution_count": null,
      "outputs": [
        {
          "output_type": "stream",
          "name": "stdout",
          "text": [
            "Mostra os números pares de 0 até 10\n",
            "0\n",
            "2\n",
            "4\n",
            "6\n",
            "8\n",
            "10\n"
          ]
        }
      ]
    },
    {
      "cell_type": "code",
      "source": [
        "print(\"Mostra apenas os números ímpares de 0 a 10\")\n",
        "for i in range(11):\n",
        "    if i%2 != 0:\n",
        "        print(i)"
      ],
      "metadata": {
        "colab": {
          "base_uri": "https://localhost:8080/"
        },
        "id": "0hqWA617nzaO",
        "outputId": "973e508f-27ea-499b-b5ed-fb35503d909b"
      },
      "execution_count": null,
      "outputs": [
        {
          "output_type": "stream",
          "name": "stdout",
          "text": [
            "Mostra apenas os números ímpares de 0 a 10\n",
            "1\n",
            "3\n",
            "5\n",
            "7\n",
            "9\n"
          ]
        }
      ]
    },
    {
      "cell_type": "code",
      "source": [
        "print(\"For aninhado\")\n",
        "for i in range(5):\n",
        "  for j in range(5):\n",
        "    print(f\"i:{i}, j:{j} = {i*j}\")"
      ],
      "metadata": {
        "colab": {
          "base_uri": "https://localhost:8080/"
        },
        "id": "7Po0CvFFn08q",
        "outputId": "1f1a062b-4c4b-4913-dec3-573a056c466b"
      },
      "execution_count": null,
      "outputs": [
        {
          "output_type": "stream",
          "name": "stdout",
          "text": [
            "For aninhado\n",
            "i:0, j:0 = 0\n",
            "i:0, j:1 = 0\n",
            "i:0, j:2 = 0\n",
            "i:0, j:3 = 0\n",
            "i:0, j:4 = 0\n",
            "i:1, j:0 = 0\n",
            "i:1, j:1 = 1\n",
            "i:1, j:2 = 2\n",
            "i:1, j:3 = 3\n",
            "i:1, j:4 = 4\n",
            "i:2, j:0 = 0\n",
            "i:2, j:1 = 2\n",
            "i:2, j:2 = 4\n",
            "i:2, j:3 = 6\n",
            "i:2, j:4 = 8\n",
            "i:3, j:0 = 0\n",
            "i:3, j:1 = 3\n",
            "i:3, j:2 = 6\n",
            "i:3, j:3 = 9\n",
            "i:3, j:4 = 12\n",
            "i:4, j:0 = 0\n",
            "i:4, j:1 = 4\n",
            "i:4, j:2 = 8\n",
            "i:4, j:3 = 12\n",
            "i:4, j:4 = 16\n"
          ]
        }
      ]
    },
    {
      "cell_type": "markdown",
      "source": [
        "## While"
      ],
      "metadata": {
        "id": "COtTdprJoPID"
      }
    },
    {
      "cell_type": "code",
      "source": [
        "# While no python\n",
        "print(\"Imprimie de 0 a 9\")\n",
        "contador = 0\n",
        "limite = 10\n",
        "while (contador < limite):\n",
        "  print(contador)\n",
        "  contador = contador + 1"
      ],
      "metadata": {
        "colab": {
          "base_uri": "https://localhost:8080/"
        },
        "id": "fUhClzWEn2Cz",
        "outputId": "91be01ae-38e8-4ac6-87da-be6e5436cd03"
      },
      "execution_count": null,
      "outputs": [
        {
          "output_type": "stream",
          "name": "stdout",
          "text": [
            "Imprimie de 0 a 9\n",
            "0\n",
            "1\n",
            "2\n",
            "3\n",
            "4\n",
            "5\n",
            "6\n",
            "7\n",
            "8\n",
            "9\n"
          ]
        }
      ]
    },
    {
      "cell_type": "code",
      "source": [
        "print(\"O comando break no while\")\n",
        "contador = 0\n",
        "limite = 10\n",
        "while (contador < limite):\n",
        "  if contador == 5:\n",
        "    # sai do loop\n",
        "    break\n",
        "  print(contador)\n",
        "  contador = contador + 1\n",
        "print(\"Continua após o bloco do while...\")"
      ],
      "metadata": {
        "colab": {
          "base_uri": "https://localhost:8080/"
        },
        "id": "2i6fz9ZxoSFL",
        "outputId": "e86ede1c-b96d-4a7c-ec31-208edac4bf35"
      },
      "execution_count": null,
      "outputs": [
        {
          "output_type": "stream",
          "name": "stdout",
          "text": [
            "O comando break no while\n",
            "0\n",
            "1\n",
            "2\n",
            "3\n",
            "4\n",
            "Continua após o bloco do while...\n"
          ]
        }
      ]
    },
    {
      "cell_type": "code",
      "source": [
        "print(\"O comando continue no while\")\n",
        "contador = 0\n",
        "limite = 10\n",
        "while(contador < limite):\n",
        "    contador = contador + 1\n",
        "    # Pula a iteracao quando contador == 5\n",
        "    if contador == 5 or contador == 7 or contador == 9:\n",
        "        continue\n",
        "    print(contador)"
      ],
      "metadata": {
        "colab": {
          "base_uri": "https://localhost:8080/"
        },
        "id": "RDskTCehoUQM",
        "outputId": "6fe803fa-2bb7-45c2-c3e5-afb509e8a897"
      },
      "execution_count": null,
      "outputs": [
        {
          "output_type": "stream",
          "name": "stdout",
          "text": [
            "O comando continue no while\n",
            "1\n",
            "2\n",
            "3\n",
            "4\n",
            "6\n",
            "8\n",
            "10\n"
          ]
        }
      ]
    },
    {
      "cell_type": "code",
      "source": [
        "while (True):\n",
        "  print(\"Bem vindo ao sistema X\")\n",
        "  print(\"Menu de Opções\")\n",
        "  print(\"1. Opção A\")\n",
        "  print(\"2. Opção B\")\n",
        "  print(\"3. Opção C\")\n",
        "  print(\"4. SAIR\")\n",
        "  opcao = input(\"Qual a sua opção? \")\n",
        "  if opcao=='1':\n",
        "    print(\"Você escolheu a opção A\")\n",
        "  elif opcao=='2':\n",
        "    print(\"Você escolheu a opção B\")\n",
        "  elif opcao=='3':\n",
        "    print(\"Você escolheu a opção C\")\n",
        "  elif opcao=='4':\n",
        "    break\n",
        "  else:\n",
        "    print(\"Opção inválida!\")"
      ],
      "metadata": {
        "colab": {
          "base_uri": "https://localhost:8080/"
        },
        "id": "SAlWr1UyDVgp",
        "outputId": "41346e2b-e8b4-49c9-83d6-18d208680948"
      },
      "execution_count": null,
      "outputs": [
        {
          "name": "stdout",
          "output_type": "stream",
          "text": [
            "Bem vindo ao sistema X\n",
            "Menu de Opções\n",
            "1. Opção A\n",
            "2. Opção B\n",
            "3. Opção C\n",
            "4. SAIR\n",
            "Qual a sua opção? 1\n",
            "Você escolheu a opção A\n",
            "Bem vindo ao sistema X\n",
            "Menu de Opções\n",
            "1. Opção A\n",
            "2. Opção B\n",
            "3. Opção C\n",
            "4. SAIR\n",
            "Qual a sua opção? 4\n"
          ]
        }
      ]
    },
    {
      "cell_type": "code",
      "source": [
        "# Exemplo de validação de entrada de usuário\n",
        "# Só aceita a entrada se o usuário digitar um número inteiro válido\n",
        "numero_valido = False\n",
        "while (not numero_valido):\n",
        "  try:\n",
        "    numero_inteiro = int(input(\"Digite um número inteiro: \"))\n",
        "    print(numero_inteiro)\n",
        "    numero_valido = True\n",
        "  except Exception:\n",
        "    print(\"Digite um número inteiro válido!\")\n",
        "    numero_valido = False"
      ],
      "metadata": {
        "colab": {
          "base_uri": "https://localhost:8080/"
        },
        "id": "SpseSJMyjcIB",
        "outputId": "c8ebc334-b409-413e-f192-d5aee17ca80a"
      },
      "execution_count": null,
      "outputs": [
        {
          "output_type": "stream",
          "name": "stdout",
          "text": [
            "Digite um número inteiro: 10\n",
            "10\n"
          ]
        }
      ]
    },
    {
      "cell_type": "markdown",
      "source": [
        "# Listas"
      ],
      "metadata": {
        "id": "J__VwJvkrud4"
      }
    },
    {
      "cell_type": "code",
      "source": [
        "lista_numeros = [1,2,3, 5, 10, 20]"
      ],
      "metadata": {
        "id": "fV5bNURTpXSf"
      },
      "execution_count": null,
      "outputs": []
    },
    {
      "cell_type": "code",
      "source": [
        "print(lista_numeros)"
      ],
      "metadata": {
        "colab": {
          "base_uri": "https://localhost:8080/"
        },
        "id": "BaooMoCksMDO",
        "outputId": "5eb2cc45-eabf-4393-9e8a-2b84249fd8e3"
      },
      "execution_count": null,
      "outputs": [
        {
          "output_type": "stream",
          "name": "stdout",
          "text": [
            "[1, 2, 3, 5, 10, 20]\n"
          ]
        }
      ]
    },
    {
      "cell_type": "code",
      "source": [
        "len(lista_numeros)"
      ],
      "metadata": {
        "colab": {
          "base_uri": "https://localhost:8080/"
        },
        "id": "NR7viLbAsQov",
        "outputId": "a3d2133a-65c2-4e7c-8393-98e536393a83"
      },
      "execution_count": null,
      "outputs": [
        {
          "output_type": "execute_result",
          "data": {
            "text/plain": [
              "6"
            ]
          },
          "metadata": {},
          "execution_count": 333
        }
      ]
    },
    {
      "cell_type": "code",
      "source": [
        "lista_numeros[0]"
      ],
      "metadata": {
        "colab": {
          "base_uri": "https://localhost:8080/"
        },
        "id": "9stZFf8hsYGJ",
        "outputId": "ee2e23c0-45cc-488b-ab22-f39ffd4d9a12"
      },
      "execution_count": null,
      "outputs": [
        {
          "output_type": "execute_result",
          "data": {
            "text/plain": [
              "1"
            ]
          },
          "metadata": {},
          "execution_count": 334
        }
      ]
    },
    {
      "cell_type": "code",
      "source": [
        "lista_numeros[5]"
      ],
      "metadata": {
        "colab": {
          "base_uri": "https://localhost:8080/"
        },
        "id": "K4Nk9GyNsd9r",
        "outputId": "06588d45-3688-4cac-c7a5-1805a9d83ffb"
      },
      "execution_count": null,
      "outputs": [
        {
          "output_type": "execute_result",
          "data": {
            "text/plain": [
              "20"
            ]
          },
          "metadata": {},
          "execution_count": 335
        }
      ]
    },
    {
      "cell_type": "code",
      "source": [
        "print(lista_numeros)\n",
        "print(f\"{lista_numeros[-1]}, {lista_numeros[-2]}\")"
      ],
      "metadata": {
        "colab": {
          "base_uri": "https://localhost:8080/"
        },
        "id": "9Pd2_tNJslh5",
        "outputId": "75a2a73a-6c8a-4672-cbe7-b74663d81334"
      },
      "execution_count": null,
      "outputs": [
        {
          "output_type": "stream",
          "name": "stdout",
          "text": [
            "[1, 2, 3, 5, 10, 20]\n",
            "20, 10\n"
          ]
        }
      ]
    },
    {
      "cell_type": "code",
      "source": [
        "lista_numeros[4]"
      ],
      "metadata": {
        "colab": {
          "base_uri": "https://localhost:8080/"
        },
        "id": "37C6hCtwsuSW",
        "outputId": "abc9877a-b576-4819-95f6-ef6e44ad8957"
      },
      "execution_count": null,
      "outputs": [
        {
          "output_type": "execute_result",
          "data": {
            "text/plain": [
              "10"
            ]
          },
          "metadata": {},
          "execution_count": 340
        }
      ]
    },
    {
      "cell_type": "code",
      "source": [
        "lista_vazia = []\n",
        "print(lista_vazia)"
      ],
      "metadata": {
        "id": "WitrmNSOs_xf",
        "colab": {
          "base_uri": "https://localhost:8080/"
        },
        "outputId": "422b0b52-c488-44ed-b80d-caf818ca25a9"
      },
      "execution_count": null,
      "outputs": [
        {
          "output_type": "stream",
          "name": "stdout",
          "text": [
            "[]\n"
          ]
        }
      ]
    },
    {
      "cell_type": "code",
      "source": [
        "lista_vazia = list()\n",
        "print(lista_vazia)"
      ],
      "metadata": {
        "id": "Pv8ou86RtDHE",
        "colab": {
          "base_uri": "https://localhost:8080/"
        },
        "outputId": "d001b67e-19c0-4540-c446-1fbd006edb70"
      },
      "execution_count": null,
      "outputs": [
        {
          "output_type": "stream",
          "name": "stdout",
          "text": [
            "[]\n"
          ]
        }
      ]
    },
    {
      "cell_type": "code",
      "source": [
        "len(lista_vazia)"
      ],
      "metadata": {
        "colab": {
          "base_uri": "https://localhost:8080/"
        },
        "id": "YsNmijBEtFd5",
        "outputId": "6330e349-b66e-42dd-f1cb-7379cbf454ba"
      },
      "execution_count": null,
      "outputs": [
        {
          "output_type": "execute_result",
          "data": {
            "text/plain": [
              "0"
            ]
          },
          "metadata": {},
          "execution_count": 344
        }
      ]
    },
    {
      "cell_type": "code",
      "source": [
        "lista_nomes = []"
      ],
      "metadata": {
        "id": "KluLXrj9K4GL"
      },
      "execution_count": null,
      "outputs": []
    },
    {
      "cell_type": "code",
      "source": [
        "lista_nomes.append('Armando')"
      ],
      "metadata": {
        "id": "NHGNWhreK8o0"
      },
      "execution_count": null,
      "outputs": []
    },
    {
      "cell_type": "code",
      "source": [
        "lista_nomes.append('Maria')"
      ],
      "metadata": {
        "id": "on_SyQeWLBi3"
      },
      "execution_count": null,
      "outputs": []
    },
    {
      "cell_type": "code",
      "source": [
        "lista_nomes.append('Carla')"
      ],
      "metadata": {
        "id": "VYxFjFAwLDx5"
      },
      "execution_count": null,
      "outputs": []
    },
    {
      "cell_type": "code",
      "source": [
        "print(lista_nomes)"
      ],
      "metadata": {
        "colab": {
          "base_uri": "https://localhost:8080/"
        },
        "id": "-bT5OajBLHvg",
        "outputId": "fa047cf7-c427-4d49-bb8d-ab68c72488c9"
      },
      "execution_count": null,
      "outputs": [
        {
          "output_type": "stream",
          "name": "stdout",
          "text": [
            "['Armando', 'Maria', 'Carla']\n"
          ]
        }
      ]
    },
    {
      "cell_type": "code",
      "source": [
        "lista_nomes.append('João')"
      ],
      "metadata": {
        "id": "fDZaZHchLNRr"
      },
      "execution_count": null,
      "outputs": []
    },
    {
      "cell_type": "code",
      "source": [
        "print(lista_nomes)"
      ],
      "metadata": {
        "colab": {
          "base_uri": "https://localhost:8080/"
        },
        "id": "a4ehgsLxLQ8_",
        "outputId": "d5c5ffe3-fcb8-4434-f958-af8d9b99ccc6"
      },
      "execution_count": null,
      "outputs": [
        {
          "output_type": "stream",
          "name": "stdout",
          "text": [
            "['Armando', 'Maria', 'Carla', 'João']\n"
          ]
        }
      ]
    },
    {
      "cell_type": "code",
      "source": [
        "lista_nomes.insert(2, 'Francisco')"
      ],
      "metadata": {
        "id": "m-alr9RVLWlm"
      },
      "execution_count": null,
      "outputs": []
    },
    {
      "cell_type": "code",
      "source": [
        "lista_nomes.sort()"
      ],
      "metadata": {
        "id": "z8A8k2v2teev"
      },
      "execution_count": null,
      "outputs": []
    },
    {
      "cell_type": "code",
      "source": [
        "print(lista_nomes)"
      ],
      "metadata": {
        "colab": {
          "base_uri": "https://localhost:8080/"
        },
        "id": "8wb9wLYWt062",
        "outputId": "392100e4-7dc0-4dc9-88c0-b5419eff5f6d"
      },
      "execution_count": null,
      "outputs": [
        {
          "output_type": "stream",
          "name": "stdout",
          "text": [
            "['Armando', 'Carla', 'Francisco', 'Maria']\n"
          ]
        }
      ]
    },
    {
      "cell_type": "code",
      "source": [
        "lista_nomes.reverse()\n",
        "print(lista_nomes)"
      ],
      "metadata": {
        "colab": {
          "base_uri": "https://localhost:8080/"
        },
        "id": "m5RThXXyMU6S",
        "outputId": "96c4906f-92e4-4e50-b443-3ee0afb03085"
      },
      "execution_count": null,
      "outputs": [
        {
          "output_type": "stream",
          "name": "stdout",
          "text": [
            "['Maria', 'Francisco', 'Carla', 'Armando']\n"
          ]
        }
      ]
    },
    {
      "cell_type": "code",
      "source": [
        "print(lista_nomes)"
      ],
      "metadata": {
        "colab": {
          "base_uri": "https://localhost:8080/"
        },
        "id": "NhN8C_GUMnN8",
        "outputId": "ba054c13-3c33-4b75-b2cb-904866573e7d"
      },
      "execution_count": null,
      "outputs": [
        {
          "output_type": "stream",
          "name": "stdout",
          "text": [
            "['Maria', 'Francisco', 'Carla', 'Armando']\n"
          ]
        }
      ]
    },
    {
      "cell_type": "code",
      "source": [
        "lista_nomes[3:]"
      ],
      "metadata": {
        "colab": {
          "base_uri": "https://localhost:8080/"
        },
        "id": "Vpvuv3TmMeYt",
        "outputId": "1fd25b40-bdef-418d-958b-e606668bfa5b"
      },
      "execution_count": null,
      "outputs": [
        {
          "output_type": "execute_result",
          "data": {
            "text/plain": [
              "['Armando']"
            ]
          },
          "metadata": {},
          "execution_count": 40
        }
      ]
    },
    {
      "cell_type": "code",
      "source": [
        "lista_nomes[:3]"
      ],
      "metadata": {
        "colab": {
          "base_uri": "https://localhost:8080/"
        },
        "id": "hgiza67OuI0r",
        "outputId": "59907a7f-13cb-44f1-9d9b-1c5d949cce31"
      },
      "execution_count": null,
      "outputs": [
        {
          "output_type": "execute_result",
          "data": {
            "text/plain": [
              "['Maria', 'Francisco', 'Carla']"
            ]
          },
          "metadata": {},
          "execution_count": 42
        }
      ]
    },
    {
      "cell_type": "code",
      "source": [
        "lista_nomes[-1]"
      ],
      "metadata": {
        "colab": {
          "base_uri": "https://localhost:8080/",
          "height": 35
        },
        "id": "ElqBRcc-uSim",
        "outputId": "e8f8edc4-9342-4c54-9ea9-0726dbf75521"
      },
      "execution_count": null,
      "outputs": [
        {
          "output_type": "execute_result",
          "data": {
            "text/plain": [
              "'Armando'"
            ],
            "application/vnd.google.colaboratory.intrinsic+json": {
              "type": "string"
            }
          },
          "metadata": {},
          "execution_count": 43
        }
      ]
    },
    {
      "cell_type": "code",
      "source": [
        "lista_nomes[1:]"
      ],
      "metadata": {
        "colab": {
          "base_uri": "https://localhost:8080/"
        },
        "id": "V-1F3quluXMv",
        "outputId": "9ac5c313-68b5-4aac-ff85-849ae12a64de"
      },
      "execution_count": null,
      "outputs": [
        {
          "output_type": "execute_result",
          "data": {
            "text/plain": [
              "['Francisco', 'Carla', 'Armando']"
            ]
          },
          "metadata": {},
          "execution_count": 44
        }
      ]
    },
    {
      "cell_type": "code",
      "source": [
        "lista_numeros = [1,2, 4,5,6,7]"
      ],
      "metadata": {
        "id": "q1lYwUQKNG29"
      },
      "execution_count": null,
      "outputs": []
    },
    {
      "cell_type": "code",
      "source": [
        "print(f\"Mínimo: {min(lista_numeros)}, Máximo: {max(lista_numeros)}, Soma: {sum(lista_numeros)}\")"
      ],
      "metadata": {
        "colab": {
          "base_uri": "https://localhost:8080/"
        },
        "id": "IXFWmlpBnIlD",
        "outputId": "06e6f2d9-5ea9-4bd0-8146-90c7d120fcbc"
      },
      "execution_count": null,
      "outputs": [
        {
          "output_type": "stream",
          "name": "stdout",
          "text": [
            "Mínimo: 1, Máximo: 7, Soma: 25\n"
          ]
        }
      ]
    },
    {
      "cell_type": "code",
      "source": [
        "lista_nomes = ['Maria', 'Ana', 'Carla']"
      ],
      "metadata": {
        "id": "uxI3_gkNuhQO"
      },
      "execution_count": null,
      "outputs": []
    },
    {
      "cell_type": "code",
      "source": [
        "print(lista_nomes)"
      ],
      "metadata": {
        "colab": {
          "base_uri": "https://localhost:8080/"
        },
        "id": "Yoin2PWUumPi",
        "outputId": "bc10f8a8-ee33-49f8-801d-b9f224dccc13"
      },
      "execution_count": null,
      "outputs": [
        {
          "output_type": "stream",
          "name": "stdout",
          "text": [
            "['Maria', 'Ana', 'Carla']\n"
          ]
        }
      ]
    },
    {
      "cell_type": "code",
      "source": [
        "'Ana' in lista_nomes"
      ],
      "metadata": {
        "colab": {
          "base_uri": "https://localhost:8080/"
        },
        "id": "b8vERMQwuq0f",
        "outputId": "d2d3a460-7494-44df-983c-c90e59cc2a99"
      },
      "execution_count": null,
      "outputs": [
        {
          "output_type": "execute_result",
          "data": {
            "text/plain": [
              "True"
            ]
          },
          "metadata": {},
          "execution_count": 49
        }
      ]
    },
    {
      "cell_type": "code",
      "source": [
        "'Armando' in lista_nomes"
      ],
      "metadata": {
        "colab": {
          "base_uri": "https://localhost:8080/"
        },
        "id": "AXvxUgESuw78",
        "outputId": "965a38eb-c82e-41c7-fba8-95c7e3b35813"
      },
      "execution_count": null,
      "outputs": [
        {
          "output_type": "execute_result",
          "data": {
            "text/plain": [
              "False"
            ]
          },
          "metadata": {},
          "execution_count": 50
        }
      ]
    },
    {
      "cell_type": "code",
      "source": [
        "for elemento in lista_nomes:\n",
        "  print(elemento)"
      ],
      "metadata": {
        "colab": {
          "base_uri": "https://localhost:8080/"
        },
        "id": "qJ-zGXcCuzz-",
        "outputId": "0da029b1-697f-42d3-cfa0-2f2101ab2f84"
      },
      "execution_count": null,
      "outputs": [
        {
          "output_type": "stream",
          "name": "stdout",
          "text": [
            "Maria\n",
            "Ana\n",
            "Carla\n"
          ]
        }
      ]
    },
    {
      "cell_type": "code",
      "source": [
        "for elemento in lista_numeros:\n",
        "  print(elemento)"
      ],
      "metadata": {
        "colab": {
          "base_uri": "https://localhost:8080/"
        },
        "id": "Xd4s2gSRu4rc",
        "outputId": "7a1c12dd-1918-41b0-9ab9-77f4047f53bb"
      },
      "execution_count": null,
      "outputs": [
        {
          "output_type": "stream",
          "name": "stdout",
          "text": [
            "1\n",
            "2\n",
            "4\n",
            "5\n",
            "6\n",
            "7\n"
          ]
        }
      ]
    },
    {
      "cell_type": "code",
      "source": [
        "lista_nomes.append('Armando')\n",
        "print(lista_nomes)"
      ],
      "metadata": {
        "colab": {
          "base_uri": "https://localhost:8080/"
        },
        "id": "J6I8KmlLvCkP",
        "outputId": "ba9d49d7-e300-495b-e6d5-60c19b0324f5"
      },
      "execution_count": null,
      "outputs": [
        {
          "output_type": "stream",
          "name": "stdout",
          "text": [
            "['Maria', 'Ana', 'Carla', 'Armando']\n"
          ]
        }
      ]
    },
    {
      "cell_type": "code",
      "source": [
        "lista_nomes.insert(0,'Teste')\n",
        "print(lista_nomes)"
      ],
      "metadata": {
        "colab": {
          "base_uri": "https://localhost:8080/"
        },
        "id": "G5tpx6pfvJC6",
        "outputId": "5749040f-bf35-44db-a9cc-223ee614f25e"
      },
      "execution_count": null,
      "outputs": [
        {
          "output_type": "stream",
          "name": "stdout",
          "text": [
            "['Teste', 'Maria', 'Ana', 'Carla', 'Armando']\n"
          ]
        }
      ]
    },
    {
      "cell_type": "code",
      "source": [
        "lista_nomes.remove('Teste')\n",
        "print(lista_nomes)"
      ],
      "metadata": {
        "colab": {
          "base_uri": "https://localhost:8080/"
        },
        "id": "QxgSNSTnvZ7e",
        "outputId": "5a6c7fa0-7114-4f2c-9e90-4b7b3458e617"
      },
      "execution_count": null,
      "outputs": [
        {
          "output_type": "stream",
          "name": "stdout",
          "text": [
            "['Maria', 'Ana', 'Carla', 'Armando']\n"
          ]
        }
      ]
    },
    {
      "cell_type": "code",
      "source": [
        "lista_nomes.remove('Armando')\n",
        "print(lista_nomes)"
      ],
      "metadata": {
        "colab": {
          "base_uri": "https://localhost:8080/"
        },
        "id": "Lx3u3VGdvhSR",
        "outputId": "e8e7ea98-d612-4dae-e74e-8d2a3bcae7ba"
      },
      "execution_count": null,
      "outputs": [
        {
          "output_type": "stream",
          "name": "stdout",
          "text": [
            "['Maria', 'Ana', 'Carla']\n"
          ]
        }
      ]
    },
    {
      "cell_type": "code",
      "source": [
        "try:\n",
        "  lista_nomes.remove('Francisco')\n",
        "except Exception as ex:\n",
        "  print(f\"Elemento inválido! Erro: {ex}\")"
      ],
      "metadata": {
        "colab": {
          "base_uri": "https://localhost:8080/"
        },
        "id": "wCX2NOuuvxIT",
        "outputId": "c8d55746-151c-4696-84d4-7292480ec370"
      },
      "execution_count": null,
      "outputs": [
        {
          "output_type": "stream",
          "name": "stdout",
          "text": [
            "Elemento inválido! Erro: list.remove(x): x not in list\n"
          ]
        }
      ]
    },
    {
      "cell_type": "code",
      "source": [
        "print(lista_nomes)\n",
        "lista_nomes.pop(2)\n",
        "print(lista_nomes)"
      ],
      "metadata": {
        "colab": {
          "base_uri": "https://localhost:8080/"
        },
        "id": "w2BUygB5wOF3",
        "outputId": "c0bda681-d50d-41ab-e1fb-f1ec7a221de9"
      },
      "execution_count": null,
      "outputs": [
        {
          "output_type": "stream",
          "name": "stdout",
          "text": [
            "['Maria', 'Ana', 'Carla']\n",
            "['Maria', 'Ana']\n"
          ]
        }
      ]
    },
    {
      "cell_type": "code",
      "source": [
        "len(lista_nomes)"
      ],
      "metadata": {
        "id": "6-T3ArGJw2BK",
        "colab": {
          "base_uri": "https://localhost:8080/"
        },
        "outputId": "78ac8b8a-5a3d-4817-82be-22b68699cce1"
      },
      "execution_count": null,
      "outputs": [
        {
          "output_type": "execute_result",
          "data": {
            "text/plain": [
              "2"
            ]
          },
          "metadata": {},
          "execution_count": 377
        }
      ]
    },
    {
      "cell_type": "code",
      "source": [
        "for nome in lista_nomes:\n",
        "  print(nome)"
      ],
      "metadata": {
        "id": "IpAWc9pAxALv",
        "colab": {
          "base_uri": "https://localhost:8080/"
        },
        "outputId": "b4402581-0a55-4813-d157-603e960aec37"
      },
      "execution_count": null,
      "outputs": [
        {
          "output_type": "stream",
          "name": "stdout",
          "text": [
            "Maria\n",
            "Ana\n"
          ]
        }
      ]
    },
    {
      "cell_type": "code",
      "source": [
        "for i in range(len(lista_nomes)):\n",
        "  print(f\"índice: {i}, valor: {lista_nomes[i]}\")"
      ],
      "metadata": {
        "id": "I9fAGi6Hw4q9",
        "colab": {
          "base_uri": "https://localhost:8080/"
        },
        "outputId": "cb63c18b-4937-4439-a0cb-abc004a5b90a"
      },
      "execution_count": null,
      "outputs": [
        {
          "output_type": "stream",
          "name": "stdout",
          "text": [
            "índice: 0, valor: Maria\n",
            "índice: 1, valor: Ana\n"
          ]
        }
      ]
    },
    {
      "cell_type": "code",
      "source": [
        "lista_nomes.sort()\n",
        "print(lista_nomes)"
      ],
      "metadata": {
        "id": "CqgACsOKxSe6",
        "colab": {
          "base_uri": "https://localhost:8080/"
        },
        "outputId": "2df9d83b-8e8c-4ba5-af44-b64e910eaa7e"
      },
      "execution_count": null,
      "outputs": [
        {
          "output_type": "stream",
          "name": "stdout",
          "text": [
            "['Ana', 'Maria']\n"
          ]
        }
      ]
    },
    {
      "cell_type": "code",
      "source": [
        "print(lista_nomes)"
      ],
      "metadata": {
        "id": "ams3mQ8Oxkqm",
        "colab": {
          "base_uri": "https://localhost:8080/"
        },
        "outputId": "4e8fbf04-2850-4df8-81b0-c180c701f384"
      },
      "execution_count": null,
      "outputs": [
        {
          "output_type": "stream",
          "name": "stdout",
          "text": [
            "['Ana', 'Maria']\n"
          ]
        }
      ]
    },
    {
      "cell_type": "code",
      "source": [
        "lista_nomes_ordenado = lista_nomes.copy()\n",
        "lista_nomes_ordenado.sort()\n",
        "print(lista_nomes_ordenado)"
      ],
      "metadata": {
        "id": "XgVgMNSlxpW0",
        "colab": {
          "base_uri": "https://localhost:8080/"
        },
        "outputId": "a118c27a-2411-497f-e521-0dff341ea572"
      },
      "execution_count": null,
      "outputs": [
        {
          "output_type": "stream",
          "name": "stdout",
          "text": [
            "['Ana', 'Maria']\n"
          ]
        }
      ]
    },
    {
      "cell_type": "code",
      "source": [
        "nova_lista_nomes = lista_nomes_ordenado + lista_nomes\n",
        "print(nova_lista_nomes)"
      ],
      "metadata": {
        "id": "cPuQ38q9yRCe",
        "colab": {
          "base_uri": "https://localhost:8080/"
        },
        "outputId": "2d7412bc-85fd-49f5-9df1-112fed17052f"
      },
      "execution_count": null,
      "outputs": [
        {
          "output_type": "stream",
          "name": "stdout",
          "text": [
            "['Ana', 'Maria', 'Ana', 'Maria']\n"
          ]
        }
      ]
    },
    {
      "cell_type": "code",
      "source": [
        "print(lista_numeros)"
      ],
      "metadata": {
        "id": "dUFDRORAzmEk",
        "colab": {
          "base_uri": "https://localhost:8080/"
        },
        "outputId": "3d1c2244-bbfe-4249-a310-0f0235c73dd5"
      },
      "execution_count": null,
      "outputs": [
        {
          "output_type": "stream",
          "name": "stdout",
          "text": [
            "[1, 2, 4, 5, 6, 7]\n"
          ]
        }
      ]
    },
    {
      "cell_type": "code",
      "source": [
        "lista_numeros.append(5)\n",
        "print(lista_numeros)"
      ],
      "metadata": {
        "id": "44h-TT8vzpjC",
        "colab": {
          "base_uri": "https://localhost:8080/"
        },
        "outputId": "7555770e-dd8b-4fa7-a4cf-037e563bea38"
      },
      "execution_count": null,
      "outputs": [
        {
          "output_type": "stream",
          "name": "stdout",
          "text": [
            "[1, 2, 4, 5, 6, 7, 5]\n"
          ]
        }
      ]
    },
    {
      "cell_type": "code",
      "source": [
        "lista_numeros.count(5)"
      ],
      "metadata": {
        "id": "U76orNgFztrR",
        "colab": {
          "base_uri": "https://localhost:8080/"
        },
        "outputId": "13653ab2-efa0-47c4-e208-366201624dce"
      },
      "execution_count": null,
      "outputs": [
        {
          "output_type": "execute_result",
          "data": {
            "text/plain": [
              "2"
            ]
          },
          "metadata": {},
          "execution_count": 386
        }
      ]
    },
    {
      "cell_type": "code",
      "source": [
        "lista_numeros.count(7)"
      ],
      "metadata": {
        "id": "rRO--mUIz1WI",
        "colab": {
          "base_uri": "https://localhost:8080/"
        },
        "outputId": "793376ca-60be-41c3-fb2d-5923e0127bb6"
      },
      "execution_count": null,
      "outputs": [
        {
          "output_type": "execute_result",
          "data": {
            "text/plain": [
              "1"
            ]
          },
          "metadata": {},
          "execution_count": 387
        }
      ]
    },
    {
      "cell_type": "code",
      "source": [
        "lista_numeros.sort()\n",
        "print(lista_numeros)"
      ],
      "metadata": {
        "id": "GwsURLPZz80b",
        "colab": {
          "base_uri": "https://localhost:8080/"
        },
        "outputId": "132e80a1-daf5-46c7-9c30-491d0f62dfed"
      },
      "execution_count": null,
      "outputs": [
        {
          "output_type": "stream",
          "name": "stdout",
          "text": [
            "[1, 2, 4, 5, 5, 6, 7]\n"
          ]
        }
      ]
    },
    {
      "cell_type": "code",
      "source": [
        "lista_numeros.reverse()\n",
        "print(lista_numeros)"
      ],
      "metadata": {
        "id": "uwxR8FI80Aol",
        "colab": {
          "base_uri": "https://localhost:8080/"
        },
        "outputId": "dfa7ed0e-e588-423e-db8c-a73091f1b8a7"
      },
      "execution_count": null,
      "outputs": [
        {
          "output_type": "stream",
          "name": "stdout",
          "text": [
            "[7, 6, 5, 5, 4, 2, 1]\n"
          ]
        }
      ]
    },
    {
      "cell_type": "code",
      "source": [
        "lista_alunos = ['Maria', 'Ana', 'Carla']\n",
        "lista_notas = [[10, 8, 9], [8, 7, 9], [7,7,7]]\n",
        "\n",
        "# Associa alunos e notas por índice:\n",
        "print(f\"Aluno: {lista_alunos[0]}, notas: {lista_notas[0]}\")"
      ],
      "metadata": {
        "id": "tphaCfAeUaYZ",
        "colab": {
          "base_uri": "https://localhost:8080/"
        },
        "outputId": "51109143-f817-4eb4-ef27-cd27d9c125a0"
      },
      "execution_count": null,
      "outputs": [
        {
          "output_type": "stream",
          "name": "stdout",
          "text": [
            "Aluno: Maria, notas: [10, 8, 9]\n"
          ]
        }
      ]
    },
    {
      "cell_type": "code",
      "source": [
        "for i in range(len(lista_alunos)):\n",
        "  print(f\"índice: {i}, aluno: {lista_alunos[i]}, notas: {lista_notas[i]}\")"
      ],
      "metadata": {
        "id": "MFNx9Rh3VFT0",
        "colab": {
          "base_uri": "https://localhost:8080/"
        },
        "outputId": "bdf3ff3a-5ba7-4593-a069-be38ead1ec8a"
      },
      "execution_count": null,
      "outputs": [
        {
          "output_type": "stream",
          "name": "stdout",
          "text": [
            "índice: 0, aluno: Maria, notas: [10, 8, 9]\n",
            "índice: 1, aluno: Ana, notas: [8, 7, 9]\n",
            "índice: 2, aluno: Carla, notas: [7, 7, 7]\n"
          ]
        }
      ]
    },
    {
      "cell_type": "code",
      "source": [
        "matriz_2x3 = [[1,2,3], [4,5,6]]\n",
        "print(matriz_2x3)\n",
        "print(f\"Linha: {0}, {matriz_2x3[0]}\")\n",
        "print(f\"coluna 1: {matriz_2x3[0][0]}, coluna 2: {matriz_2x3[0][1]}, coluna 3: {matriz_2x3[0][2]}\")\n",
        "print(f\"Linha: {1}, {matriz_2x3[1]}\")\n",
        "print(f\"coluna 1: {matriz_2x3[1][0]}, coluna 2: {matriz_2x3[1][1]}, coluna 3: {matriz_2x3[1][2]}\")"
      ],
      "metadata": {
        "id": "AL7Vv286VZYC",
        "colab": {
          "base_uri": "https://localhost:8080/"
        },
        "outputId": "aa92f68f-a51a-4144-f1c9-2ea3dbb42ad3"
      },
      "execution_count": null,
      "outputs": [
        {
          "output_type": "stream",
          "name": "stdout",
          "text": [
            "[[1, 2, 3], [4, 5, 6]]\n",
            "Linha: 0, [1, 2, 3]\n",
            "coluna 1: 1, coluna 2: 2, coluna 3: 3\n",
            "Linha: 1, [4, 5, 6]\n",
            "coluna 1: 4, coluna 2: 5, coluna 3: 6\n"
          ]
        }
      ]
    },
    {
      "cell_type": "markdown",
      "source": [
        "# Revisão"
      ],
      "metadata": {
        "id": "RpElLWK93j8k"
      }
    },
    {
      "cell_type": "code",
      "source": [
        "lista_numeros = [1,2,4,5]\n",
        "print(lista_numeros)"
      ],
      "metadata": {
        "id": "Mk5Pq8P23ueQ",
        "outputId": "314efab5-f477-44f9-f1d9-60d3425092d9",
        "colab": {
          "base_uri": "https://localhost:8080/"
        }
      },
      "execution_count": null,
      "outputs": [
        {
          "output_type": "stream",
          "name": "stdout",
          "text": [
            "[1, 2, 4, 5]\n"
          ]
        }
      ]
    },
    {
      "cell_type": "code",
      "source": [
        "lista_nomes = ['Maria', 'João', 'Ana']\n",
        "print(lista_nomes)"
      ],
      "metadata": {
        "id": "CYchBk_935H9",
        "outputId": "5c2f4fc3-85af-4a77-b22d-e94f16984576",
        "colab": {
          "base_uri": "https://localhost:8080/"
        }
      },
      "execution_count": null,
      "outputs": [
        {
          "output_type": "stream",
          "name": "stdout",
          "text": [
            "['Maria', 'João', 'Ana']\n"
          ]
        }
      ]
    },
    {
      "cell_type": "code",
      "source": [
        "for numero in lista_numeros:\n",
        "  print(numero)"
      ],
      "metadata": {
        "id": "ihEOzrtm4KT6",
        "outputId": "12a23fb1-af72-4558-e830-9a9127646f14",
        "colab": {
          "base_uri": "https://localhost:8080/"
        }
      },
      "execution_count": null,
      "outputs": [
        {
          "output_type": "stream",
          "name": "stdout",
          "text": [
            "1\n",
            "2\n",
            "4\n",
            "5\n"
          ]
        }
      ]
    },
    {
      "cell_type": "code",
      "source": [
        "for nome in lista_nomes:\n",
        "  print(nome)"
      ],
      "metadata": {
        "id": "CZx59I0N4WND",
        "outputId": "e5ff240d-5beb-49b6-fe01-adb926f5462b",
        "colab": {
          "base_uri": "https://localhost:8080/"
        }
      },
      "execution_count": null,
      "outputs": [
        {
          "output_type": "stream",
          "name": "stdout",
          "text": [
            "Maria\n",
            "João\n",
            "Ana\n"
          ]
        }
      ]
    },
    {
      "cell_type": "code",
      "source": [
        "for i in range(10):\n",
        "  print(i)"
      ],
      "metadata": {
        "id": "prI_PEmv4aNB",
        "outputId": "bd12df6e-16d5-4c4a-bd07-581ae0fb3c4e",
        "colab": {
          "base_uri": "https://localhost:8080/"
        }
      },
      "execution_count": null,
      "outputs": [
        {
          "output_type": "stream",
          "name": "stdout",
          "text": [
            "0\n",
            "1\n",
            "2\n",
            "3\n",
            "4\n",
            "5\n",
            "6\n",
            "7\n",
            "8\n",
            "9\n"
          ]
        }
      ]
    },
    {
      "cell_type": "code",
      "source": [
        "list(range(10))"
      ],
      "metadata": {
        "id": "pAJpBtoy4jBB",
        "outputId": "86a5f6e3-f42b-4bbb-9444-06999b4566c2",
        "colab": {
          "base_uri": "https://localhost:8080/"
        }
      },
      "execution_count": null,
      "outputs": [
        {
          "output_type": "execute_result",
          "data": {
            "text/plain": [
              "[0, 1, 2, 3, 4, 5, 6, 7, 8, 9]"
            ]
          },
          "metadata": {},
          "execution_count": 25
        }
      ]
    },
    {
      "cell_type": "code",
      "source": [
        "list(range(9,0,-1))"
      ],
      "metadata": {
        "id": "bqJBJzW04r_c",
        "outputId": "3d7276c0-0e2d-481d-ecb0-833e0af8d0ee",
        "colab": {
          "base_uri": "https://localhost:8080/"
        }
      },
      "execution_count": null,
      "outputs": [
        {
          "output_type": "execute_result",
          "data": {
            "text/plain": [
              "[9, 8, 7, 6, 5, 4, 3, 2, 1]"
            ]
          },
          "metadata": {},
          "execution_count": 29
        }
      ]
    },
    {
      "cell_type": "code",
      "source": [
        "for i in range(5):\n",
        "  print(i)"
      ],
      "metadata": {
        "id": "dNPpR8-F5NNg",
        "outputId": "d3903176-8239-4fa8-d951-ff38cb013fcf",
        "colab": {
          "base_uri": "https://localhost:8080/"
        }
      },
      "execution_count": null,
      "outputs": [
        {
          "output_type": "stream",
          "name": "stdout",
          "text": [
            "0\n",
            "1\n",
            "2\n",
            "3\n",
            "4\n"
          ]
        }
      ]
    },
    {
      "cell_type": "code",
      "source": [
        "numero = input(\"Qual o seu numero? \")\n",
        "print(type(numero))\n",
        "print(numero)"
      ],
      "metadata": {
        "id": "m18b-r0E5X-I",
        "outputId": "4bd9f39e-be22-4223-b6bc-818c505c7664",
        "colab": {
          "base_uri": "https://localhost:8080/"
        }
      },
      "execution_count": null,
      "outputs": [
        {
          "output_type": "stream",
          "name": "stdout",
          "text": [
            "Qual o seu numero? 12\n",
            "<class 'str'>\n",
            "12\n"
          ]
        }
      ]
    },
    {
      "cell_type": "code",
      "source": [
        "teste_numero_valido = False\n",
        "while(not teste_numero_valido):\n",
        "  try:\n",
        "    numero = float(input(\"Digite um número qualquer: \"))\n",
        "    print(numero)\n",
        "    teste_numero_valido = True\n",
        "  except Exception:\n",
        "    teste_numero_valido = False\n",
        "    print('Valor inválido!')"
      ],
      "metadata": {
        "id": "yD2kopik5kI4",
        "outputId": "e35a82e2-126b-4825-d94e-9b361415a7d8",
        "colab": {
          "base_uri": "https://localhost:8080/"
        }
      },
      "execution_count": null,
      "outputs": [
        {
          "output_type": "stream",
          "name": "stdout",
          "text": [
            "Digite um número qualquer: dez\n",
            "Valor inválido!\n",
            "Digite um número qualquer: asdfsd\n",
            "Valor inválido!\n",
            "Digite um número qualquer: adsfdasd\n",
            "Valor inválido!\n",
            "Digite um número qualquer: 10.5\n",
            "10.5\n"
          ]
        }
      ]
    },
    {
      "cell_type": "code",
      "source": [
        "lista_objetos = ['18', 'Maria', [10, 9,8], ['Francisco', (9,8,7)]]\n",
        "print(lista_objetos)"
      ],
      "metadata": {
        "id": "o9dN8k5B8dt_",
        "outputId": "83b91d65-b801-4a04-eca1-6ed82cad62f7",
        "colab": {
          "base_uri": "https://localhost:8080/"
        }
      },
      "execution_count": null,
      "outputs": [
        {
          "output_type": "stream",
          "name": "stdout",
          "text": [
            "['18', 'Maria', [10, 9, 8], ['Francisco', (9, 8, 7)]]\n"
          ]
        }
      ]
    },
    {
      "cell_type": "code",
      "source": [
        "lista_objetos[-1][0]\n"
      ],
      "metadata": {
        "id": "RhaoCjiF8vAA",
        "outputId": "90777caa-7b9c-4f42-df78-685f3e9f5889",
        "colab": {
          "base_uri": "https://localhost:8080/",
          "height": 35
        }
      },
      "execution_count": null,
      "outputs": [
        {
          "output_type": "execute_result",
          "data": {
            "text/plain": [
              "'Francisco'"
            ],
            "application/vnd.google.colaboratory.intrinsic+json": {
              "type": "string"
            }
          },
          "metadata": {},
          "execution_count": 45
        }
      ]
    },
    {
      "cell_type": "code",
      "source": [
        "lista_objetos[-1][1]"
      ],
      "metadata": {
        "id": "k-xJGQlT9F0t",
        "outputId": "1513022b-5832-4c68-e51e-5d0b39fd9411",
        "colab": {
          "base_uri": "https://localhost:8080/"
        }
      },
      "execution_count": null,
      "outputs": [
        {
          "output_type": "execute_result",
          "data": {
            "text/plain": [
              "(9, 8, 7)"
            ]
          },
          "metadata": {},
          "execution_count": 46
        }
      ]
    },
    {
      "cell_type": "code",
      "source": [
        "matriz_2x3 = [[1,2,3], [4,5,6]]\n",
        "\n",
        "print(matriz_2x3)"
      ],
      "metadata": {
        "id": "q2_5gpV19OF8",
        "outputId": "9ca78c76-6d97-4cd5-f537-8adde3e2e162",
        "colab": {
          "base_uri": "https://localhost:8080/"
        }
      },
      "execution_count": null,
      "outputs": [
        {
          "output_type": "stream",
          "name": "stdout",
          "text": [
            "[[1, 2, 3], [4, 5, 6]]\n"
          ]
        }
      ]
    },
    {
      "cell_type": "code",
      "source": [
        "linha1 = matriz_2x3[0]\n",
        "linha2 = matriz_2x3[1]\n",
        "print(linha1)\n",
        "print(linha2)"
      ],
      "metadata": {
        "id": "57CURDm_9kU6",
        "outputId": "5d2b4466-c2cd-416d-84c6-9013e1ee77d4",
        "colab": {
          "base_uri": "https://localhost:8080/"
        }
      },
      "execution_count": null,
      "outputs": [
        {
          "output_type": "stream",
          "name": "stdout",
          "text": [
            "[1, 2, 3]\n",
            "[4, 5, 6]\n"
          ]
        }
      ]
    },
    {
      "cell_type": "code",
      "source": [
        "print(f\"a[0,0]: {linha1[0]}, a[0,1]:{linha1[1]}, a[0,2]{linha1[2]}\") \n",
        "print(f\"a[1,0]: {linha1[0]}, a[1,1]:{linha1[1]}, a[1,2]{linha1[2]}\") "
      ],
      "metadata": {
        "id": "3B01LjrR9-Dc",
        "outputId": "75eb5b69-af2f-4ecb-876c-90aa216d1672",
        "colab": {
          "base_uri": "https://localhost:8080/"
        }
      },
      "execution_count": null,
      "outputs": [
        {
          "output_type": "stream",
          "name": "stdout",
          "text": [
            "a[0,0]: 1, a[0,1]:2, a[0,2]3\n",
            "a[1,0]: 1, a[1,1]:2, a[1,2]3\n"
          ]
        }
      ]
    },
    {
      "cell_type": "markdown",
      "source": [
        "# Tuplas"
      ],
      "metadata": {
        "id": "vxOtCg2Jrvwf"
      }
    },
    {
      "cell_type": "code",
      "source": [
        "lado1 = 1\n",
        "lado2 = 2\n",
        "lado3 = 5\n",
        "triangulo = (lado1, lado2, lado3)\n",
        "print(triangulo)"
      ],
      "metadata": {
        "id": "KqXkxjKG_Yxg",
        "outputId": "830e0cc4-1f98-4cf9-df21-bfccc1a44394",
        "colab": {
          "base_uri": "https://localhost:8080/"
        }
      },
      "execution_count": null,
      "outputs": [
        {
          "output_type": "stream",
          "name": "stdout",
          "text": [
            "(1, 2, 5)\n"
          ]
        }
      ]
    },
    {
      "cell_type": "code",
      "source": [
        "lado = 20\n",
        "altura = 10\n",
        "retangulo = (lado, altura)\n",
        "print(retangulo)"
      ],
      "metadata": {
        "id": "jtITyu5gBtu5",
        "outputId": "463d40ba-1e12-4d5c-c65e-9c26378f4041",
        "colab": {
          "base_uri": "https://localhost:8080/"
        }
      },
      "execution_count": null,
      "outputs": [
        {
          "output_type": "stream",
          "name": "stdout",
          "text": [
            "(20, 10)\n"
          ]
        }
      ]
    },
    {
      "cell_type": "code",
      "source": [
        "area_retangulo = retangulo[0]*retangulo[1]\n",
        "print(area_retangulo)"
      ],
      "metadata": {
        "id": "ZmvP8-tRB6JV",
        "outputId": "4327fcbc-d48e-48f9-d983-723bf19a2ccf",
        "colab": {
          "base_uri": "https://localhost:8080/"
        }
      },
      "execution_count": null,
      "outputs": [
        {
          "output_type": "stream",
          "name": "stdout",
          "text": [
            "200\n"
          ]
        }
      ]
    },
    {
      "cell_type": "code",
      "source": [
        "curso = 'Ciência da Computacao'\n",
        "nome = 'Maria Joaquina'\n",
        "matricula = '202012312'\n",
        "endereco = 'Rua xaasdfs'\n",
        "lista_notas_d1 = [10,9,8]\n",
        "aluno1 = (curso, nome, endereco, matricula, lista_notas_d1)\n",
        "print(aluno1)"
      ],
      "metadata": {
        "id": "KMcBIN6JCM-Q",
        "outputId": "d94ab102-dadc-4a69-b244-180ec5bb53a5",
        "colab": {
          "base_uri": "https://localhost:8080/"
        }
      },
      "execution_count": null,
      "outputs": [
        {
          "output_type": "stream",
          "name": "stdout",
          "text": [
            "('Ciência da Computacao', 'Maria Joaquina', 'Rua xaasdfs', '202012312', [10, 9, 8])\n"
          ]
        }
      ]
    },
    {
      "cell_type": "code",
      "source": [
        "for elemento in aluno1:\n",
        "  print(elemento)"
      ],
      "metadata": {
        "id": "VE177nJ5DbwA",
        "outputId": "768350d9-6418-43b1-9252-d27646366cc5",
        "colab": {
          "base_uri": "https://localhost:8080/"
        }
      },
      "execution_count": null,
      "outputs": [
        {
          "output_type": "stream",
          "name": "stdout",
          "text": [
            "Ciência da Computacao\n",
            "Maria Joaquina\n",
            "Rua xaasdfs\n",
            "202012312\n",
            "[10, 9, 8]\n"
          ]
        }
      ]
    },
    {
      "cell_type": "code",
      "source": [
        "frutas = ('apple', 'banana', 'cherry')\n",
        "print(frutas)"
      ],
      "metadata": {
        "id": "NUh4LnP1wbJr",
        "colab": {
          "base_uri": "https://localhost:8080/"
        },
        "outputId": "d6ee2351-bc14-4f3c-de9f-2fcbdff6add1"
      },
      "execution_count": null,
      "outputs": [
        {
          "output_type": "stream",
          "name": "stdout",
          "text": [
            "('apple', 'banana', 'cherry')\n"
          ]
        }
      ]
    },
    {
      "cell_type": "code",
      "source": [
        "frutas[0]"
      ],
      "metadata": {
        "id": "gbhEJLRcrwoZ",
        "colab": {
          "base_uri": "https://localhost:8080/",
          "height": 35
        },
        "outputId": "4ca05c44-6a30-4227-8070-2bd8b81ec102"
      },
      "execution_count": null,
      "outputs": [
        {
          "output_type": "execute_result",
          "data": {
            "text/plain": [
              "'apple'"
            ],
            "application/vnd.google.colaboratory.intrinsic+json": {
              "type": "string"
            }
          },
          "metadata": {},
          "execution_count": 394
        }
      ]
    },
    {
      "cell_type": "code",
      "source": [
        "frutas[2:]"
      ],
      "metadata": {
        "id": "suO15v4fbOJf",
        "colab": {
          "base_uri": "https://localhost:8080/"
        },
        "outputId": "4b5bfb71-f942-4195-d287-428388ebf57f"
      },
      "execution_count": null,
      "outputs": [
        {
          "output_type": "execute_result",
          "data": {
            "text/plain": [
              "('cherry',)"
            ]
          },
          "metadata": {},
          "execution_count": 395
        }
      ]
    },
    {
      "cell_type": "code",
      "source": [
        "lado = 10\n",
        "altura = 5\n",
        "retangulo = (lado, altura)"
      ],
      "metadata": {
        "id": "t8IT-hVpba2_"
      },
      "execution_count": null,
      "outputs": []
    },
    {
      "cell_type": "code",
      "source": [
        "a = 10\n",
        "b = 20\n",
        "c = 30\n",
        "triangulo = (a, b, c)"
      ],
      "metadata": {
        "id": "3DvEO944bipB"
      },
      "execution_count": null,
      "outputs": []
    },
    {
      "cell_type": "code",
      "source": [
        "x, y, z = frutas"
      ],
      "metadata": {
        "id": "9X8ERLwdb-oz"
      },
      "execution_count": null,
      "outputs": []
    },
    {
      "cell_type": "code",
      "source": [
        "print(x, y, z)"
      ],
      "metadata": {
        "id": "7l06dc8vcA3a",
        "colab": {
          "base_uri": "https://localhost:8080/"
        },
        "outputId": "72482fc7-120d-498d-d8bf-58813300a8ee"
      },
      "execution_count": null,
      "outputs": [
        {
          "output_type": "stream",
          "name": "stdout",
          "text": [
            "apple banana cherry\n"
          ]
        }
      ]
    },
    {
      "cell_type": "code",
      "source": [
        "for item in frutas:\n",
        "  print(item)"
      ],
      "metadata": {
        "id": "ZW_WlXmZcPxK",
        "colab": {
          "base_uri": "https://localhost:8080/"
        },
        "outputId": "efbfc699-34f7-44d4-f3f0-88e938f7a12c"
      },
      "execution_count": null,
      "outputs": [
        {
          "output_type": "stream",
          "name": "stdout",
          "text": [
            "apple\n",
            "banana\n",
            "cherry\n"
          ]
        }
      ]
    },
    {
      "cell_type": "code",
      "source": [
        "for i in range(len(frutas)):\n",
        "  print(i, frutas[i])"
      ],
      "metadata": {
        "id": "0MXbTiu5comk",
        "colab": {
          "base_uri": "https://localhost:8080/"
        },
        "outputId": "908e3490-6425-41e7-c67e-082e3e757096"
      },
      "execution_count": null,
      "outputs": [
        {
          "output_type": "stream",
          "name": "stdout",
          "text": [
            "0 apple\n",
            "1 banana\n",
            "2 cherry\n"
          ]
        }
      ]
    },
    {
      "cell_type": "code",
      "source": [
        "frutas_do_nordeste = ('bacuri', 'acerola', 'melancia')\n",
        "print(frutas_do_nordeste)"
      ],
      "metadata": {
        "id": "pfb8RuZvcyA2",
        "colab": {
          "base_uri": "https://localhost:8080/"
        },
        "outputId": "0aa89553-08f4-4076-f1b6-3a605476b61b"
      },
      "execution_count": null,
      "outputs": [
        {
          "output_type": "stream",
          "name": "stdout",
          "text": [
            "('bacuri', 'acerola', 'melancia')\n"
          ]
        }
      ]
    },
    {
      "cell_type": "code",
      "source": [
        "minhas_frutas = frutas + frutas_do_nordeste\n",
        "print(minhas_frutas)"
      ],
      "metadata": {
        "id": "4XOtoR3Tc9u2",
        "colab": {
          "base_uri": "https://localhost:8080/"
        },
        "outputId": "d68e7a47-600b-4db3-e0fd-b8b1ad41e591"
      },
      "execution_count": null,
      "outputs": [
        {
          "output_type": "stream",
          "name": "stdout",
          "text": [
            "('apple', 'banana', 'cherry', 'bacuri', 'acerola', 'melancia')\n"
          ]
        }
      ]
    },
    {
      "cell_type": "markdown",
      "source": [
        "# Conjuntos"
      ],
      "metadata": {
        "id": "nbbs737orxyu"
      }
    },
    {
      "cell_type": "code",
      "source": [
        "cores = {'azul', 'amarelo', 'verde', 'vermelho'}\n",
        "print(cores)"
      ],
      "metadata": {
        "id": "58x93vnsbZqL",
        "colab": {
          "base_uri": "https://localhost:8080/"
        },
        "outputId": "9f63cb48-5a61-4160-e41d-3f57ff0ed289"
      },
      "execution_count": null,
      "outputs": [
        {
          "output_type": "stream",
          "name": "stdout",
          "text": [
            "{'azul', 'verde', 'amarelo', 'vermelho'}\n"
          ]
        }
      ]
    },
    {
      "cell_type": "code",
      "source": [
        "for item in cores:\n",
        "  print(item)"
      ],
      "metadata": {
        "id": "96zcL8v1rzsi",
        "colab": {
          "base_uri": "https://localhost:8080/"
        },
        "outputId": "4c834d89-df35-467d-dd02-3748f31f38e2"
      },
      "execution_count": null,
      "outputs": [
        {
          "output_type": "stream",
          "name": "stdout",
          "text": [
            "azul\n",
            "verde\n",
            "amarelo\n",
            "vermelho\n"
          ]
        }
      ]
    },
    {
      "cell_type": "code",
      "source": [
        "'verde' in cores"
      ],
      "metadata": {
        "id": "vtJ7HkLEG9ma",
        "outputId": "85e328c4-d8cc-48c2-a72f-ee1eb8ad21b7",
        "colab": {
          "base_uri": "https://localhost:8080/"
        }
      },
      "execution_count": null,
      "outputs": [
        {
          "output_type": "execute_result",
          "data": {
            "text/plain": [
              "True"
            ]
          },
          "metadata": {},
          "execution_count": 62
        }
      ]
    },
    {
      "cell_type": "code",
      "source": [
        "'laranja' in cores"
      ],
      "metadata": {
        "id": "TtGFIgw0HC41",
        "outputId": "86c5990f-f5f7-49eb-afd1-34d728748033",
        "colab": {
          "base_uri": "https://localhost:8080/"
        }
      },
      "execution_count": null,
      "outputs": [
        {
          "output_type": "execute_result",
          "data": {
            "text/plain": [
              "False"
            ]
          },
          "metadata": {},
          "execution_count": 63
        }
      ]
    },
    {
      "cell_type": "code",
      "source": [
        "print(cores)\n",
        "cores.add('laranja')\n",
        "print(cores)"
      ],
      "metadata": {
        "id": "EaYbSEsiHvJj",
        "outputId": "356df93e-a7e6-456b-a0fc-b4f481cbda35",
        "colab": {
          "base_uri": "https://localhost:8080/"
        }
      },
      "execution_count": null,
      "outputs": [
        {
          "output_type": "stream",
          "name": "stdout",
          "text": [
            "{'azul', 'verde', 'amarelo', 'vermelho'}\n",
            "{'amarelo', 'vermelho', 'azul', 'verde', 'laranja'}\n"
          ]
        }
      ]
    },
    {
      "cell_type": "code",
      "source": [
        "cores"
      ],
      "metadata": {
        "id": "-uWIVrB1GdCb",
        "outputId": "013cbf84-3763-486c-febc-13f5cbf146ac",
        "colab": {
          "base_uri": "https://localhost:8080/",
          "height": 169
        }
      },
      "execution_count": null,
      "outputs": [
        {
          "output_type": "error",
          "ename": "TypeError",
          "evalue": "ignored",
          "traceback": [
            "\u001b[0;31m---------------------------------------------------------------------------\u001b[0m",
            "\u001b[0;31mTypeError\u001b[0m                                 Traceback (most recent call last)",
            "\u001b[0;32m<ipython-input-61-9053215b4531>\u001b[0m in \u001b[0;36m<cell line: 1>\u001b[0;34m()\u001b[0m\n\u001b[0;32m----> 1\u001b[0;31m \u001b[0mcores\u001b[0m\u001b[0;34m[\u001b[0m\u001b[0;36m0\u001b[0m\u001b[0;34m]\u001b[0m\u001b[0;34m\u001b[0m\u001b[0;34m\u001b[0m\u001b[0m\n\u001b[0m",
            "\u001b[0;31mTypeError\u001b[0m: 'set' object is not subscriptable"
          ]
        }
      ]
    },
    {
      "cell_type": "code",
      "source": [
        "'rosa' in cores"
      ],
      "metadata": {
        "id": "G8uMBULhdl8M",
        "colab": {
          "base_uri": "https://localhost:8080/"
        },
        "outputId": "54ddceb6-3626-4850-f286-a1fd94fd494e"
      },
      "execution_count": null,
      "outputs": [
        {
          "output_type": "execute_result",
          "data": {
            "text/plain": [
              "False"
            ]
          },
          "metadata": {},
          "execution_count": 406
        }
      ]
    },
    {
      "cell_type": "code",
      "source": [
        "minhas_cores = {'azul', 'rosa', 'laranja', 'verde'}\n",
        "print(minhas_cores)"
      ],
      "metadata": {
        "id": "JKw6_XMUdpBZ",
        "colab": {
          "base_uri": "https://localhost:8080/"
        },
        "outputId": "b29b75c5-5b58-46a8-9d5f-28484a6691b9"
      },
      "execution_count": null,
      "outputs": [
        {
          "output_type": "stream",
          "name": "stdout",
          "text": [
            "{'rosa', 'azul', 'laranja', 'verde'}\n"
          ]
        }
      ]
    },
    {
      "cell_type": "code",
      "source": [
        "minhas_cores.add('preto')\n",
        "print(minhas_cores)"
      ],
      "metadata": {
        "id": "XMSzckiddw_y",
        "colab": {
          "base_uri": "https://localhost:8080/"
        },
        "outputId": "6be38cf7-6e28-4b98-96ff-fb50b99976e8"
      },
      "execution_count": null,
      "outputs": [
        {
          "output_type": "stream",
          "name": "stdout",
          "text": [
            "{'preto', 'verde', 'laranja', 'rosa', 'azul'}\n"
          ]
        }
      ]
    },
    {
      "cell_type": "code",
      "source": [
        "minhas_cores.add('preto')\n",
        "print(minhas_cores)"
      ],
      "metadata": {
        "id": "EG9qYbZXd3Zb",
        "colab": {
          "base_uri": "https://localhost:8080/"
        },
        "outputId": "e6666d33-ce7e-43da-c10f-017976785504"
      },
      "execution_count": null,
      "outputs": [
        {
          "output_type": "stream",
          "name": "stdout",
          "text": [
            "{'preto', 'verde', 'laranja', 'rosa', 'azul'}\n"
          ]
        }
      ]
    },
    {
      "cell_type": "code",
      "source": [
        "nossas_cores = cores.union(minhas_cores)"
      ],
      "metadata": {
        "id": "dPFIKuCkd-S_"
      },
      "execution_count": null,
      "outputs": []
    },
    {
      "cell_type": "code",
      "source": [
        "print(nossas_cores)"
      ],
      "metadata": {
        "id": "wgpoej_4eH9D",
        "colab": {
          "base_uri": "https://localhost:8080/"
        },
        "outputId": "5d39416f-a7f6-4314-8a2d-8819503b3944"
      },
      "execution_count": null,
      "outputs": [
        {
          "output_type": "stream",
          "name": "stdout",
          "text": [
            "{'preto', 'verde', 'laranja', 'rosa', 'amarelo', 'vermelho', 'azul'}\n"
          ]
        }
      ]
    },
    {
      "cell_type": "code",
      "source": [
        "dif_cores_minhas_cores = cores.difference(minhas_cores)\n",
        "print(dif_cores_minhas_cores)"
      ],
      "metadata": {
        "id": "7Su_lt7weJdC",
        "colab": {
          "base_uri": "https://localhost:8080/"
        },
        "outputId": "8e83d1e6-4ea5-4ecb-a0db-b746db04c9b0"
      },
      "execution_count": null,
      "outputs": [
        {
          "output_type": "stream",
          "name": "stdout",
          "text": [
            "{'amarelo', 'vermelho'}\n"
          ]
        }
      ]
    },
    {
      "cell_type": "code",
      "source": [
        "dif_minhas_cores_cores = minhas_cores.difference(cores)\n",
        "print(dif_minhas_cores_cores)"
      ],
      "metadata": {
        "id": "DGxbFnKheX91",
        "colab": {
          "base_uri": "https://localhost:8080/"
        },
        "outputId": "4ec051d8-0114-46dd-e4a7-e5515540e7e7"
      },
      "execution_count": null,
      "outputs": [
        {
          "output_type": "stream",
          "name": "stdout",
          "text": [
            "{'rosa', 'preto', 'laranja'}\n"
          ]
        }
      ]
    },
    {
      "cell_type": "markdown",
      "source": [
        "# Dicionários"
      ],
      "metadata": {
        "id": "5yo4gFrDxhTO"
      }
    },
    {
      "cell_type": "code",
      "source": [
        "pessoas = {\n",
        "    '777-12':'Armando Sousa', \n",
        "    '888-12':'Maria Joaquina',\n",
        "    '999-11':'Ana Carla'\n",
        "}"
      ],
      "metadata": {
        "id": "IQBFOVcFKpwJ"
      },
      "execution_count": null,
      "outputs": []
    },
    {
      "cell_type": "code",
      "source": [
        "pessoas['999-11']"
      ],
      "metadata": {
        "id": "qYrSSQvDLWxp",
        "outputId": "e025f617-136a-411e-c177-9a64385b61be",
        "colab": {
          "base_uri": "https://localhost:8080/",
          "height": 35
        }
      },
      "execution_count": null,
      "outputs": [
        {
          "output_type": "execute_result",
          "data": {
            "text/plain": [
              "'Ana Carla'"
            ],
            "application/vnd.google.colaboratory.intrinsic+json": {
              "type": "string"
            }
          },
          "metadata": {},
          "execution_count": 68
        }
      ]
    },
    {
      "cell_type": "code",
      "source": [
        "carros = {\n",
        "    'asd-1200':'HB-20 xxx',\n",
        "    'zzz-3242':'ASX 100', \n",
        "    'sdf-2343':'Polo xys'\n",
        "}"
      ],
      "metadata": {
        "id": "VNt3NXwxK9Cj"
      },
      "execution_count": null,
      "outputs": []
    },
    {
      "cell_type": "code",
      "source": [
        "conta1 = {\n",
        "    'numero':123123,\n",
        "    'saldo':10000, \n",
        "    'banco':'Banco do Brasil'\n",
        "}"
      ],
      "metadata": {
        "id": "5-U4lZt9L19v"
      },
      "execution_count": null,
      "outputs": []
    },
    {
      "cell_type": "code",
      "source": [
        "conta1['banco']"
      ],
      "metadata": {
        "id": "wGbbwvigMcuq",
        "outputId": "d79a7622-e6d0-49a6-ac6d-baa6914f05f4",
        "colab": {
          "base_uri": "https://localhost:8080/",
          "height": 35
        }
      },
      "execution_count": null,
      "outputs": [
        {
          "output_type": "execute_result",
          "data": {
            "text/plain": [
              "'Banco do Brasil'"
            ],
            "application/vnd.google.colaboratory.intrinsic+json": {
              "type": "string"
            }
          },
          "metadata": {},
          "execution_count": 74
        }
      ]
    },
    {
      "cell_type": "code",
      "source": [
        "carros['zzz-3242']"
      ],
      "metadata": {
        "id": "drWD-NZ_Ligt",
        "outputId": "4fd43ec4-dd4d-4f3e-ebe0-9c16e9f1e290",
        "colab": {
          "base_uri": "https://localhost:8080/",
          "height": 35
        }
      },
      "execution_count": null,
      "outputs": [
        {
          "output_type": "execute_result",
          "data": {
            "text/plain": [
              "'ASX 100'"
            ],
            "application/vnd.google.colaboratory.intrinsic+json": {
              "type": "string"
            }
          },
          "metadata": {},
          "execution_count": 69
        }
      ]
    },
    {
      "cell_type": "code",
      "source": [
        "meu_dicionario = {}"
      ],
      "metadata": {
        "id": "LLE6N9W_xiiV"
      },
      "execution_count": null,
      "outputs": []
    },
    {
      "cell_type": "code",
      "source": [
        "print(meu_dicionario)"
      ],
      "metadata": {
        "id": "tDct401VxlTx",
        "outputId": "692e12af-7fa6-425e-a593-e1aac02cd83b",
        "colab": {
          "base_uri": "https://localhost:8080/"
        }
      },
      "execution_count": null,
      "outputs": [
        {
          "output_type": "stream",
          "name": "stdout",
          "text": [
            "{}\n"
          ]
        }
      ]
    },
    {
      "cell_type": "code",
      "source": [
        "pessoas = {\n",
        "    '777-11':'Armando Soares Sousa', \n",
        "    '888-12':'Maria Joaquina de Amaral Pereira Goes'\n",
        "}"
      ],
      "metadata": {
        "id": "GBC--dwOxpq4"
      },
      "execution_count": null,
      "outputs": []
    },
    {
      "cell_type": "code",
      "source": [
        "print(pessoas)"
      ],
      "metadata": {
        "id": "7X85fK55x6uV",
        "outputId": "82d0e4f2-69ee-49c1-8d24-b16bb1b945bf",
        "colab": {
          "base_uri": "https://localhost:8080/"
        }
      },
      "execution_count": null,
      "outputs": [
        {
          "output_type": "stream",
          "name": "stdout",
          "text": [
            "{'777-12': 'Armando Sousa', '888-12': 'Maria Joaquina', '999-11': 'Ana Carla'}\n"
          ]
        }
      ]
    },
    {
      "cell_type": "code",
      "source": [
        "pessoas.items()"
      ],
      "metadata": {
        "id": "kdPj0_B9M5Ek",
        "outputId": "a20c092d-84be-45f4-c7cb-88010de90a33",
        "colab": {
          "base_uri": "https://localhost:8080/"
        }
      },
      "execution_count": null,
      "outputs": [
        {
          "output_type": "execute_result",
          "data": {
            "text/plain": [
              "dict_items([('777-12', 'Armando Sousa'), ('888-12', 'Maria Joaquina'), ('999-11', 'Ana Carla')])"
            ]
          },
          "metadata": {},
          "execution_count": 76
        }
      ]
    },
    {
      "cell_type": "code",
      "source": [
        "pessoas.keys()"
      ],
      "metadata": {
        "id": "VU7NHi1UM98p",
        "outputId": "401d611d-c94b-4161-fab3-aeef8728d46f",
        "colab": {
          "base_uri": "https://localhost:8080/"
        }
      },
      "execution_count": null,
      "outputs": [
        {
          "output_type": "execute_result",
          "data": {
            "text/plain": [
              "dict_keys(['777-12', '888-12', '999-11'])"
            ]
          },
          "metadata": {},
          "execution_count": 77
        }
      ]
    },
    {
      "cell_type": "code",
      "source": [
        "pessoas.values()"
      ],
      "metadata": {
        "id": "lGcryG_6NJhw",
        "outputId": "df67446e-e6ce-4671-9785-5a2f16d7efdc",
        "colab": {
          "base_uri": "https://localhost:8080/"
        }
      },
      "execution_count": null,
      "outputs": [
        {
          "output_type": "execute_result",
          "data": {
            "text/plain": [
              "dict_values(['Armando Sousa', 'Maria Joaquina', 'Ana Carla'])"
            ]
          },
          "metadata": {},
          "execution_count": 78
        }
      ]
    },
    {
      "cell_type": "code",
      "source": [
        "for elemento in pessoas.items():\n",
        "  print(elemento)"
      ],
      "metadata": {
        "id": "q1wVdScUNU8B",
        "outputId": "41d5290d-dbff-4643-afff-f718b3f7073b",
        "colab": {
          "base_uri": "https://localhost:8080/"
        }
      },
      "execution_count": null,
      "outputs": [
        {
          "output_type": "stream",
          "name": "stdout",
          "text": [
            "('777-12', 'Armando Sousa')\n",
            "('888-12', 'Maria Joaquina')\n",
            "('999-11', 'Ana Carla')\n"
          ]
        }
      ]
    },
    {
      "cell_type": "code",
      "source": [
        "for chave in pessoas.keys():\n",
        "  print(chave)"
      ],
      "metadata": {
        "id": "TZOQXYTDNi2A",
        "outputId": "b0a925ac-f2b4-4c81-9a79-26874a68c6a0",
        "colab": {
          "base_uri": "https://localhost:8080/"
        }
      },
      "execution_count": null,
      "outputs": [
        {
          "output_type": "stream",
          "name": "stdout",
          "text": [
            "777-12\n",
            "888-12\n",
            "999-11\n"
          ]
        }
      ]
    },
    {
      "cell_type": "code",
      "source": [
        "for valor in pessoas.values():\n",
        "  print(valor)"
      ],
      "metadata": {
        "id": "Yd8siCL7No6y",
        "outputId": "e07dd6ef-1331-4594-97c6-8c2b4f4211e6",
        "colab": {
          "base_uri": "https://localhost:8080/"
        }
      },
      "execution_count": null,
      "outputs": [
        {
          "output_type": "stream",
          "name": "stdout",
          "text": [
            "Armando Sousa\n",
            "Maria Joaquina\n",
            "Ana Carla\n"
          ]
        }
      ]
    },
    {
      "cell_type": "code",
      "source": [
        "for k,v in pessoas.items():\n",
        "  print(k, v)"
      ],
      "metadata": {
        "id": "XMGi4CZ1NvwV",
        "outputId": "f0bcdf87-a5d0-477a-d28e-f434fcc74d2b",
        "colab": {
          "base_uri": "https://localhost:8080/"
        }
      },
      "execution_count": null,
      "outputs": [
        {
          "output_type": "stream",
          "name": "stdout",
          "text": [
            "777-12 Armando Sousa\n",
            "888-12 Maria Joaquina\n",
            "999-11 Ana Carla\n"
          ]
        }
      ]
    },
    {
      "cell_type": "code",
      "source": [
        "for chave,valor in pessoas.items():\n",
        "  print(chave, valor)"
      ],
      "metadata": {
        "id": "c3ebx1WvN7Io",
        "outputId": "7dab20dc-bb12-45c7-e760-415945724a7f",
        "colab": {
          "base_uri": "https://localhost:8080/"
        }
      },
      "execution_count": null,
      "outputs": [
        {
          "output_type": "stream",
          "name": "stdout",
          "text": [
            "777-12 Armando Sousa\n",
            "888-12 Maria Joaquina\n",
            "999-11 Ana Carla\n"
          ]
        }
      ]
    },
    {
      "cell_type": "code",
      "source": [
        "pessoas['777-11']"
      ],
      "metadata": {
        "id": "lkVyQpUgx782",
        "outputId": "9c2016ad-2251-46a6-c147-133cdb7e13dc",
        "colab": {
          "base_uri": "https://localhost:8080/",
          "height": 35
        }
      },
      "execution_count": null,
      "outputs": [
        {
          "output_type": "execute_result",
          "data": {
            "text/plain": [
              "'Armando Soares Sousa'"
            ],
            "application/vnd.google.colaboratory.intrinsic+json": {
              "type": "string"
            }
          },
          "metadata": {},
          "execution_count": 7
        }
      ]
    },
    {
      "cell_type": "code",
      "source": [
        "pessoas['888-12']"
      ],
      "metadata": {
        "id": "1bW0tYyPyEjY",
        "outputId": "e21ed631-8b8f-4ced-91ac-5d5d1fad3074",
        "colab": {
          "base_uri": "https://localhost:8080/",
          "height": 35
        }
      },
      "execution_count": null,
      "outputs": [
        {
          "output_type": "execute_result",
          "data": {
            "text/plain": [
              "'Maria Joaquina de Amaral Pereira Goes'"
            ],
            "application/vnd.google.colaboratory.intrinsic+json": {
              "type": "string"
            }
          },
          "metadata": {},
          "execution_count": 8
        }
      ]
    },
    {
      "cell_type": "code",
      "source": [
        "pessoas.keys()"
      ],
      "metadata": {
        "id": "ezTOlMgNyJfy",
        "outputId": "d44187aa-51d7-4389-8bed-a13c398d8b3b",
        "colab": {
          "base_uri": "https://localhost:8080/"
        }
      },
      "execution_count": null,
      "outputs": [
        {
          "output_type": "execute_result",
          "data": {
            "text/plain": [
              "dict_keys(['777-11', '888-12'])"
            ]
          },
          "metadata": {},
          "execution_count": 10
        }
      ]
    },
    {
      "cell_type": "code",
      "source": [
        "pessoas.values()"
      ],
      "metadata": {
        "id": "sccKm4tXyG79",
        "outputId": "0bc66d7d-f650-4cbb-84af-ec4ebc3f6003",
        "colab": {
          "base_uri": "https://localhost:8080/"
        }
      },
      "execution_count": null,
      "outputs": [
        {
          "output_type": "execute_result",
          "data": {
            "text/plain": [
              "dict_values(['Armando Soares Sousa', 'Maria Joaquina de Amaral Pereira Goes'])"
            ]
          },
          "metadata": {},
          "execution_count": 9
        }
      ]
    },
    {
      "cell_type": "code",
      "source": [
        "pessoas.items()"
      ],
      "metadata": {
        "id": "pLubYOWiyMAz",
        "outputId": "f9eeabd9-e848-4fcf-9844-648310768a5d",
        "colab": {
          "base_uri": "https://localhost:8080/"
        }
      },
      "execution_count": null,
      "outputs": [
        {
          "output_type": "execute_result",
          "data": {
            "text/plain": [
              "dict_items([('777-11', 'Armando Soares Sousa'), ('888-12', 'Maria Joaquina de Amaral Pereira Goes')])"
            ]
          },
          "metadata": {},
          "execution_count": 11
        }
      ]
    },
    {
      "cell_type": "code",
      "source": [
        "for elemento in pessoas.items():\n",
        "  print(elemento)"
      ],
      "metadata": {
        "id": "id45TcdqyQwT",
        "outputId": "324b11fe-96ed-49a9-a787-9b1e2a043f3f",
        "colab": {
          "base_uri": "https://localhost:8080/"
        }
      },
      "execution_count": null,
      "outputs": [
        {
          "output_type": "stream",
          "name": "stdout",
          "text": [
            "('777-11', 'Armando Soares Sousa')\n",
            "('888-12', 'Maria Joaquina de Amaral Pereira Goes')\n"
          ]
        }
      ]
    },
    {
      "cell_type": "code",
      "source": [
        "pessoas['999-13'] = 'Francisco Moura'"
      ],
      "metadata": {
        "id": "vcWKeGsayiQ1"
      },
      "execution_count": null,
      "outputs": []
    },
    {
      "cell_type": "code",
      "source": [
        "for elemento in pessoas.items():\n",
        "  print(elemento)"
      ],
      "metadata": {
        "id": "MnY2RF0QynyB",
        "outputId": "19c5319c-ad9d-47d7-968c-d3737c957892",
        "colab": {
          "base_uri": "https://localhost:8080/"
        }
      },
      "execution_count": null,
      "outputs": [
        {
          "output_type": "stream",
          "name": "stdout",
          "text": [
            "('777-11', 'Armando Soares Sousa')\n",
            "('888-12', 'Maria Joaquina de Amaral Pereira Goes')\n",
            "('999-13', 'Francisco Moura')\n"
          ]
        }
      ]
    },
    {
      "cell_type": "code",
      "source": [
        "dicionario_teste = dict()"
      ],
      "metadata": {
        "id": "Nvd5cuJsyu0Y"
      },
      "execution_count": null,
      "outputs": []
    },
    {
      "cell_type": "code",
      "source": [
        "print(dicionario_teste)"
      ],
      "metadata": {
        "id": "OYRUDzFKyw1J",
        "outputId": "64bfcdc2-ab70-4d09-f784-73df123fee76",
        "colab": {
          "base_uri": "https://localhost:8080/"
        }
      },
      "execution_count": null,
      "outputs": [
        {
          "output_type": "stream",
          "name": "stdout",
          "text": [
            "{}\n"
          ]
        }
      ]
    },
    {
      "cell_type": "code",
      "source": [
        "for k, v in pessoas.items():\n",
        "  print(k, v)"
      ],
      "metadata": {
        "id": "j3weZ3uJyybE",
        "outputId": "6102d983-eacf-4461-cb1a-82f07c49ca84",
        "colab": {
          "base_uri": "https://localhost:8080/"
        }
      },
      "execution_count": null,
      "outputs": [
        {
          "output_type": "stream",
          "name": "stdout",
          "text": [
            "777-11 Armando Soares Sousa\n",
            "888-12 Maria Joaquina de Amaral Pereira Goes\n",
            "999-13 Francisco Moura\n"
          ]
        }
      ]
    },
    {
      "cell_type": "code",
      "source": [],
      "metadata": {
        "id": "FB5Mx2LazRLz"
      },
      "execution_count": null,
      "outputs": []
    }
  ]
}