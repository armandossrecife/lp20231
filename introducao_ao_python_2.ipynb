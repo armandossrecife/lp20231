{
  "nbformat": 4,
  "nbformat_minor": 0,
  "metadata": {
    "colab": {
      "provenance": [],
      "include_colab_link": true
    },
    "kernelspec": {
      "name": "python3",
      "display_name": "Python 3.6.3 64-bit"
    },
    "language_info": {
      "name": "python",
      "version": "3.6.3",
      "mimetype": "text/x-python",
      "codemirror_mode": {
        "name": "ipython",
        "version": 3
      },
      "pygments_lexer": "ipython3",
      "nbconvert_exporter": "python",
      "file_extension": ".py"
    },
    "interpreter": {
      "hash": "58bc13ec4dd135858b8220102d0ad3358f57eb64d131366ec25c4d4365eacf63"
    }
  },
  "cells": [
    {
      "cell_type": "markdown",
      "metadata": {
        "id": "view-in-github",
        "colab_type": "text"
      },
      "source": [
        "<a href=\"https://colab.research.google.com/github/armandossrecife/lp20231/blob/main/introducao_ao_python_2.ipynb\" target=\"_parent\"><img src=\"https://colab.research.google.com/assets/colab-badge.svg\" alt=\"Open In Colab\"/></a>"
      ]
    },
    {
      "cell_type": "markdown",
      "metadata": {
        "id": "SwNyaT41kkWl"
      },
      "source": [
        "# A linguagem de programação Python"
      ]
    },
    {
      "cell_type": "markdown",
      "metadata": {
        "id": "zitwKS4wk3Aw"
      },
      "source": [
        "**Características**\n",
        "\n",
        "*   Interpretada\n",
        "*   Código legível\n",
        "*   Mutiparadígma (Programação estrutura, Programação Imperativa, Programação Orientada a Objetos, Programação Funcional)\n",
        "*   Tipos dinâmicos\n",
        "*   Blocos baseados em indentação"
      ]
    },
    {
      "cell_type": "markdown",
      "metadata": {
        "id": "eV_A1H-ll0eP"
      },
      "source": [
        "Criada por [Guido Van Rossum](https://en.wikipedia.org/wiki/Guido_van_Rossum) nos anos 80 e lançada no anos 90."
      ]
    },
    {
      "cell_type": "markdown",
      "metadata": {
        "id": "PBRCy01Ll8iq"
      },
      "source": [
        "O **Python 3** foi lançado em 2008. O Python 2.7.18 foi descontinuado em 2020. Com isso, é bom usar os padrões adotados pelo Python 3, pois não existe retrocompatibilidade entre o Python 3 e o Python 2. "
      ]
    },
    {
      "cell_type": "markdown",
      "metadata": {
        "id": "P6AVMiP-ngIF"
      },
      "source": [
        "A linguagem python é uma das linguagens mais populares (quantidade de buscas na Internet em 2020 - 1o lugar: C (11,83%) , 2o. lugar Python (11,67%), 3o. lugar Java (11,12%) ) do mundo segundo o índice Tiobe (https://www.tiobe.com/tiobe-index/)\n",
        "\n",
        "Segundo o survey 2021 stackoverflow (https://insights.stackoverflow.com/survey/2021) python ocupa o 3o. lugar (48%), JavaScript 1o lugar (64%) e html/css 2o. lugar (56%)"
      ]
    },
    {
      "cell_type": "markdown",
      "metadata": {
        "id": "sxGT1iuZdc9t"
      },
      "source": [
        "Bibliotecas, Frameworks e plataformas mais famosas baseadas em python: \n",
        "\n",
        "Desenvolvimento web: [Django](https://www.djangoproject.com/), [Flask](https://flask.palletsprojects.com/en/2.0.x/)\n",
        "\n",
        "Data Science: [Pandas](https://pandas.pydata.org/), [Matplotlib](https://matplotlib.org/)\n",
        "\n",
        "Machine Learning: [Scikit learn](https://scikit-learn.org/stable/), [PyTorch](https://pytorch.org/)\n",
        "\n",
        "Deep Learning e Redes Neurais: [TensorFlow](https://www.tensorflow.org/federated), [Keras](https://keras.io/)"
      ]
    },
    {
      "cell_type": "markdown",
      "metadata": {
        "id": "ejpv03SbqKB4"
      },
      "source": [
        "Site oficial: https://www.python.org/"
      ]
    },
    {
      "cell_type": "markdown",
      "metadata": {
        "id": "bMVwjDMtE3pv"
      },
      "source": [
        "Documentação Python: https://docs.python.org/3/"
      ]
    },
    {
      "cell_type": "markdown",
      "metadata": {
        "id": "CshlEZtoqUJv"
      },
      "source": [
        "Instale o python no seu sistema operacional https://www.python.org/downloads/"
      ]
    },
    {
      "cell_type": "markdown",
      "metadata": {
        "id": "E81UOWWEqflT"
      },
      "source": [
        "Versão estável: 3.9.x (setembro/2021)"
      ]
    },
    {
      "cell_type": "markdown",
      "metadata": {
        "id": "69AoWSqPrBHv"
      },
      "source": [
        "Chamando o interpretador python3 no mac: \n",
        "https://asciinema.org/a/439546\n",
        "\n",
        "Executando um script python via CLI (Command-line Interface): https://asciinema.org/a/439547"
      ]
    },
    {
      "cell_type": "markdown",
      "metadata": {
        "id": "HQQzWJ_8ukj5"
      },
      "source": [
        "Para o desenvolvimento de aplicações mais complexas é aconselhável usar uma IDE (Integrated Development Environment) para facilitar a organização, testes, depuração e empacotamento da aplicação. As mais usadas pela comunidade python: Pycharm (https://www.jetbrains.com/pt-br/pycharm/) e Visual Studio Code (https://code.visualstudio.com/). No caso o VSCode é aconselhável instalar uma [extensão python](https://code.visualstudio.com/docs/languages/python) para ajudar com features como IntelliSense, debugging, code navigation, code formatting e etc."
      ]
    },
    {
      "cell_type": "markdown",
      "metadata": {
        "id": "KPD9VRY2wLG3"
      },
      "source": [
        "Também é possível usar notebooks on-line para a execução em forma de interpretação de sequências de scripts python como por exemplo o google colab (https://colab.research.google.com/). Ele é muito usado para quem faz análise de dados (Data Science). Outro exemplo de notebook é o Kaggle (https://www.kaggle.com/) - muito usado pela comunidade de machine learning e data science. "
      ]
    },
    {
      "cell_type": "markdown",
      "metadata": {
        "id": "ujk5DO-zK0Lx"
      },
      "source": [
        "# 1) Saída padrao"
      ]
    },
    {
      "cell_type": "code",
      "metadata": {
        "colab": {
          "base_uri": "https://localhost:8080/"
        },
        "id": "Yk0VBGqIbJ9-",
        "outputId": "0ea4d140-375d-4da4-fc76-1f8a1ce9a05c"
      },
      "source": [
        "#Output\n",
        "print('Saída padrão')\n",
        "print('Armando')"
      ],
      "execution_count": 8,
      "outputs": [
        {
          "output_type": "stream",
          "name": "stdout",
          "text": [
            "Saída padrão\n",
            "Armando\n"
          ]
        }
      ]
    },
    {
      "cell_type": "code",
      "metadata": {
        "colab": {
          "base_uri": "https://localhost:8080/",
          "height": 73
        },
        "id": "cFAX72pbbT_Y",
        "outputId": "27ec376e-80ef-40f1-d0b8-d55db9ab16e0"
      },
      "source": [
        "''' \n",
        "Algumas convenções importantes:\n",
        "\n",
        "Class names start with an uppercase letter. All other identifiers start with a lowercase letter.\n",
        "\n",
        " Starting an identifier with a single leading underscore indicates that the identifier is private.\n",
        "\n",
        " Starting an identifier with two leading underscores indicates a strongly private identifier.\n",
        "\n",
        " If the identifier also ends with two trailing underscores, the identifier is a language-defined special name.\n",
        " '''"
      ],
      "execution_count": 9,
      "outputs": [
        {
          "output_type": "execute_result",
          "data": {
            "text/plain": [
              "' \\nAlgumas convenções importantes:\\n\\nClass names start with an uppercase letter. All other identifiers start with a lowercase letter.\\n\\n Starting an identifier with a single leading underscore indicates that the identifier is private.\\n\\n Starting an identifier with two leading underscores indicates a strongly private identifier.\\n\\n If the identifier also ends with two trailing underscores, the identifier is a language-defined special name.\\n '"
            ],
            "application/vnd.google.colaboratory.intrinsic+json": {
              "type": "string"
            }
          },
          "metadata": {},
          "execution_count": 9
        }
      ]
    },
    {
      "cell_type": "markdown",
      "metadata": {
        "id": "dV39ZD2gK0L8"
      },
      "source": [
        "# 2) Variaveis e tipos de dados"
      ]
    },
    {
      "cell_type": "markdown",
      "metadata": {
        "id": "nfdSX4S9yggN"
      },
      "source": [
        "|Type|Mutability|Description|Syntax examples|\n",
        "|--- |--- |--- |--- |\n",
        "|bool|immutable|Boolean value|TrueFalse|\n",
        "|bytearray|mutable|Sequence of bytes|bytearray(b'Some ASCII')bytearray(b\"Some ASCII\")bytearray([119, 105, 107, 105])|\n",
        "|bytes|immutable|Sequence of bytes|b'Some ASCII'b\"Some ASCII\"bytes([119, 105, 107, 105])|\n",
        "|complex|immutable|Complex number with real and imaginary parts|3+2.7j3 + 2.7j|\n",
        "|dict|mutable|Associative array (or dictionary) of key and value pairs; can contain mixed types (keys and values), keys must be a hashable type|{'key1': 1.0, 3: False}{}|\n",
        "|ellipsisa|immutable|An ellipsis placeholder to be used as an index in NumPy arrays|...Ellipsis|\n",
        "|float|immutable|Double-precision floating-point number. The precision is machine-dependent but in practice is generally implemented as a 64-bit IEEE 754 number with 53 bits of precision.[99]|1.33333|\n",
        "|frozenset|immutable|Unordered set, contains no duplicates; can contain mixed types, if hashable|frozenset([4.0, 'string', True])|\n",
        "|int|immutable|Integer of unlimited magnitude[100]|42|\n",
        "|list|mutable|List, can contain mixed types|[4.0, 'string', True][]|\n",
        "|NoneTypea|immutable|An object representing the absence of a value, often called null in other languages|None|\n",
        "|NotImplementedTypea|immutable|A placeholder that can be returned from overloaded operators to indicate unsupported operand types.|NotImplemented|\n",
        "|range|immutable|A Sequence of numbers commonly used for looping specific number of times in for loops[101]|range(-1, 10)range(10, -5, -2)|\n",
        "|set|mutable|Unordered set, contains no duplicates; can contain mixed types, if hashable|{4.0, 'string', True}set()|\n",
        "|str|immutable|A character string: sequence of Unicode codepoints|\n",
        "|tuple|immutable|Can contain mixed types|(4.0, 'string', True)('single element',)()|\n"
      ]
    },
    {
      "cell_type": "code",
      "metadata": {
        "colab": {
          "base_uri": "https://localhost:8080/"
        },
        "id": "L8ux1A4Tfd_Q",
        "outputId": "65d4b88c-10f1-48e4-c5fe-6c3c63be4590"
      },
      "source": [
        "nome = 'Armando Soares Sousa'\n",
        "data_nascimento = '19/02/1979'\n",
        "altura = 1.68\n",
        "peso =  70\n",
        "vacinado_covid_1a_dose = True\n",
        "vacinado_covid_2a_dose = True\n",
        "\n",
        "print(f'Nome: {nome}, data de nascimento: {data_nascimento}, altura: {altura}m , peso: {peso}kg')"
      ],
      "execution_count": 10,
      "outputs": [
        {
          "output_type": "stream",
          "name": "stdout",
          "text": [
            "Nome: Armando Soares Sousa, data de nascimento: 19/02/1979, altura: 1.68m , peso: 70kg\n"
          ]
        }
      ]
    },
    {
      "cell_type": "code",
      "metadata": {
        "colab": {
          "base_uri": "https://localhost:8080/"
        },
        "id": "Wj34LUwru8El",
        "outputId": "2856953d-b75d-41c1-e1f5-ab52adfd9bae"
      },
      "source": [
        "print(f'nome: {nome}')\n",
        "teste = f'nome do cliente: {nome}'\n",
        "print(teste)"
      ],
      "execution_count": 11,
      "outputs": [
        {
          "output_type": "stream",
          "name": "stdout",
          "text": [
            "nome: Armando Soares Sousa\n",
            "nome do cliente: Armando Soares Sousa\n"
          ]
        }
      ]
    },
    {
      "cell_type": "code",
      "metadata": {
        "colab": {
          "base_uri": "https://localhost:8080/"
        },
        "id": "ML9DdGR2vKVP",
        "outputId": "40c4ca58-69c8-4451-da17-aa5722d7c0a5"
      },
      "source": [
        "print(teste)"
      ],
      "execution_count": 12,
      "outputs": [
        {
          "output_type": "stream",
          "name": "stdout",
          "text": [
            "nome do cliente: Armando Soares Sousa\n"
          ]
        }
      ]
    },
    {
      "cell_type": "code",
      "metadata": {
        "colab": {
          "base_uri": "https://localhost:8080/"
        },
        "id": "B1ZKaEWqelOo",
        "outputId": "6ee6ed1d-8cc5-4db4-813f-b02f256d3a67"
      },
      "source": [
        "# comando if\n",
        "\n",
        "idade = 18\n",
        "\n",
        "if idade >= 18 :\n",
        "  print('Pode tirar a habilitação para dirigir')\n",
        "else:\n",
        "  print('Ainda não pode dirigir')"
      ],
      "execution_count": 13,
      "outputs": [
        {
          "output_type": "stream",
          "name": "stdout",
          "text": [
            "Pode tirar a habilitação para dirigir\n"
          ]
        }
      ]
    },
    {
      "cell_type": "code",
      "metadata": {
        "colab": {
          "base_uri": "https://localhost:8080/"
        },
        "id": "npwmTGuEgdnJ",
        "outputId": "bfb0e3b3-02a9-4361-8e02-e8967b48d7c2"
      },
      "source": [
        "# Multiplas associações\n",
        "\n",
        "a = b = c = 10\n",
        "\n",
        "nome, data_nascimento, altura, peso = 'Maria Silva', '10/10/2000', 1.70, 70 \n",
        "\n",
        "print(f'a: {a}, b: {b}, c: {c}')\n",
        "\n",
        "print(f'Nome: {nome}, data de nascimento: {data_nascimento}, altura: {altura}m , peso: {peso}kg')"
      ],
      "execution_count": 14,
      "outputs": [
        {
          "output_type": "stream",
          "name": "stdout",
          "text": [
            "a: 10, b: 10, c: 10\n",
            "Nome: Maria Silva, data de nascimento: 10/10/2000, altura: 1.7m , peso: 70kg\n"
          ]
        }
      ]
    },
    {
      "cell_type": "code",
      "metadata": {
        "id": "Mv02BOCYvhBe"
      },
      "source": [
        "x, y = 10, 20"
      ],
      "execution_count": 15,
      "outputs": []
    },
    {
      "cell_type": "code",
      "metadata": {
        "colab": {
          "base_uri": "https://localhost:8080/"
        },
        "id": "XeV3xh_dhPCR",
        "outputId": "6824efb0-1e17-4158-bef0-37019a179faa"
      },
      "source": [
        "# Tipos numéricos\n",
        "\n",
        "# int\t  long (python2)  float\t    complex\n",
        "# 10\t  51924361L\t      0.0\t      3.14j\n",
        "# 100\t  -0x19323L\t      15.20\t    45.j\n",
        "# -786\t0122L\t          -21.9\t    9.322e-36j\n",
        "\n",
        "meu_inteiro_maior = (2 ** 31) - 1\n",
        "meu_inteiro_menor = -1 * meu_inteiro_maior\n",
        "print(f'inteiro maior: {meu_inteiro_maior}, type: { type(meu_inteiro_maior) }')\n",
        "print(f'inteiro menor: {meu_inteiro_menor}, type: { type(meu_inteiro_menor) }')"
      ],
      "execution_count": 16,
      "outputs": [
        {
          "output_type": "stream",
          "name": "stdout",
          "text": [
            "inteiro maior: 2147483647, type: <class 'int'>\n",
            "inteiro menor: -2147483647, type: <class 'int'>\n"
          ]
        }
      ]
    },
    {
      "cell_type": "code",
      "metadata": {
        "colab": {
          "base_uri": "https://localhost:8080/"
        },
        "id": "PREW8dSik1Kn",
        "outputId": "9f0f08fd-313c-4455-9c6a-3acba63f6c28"
      },
      "source": [
        "# para armazenar inteiros longos\n",
        "\n",
        "meu_inteiro_longo = 2**100\n",
        "print(f'inteiro longo: {meu_inteiro_longo}, { type(meu_inteiro_longo) }')"
      ],
      "execution_count": 17,
      "outputs": [
        {
          "output_type": "stream",
          "name": "stdout",
          "text": [
            "inteiro longo: 1267650600228229401496703205376, <class 'int'>\n"
          ]
        }
      ]
    },
    {
      "cell_type": "code",
      "metadata": {
        "colab": {
          "base_uri": "https://localhost:8080/"
        },
        "id": "_Q0HYE-jwMv_",
        "outputId": "f1701a93-3bb7-47bb-e10b-65691fc6b538"
      },
      "source": [
        "type(meu_inteiro_longo)"
      ],
      "execution_count": 18,
      "outputs": [
        {
          "output_type": "execute_result",
          "data": {
            "text/plain": [
              "int"
            ]
          },
          "metadata": {},
          "execution_count": 18
        }
      ]
    },
    {
      "cell_type": "code",
      "metadata": {
        "colab": {
          "base_uri": "https://localhost:8080/"
        },
        "id": "AX-8YW0Fllyk",
        "outputId": "3ea3031a-715c-404d-aa5e-e15bcc41b194"
      },
      "source": [
        "# para armazenar floats\n",
        "meu_float = 1.15\n",
        "print(f'Float : {meu_float}, { type(meu_float) }')"
      ],
      "execution_count": 19,
      "outputs": [
        {
          "output_type": "stream",
          "name": "stdout",
          "text": [
            "Float : 1.15, <class 'float'>\n"
          ]
        }
      ]
    },
    {
      "cell_type": "code",
      "metadata": {
        "colab": {
          "base_uri": "https://localhost:8080/"
        },
        "id": "fd0JqhZMnDj2",
        "outputId": "220f15c3-587c-4dca-c3c6-8db58be621fd"
      },
      "source": [
        "# para armazenar números complexos\n",
        "\n",
        "meu_numero_complexo = 3.14j\n",
        "print(f'Numero complexo: {meu_numero_complexo}, type: { type(meu_numero_complexo) }')"
      ],
      "execution_count": 20,
      "outputs": [
        {
          "output_type": "stream",
          "name": "stdout",
          "text": [
            "Numero complexo: 3.14j, type: <class 'complex'>\n"
          ]
        }
      ]
    },
    {
      "cell_type": "code",
      "metadata": {
        "colab": {
          "base_uri": "https://localhost:8080/"
        },
        "id": "JVdwjHs-nLxx",
        "outputId": "2facf4a9-a23a-460a-d9f5-82543c282c11"
      },
      "source": [
        "# converte inteiro para float\n",
        "\n",
        "float(meu_inteiro_maior)"
      ],
      "execution_count": 21,
      "outputs": [
        {
          "output_type": "execute_result",
          "data": {
            "text/plain": [
              "2147483647.0"
            ]
          },
          "metadata": {},
          "execution_count": 21
        }
      ]
    },
    {
      "cell_type": "code",
      "metadata": {
        "colab": {
          "base_uri": "https://localhost:8080/"
        },
        "id": "X_6Vu3NjoMsP",
        "outputId": "3736bdcf-b76f-482c-87b1-823bcc88a8b2"
      },
      "source": [
        "# converte longo para float\n",
        "\n",
        "float(meu_inteiro_longo)"
      ],
      "execution_count": 22,
      "outputs": [
        {
          "output_type": "execute_result",
          "data": {
            "text/plain": [
              "1.2676506002282294e+30"
            ]
          },
          "metadata": {},
          "execution_count": 22
        }
      ]
    },
    {
      "cell_type": "markdown",
      "metadata": {
        "id": "sFwU6kk5K0MI"
      },
      "source": [
        "# 3) String"
      ]
    },
    {
      "cell_type": "code",
      "metadata": {
        "colab": {
          "base_uri": "https://localhost:8080/"
        },
        "id": "nR6UMdw0oW4S",
        "outputId": "8f54c97f-aac2-4f28-b7bb-8c79ddccbc2e"
      },
      "source": [
        "# Trabalhando com strings\n",
        "\n",
        "str_texto = 'Armando Soares Sousa'\n",
        "\n",
        "print(str_texto)          # Prints complete string\n",
        "print(str_texto[0])       # Prints first character of the string\n",
        "print(str_texto[2:5])     # Prints characters starting from 3rd to 5th\n",
        "print(str_texto[2:])      # Prints string starting from 3rd character\n",
        "print(str_texto * 2)      # Prints string two times\n",
        "print(str_texto * 3)      # Prints string tree times\n",
        "print(str_texto + \"TEST\") # Prints concatenated string"
      ],
      "execution_count": 23,
      "outputs": [
        {
          "output_type": "stream",
          "name": "stdout",
          "text": [
            "Armando Soares Sousa\n",
            "A\n",
            "man\n",
            "mando Soares Sousa\n",
            "Armando Soares SousaArmando Soares Sousa\n",
            "Armando Soares SousaArmando Soares SousaArmando Soares Sousa\n",
            "Armando Soares SousaTEST\n"
          ]
        }
      ]
    },
    {
      "cell_type": "code",
      "metadata": {
        "id": "mKcnULSLwmP8"
      },
      "source": [
        "str_teste = 'Bem vindo'"
      ],
      "execution_count": 24,
      "outputs": []
    },
    {
      "cell_type": "code",
      "metadata": {
        "colab": {
          "base_uri": "https://localhost:8080/"
        },
        "id": "gydyWpRywrEs",
        "outputId": "789b642d-387a-4946-a871-c2a0cf23e35c"
      },
      "source": [
        "len(str_teste)"
      ],
      "execution_count": 25,
      "outputs": [
        {
          "output_type": "execute_result",
          "data": {
            "text/plain": [
              "9"
            ]
          },
          "metadata": {},
          "execution_count": 25
        }
      ]
    },
    {
      "cell_type": "code",
      "metadata": {
        "colab": {
          "base_uri": "https://localhost:8080/"
        },
        "id": "UFVFwSdQwwW8",
        "outputId": "54dd270a-6e81-4ae2-bfe3-eb6258fa1ca9"
      },
      "source": [
        "print(f'Imprime os 3 primeiros caracters da string \"{str_teste}\": {str_teste[:3]}')\n",
        "print(f'Imprime do 5o caractere em diante: {str_teste[4:]}')"
      ],
      "execution_count": 26,
      "outputs": [
        {
          "output_type": "stream",
          "name": "stdout",
          "text": [
            "Imprime os 3 primeiros caracters da string \"Bem vindo\": Bem\n",
            "Imprime do 5o caractere em diante: vindo\n"
          ]
        }
      ]
    },
    {
      "cell_type": "code",
      "metadata": {
        "colab": {
          "base_uri": "https://localhost:8080/"
        },
        "id": "eGOfPso6OxcG",
        "outputId": "4b9cd161-d387-4646-f8cd-9ba0c234762f"
      },
      "source": [
        "meu_nome = str_texto[:7]\n",
        "print(f'Dada a string \"{str_texto}\" imprime os 7 primeiros caracters: {meu_nome}')  "
      ],
      "execution_count": 27,
      "outputs": [
        {
          "output_type": "stream",
          "name": "stdout",
          "text": [
            "Dada a string \"Armando Soares Sousa\" imprime os 7 primeiros caracters: Armando\n"
          ]
        }
      ]
    },
    {
      "cell_type": "markdown",
      "metadata": {
        "id": "hWE0X9PCNkf9"
      },
      "source": [
        "## String methods"
      ]
    },
    {
      "cell_type": "markdown",
      "metadata": {
        "id": "7c-x0lOfRZpm"
      },
      "source": [
        "https://docs.python.org/3/library/stdtypes.html#text-sequence-type-str"
      ]
    },
    {
      "cell_type": "code",
      "metadata": {
        "colab": {
          "base_uri": "https://localhost:8080/"
        },
        "id": "yVp3U6WzNex6",
        "outputId": "f1f6c851-a2f3-45de-d6c1-fef5c9c5c70c"
      },
      "source": [
        "print(str_texto.upper() )\n",
        "print(str_texto.lower() )\n",
        "print(str_texto.capitalize() )\n",
        "print(str_texto.find(\"Sousa\") )\n",
        "print(str_texto.index('Sousa'))\n",
        "print(str_texto.isalpha() )\n",
        "print(meu_nome.isalpha() )\n",
        "print(str_texto.endswith(\"Sousa\"))"
      ],
      "execution_count": 28,
      "outputs": [
        {
          "output_type": "stream",
          "name": "stdout",
          "text": [
            "ARMANDO SOARES SOUSA\n",
            "armando soares sousa\n",
            "Armando soares sousa\n",
            "15\n",
            "15\n",
            "False\n",
            "True\n",
            "True\n"
          ]
        }
      ]
    },
    {
      "cell_type": "code",
      "metadata": {
        "id": "rTbTce-HxxLC"
      },
      "source": [
        "str_python = 'Bem vindo ao python'"
      ],
      "execution_count": 29,
      "outputs": []
    },
    {
      "cell_type": "code",
      "metadata": {
        "colab": {
          "base_uri": "https://localhost:8080/"
        },
        "id": "_RTmL1h5x4F_",
        "outputId": "a06e8710-173b-4165-80e9-a38a5d35d8f3"
      },
      "source": [
        "str_python.find('python')"
      ],
      "execution_count": 30,
      "outputs": [
        {
          "output_type": "execute_result",
          "data": {
            "text/plain": [
              "13"
            ]
          },
          "metadata": {},
          "execution_count": 30
        }
      ]
    },
    {
      "cell_type": "code",
      "metadata": {
        "colab": {
          "base_uri": "https://localhost:8080/"
        },
        "id": "ZCNMXFFsyC7g",
        "outputId": "e2f2096b-bc4e-4a15-deb3-2762422f2817"
      },
      "source": [
        "str_python.index('python')"
      ],
      "execution_count": 31,
      "outputs": [
        {
          "output_type": "execute_result",
          "data": {
            "text/plain": [
              "13"
            ]
          },
          "metadata": {},
          "execution_count": 31
        }
      ]
    },
    {
      "cell_type": "markdown",
      "metadata": {
        "id": "eX78Py2HPvXy"
      },
      "source": [
        "## Módulo string"
      ]
    },
    {
      "cell_type": "markdown",
      "metadata": {
        "id": "q95DoZ9qLshi"
      },
      "source": [
        "Lista de caracteres ascii: https://en.wikipedia.org/wiki/ASCII#ASCII_control_characters"
      ]
    },
    {
      "cell_type": "code",
      "metadata": {
        "id": "bKuxLlPoHNMm"
      },
      "source": [
        "# O Módulo string contem métodos e constantes especiais para trabalhar com strings no python\n",
        "import string"
      ],
      "execution_count": 32,
      "outputs": []
    },
    {
      "cell_type": "code",
      "metadata": {
        "colab": {
          "base_uri": "https://localhost:8080/"
        },
        "id": "8d8DNJLDHpt8",
        "outputId": "1a64aa70-066b-4c22-ed3d-5bbc71cc267c"
      },
      "source": [
        "ascii_letters = string.ascii_letters\n",
        "print(f'ascii_letters: {ascii_letters}')\n",
        "\n",
        "ascii_lowercase = string.ascii_lowercase\n",
        "print(f'ascii_lowercase: {ascii_lowercase}')\n",
        "\n",
        "ascii_uppercase = string.ascii_uppercase\n",
        "print(f'ascii_uppercase: {ascii_uppercase}')\n",
        "\n",
        "digits = string.digits\n",
        "print(f'digits: {digits}')\n",
        "\n",
        "ascii_punctuation = string.punctuation\n",
        "print(f'ascii_punctuation: {ascii_punctuation}')\n",
        "\n"
      ],
      "execution_count": 33,
      "outputs": [
        {
          "output_type": "stream",
          "name": "stdout",
          "text": [
            "ascii_letters: abcdefghijklmnopqrstuvwxyzABCDEFGHIJKLMNOPQRSTUVWXYZ\n",
            "ascii_lowercase: abcdefghijklmnopqrstuvwxyz\n",
            "ascii_uppercase: ABCDEFGHIJKLMNOPQRSTUVWXYZ\n",
            "digits: 0123456789\n",
            "ascii_punctuation: !\"#$%&'()*+,-./:;<=>?@[\\]^_`{|}~\n"
          ]
        }
      ]
    },
    {
      "cell_type": "code",
      "metadata": {
        "colab": {
          "base_uri": "https://localhost:8080/"
        },
        "id": "S7dJFdPfy_Xp",
        "outputId": "6e5af3a7-c6fb-4859-9fd8-b42cbc647e1c"
      },
      "source": [
        "print(f'Pontuacao ascii: {ascii_punctuation}')"
      ],
      "execution_count": 34,
      "outputs": [
        {
          "output_type": "stream",
          "name": "stdout",
          "text": [
            "Pontuacao ascii: !\"#$%&'()*+,-./:;<=>?@[\\]^_`{|}~\n"
          ]
        }
      ]
    },
    {
      "cell_type": "markdown",
      "metadata": {
        "id": "oEFunqmxLmEt"
      },
      "source": [
        "Lista de caracters unicode: https://en.wikipedia.org/wiki/List_of_Unicode_characters"
      ]
    },
    {
      "cell_type": "code",
      "metadata": {
        "colab": {
          "base_uri": "https://localhost:8080/"
        },
        "id": "QGOxPrnEK6W8",
        "outputId": "740d4fa2-1148-4f89-abaf-1e3b64330b32"
      },
      "source": [
        "for i in range(255):\n",
        "  print(f'{i}: {chr(i)}')"
      ],
      "execution_count": 35,
      "outputs": [
        {
          "output_type": "stream",
          "name": "stdout",
          "text": [
            "0: \u0000\n",
            "1: \u0001\n",
            "2: \u0002\n",
            "3: \u0003\n",
            "4: \u0004\n",
            "5: \u0005\n",
            "6: \u0006\n",
            "7: \u0007\n",
            "8: \b\n",
            "9: \t\n",
            "10: \n",
            "\n",
            "11: \u000b\n",
            "12: \f\n",
            "13: \r\n",
            "14: \u000e\n",
            "15: \u000f\n",
            "16: \u0010\n",
            "17: \u0011\n",
            "18: \u0012\n",
            "19: \u0013\n",
            "20: \u0014\n",
            "21: \u0015\n",
            "22: \u0016\n",
            "23: \u0017\n",
            "24: \u0018\n",
            "25: \u0019\n",
            "26: \u001a\n",
            "27: \u001b\n",
            "28: \u001c\n",
            "29: \u001d\n",
            "30: \u001e\n",
            "31: \u001f\n",
            "32:  \n",
            "33: !\n",
            "34: \"\n",
            "35: #\n",
            "36: $\n",
            "37: %\n",
            "38: &\n",
            "39: '\n",
            "40: (\n",
            "41: )\n",
            "42: *\n",
            "43: +\n",
            "44: ,\n",
            "45: -\n",
            "46: .\n",
            "47: /\n",
            "48: 0\n",
            "49: 1\n",
            "50: 2\n",
            "51: 3\n",
            "52: 4\n",
            "53: 5\n",
            "54: 6\n",
            "55: 7\n",
            "56: 8\n",
            "57: 9\n",
            "58: :\n",
            "59: ;\n",
            "60: <\n",
            "61: =\n",
            "62: >\n",
            "63: ?\n",
            "64: @\n",
            "65: A\n",
            "66: B\n",
            "67: C\n",
            "68: D\n",
            "69: E\n",
            "70: F\n",
            "71: G\n",
            "72: H\n",
            "73: I\n",
            "74: J\n",
            "75: K\n",
            "76: L\n",
            "77: M\n",
            "78: N\n",
            "79: O\n",
            "80: P\n",
            "81: Q\n",
            "82: R\n",
            "83: S\n",
            "84: T\n",
            "85: U\n",
            "86: V\n",
            "87: W\n",
            "88: X\n",
            "89: Y\n",
            "90: Z\n",
            "91: [\n",
            "92: \\\n",
            "93: ]\n",
            "94: ^\n",
            "95: _\n",
            "96: `\n",
            "97: a\n",
            "98: b\n",
            "99: c\n",
            "100: d\n",
            "101: e\n",
            "102: f\n",
            "103: g\n",
            "104: h\n",
            "105: i\n",
            "106: j\n",
            "107: k\n",
            "108: l\n",
            "109: m\n",
            "110: n\n",
            "111: o\n",
            "112: p\n",
            "113: q\n",
            "114: r\n",
            "115: s\n",
            "116: t\n",
            "117: u\n",
            "118: v\n",
            "119: w\n",
            "120: x\n",
            "121: y\n",
            "122: z\n",
            "123: {\n",
            "124: |\n",
            "125: }\n",
            "126: ~\n",
            "127: \n",
            "128: \n",
            "129: \n",
            "130: \n",
            "131: \n",
            "132: \n",
            "133: \n",
            "134: \n",
            "135: \n",
            "136: \n",
            "137: \n",
            "138: \n",
            "139: \n",
            "140: \n",
            "141: \n",
            "142: \n",
            "143: \n",
            "144: \n",
            "145: \n",
            "146: \n",
            "147: \n",
            "148: \n",
            "149: \n",
            "150: \n",
            "151: \n",
            "152: \n",
            "153: \n",
            "154: \n",
            "155: \n",
            "156: \n",
            "157: \n",
            "158: \n",
            "159: \n",
            "160:  \n",
            "161: ¡\n",
            "162: ¢\n",
            "163: £\n",
            "164: ¤\n",
            "165: ¥\n",
            "166: ¦\n",
            "167: §\n",
            "168: ¨\n",
            "169: ©\n",
            "170: ª\n",
            "171: «\n",
            "172: ¬\n",
            "173: ­\n",
            "174: ®\n",
            "175: ¯\n",
            "176: °\n",
            "177: ±\n",
            "178: ²\n",
            "179: ³\n",
            "180: ´\n",
            "181: µ\n",
            "182: ¶\n",
            "183: ·\n",
            "184: ¸\n",
            "185: ¹\n",
            "186: º\n",
            "187: »\n",
            "188: ¼\n",
            "189: ½\n",
            "190: ¾\n",
            "191: ¿\n",
            "192: À\n",
            "193: Á\n",
            "194: Â\n",
            "195: Ã\n",
            "196: Ä\n",
            "197: Å\n",
            "198: Æ\n",
            "199: Ç\n",
            "200: È\n",
            "201: É\n",
            "202: Ê\n",
            "203: Ë\n",
            "204: Ì\n",
            "205: Í\n",
            "206: Î\n",
            "207: Ï\n",
            "208: Ð\n",
            "209: Ñ\n",
            "210: Ò\n",
            "211: Ó\n",
            "212: Ô\n",
            "213: Õ\n",
            "214: Ö\n",
            "215: ×\n",
            "216: Ø\n",
            "217: Ù\n",
            "218: Ú\n",
            "219: Û\n",
            "220: Ü\n",
            "221: Ý\n",
            "222: Þ\n",
            "223: ß\n",
            "224: à\n",
            "225: á\n",
            "226: â\n",
            "227: ã\n",
            "228: ä\n",
            "229: å\n",
            "230: æ\n",
            "231: ç\n",
            "232: è\n",
            "233: é\n",
            "234: ê\n",
            "235: ë\n",
            "236: ì\n",
            "237: í\n",
            "238: î\n",
            "239: ï\n",
            "240: ð\n",
            "241: ñ\n",
            "242: ò\n",
            "243: ó\n",
            "244: ô\n",
            "245: õ\n",
            "246: ö\n",
            "247: ÷\n",
            "248: ø\n",
            "249: ù\n",
            "250: ú\n",
            "251: û\n",
            "252: ü\n",
            "253: ý\n",
            "254: þ\n"
          ]
        }
      ]
    },
    {
      "cell_type": "markdown",
      "metadata": {
        "id": "SUxJjixrK0Mc"
      },
      "source": [
        "# 4) Operacoes aritmeticas"
      ]
    },
    {
      "cell_type": "markdown",
      "metadata": {
        "id": "VxDxEZXoSz6U"
      },
      "source": [
        "https://docs.python.org/3/library/stdtypes.html#numeric-types-int-float-complex"
      ]
    },
    {
      "cell_type": "code",
      "metadata": {
        "colab": {
          "base_uri": "https://localhost:8080/"
        },
        "id": "CN26Y5PXjTl9",
        "outputId": "d78ff1a9-8d31-461f-ddfb-fd4b70da3dc4"
      },
      "source": [
        "# Operações aritiméticas simples\n",
        "\n",
        "a = 21\n",
        "b = 10\n",
        "c = 0\n",
        "\n",
        "print(f'a = {a}')\n",
        "print(f'b = {b}')\n",
        "print('')\n",
        "\n",
        "c = a + b\n",
        "print(f\"a + b = {c}\")\n",
        "\n",
        "c = a - b\n",
        "print(f\"a - b = {c}\")\n",
        "\n",
        "c = a * b\n",
        "print(f\"a * b = {c}\")\n",
        "\n",
        "c = a / b\n",
        "print(f\"a / b =  {c}\")\n",
        "\n",
        "c = a % b\n",
        "print(f\"a módulo b = {c}\")\n",
        "\n",
        "a = 2\n",
        "b = 3\n",
        "c = a**b \n",
        "print(f\"a**b= {c}\")\n",
        "\n",
        "a = 10\n",
        "b = 5\n",
        "c = a//b \n",
        "print(f\"a//b = {c}\")"
      ],
      "execution_count": 36,
      "outputs": [
        {
          "output_type": "stream",
          "name": "stdout",
          "text": [
            "a = 21\n",
            "b = 10\n",
            "\n",
            "a + b = 31\n",
            "a - b = 11\n",
            "a * b = 210\n",
            "a / b =  2.1\n",
            "a módulo b = 1\n",
            "a**b= 8\n",
            "a//b = 2\n"
          ]
        }
      ]
    },
    {
      "cell_type": "markdown",
      "metadata": {
        "id": "Fgzyck-zK0Me"
      },
      "source": [
        "# 5) Operacoes de comparacao"
      ]
    },
    {
      "cell_type": "code",
      "metadata": {
        "colab": {
          "base_uri": "https://localhost:8080/"
        },
        "id": "WbmxJVtQkQBG",
        "outputId": "337e3d23-d13b-4ed5-9bcc-179cceeaae47"
      },
      "source": [
        "# Operações de comparação\n",
        "\n",
        "a = 21\n",
        "b = 10\n",
        "c = 0\n",
        "\n",
        "if ( a == b ):\n",
        "   print(\"Line 1 - a is equal to b\")\n",
        "else:\n",
        "   print(\"Line 1 - a is not equal to b\")\n",
        "\n",
        "if ( a != b ):\n",
        "   print(\"Line 2 - a is not equal to b\")\n",
        "else:\n",
        "   print(\"Line 2 - a is equal to b\")\n",
        "\n",
        "if ( a < b ):\n",
        "   print(\"Line 4 - a is less than b\")\n",
        "else:\n",
        "   print(\"Line 4 - a is not less than b\")\n",
        "\n",
        "if ( a > b ):\n",
        "   print(\"Line 5 - a is greater than b\")\n",
        "else:\n",
        "   print(\"Line 5 - a is not greater than b\")\n",
        "\n",
        "a = 5\n",
        "b = 20\n",
        "if ( a <= b ):\n",
        "   print(\"Line 6 - a is either less than or equal to  b\")\n",
        "else:\n",
        "   print(\"Line 6 - a is neither less than nor equal to  b\")\n",
        "\n",
        "if ( b >= a ):\n",
        "   print(\"Line 7 - b is either greater than  or equal to b\")\n",
        "else:\n",
        "   print(\"Line 7 - b is neither greater than  nor equal to b\")"
      ],
      "execution_count": 37,
      "outputs": [
        {
          "output_type": "stream",
          "name": "stdout",
          "text": [
            "Line 1 - a is not equal to b\n",
            "Line 2 - a is not equal to b\n",
            "Line 4 - a is not less than b\n",
            "Line 5 - a is greater than b\n",
            "Line 6 - a is either less than or equal to  b\n",
            "Line 7 - b is either greater than  or equal to b\n"
          ]
        }
      ]
    },
    {
      "cell_type": "markdown",
      "metadata": {
        "id": "UcHIGkmVK0Mf"
      },
      "source": [
        "# 6) Operacoes de checagem de membros"
      ]
    },
    {
      "cell_type": "code",
      "source": [
        "lista_de_nomes = ['Maria', 'João', 'Antônio']"
      ],
      "metadata": {
        "id": "1NVQNCtKnJKh"
      },
      "execution_count": 40,
      "outputs": []
    },
    {
      "cell_type": "code",
      "metadata": {
        "id": "7zOQ2-tBWq2N",
        "outputId": "c9cd2d9c-26a0-421e-b1fc-f3359c543a3a",
        "colab": {
          "base_uri": "https://localhost:8080/"
        }
      },
      "source": [
        "print(lista_de_nomes)\n",
        "'Francisco' in lista_de_nomes"
      ],
      "execution_count": 41,
      "outputs": [
        {
          "output_type": "stream",
          "name": "stdout",
          "text": [
            "['Maria', 'João', 'Antônio']\n"
          ]
        },
        {
          "output_type": "execute_result",
          "data": {
            "text/plain": [
              "False"
            ]
          },
          "metadata": {},
          "execution_count": 41
        }
      ]
    },
    {
      "cell_type": "code",
      "metadata": {
        "colab": {
          "base_uri": "https://localhost:8080/"
        },
        "id": "J6IguqlmlBj4",
        "outputId": "081cb6e6-0b4e-4dab-d266-6699075c5292"
      },
      "source": [
        "# Operadores de membership\n",
        "\n",
        "a = 10\n",
        "b = 20\n",
        "list = [1, 2, 3, 4, 5 ];\n",
        "\n",
        "if ( a in list ):\n",
        "   print(\"Line 1 - a is available in the given list\")\n",
        "else:\n",
        "   print(\"Line 1 - a is not available in the given list\")\n",
        "\n",
        "if ( b not in list ):\n",
        "   print(\"Line 2 - b is not available in the given list\")\n",
        "else:\n",
        "   print(\"Line 2 - b is available in the given list\")\n",
        "\n",
        "a = 2\n",
        "if ( a in list ):\n",
        "   print(\"Line 3 - a is available in the given list\")\n",
        "else:\n",
        "   print(\"Line 3 - a is not available in the given list\")"
      ],
      "execution_count": 42,
      "outputs": [
        {
          "output_type": "stream",
          "name": "stdout",
          "text": [
            "Line 1 - a is not available in the given list\n",
            "Line 2 - b is not available in the given list\n",
            "Line 3 - a is available in the given list\n"
          ]
        }
      ]
    },
    {
      "cell_type": "markdown",
      "metadata": {
        "id": "wPDBHIO9K0Mg"
      },
      "source": [
        "# 7) Loops"
      ]
    },
    {
      "cell_type": "markdown",
      "metadata": {
        "id": "Lk_d8wc1TX5g"
      },
      "source": [
        "https://docs.python.org/3/tutorial/controlflow.html#for-statements"
      ]
    },
    {
      "cell_type": "markdown",
      "metadata": {
        "id": "CLaMnA-gWq2O"
      },
      "source": [
        "## 7.1) For"
      ]
    },
    {
      "cell_type": "code",
      "metadata": {
        "colab": {
          "base_uri": "https://localhost:8080/"
        },
        "id": "QSdfW-M-md9E",
        "outputId": "fd26f9c4-ba92-4931-8398-9bc274a2936c"
      },
      "source": [
        "# interacao usando o range\n",
        "for i in range(10):\n",
        "  print(f'i: {i}')"
      ],
      "execution_count": 43,
      "outputs": [
        {
          "output_type": "stream",
          "name": "stdout",
          "text": [
            "i: 0\n",
            "i: 1\n",
            "i: 2\n",
            "i: 3\n",
            "i: 4\n",
            "i: 5\n",
            "i: 6\n",
            "i: 7\n",
            "i: 8\n",
            "i: 9\n"
          ]
        }
      ]
    },
    {
      "cell_type": "code",
      "metadata": {
        "id": "pKRbXzp8Wq2P",
        "outputId": "bc984f46-4cfc-46d0-9e04-8b69198abc00",
        "colab": {
          "base_uri": "https://localhost:8080/"
        }
      },
      "source": [
        "for i in range(4,10):\n",
        "    print(f'i: {i}')"
      ],
      "execution_count": 44,
      "outputs": [
        {
          "output_type": "stream",
          "name": "stdout",
          "text": [
            "i: 4\n",
            "i: 5\n",
            "i: 6\n",
            "i: 7\n",
            "i: 8\n",
            "i: 9\n"
          ]
        }
      ]
    },
    {
      "cell_type": "code",
      "metadata": {
        "id": "9g2ysYp1Wq2P",
        "outputId": "27436071-b4d1-4914-c8fc-0942d193888a",
        "colab": {
          "base_uri": "https://localhost:8080/"
        }
      },
      "source": [
        "for i in [2, 4, 6, 8, 10, 13, 15]: \n",
        "    print(f'i: {i}')"
      ],
      "execution_count": 45,
      "outputs": [
        {
          "output_type": "stream",
          "name": "stdout",
          "text": [
            "i: 2\n",
            "i: 4\n",
            "i: 6\n",
            "i: 8\n",
            "i: 10\n",
            "i: 13\n",
            "i: 15\n"
          ]
        }
      ]
    },
    {
      "cell_type": "code",
      "metadata": {
        "id": "v2ySFi3gWq2Q",
        "outputId": "b09ac105-56f2-465e-d4f4-edcd5ae2b62e",
        "colab": {
          "base_uri": "https://localhost:8080/"
        }
      },
      "source": [
        "[i*3 for i in range(10)]"
      ],
      "execution_count": 46,
      "outputs": [
        {
          "output_type": "execute_result",
          "data": {
            "text/plain": [
              "[0, 3, 6, 9, 12, 15, 18, 21, 24, 27]"
            ]
          },
          "metadata": {},
          "execution_count": 46
        }
      ]
    },
    {
      "cell_type": "markdown",
      "metadata": {
        "id": "piliNn42K0Mg"
      },
      "source": [
        "### 7.1.1) For each"
      ]
    },
    {
      "cell_type": "code",
      "metadata": {
        "colab": {
          "base_uri": "https://localhost:8080/"
        },
        "id": "VLuEnf-Pl8a7",
        "outputId": "b9768985-2175-4faf-84cb-12c001a32112"
      },
      "source": [
        "# For each\n",
        "\n",
        "fruits = ['banana', 'apple',  'mango']\n",
        "for fruit in fruits:        \n",
        "   print('Current fruit :', fruit)"
      ],
      "execution_count": 47,
      "outputs": [
        {
          "output_type": "stream",
          "name": "stdout",
          "text": [
            "Current fruit : banana\n",
            "Current fruit : apple\n",
            "Current fruit : mango\n"
          ]
        }
      ]
    },
    {
      "cell_type": "code",
      "metadata": {
        "id": "GqswQL0RWq2Q",
        "outputId": "f1d2148f-5274-4f40-c05f-84edc7e6ed9e",
        "colab": {
          "base_uri": "https://localhost:8080/"
        }
      },
      "source": [
        "for nome in lista_de_nomes: \n",
        "    print(f'nome: {nome}')"
      ],
      "execution_count": 48,
      "outputs": [
        {
          "output_type": "stream",
          "name": "stdout",
          "text": [
            "nome: Maria\n",
            "nome: João\n",
            "nome: Antônio\n"
          ]
        }
      ]
    },
    {
      "cell_type": "markdown",
      "metadata": {
        "id": "BEmyVj0PK0Mh"
      },
      "source": [
        "### 7.1.2) For aninhado"
      ]
    },
    {
      "cell_type": "code",
      "source": [
        "for i in range(0,10):\n",
        "  for j in range(0,10):\n",
        "    print(f'i={i}, j={j}: i*j: {i*j}')"
      ],
      "metadata": {
        "colab": {
          "base_uri": "https://localhost:8080/"
        },
        "id": "A7L80ewml1X4",
        "outputId": "dc1fa0f4-18dc-41c5-be0d-cfb4f416e20d"
      },
      "execution_count": 49,
      "outputs": [
        {
          "output_type": "stream",
          "name": "stdout",
          "text": [
            "i=0, j=0: i*j: 0\n",
            "i=0, j=1: i*j: 0\n",
            "i=0, j=2: i*j: 0\n",
            "i=0, j=3: i*j: 0\n",
            "i=0, j=4: i*j: 0\n",
            "i=0, j=5: i*j: 0\n",
            "i=0, j=6: i*j: 0\n",
            "i=0, j=7: i*j: 0\n",
            "i=0, j=8: i*j: 0\n",
            "i=0, j=9: i*j: 0\n",
            "i=1, j=0: i*j: 0\n",
            "i=1, j=1: i*j: 1\n",
            "i=1, j=2: i*j: 2\n",
            "i=1, j=3: i*j: 3\n",
            "i=1, j=4: i*j: 4\n",
            "i=1, j=5: i*j: 5\n",
            "i=1, j=6: i*j: 6\n",
            "i=1, j=7: i*j: 7\n",
            "i=1, j=8: i*j: 8\n",
            "i=1, j=9: i*j: 9\n",
            "i=2, j=0: i*j: 0\n",
            "i=2, j=1: i*j: 2\n",
            "i=2, j=2: i*j: 4\n",
            "i=2, j=3: i*j: 6\n",
            "i=2, j=4: i*j: 8\n",
            "i=2, j=5: i*j: 10\n",
            "i=2, j=6: i*j: 12\n",
            "i=2, j=7: i*j: 14\n",
            "i=2, j=8: i*j: 16\n",
            "i=2, j=9: i*j: 18\n",
            "i=3, j=0: i*j: 0\n",
            "i=3, j=1: i*j: 3\n",
            "i=3, j=2: i*j: 6\n",
            "i=3, j=3: i*j: 9\n",
            "i=3, j=4: i*j: 12\n",
            "i=3, j=5: i*j: 15\n",
            "i=3, j=6: i*j: 18\n",
            "i=3, j=7: i*j: 21\n",
            "i=3, j=8: i*j: 24\n",
            "i=3, j=9: i*j: 27\n",
            "i=4, j=0: i*j: 0\n",
            "i=4, j=1: i*j: 4\n",
            "i=4, j=2: i*j: 8\n",
            "i=4, j=3: i*j: 12\n",
            "i=4, j=4: i*j: 16\n",
            "i=4, j=5: i*j: 20\n",
            "i=4, j=6: i*j: 24\n",
            "i=4, j=7: i*j: 28\n",
            "i=4, j=8: i*j: 32\n",
            "i=4, j=9: i*j: 36\n",
            "i=5, j=0: i*j: 0\n",
            "i=5, j=1: i*j: 5\n",
            "i=5, j=2: i*j: 10\n",
            "i=5, j=3: i*j: 15\n",
            "i=5, j=4: i*j: 20\n",
            "i=5, j=5: i*j: 25\n",
            "i=5, j=6: i*j: 30\n",
            "i=5, j=7: i*j: 35\n",
            "i=5, j=8: i*j: 40\n",
            "i=5, j=9: i*j: 45\n",
            "i=6, j=0: i*j: 0\n",
            "i=6, j=1: i*j: 6\n",
            "i=6, j=2: i*j: 12\n",
            "i=6, j=3: i*j: 18\n",
            "i=6, j=4: i*j: 24\n",
            "i=6, j=5: i*j: 30\n",
            "i=6, j=6: i*j: 36\n",
            "i=6, j=7: i*j: 42\n",
            "i=6, j=8: i*j: 48\n",
            "i=6, j=9: i*j: 54\n",
            "i=7, j=0: i*j: 0\n",
            "i=7, j=1: i*j: 7\n",
            "i=7, j=2: i*j: 14\n",
            "i=7, j=3: i*j: 21\n",
            "i=7, j=4: i*j: 28\n",
            "i=7, j=5: i*j: 35\n",
            "i=7, j=6: i*j: 42\n",
            "i=7, j=7: i*j: 49\n",
            "i=7, j=8: i*j: 56\n",
            "i=7, j=9: i*j: 63\n",
            "i=8, j=0: i*j: 0\n",
            "i=8, j=1: i*j: 8\n",
            "i=8, j=2: i*j: 16\n",
            "i=8, j=3: i*j: 24\n",
            "i=8, j=4: i*j: 32\n",
            "i=8, j=5: i*j: 40\n",
            "i=8, j=6: i*j: 48\n",
            "i=8, j=7: i*j: 56\n",
            "i=8, j=8: i*j: 64\n",
            "i=8, j=9: i*j: 72\n",
            "i=9, j=0: i*j: 0\n",
            "i=9, j=1: i*j: 9\n",
            "i=9, j=2: i*j: 18\n",
            "i=9, j=3: i*j: 27\n",
            "i=9, j=4: i*j: 36\n",
            "i=9, j=5: i*j: 45\n",
            "i=9, j=6: i*j: 54\n",
            "i=9, j=7: i*j: 63\n",
            "i=9, j=8: i*j: 72\n",
            "i=9, j=9: i*j: 81\n"
          ]
        }
      ]
    },
    {
      "cell_type": "markdown",
      "metadata": {
        "id": "GrzDEMX_K0Mh"
      },
      "source": [
        "## 7.2) While"
      ]
    },
    {
      "cell_type": "code",
      "metadata": {
        "colab": {
          "base_uri": "https://localhost:8080/"
        },
        "id": "qevrX6qYm_Y3",
        "outputId": "1dade4f8-dd79-416f-ffb8-3f04f466bfde"
      },
      "source": [
        "#While\n",
        "\n",
        "count = 0\n",
        "while (count < 10):\n",
        "   print(f'The count is: {count}')\n",
        "   count = count + 1"
      ],
      "execution_count": 50,
      "outputs": [
        {
          "output_type": "stream",
          "name": "stdout",
          "text": [
            "The count is: 0\n",
            "The count is: 1\n",
            "The count is: 2\n",
            "The count is: 3\n",
            "The count is: 4\n",
            "The count is: 5\n",
            "The count is: 6\n",
            "The count is: 7\n",
            "The count is: 8\n",
            "The count is: 9\n"
          ]
        }
      ]
    },
    {
      "cell_type": "markdown",
      "metadata": {
        "id": "V-bMtnieK0Mj"
      },
      "source": [
        "# 8) Input"
      ]
    },
    {
      "cell_type": "markdown",
      "metadata": {
        "id": "YzQv3H3oUJSB"
      },
      "source": [
        "https://docs.python.org/3/library/functions.html#input"
      ]
    },
    {
      "cell_type": "markdown",
      "metadata": {
        "id": "boxoTHMqWq2h"
      },
      "source": [
        "## Entrada de dados do tipo string"
      ]
    },
    {
      "cell_type": "code",
      "metadata": {
        "id": "mtnixjfDWq2h",
        "outputId": "2a03705e-30c8-468a-97b5-f04ec0751171",
        "colab": {
          "base_uri": "https://localhost:8080/"
        }
      },
      "source": [
        "opcao = input('Digite sua opcao: y/n: ')\n",
        "\n",
        "if opcao.upper() == 'Y':\n",
        "    print('Você escolheu a opcao y')\n",
        "else:\n",
        "    if opcao.upper() == 'N':\n",
        "        print('Você escolheu a opcao n')\n",
        "    else: \n",
        "        print('Opcao invalida!')"
      ],
      "execution_count": 51,
      "outputs": [
        {
          "output_type": "stream",
          "name": "stdout",
          "text": [
            "Digite sua opcao: y/n: y\n",
            "Você escolheu a opcao y\n"
          ]
        }
      ]
    },
    {
      "cell_type": "markdown",
      "metadata": {
        "id": "n3UPxNIxWq2h"
      },
      "source": [
        "## Entrada de dados do tipo inteiro"
      ]
    },
    {
      "cell_type": "code",
      "metadata": {
        "colab": {
          "base_uri": "https://localhost:8080/"
        },
        "id": "E23y2QfRrBSD",
        "outputId": "b00ddb35-b597-4025-ecfa-d63f4f64ef68"
      },
      "source": [
        "valor = input('Digite um número inteiro: ')\n",
        "\n",
        "n = int(valor)\n",
        "\n",
        "print(f'O dobro de {n} é {2*n}')"
      ],
      "execution_count": 52,
      "outputs": [
        {
          "output_type": "stream",
          "name": "stdout",
          "text": [
            "Digite um número inteiro: 2\n",
            "O dobro de 2 é 4\n"
          ]
        }
      ]
    },
    {
      "cell_type": "markdown",
      "metadata": {
        "id": "eJPzIfqUWq2i"
      },
      "source": [
        "## Entrada de dados do tipo float"
      ]
    },
    {
      "cell_type": "code",
      "metadata": {
        "colab": {
          "base_uri": "https://localhost:8080/"
        },
        "id": "puje6ZuUdu4E",
        "outputId": "98fa63b9-cd03-4c6d-b631-027dd2d680b2"
      },
      "source": [
        "valor = input('Digite um número qualquer: ')\n",
        "\n",
        "n = float(valor)\n",
        "\n",
        "print(f'O triplo de {n} é {3*n}')    "
      ],
      "execution_count": 53,
      "outputs": [
        {
          "output_type": "stream",
          "name": "stdout",
          "text": [
            "Digite um número qualquer: 1.5\n",
            "O triplo de 1.5 é 4.5\n"
          ]
        }
      ]
    }
  ]
}