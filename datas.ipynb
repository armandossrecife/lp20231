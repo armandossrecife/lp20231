{
  "nbformat": 4,
  "nbformat_minor": 0,
  "metadata": {
    "colab": {
      "provenance": [],
      "collapsed_sections": [
        "Q7X4phGdB6SA",
        "21SUSy4wCcip"
      ],
      "authorship_tag": "ABX9TyMvyGIHPNXjDPQHXR2C4fFp",
      "include_colab_link": true
    },
    "kernelspec": {
      "name": "python3",
      "display_name": "Python 3"
    },
    "language_info": {
      "name": "python"
    }
  },
  "cells": [
    {
      "cell_type": "markdown",
      "metadata": {
        "id": "view-in-github",
        "colab_type": "text"
      },
      "source": [
        "<a href=\"https://colab.research.google.com/github/armandossrecife/lp20231/blob/main/datas.ipynb\" target=\"_parent\"><img src=\"https://colab.research.google.com/assets/colab-badge.svg\" alt=\"Open In Colab\"/></a>"
      ]
    },
    {
      "cell_type": "markdown",
      "source": [
        "# Datas em Python\n",
        "\n",
        "https://docs.python.org/3/library/datetime.html"
      ],
      "metadata": {
        "id": "kxWLCQY9cAsp"
      }
    },
    {
      "cell_type": "markdown",
      "source": [
        "## Apresentação da biblioteca datetime\n",
        "\n",
        "O módulo datetime fornece classes para manipulação de datas e horas."
      ],
      "metadata": {
        "id": "hBM9CYZeBMm2"
      }
    },
    {
      "cell_type": "code",
      "source": [
        "# The datetime module supplies classes for manipulating dates and times.\n",
        "import datetime"
      ],
      "metadata": {
        "id": "SqBoaAu6cIBW"
      },
      "execution_count": null,
      "outputs": []
    },
    {
      "cell_type": "markdown",
      "source": [
        "## Representação de data e hora\n",
        "\n",
        "- Componentes de data: ano, mês, dia\n",
        "- Componentes de hora: hora, minuto, segundo, microssegundo"
      ],
      "metadata": {
        "id": "V1hao7HvBhmg"
      }
    },
    {
      "cell_type": "code",
      "source": [
        "hoje = datetime.datetime.now()\n",
        "print(hoje)"
      ],
      "metadata": {
        "colab": {
          "base_uri": "https://localhost:8080/"
        },
        "id": "b8c-GO2rcVO3",
        "outputId": "ae9d234f-0f32-48ae-f0cd-ddd7a4257545"
      },
      "execution_count": null,
      "outputs": [
        {
          "output_type": "stream",
          "name": "stdout",
          "text": [
            "2023-05-30 14:21:05.074577\n"
          ]
        }
      ]
    },
    {
      "cell_type": "code",
      "source": [
        "data_hoje = datetime.datetime.now()"
      ],
      "metadata": {
        "id": "BpBY7sAudfC3"
      },
      "execution_count": null,
      "outputs": []
    },
    {
      "cell_type": "markdown",
      "source": [
        "Formatar uma data\n",
        "https://docs.python.org/3/library/datetime.html#strftime-strptime-behavior"
      ],
      "metadata": {
        "id": "FYHFvazjiDfJ"
      }
    },
    {
      "cell_type": "code",
      "source": [
        "# formatando a data (via strftime(..))\n",
        "data_hoje_formatada = data_hoje.strftime(\"%d/%m/%y\")\n",
        "print(data_hoje_formatada)"
      ],
      "metadata": {
        "colab": {
          "base_uri": "https://localhost:8080/"
        },
        "id": "QTnguaXSc-kE",
        "outputId": "66776fe1-a767-424c-9bf0-99b5e6d3f118"
      },
      "execution_count": null,
      "outputs": [
        {
          "output_type": "stream",
          "name": "stdout",
          "text": [
            "30/05/23\n"
          ]
        }
      ]
    },
    {
      "cell_type": "code",
      "source": [
        "# formatando a data (via strftime(..))\n",
        "data_hoje_formatada = data_hoje.strftime(\"%d/%m/%Y\")\n",
        "print(data_hoje_formatada)"
      ],
      "metadata": {
        "colab": {
          "base_uri": "https://localhost:8080/"
        },
        "id": "N6nWi0eJdQ8c",
        "outputId": "798b9108-cb47-4031-c238-91518cc20d62"
      },
      "execution_count": null,
      "outputs": [
        {
          "output_type": "stream",
          "name": "stdout",
          "text": [
            "30/05/2023\n"
          ]
        }
      ]
    },
    {
      "cell_type": "code",
      "source": [
        "# formatando a data (via strftime(..))\n",
        "data_hoje_formatada = data_hoje.strftime(\"%d/%m/%Y %H:%M:%S\")\n",
        "print(data_hoje_formatada)"
      ],
      "metadata": {
        "colab": {
          "base_uri": "https://localhost:8080/"
        },
        "id": "VsRHpmUidUzk",
        "outputId": "379d1518-8328-43cd-a7df-c63ab6cc0b64"
      },
      "execution_count": null,
      "outputs": [
        {
          "output_type": "stream",
          "name": "stdout",
          "text": [
            "30/05/2023 14:21:05\n"
          ]
        }
      ]
    },
    {
      "cell_type": "code",
      "source": [
        "# Obter apenas a data atual (operação mais comum)\n",
        "data_atual = datetime.date.today()\n",
        "print(\"Data atual:\", data_atual)"
      ],
      "metadata": {
        "colab": {
          "base_uri": "https://localhost:8080/"
        },
        "id": "fk5657mZd9bS",
        "outputId": "e630f2b4-3faa-4c06-de08-72361947d87a"
      },
      "execution_count": null,
      "outputs": [
        {
          "output_type": "stream",
          "name": "stdout",
          "text": [
            "Data atual: 2023-05-30\n"
          ]
        }
      ]
    },
    {
      "cell_type": "code",
      "source": [
        "data_atual_formatada = data_atual.strftime(\"%d/%m/%Y\")\n",
        "print(data_atual_formatada)"
      ],
      "metadata": {
        "colab": {
          "base_uri": "https://localhost:8080/"
        },
        "id": "opsFPT5keDYh",
        "outputId": "eebfd249-977f-469f-b27d-6b7417ea56bb"
      },
      "execution_count": null,
      "outputs": [
        {
          "output_type": "stream",
          "name": "stdout",
          "text": [
            "30/05/2023\n"
          ]
        }
      ]
    },
    {
      "cell_type": "code",
      "source": [
        "# Obter apenas o horário atual\n",
        "horario_atual = datetime.datetime.now().time()\n",
        "print(\"Horário atual:\", horario_atual)"
      ],
      "metadata": {
        "colab": {
          "base_uri": "https://localhost:8080/"
        },
        "id": "XC11Jsjzc5L3",
        "outputId": "959c5a22-0c58-4d26-df2c-3b68f993a511"
      },
      "execution_count": null,
      "outputs": [
        {
          "output_type": "stream",
          "name": "stdout",
          "text": [
            "Horário atual: 14:21:05.156034\n"
          ]
        }
      ]
    },
    {
      "cell_type": "code",
      "source": [
        "horario_atual_formatado = horario_atual.strftime(\"%H:%M:%S\")\n",
        "print(horario_atual_formatado)"
      ],
      "metadata": {
        "colab": {
          "base_uri": "https://localhost:8080/"
        },
        "id": "TwM9p9odeMy6",
        "outputId": "007102e4-8cf6-47c6-b3ee-4f630fe0e864"
      },
      "execution_count": null,
      "outputs": [
        {
          "output_type": "stream",
          "name": "stdout",
          "text": [
            "14:21:05\n"
          ]
        }
      ]
    },
    {
      "cell_type": "markdown",
      "source": [
        "## Criando objetos datetime\n",
        "\n",
        "Construtores para criar objetos datetime:\n",
        "\n",
        "Exemplo: datetime(year, month, day, hour, minute, second, microsecond)"
      ],
      "metadata": {
        "id": "oBZfQnCMBwU1"
      }
    },
    {
      "cell_type": "code",
      "source": [
        "# Criar uma data específica\n",
        "data_exemplo = datetime.date(2023, 5, 1)\n",
        "print(\"Exemplo de data:\", data_exemplo)"
      ],
      "metadata": {
        "colab": {
          "base_uri": "https://localhost:8080/"
        },
        "id": "OwXKxSLheZ6d",
        "outputId": "a1e419a7-4643-44be-c898-375ded63a965"
      },
      "execution_count": null,
      "outputs": [
        {
          "output_type": "stream",
          "name": "stdout",
          "text": [
            "Exemplo de data: 2023-05-01\n"
          ]
        }
      ]
    },
    {
      "cell_type": "code",
      "source": [
        "# Criar um horário específico\n",
        "horario_exemplo = datetime.time(12, 30, 45)\n",
        "print(\"Exemplo de horário:\", horario_exemplo)"
      ],
      "metadata": {
        "colab": {
          "base_uri": "https://localhost:8080/"
        },
        "id": "kyhp8mnoed1a",
        "outputId": "d2832498-a453-409f-f712-f439d31c26f4"
      },
      "execution_count": null,
      "outputs": [
        {
          "output_type": "stream",
          "name": "stdout",
          "text": [
            "Exemplo de horário: 12:30:45\n"
          ]
        }
      ]
    },
    {
      "cell_type": "markdown",
      "source": [
        "### Acesso aos componentes de data e hora\n",
        "\n",
        "**Atributos** para acessar os componentes de data e hora:\n",
        "Exemplo: .year, .month, .day, .hour, .minute, .second"
      ],
      "metadata": {
        "id": "Q7X4phGdB6SA"
      }
    },
    {
      "cell_type": "code",
      "source": [
        "data_exemplo.year"
      ],
      "metadata": {
        "id": "07U6BRzECNkr",
        "outputId": "14336bb2-f48d-4b2d-d73a-244deeff55da",
        "colab": {
          "base_uri": "https://localhost:8080/"
        }
      },
      "execution_count": null,
      "outputs": [
        {
          "output_type": "execute_result",
          "data": {
            "text/plain": [
              "2023"
            ]
          },
          "metadata": {},
          "execution_count": 13
        }
      ]
    },
    {
      "cell_type": "markdown",
      "source": [
        "### Adicionando ou removendo dias em um objeto datetime"
      ],
      "metadata": {
        "id": "21SUSy4wCcip"
      }
    },
    {
      "cell_type": "code",
      "source": [
        "# Adicionar dias a uma data\n",
        "data_futura = data_atual + datetime.timedelta(days=7)\n",
        "print(f\"Data atual: {data_atual}\")\n",
        "print(\"Data daqui a uma semana:\", data_futura)"
      ],
      "metadata": {
        "colab": {
          "base_uri": "https://localhost:8080/"
        },
        "id": "w2y7W8mBeutt",
        "outputId": "183b46ba-1501-4c08-8ca4-15529381f213"
      },
      "execution_count": null,
      "outputs": [
        {
          "output_type": "stream",
          "name": "stdout",
          "text": [
            "Data atual: 2023-05-29\n",
            "Data daqui a uma semana: 2023-06-05\n"
          ]
        }
      ]
    },
    {
      "cell_type": "code",
      "source": [
        "# Adicionar dias a uma data\n",
        "data_passada = data_atual + datetime.timedelta(days=-8)\n",
        "print(f\"Data atual: {data_atual}\")\n",
        "print(\"Data 8 dias no passado:\", data_passada)"
      ],
      "metadata": {
        "colab": {
          "base_uri": "https://localhost:8080/"
        },
        "id": "-lVXN5NueytS",
        "outputId": "1fb3104d-e20a-45c3-d683-09d8a1efd762"
      },
      "execution_count": null,
      "outputs": [
        {
          "output_type": "stream",
          "name": "stdout",
          "text": [
            "Data atual: 2023-05-29\n",
            "Data 8 dias no passado: 2023-05-21\n"
          ]
        }
      ]
    },
    {
      "cell_type": "code",
      "execution_count": null,
      "metadata": {
        "colab": {
          "base_uri": "https://localhost:8080/"
        },
        "id": "j39GZ4FGaPKO",
        "outputId": "a883c30b-8c55-4e0e-c4be-b0f6b971451b"
      },
      "outputs": [
        {
          "output_type": "stream",
          "name": "stdout",
          "text": [
            "Monday\n"
          ]
        }
      ],
      "source": [
        "# data de nascimento\n",
        "data_nascimento = datetime.date(1979, 2, 19)\n",
        "print(data_nascimento.strftime(\"%A\"))"
      ]
    },
    {
      "cell_type": "code",
      "source": [
        "# Calcular a diferença entre duas datas\n",
        "diferenca = data_atual - data_nascimento\n",
        "print(\"Diferença entre as datas:\", diferenca)"
      ],
      "metadata": {
        "colab": {
          "base_uri": "https://localhost:8080/"
        },
        "id": "anfO5zWdgjdT",
        "outputId": "4f7cadad-4bfb-4fa1-a133-964e6045d743"
      },
      "execution_count": null,
      "outputs": [
        {
          "output_type": "stream",
          "name": "stdout",
          "text": [
            "Diferença entre as datas: 16170 days, 0:00:00\n"
          ]
        }
      ]
    },
    {
      "cell_type": "code",
      "source": [
        "# Calcular a idade\n",
        "idade = int(diferenca.days / 365.25)\n",
        "# 365.25 devido aos anos bissextos\n",
        "print(\"Idade:\", idade)"
      ],
      "metadata": {
        "colab": {
          "base_uri": "https://localhost:8080/"
        },
        "id": "84IVT4JMf_GF",
        "outputId": "83d591f2-2917-449f-edd9-c91b5e09462b"
      },
      "execution_count": null,
      "outputs": [
        {
          "output_type": "stream",
          "name": "stdout",
          "text": [
            "Idade: 44\n"
          ]
        }
      ]
    },
    {
      "cell_type": "markdown",
      "source": [
        "### Outros tipos de manipulação de data com o timedelta"
      ],
      "metadata": {
        "id": "M80kUi7ZC-LV"
      }
    },
    {
      "cell_type": "code",
      "source": [
        "# Subtrair um intervalo de tempo de uma data\n",
        "\n",
        "from datetime import datetime, timedelta\n",
        "\n",
        "data = datetime(2023, 5, 8)\n",
        "intervalo = timedelta(hours=3, minutes=30)  # Subtrai 3 horas e 30 minutos\n",
        "\n",
        "nova_data = data - intervalo\n",
        "print(data)\n",
        "\n",
        "print(nova_data)  # Output: 2023-05-07 20:30:00"
      ],
      "metadata": {
        "id": "oOO3A67DDB8l",
        "outputId": "e332ec22-6b10-480d-caba-487dd5a04d96",
        "colab": {
          "base_uri": "https://localhost:8080/"
        }
      },
      "execution_count": null,
      "outputs": [
        {
          "output_type": "stream",
          "name": "stdout",
          "text": [
            "2023-05-08 00:00:00\n",
            "2023-05-07 20:30:00\n"
          ]
        }
      ]
    },
    {
      "cell_type": "code",
      "source": [
        "# Calcular a diferença entre duas datas\n",
        "\n",
        "from datetime import datetime, timedelta\n",
        "\n",
        "data1 = datetime(2023, 5, 8, 10, 0)\n",
        "data2 = datetime(2023, 5, 7, 15, 30)\n",
        "\n",
        "print(f'Data1: {data1}')\n",
        "print(f'Data2: {data2}')\n",
        "diferenca = data1 - data2\n",
        "print(diferenca)  # Output: 0:18:30 (duração de 18 horas e 30 minutos)\n",
        "print(diferenca.days)  # Output: 0 (diferença em dias)\n",
        "print(diferenca.seconds)  # Output: 66600 (diferença em segundos)"
      ],
      "metadata": {
        "id": "m16n4UF7DgMR",
        "outputId": "0a1fad22-6567-4ff3-f7d4-a126cbb26986",
        "colab": {
          "base_uri": "https://localhost:8080/"
        }
      },
      "execution_count": null,
      "outputs": [
        {
          "output_type": "stream",
          "name": "stdout",
          "text": [
            "Data1: 2023-05-08 10:00:00\n",
            "Data2: 2023-05-07 15:30:00\n",
            "18:30:00\n",
            "0\n",
            "66600\n"
          ]
        }
      ]
    },
    {
      "cell_type": "code",
      "source": [
        "# Criação de um temporizador\n",
        "\n",
        "from datetime import datetime, timedelta\n",
        "import time\n",
        "\n",
        "tempo_inicial = datetime.now()\n",
        "\n",
        "# Executa alguma tarefa\n",
        "time.sleep(2)\n",
        "\n",
        "tempo_final = datetime.now()\n",
        "tempo_total = tempo_final - tempo_inicial\n",
        "\n",
        "print(\"Tempo total:\", tempo_total)  # Output: Tempo total: 0:00:02.xxx segundo"
      ],
      "metadata": {
        "id": "1HG24dn4Dqny",
        "outputId": "0dfbe700-420b-4492-8c20-f71933916efd",
        "colab": {
          "base_uri": "https://localhost:8080/"
        }
      },
      "execution_count": null,
      "outputs": [
        {
          "output_type": "stream",
          "name": "stdout",
          "text": [
            "Tempo total: 0:00:02.003130\n"
          ]
        }
      ]
    },
    {
      "cell_type": "code",
      "source": [],
      "metadata": {
        "id": "G6NDv0AXD1ZS"
      },
      "execution_count": null,
      "outputs": []
    },
    {
      "cell_type": "markdown",
      "source": [
        "## Datas e Fuso horários"
      ],
      "metadata": {
        "id": "3aqxHvT0Ft5z"
      }
    },
    {
      "cell_type": "markdown",
      "source": [
        "### Obter a data e hora atual com um fuso horário específico"
      ],
      "metadata": {
        "id": "DtuWSR4-F2ck"
      }
    },
    {
      "cell_type": "code",
      "source": [
        "from datetime import datetime\n",
        "from pytz import timezone\n",
        "\n",
        "fuso_horario = timezone('America/Sao_Paulo')  # Definindo o fuso horário desejado\n",
        "data_hora_atual = datetime.now(fuso_horario)\n",
        "\n",
        "print(data_hora_atual)  # Output: 2023-05-08 15:30:00.123456-03:00\n"
      ],
      "metadata": {
        "colab": {
          "base_uri": "https://localhost:8080/"
        },
        "id": "yML-TAD-F3Ho",
        "outputId": "1c1a07b9-4a80-4a35-ca44-fcc682b8695a"
      },
      "execution_count": 1,
      "outputs": [
        {
          "output_type": "stream",
          "name": "stdout",
          "text": [
            "2023-05-30 11:37:39.561361-03:00\n"
          ]
        }
      ]
    },
    {
      "cell_type": "markdown",
      "source": [
        "### Listar todos os fusos horários disponíveis"
      ],
      "metadata": {
        "id": "X5zLcDgzHH2U"
      }
    },
    {
      "cell_type": "code",
      "source": [
        "#Você pode listar todos os fusos horários disponíveis com all_timezones\n",
        "import pytz\n",
        "pytz.all_timezones"
      ],
      "metadata": {
        "id": "LM5aMb_aGL5r"
      },
      "execution_count": null,
      "outputs": []
    },
    {
      "cell_type": "code",
      "source": [
        "conjunto_tz = set(pytz.all_timezones_set) \n",
        "lista_tz = list(conjunto_tz)\n",
        "print(lista_tz)"
      ],
      "metadata": {
        "colab": {
          "base_uri": "https://localhost:8080/"
        },
        "id": "DipbAPdSF5oz",
        "outputId": "9f8dba54-2c17-4ddd-dd9c-fa30b215a85c"
      },
      "execution_count": 6,
      "outputs": [
        {
          "output_type": "stream",
          "name": "stdout",
          "text": [
            "['Africa/Casablanca', 'Pacific/Kiritimati', 'Antarctica/Palmer', 'America/Paramaribo', 'America/Catamarca', 'Africa/Blantyre', 'US/Aleutian', 'America/Kentucky/Louisville', 'Asia/Famagusta', 'Pacific/Tongatapu', 'Pacific/Enderbury', 'Indian/Reunion', 'Asia/Ulaanbaatar', 'America/Jamaica', 'GMT0', 'America/Godthab', 'Asia/Kuching', 'Africa/Niamey', 'MET', 'Africa/Bujumbura', 'America/Port_of_Spain', 'Pacific/Pago_Pago', 'America/Maceio', 'Asia/Yangon', 'Australia/LHI', 'Africa/Porto-Novo', 'Africa/Lagos', 'Atlantic/St_Helena', 'CST6CDT', 'America/Argentina/Catamarca', 'America/Boise', 'Asia/Yerevan', 'America/Noronha', 'America/Dawson_Creek', 'America/Knox_IN', 'US/Eastern', 'America/Guayaquil', 'Asia/Chita', 'Europe/Paris', 'Africa/Malabo', 'America/New_York', 'America/Porto_Velho', 'Asia/Thimphu', 'Europe/Madrid', 'Africa/Lome', 'America/Antigua', 'America/Argentina/Cordoba', 'Africa/Johannesburg', 'Antarctica/Troll', 'Atlantic/Azores', 'Europe/Samara', 'Asia/Shanghai', 'Europe/Minsk', 'Europe/Saratov', 'Asia/Ulan_Bator', 'Africa/Accra', 'Europe/Istanbul', 'America/Denver', 'Etc/GMT-11', 'Pacific/Galapagos', 'Atlantic/Canary', 'Africa/Juba', 'Etc/GMT+1', 'Europe/Guernsey', 'Africa/Bamako', 'America/Merida', 'Asia/Choibalsan', 'Europe/Astrakhan', 'Australia/South', 'Europe/Tiraspol', 'Asia/Phnom_Penh', 'Asia/Macao', 'ROC', 'GB', 'America/Belem', 'America/Cayman', 'Asia/Manila', 'Pacific/Ponape', 'Canada/Central', 'Asia/Makassar', 'UCT', 'Pacific/Fiji', 'America/Argentina/San_Luis', 'Chile/Continental', 'Egypt', 'America/Louisville', 'Brazil/East', 'America/Bogota', 'Pacific/Yap', 'America/Eirunepe', 'Europe/Podgorica', 'Asia/Damascus', 'Africa/Nouakchott', 'Asia/Katmandu', 'Brazil/West', 'Europe/Isle_of_Man', 'Asia/Chungking', 'Africa/Dar_es_Salaam', 'America/Montserrat', 'Israel', 'Etc/GMT+9', 'America/Rankin_Inlet', 'Asia/Tokyo', 'Etc/Greenwich', 'America/Asuncion', 'America/Port-au-Prince', 'GB-Eire', 'Antarctica/Davis', 'Africa/Asmera', 'Atlantic/Reykjavik', 'America/Santo_Domingo', 'Antarctica/Macquarie', 'Europe/Berlin', 'Etc/GMT-2', 'Pacific/Honolulu', 'Canada/Newfoundland', 'Europe/Malta', 'WET', 'America/Matamoros', 'Asia/Ashgabat', 'Africa/Douala', 'America/Argentina/Rio_Gallegos', 'Asia/Tbilisi', 'Europe/Kyiv', 'Antarctica/South_Pole', 'Europe/Busingen', 'Etc/GMT', 'PST8PDT', 'Asia/Rangoon', 'Etc/GMT+4', 'America/Caracas', 'Pacific/Efate', 'Asia/Hebron', 'America/Regina', 'America/Resolute', 'Africa/Addis_Ababa', 'Indian/Mayotte', 'America/Goose_Bay', 'Asia/Jakarta', 'Asia/Brunei', 'Pacific/Easter', 'America/Tegucigalpa', 'America/Whitehorse', 'Africa/Gaborone', 'Europe/Vatican', 'America/Scoresbysund', 'America/Glace_Bay', 'Pacific/Kwajalein', 'Asia/Chongqing', 'America/Marigot', 'Asia/Qostanay', 'America/Punta_Arenas', 'Asia/Kamchatka', 'Atlantic/Jan_Mayen', 'Atlantic/South_Georgia', 'America/Argentina/Buenos_Aires', 'America/Martinique', 'Asia/Amman', 'Asia/Karachi', 'Europe/Nicosia', 'Pacific/Gambier', 'Etc/GMT-8', 'Europe/Moscow', 'US/Arizona', 'America/Boa_Vista', 'Etc/GMT-12', 'Etc/Zulu', 'Asia/Srednekolymsk', 'PRC', 'America/Danmarkshavn', 'America/St_Johns', 'Etc/GMT+5', 'EET', 'America/Moncton', 'Etc/GMT-4', 'Africa/Conakry', 'Asia/Pyongyang', 'Turkey', 'Australia/Lindeman', 'Antarctica/Mawson', 'Africa/Khartoum', 'Asia/Riyadh', 'US/Indiana-Starke', 'America/North_Dakota/Center', 'Africa/Kigali', 'Asia/Muscat', 'Africa/Nairobi', 'MST7MDT', 'America/Ciudad_Juarez', 'Asia/Sakhalin', 'Australia/West', 'Etc/GMT+3', 'Europe/Andorra', 'America/Argentina/Jujuy', 'Asia/Calcutta', 'America/Cordoba', 'Pacific/Samoa', 'Pacific/Noumea', 'US/Hawaii', 'Asia/Kuwait', 'Asia/Seoul', 'Etc/GMT-13', 'America/Los_Angeles', 'Africa/Algiers', 'Chile/EasterIsland', 'America/Virgin', 'Asia/Beirut', 'Asia/Barnaul', 'America/Manaus', 'America/Barbados', 'America/Indiana/Petersburg', 'Pacific/Nauru', 'America/Jujuy', 'Asia/Dushanbe', 'Canada/Atlantic', 'Etc/GMT+0', 'Antarctica/Rothera', 'Europe/Belfast', 'America/Cambridge_Bay', 'Iceland', 'Africa/Maseru', 'Atlantic/Faroe', 'GMT', 'Asia/Novosibirsk', 'America/El_Salvador', 'Asia/Novokuznetsk', 'America/Hermosillo', 'America/St_Vincent', 'Pacific/Port_Moresby', 'Asia/Jayapura', 'America/Mendoza', 'Africa/Mogadishu', 'Asia/Dubai', 'Asia/Samarkand', 'Europe/Copenhagen', 'America/Araguaina', 'America/Campo_Grande', 'Asia/Ujung_Pandang', 'Etc/GMT0', 'GMT+0', 'Australia/Tasmania', 'America/Argentina/Mendoza', 'Cuba', 'Pacific/Kanton', 'Asia/Tel_Aviv', 'Asia/Ust-Nera', 'Africa/Dakar', 'Asia/Saigon', 'Pacific/Pohnpei', 'America/Atka', 'America/Costa_Rica', 'America/Dominica', 'Australia/Eucla', 'Etc/UCT', 'Europe/Tallinn', 'MST', 'Africa/Libreville', 'America/Metlakatla', 'EST5EDT', 'Asia/Kathmandu', 'Africa/Windhoek', 'Asia/Macau', 'Antarctica/Vostok', 'Pacific/Pitcairn', 'America/Cuiaba', 'America/Miquelon', 'Asia/Qyzylorda', 'Europe/Kiev', 'Etc/GMT-9', 'America/Monterrey', 'Mexico/BajaNorte', 'Asia/Omsk', 'America/Cancun', 'Pacific/Wake', 'Asia/Kuala_Lumpur', 'Australia/Darwin', 'Australia/Lord_Howe', 'Singapore', 'America/Santa_Isabel', 'Asia/Tomsk', 'Asia/Baku', 'America/Iqaluit', 'Asia/Dili', 'America/Lower_Princes', 'America/Havana', 'Europe/Kaliningrad', 'Europe/Vilnius', 'Hongkong', 'America/Nipigon', 'Asia/Vladivostok', 'Australia/Perth', 'Europe/Zaporozhye', 'America/Vancouver', 'UTC', 'America/Ojinaga', 'Asia/Vientiane', 'Europe/Riga', 'Europe/Lisbon', 'Asia/Dacca', 'America/Thule', 'GMT-0', 'America/Rosario', 'Etc/GMT-1', 'Europe/Budapest', 'Asia/Ho_Chi_Minh', 'Europe/Prague', 'Europe/Uzhgorod', 'America/Indiana/Vevay', 'Asia/Baghdad', 'Europe/Simferopol', 'America/Argentina/Tucuman', 'America/Atikokan', 'Europe/Zurich', 'America/Chihuahua', 'America/Detroit', 'US/Samoa', 'Mexico/General', 'Brazil/DeNoronha', 'US/Pacific', 'Africa/El_Aaiun', 'Canada/Yukon', 'Indian/Maldives', 'Pacific/Funafuti', 'Atlantic/Madeira', 'America/Grand_Turk', 'Asia/Irkutsk', 'Europe/San_Marino', 'Indian/Christmas', 'Europe/Ljubljana', 'W-SU', 'Pacific/Guadalcanal', 'America/Curacao', 'Asia/Tehran', 'America/Indiana/Marengo', 'Etc/GMT-0', 'Etc/GMT+12', 'Africa/Freetown', 'Asia/Colombo', 'America/Tijuana', 'Pacific/Johnston', 'Asia/Bahrain', 'America/La_Paz', 'Etc/GMT+8', 'Etc/GMT-7', 'Asia/Tashkent', 'Etc/GMT+2', 'America/Chicago', 'Brazil/Acre', 'Pacific/Fakaofo', 'Asia/Harbin', 'America/Fort_Wayne', 'America/Montevideo', 'Antarctica/McMurdo', 'Australia/Currie', 'America/Fort_Nelson', 'Asia/Gaza', 'America/Yakutat', 'America/North_Dakota/Beulah', 'America/Belize', 'Kwajalein', 'America/Phoenix', 'Zulu', 'Asia/Kabul', 'Europe/Brussels', 'NZ', 'Canada/Pacific', 'Europe/Dublin', 'America/Sitka', 'Pacific/Guam', 'Europe/Volgograd', 'Pacific/Chuuk', 'America/Pangnirtung', 'Etc/UTC', 'America/Indianapolis', 'Europe/London', 'Pacific/Chatham', 'Etc/GMT+10', 'Africa/Maputo', 'Pacific/Tahiti', 'Europe/Warsaw', 'America/Creston', 'Africa/Timbuktu', 'Pacific/Niue', 'America/Indiana/Indianapolis', 'Antarctica/Casey', 'Asia/Krasnoyarsk', 'Canada/Mountain', 'Etc/GMT-3', 'Africa/Kampala', 'America/Adak', 'Asia/Hong_Kong', 'Navajo', 'Australia/Yancowinna', 'America/Dawson', 'Europe/Vaduz', 'America/Toronto', 'America/Kralendijk', 'Pacific/Bougainville', 'HST', 'NZ-CHAT', 'America/Rainy_River', 'Europe/Sofia', 'Africa/Asmara', 'America/Nome', 'Pacific/Kosrae', 'Asia/Magadan', 'Etc/GMT+11', 'America/Sao_Paulo', 'Australia/Canberra', 'Asia/Bishkek', 'Portugal', 'Asia/Yekaterinburg', 'America/Anguilla', 'Asia/Pontianak', 'Australia/Victoria', 'Europe/Mariehamn', 'America/Coral_Harbour', 'Asia/Dhaka', 'Europe/Belgrade', 'Asia/Bangkok', 'America/Grenada', 'America/Fortaleza', 'Universal', 'Asia/Oral', 'Eire', 'Etc/GMT-5', 'US/Mountain', 'Asia/Istanbul', 'Europe/Gibraltar', 'Asia/Thimbu', 'Asia/Ashkhabad', 'Pacific/Majuro', 'America/Panama', 'America/Aruba', 'Pacific/Tarawa', 'America/Argentina/La_Rioja', 'Etc/GMT-10', 'Greenwich', 'America/Recife', 'Asia/Aden', 'Africa/Ceuta', 'America/Yellowknife', 'Pacific/Wallis', 'America/Thunder_Bay', 'Europe/Athens', 'Europe/Kirov', 'Europe/Zagreb', 'Australia/Broken_Hill', 'Europe/Rome', 'Africa/Bangui', 'Pacific/Auckland', 'America/North_Dakota/New_Salem', 'America/Santarem', 'Australia/North', 'America/Cayenne', 'ROK', 'America/Argentina/San_Juan', 'Libya', 'Australia/Sydney', 'Pacific/Midway', 'Africa/Ndjamena', 'Indian/Mauritius', 'Australia/Hobart', 'Europe/Monaco', 'Australia/NSW', 'Africa/Cairo', 'Asia/Hovd', 'Asia/Khandyga', 'Asia/Almaty', 'Asia/Singapore', 'Asia/Yakutsk', 'America/Inuvik', 'Africa/Banjul', 'EST', 'Indian/Antananarivo', 'America/Rio_Branco', 'Asia/Jerusalem', 'Australia/ACT', 'US/Alaska', 'America/Managua', 'Mexico/BajaSur', 'Africa/Kinshasa', 'America/Indiana/Vincennes', 'Europe/Stockholm', 'Africa/Mbabane', 'America/Buenos_Aires', 'America/Guyana', 'America/Nassau', 'Africa/Tripoli', 'America/Argentina/Salta', 'Indian/Cocos', 'America/Bahia_Banderas', 'America/Indiana/Knox', 'America/Tortola', 'Africa/Lusaka', 'Africa/Abidjan', 'Europe/Ulyanovsk', 'Asia/Anadyr', 'Pacific/Palau', 'Asia/Qatar', 'America/Nuuk', 'Indian/Chagos', 'America/Guadeloupe', 'Asia/Aqtau', 'Europe/Bratislava', 'CET', 'Africa/Brazzaville', 'Australia/Adelaide', 'Europe/Skopje', 'America/Lima', 'Africa/Sao_Tome', 'America/Indiana/Winamac', 'Etc/GMT-14', 'Africa/Tunis', 'Canada/Saskatchewan', 'Atlantic/Stanley', 'Antarctica/Syowa', 'Pacific/Truk', 'America/Porto_Acre', 'Europe/Bucharest', 'Canada/Eastern', 'Pacific/Norfolk', 'Etc/Universal', 'Iran', 'Europe/Amsterdam', 'America/Kentucky/Monticello', 'Poland', 'America/Swift_Current', 'America/Blanc-Sablon', 'America/St_Barthelemy', 'America/St_Lucia', 'Europe/Sarajevo', 'Africa/Ouagadougou', 'Europe/Jersey', 'Jamaica', 'America/Halifax', 'Australia/Queensland', 'America/Mazatlan', 'Asia/Nicosia', 'Africa/Monrovia', 'Europe/Oslo', 'America/Santiago', 'Atlantic/Bermuda', 'Europe/Vienna', 'America/Ensenada', 'Asia/Kashgar', 'Europe/Chisinau', 'Asia/Taipei', 'Africa/Luanda', 'Africa/Lubumbashi', 'Pacific/Saipan', 'Africa/Harare', 'Pacific/Rarotonga', 'Indian/Kerguelen', 'Etc/GMT-6', 'Antarctica/DumontDUrville', 'Indian/Mahe', 'America/Winnipeg', 'America/Guatemala', 'America/Edmonton', 'Indian/Comoro', 'Asia/Urumqi', 'America/Argentina/ComodRivadavia', 'America/St_Thomas', 'Atlantic/Cape_Verde', 'Etc/GMT+7', 'Europe/Tirane', 'US/East-Indiana', 'America/Mexico_City', 'Atlantic/Faeroe', 'America/Shiprock', 'America/Argentina/Ushuaia', 'Asia/Aqtobe', 'Etc/GMT+6', 'America/Anchorage', 'Japan', 'Asia/Atyrau', 'Europe/Helsinki', 'Africa/Bissau', 'Africa/Djibouti', 'Australia/Brisbane', 'America/Bahia', 'Australia/Melbourne', 'Pacific/Marquesas', 'America/St_Kitts', 'America/Indiana/Tell_City', 'America/Juneau', 'Arctic/Longyearbyen', 'America/Menominee', 'America/Puerto_Rico', 'US/Michigan', 'US/Central', 'Asia/Kolkata', 'America/Montreal', 'Pacific/Apia', 'Europe/Luxembourg']\n"
          ]
        }
      ]
    },
    {
      "cell_type": "code",
      "source": [
        "# procura pelos time zones do Brasil\n",
        "for each in lista_tz:\n",
        "  if each.find('Brazil/') == -1:\n",
        "    continue\n",
        "  else:\n",
        "    print(each)"
      ],
      "metadata": {
        "colab": {
          "base_uri": "https://localhost:8080/"
        },
        "id": "1bBZKnRdHh1w",
        "outputId": "a8a82ea5-f3ee-4416-d2d6-3394a3599cd3"
      },
      "execution_count": 14,
      "outputs": [
        {
          "output_type": "stream",
          "name": "stdout",
          "text": [
            "Brazil/East\n",
            "Brazil/West\n",
            "Brazil/DeNoronha\n",
            "Brazil/Acre\n"
          ]
        }
      ]
    },
    {
      "cell_type": "code",
      "source": [
        "for each in lista_tz:\n",
        "  if each.find('America/') == -1:\n",
        "    continue\n",
        "  else:\n",
        "    print(each)"
      ],
      "metadata": {
        "id": "K3wKomJSJF-y"
      },
      "execution_count": null,
      "outputs": []
    },
    {
      "cell_type": "markdown",
      "source": [
        "###  Converter uma data e hora de um fuso horário para outro"
      ],
      "metadata": {
        "id": "-l8xP7yGG3MY"
      }
    },
    {
      "cell_type": "code",
      "source": [
        "from datetime import datetime\n",
        "from pytz import timezone\n",
        "\n",
        "fuso_origem = timezone('America/New_York')  # Fuso horário de Nova York\n",
        "fuso_destino = timezone('Europe/London')  # Fuso horário de Londres\n",
        "\n",
        "data_hora_origem = datetime(2023, 5, 8, 10, 0, 0, tzinfo=fuso_origem)\n",
        "data_hora_destino = data_hora_origem.astimezone(fuso_destino)\n",
        "\n",
        "print(data_hora_destino)  # Output: 2023-05-08 15:00:00+01:00"
      ],
      "metadata": {
        "colab": {
          "base_uri": "https://localhost:8080/"
        },
        "id": "S2yA23kKGlEC",
        "outputId": "d5509bed-997b-4479-f8c0-f67a512f82d8"
      },
      "execution_count": 5,
      "outputs": [
        {
          "output_type": "stream",
          "name": "stdout",
          "text": [
            "2023-05-08 15:56:00+01:00\n"
          ]
        }
      ]
    },
    {
      "cell_type": "code",
      "source": [
        "import datetime\n",
        "time_zone = pytz.timezone('Brazil/East')\n",
        "ct = datetime.datetime.now(tz=time_zone)\n",
        "print(type(ct))\n",
        "print(ct.isoformat())\n"
      ],
      "metadata": {
        "colab": {
          "base_uri": "https://localhost:8080/"
        },
        "id": "E8kedfhYHSea",
        "outputId": "3f54fb2d-b6d3-433c-d52b-57669067805d"
      },
      "execution_count": 20,
      "outputs": [
        {
          "output_type": "stream",
          "name": "stdout",
          "text": [
            "<class 'datetime.datetime'>\n",
            "2023-05-30T11:53:56.263631-03:00\n"
          ]
        }
      ]
    },
    {
      "cell_type": "code",
      "source": [],
      "metadata": {
        "id": "1o0sokvSJfGl"
      },
      "execution_count": null,
      "outputs": []
    }
  ]
}