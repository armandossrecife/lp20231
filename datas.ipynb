{
  "nbformat": 4,
  "nbformat_minor": 0,
  "metadata": {
    "colab": {
      "provenance": [],
      "authorship_tag": "ABX9TyOVMLcnKKgylKUW+s2Bx4FX",
      "include_colab_link": true
    },
    "kernelspec": {
      "name": "python3",
      "display_name": "Python 3"
    },
    "language_info": {
      "name": "python"
    }
  },
  "cells": [
    {
      "cell_type": "markdown",
      "metadata": {
        "id": "view-in-github",
        "colab_type": "text"
      },
      "source": [
        "<a href=\"https://colab.research.google.com/github/armandossrecife/lp20231/blob/main/datas.ipynb\" target=\"_parent\"><img src=\"https://colab.research.google.com/assets/colab-badge.svg\" alt=\"Open In Colab\"/></a>"
      ]
    },
    {
      "cell_type": "markdown",
      "source": [
        "# Datas em Python\n",
        "\n",
        "https://docs.python.org/3/library/datetime.html"
      ],
      "metadata": {
        "id": "kxWLCQY9cAsp"
      }
    },
    {
      "cell_type": "code",
      "source": [
        "# The datetime module supplies classes for manipulating dates and times.\n",
        "import datetime"
      ],
      "metadata": {
        "id": "SqBoaAu6cIBW"
      },
      "execution_count": 56,
      "outputs": []
    },
    {
      "cell_type": "code",
      "source": [
        "hoje = datetime.datetime.now()\n",
        "print(hoje)"
      ],
      "metadata": {
        "colab": {
          "base_uri": "https://localhost:8080/"
        },
        "id": "b8c-GO2rcVO3",
        "outputId": "75be651c-3e14-4555-e730-2cfd4c44c1b1"
      },
      "execution_count": 57,
      "outputs": [
        {
          "output_type": "stream",
          "name": "stdout",
          "text": [
            "2023-05-29 12:40:28.764917\n"
          ]
        }
      ]
    },
    {
      "cell_type": "code",
      "source": [
        "data_hoje = datetime.datetime.now()"
      ],
      "metadata": {
        "id": "BpBY7sAudfC3"
      },
      "execution_count": 58,
      "outputs": []
    },
    {
      "cell_type": "markdown",
      "source": [
        "Formatar uma data\n",
        "https://docs.python.org/3/library/datetime.html#strftime-strptime-behavior"
      ],
      "metadata": {
        "id": "FYHFvazjiDfJ"
      }
    },
    {
      "cell_type": "code",
      "source": [
        "# formatando a data (via strftime(..))\n",
        "data_hoje_formatada = data_hoje.strftime(\"%d/%m/%y\")\n",
        "print(data_hoje_formatada)"
      ],
      "metadata": {
        "colab": {
          "base_uri": "https://localhost:8080/"
        },
        "id": "QTnguaXSc-kE",
        "outputId": "36cb15ca-108c-4a2a-d68b-da7567f616bc"
      },
      "execution_count": 59,
      "outputs": [
        {
          "output_type": "stream",
          "name": "stdout",
          "text": [
            "29/05/23\n"
          ]
        }
      ]
    },
    {
      "cell_type": "code",
      "source": [
        "# formatando a data (via strftime(..))\n",
        "data_hoje_formatada = data_hoje.strftime(\"%d/%m/%Y\")\n",
        "print(data_hoje_formatada)"
      ],
      "metadata": {
        "colab": {
          "base_uri": "https://localhost:8080/"
        },
        "id": "N6nWi0eJdQ8c",
        "outputId": "d0a79bac-4ab7-4a1d-ea12-05b5550510a0"
      },
      "execution_count": 60,
      "outputs": [
        {
          "output_type": "stream",
          "name": "stdout",
          "text": [
            "29/05/2023\n"
          ]
        }
      ]
    },
    {
      "cell_type": "code",
      "source": [
        "# formatando a data (via strftime(..))\n",
        "data_hoje_formatada = data_hoje.strftime(\"%d/%m/%Y %H:%M:%S\")\n",
        "print(data_hoje_formatada)"
      ],
      "metadata": {
        "colab": {
          "base_uri": "https://localhost:8080/"
        },
        "id": "VsRHpmUidUzk",
        "outputId": "d506cf32-5afb-4c7a-a90b-08a0a708b758"
      },
      "execution_count": 61,
      "outputs": [
        {
          "output_type": "stream",
          "name": "stdout",
          "text": [
            "29/05/2023 12:40:41\n"
          ]
        }
      ]
    },
    {
      "cell_type": "code",
      "source": [
        "# Obter apenas a data atual (operação mais comum)\n",
        "data_atual = datetime.date.today()\n",
        "print(\"Data atual:\", data_atual)"
      ],
      "metadata": {
        "colab": {
          "base_uri": "https://localhost:8080/"
        },
        "id": "fk5657mZd9bS",
        "outputId": "03c85e38-2486-4125-bebd-6c2db81b58ab"
      },
      "execution_count": 62,
      "outputs": [
        {
          "output_type": "stream",
          "name": "stdout",
          "text": [
            "Data atual: 2023-05-29\n"
          ]
        }
      ]
    },
    {
      "cell_type": "code",
      "source": [
        "data_atual_formatada = data_atual.strftime(\"%d/%m/%Y\")\n",
        "print(data_atual_formatada)"
      ],
      "metadata": {
        "colab": {
          "base_uri": "https://localhost:8080/"
        },
        "id": "opsFPT5keDYh",
        "outputId": "d915ff93-446c-4b9a-e052-113428773efb"
      },
      "execution_count": 63,
      "outputs": [
        {
          "output_type": "stream",
          "name": "stdout",
          "text": [
            "29/05/2023\n"
          ]
        }
      ]
    },
    {
      "cell_type": "code",
      "source": [
        "# Obter apenas o horário atual\n",
        "horario_atual = datetime.datetime.now().time()\n",
        "print(\"Horário atual:\", horario_atual)"
      ],
      "metadata": {
        "colab": {
          "base_uri": "https://localhost:8080/"
        },
        "id": "XC11Jsjzc5L3",
        "outputId": "7b5c86cf-28e4-4be4-e4ee-f5af57438543"
      },
      "execution_count": 65,
      "outputs": [
        {
          "output_type": "stream",
          "name": "stdout",
          "text": [
            "Horário atual: 12:41:19.390370\n"
          ]
        }
      ]
    },
    {
      "cell_type": "code",
      "source": [
        "horario_atual_formatado = horario_atual.strftime(\"%H:%M:%S\")\n",
        "print(horario_atual_formatado)"
      ],
      "metadata": {
        "colab": {
          "base_uri": "https://localhost:8080/"
        },
        "id": "TwM9p9odeMy6",
        "outputId": "b188ea43-d925-4df8-b1aa-57d2abb1f21d"
      },
      "execution_count": 66,
      "outputs": [
        {
          "output_type": "stream",
          "name": "stdout",
          "text": [
            "12:41:19\n"
          ]
        }
      ]
    },
    {
      "cell_type": "code",
      "source": [
        "# Criar uma data específica\n",
        "data_exemplo = datetime.date(2023, 5, 1)\n",
        "print(\"Exemplo de data:\", data_exemplo)"
      ],
      "metadata": {
        "colab": {
          "base_uri": "https://localhost:8080/"
        },
        "id": "OwXKxSLheZ6d",
        "outputId": "c98ae54f-f500-4e89-86c9-bce5dbf5953c"
      },
      "execution_count": 67,
      "outputs": [
        {
          "output_type": "stream",
          "name": "stdout",
          "text": [
            "Exemplo de data: 2023-05-01\n"
          ]
        }
      ]
    },
    {
      "cell_type": "code",
      "source": [
        "# Criar um horário específico\n",
        "horario_exemplo = datetime.time(12, 30, 45)\n",
        "print(\"Exemplo de horário:\", horario_exemplo)"
      ],
      "metadata": {
        "colab": {
          "base_uri": "https://localhost:8080/"
        },
        "id": "kyhp8mnoed1a",
        "outputId": "c8a3bdb5-831c-4c61-85ef-02b5d4cf237c"
      },
      "execution_count": 68,
      "outputs": [
        {
          "output_type": "stream",
          "name": "stdout",
          "text": [
            "Exemplo de horário: 12:30:45\n"
          ]
        }
      ]
    },
    {
      "cell_type": "code",
      "source": [
        "# Adicionar dias a uma data\n",
        "data_futura = data_atual + datetime.timedelta(days=7)\n",
        "print(f\"Data atual: {data_atual}\")\n",
        "print(\"Data daqui a uma semana:\", data_futura)"
      ],
      "metadata": {
        "colab": {
          "base_uri": "https://localhost:8080/"
        },
        "id": "w2y7W8mBeutt",
        "outputId": "183b46ba-1501-4c08-8ca4-15529381f213"
      },
      "execution_count": 69,
      "outputs": [
        {
          "output_type": "stream",
          "name": "stdout",
          "text": [
            "Data atual: 2023-05-29\n",
            "Data daqui a uma semana: 2023-06-05\n"
          ]
        }
      ]
    },
    {
      "cell_type": "code",
      "source": [
        "# Adicionar dias a uma data\n",
        "data_passada = data_atual + datetime.timedelta(days=-8)\n",
        "print(f\"Data atual: {data_atual}\")\n",
        "print(\"Data 8 dias no passado:\", data_passada)"
      ],
      "metadata": {
        "colab": {
          "base_uri": "https://localhost:8080/"
        },
        "id": "-lVXN5NueytS",
        "outputId": "1fb3104d-e20a-45c3-d683-09d8a1efd762"
      },
      "execution_count": 70,
      "outputs": [
        {
          "output_type": "stream",
          "name": "stdout",
          "text": [
            "Data atual: 2023-05-29\n",
            "Data 8 dias no passado: 2023-05-21\n"
          ]
        }
      ]
    },
    {
      "cell_type": "code",
      "execution_count": 53,
      "metadata": {
        "colab": {
          "base_uri": "https://localhost:8080/"
        },
        "id": "j39GZ4FGaPKO",
        "outputId": "a883c30b-8c55-4e0e-c4be-b0f6b971451b"
      },
      "outputs": [
        {
          "output_type": "stream",
          "name": "stdout",
          "text": [
            "Monday\n"
          ]
        }
      ],
      "source": [
        "# data de nascimento\n",
        "data_nascimento = datetime.date(1979, 2, 19)\n",
        "print(data_nascimento.strftime(\"%A\"))"
      ]
    },
    {
      "cell_type": "code",
      "source": [
        "# Calcular a diferença entre duas datas\n",
        "diferenca = data_atual - data_nascimento\n",
        "print(\"Diferença entre as datas:\", diferenca)"
      ],
      "metadata": {
        "colab": {
          "base_uri": "https://localhost:8080/"
        },
        "id": "anfO5zWdgjdT",
        "outputId": "4f7cadad-4bfb-4fa1-a133-964e6045d743"
      },
      "execution_count": 54,
      "outputs": [
        {
          "output_type": "stream",
          "name": "stdout",
          "text": [
            "Diferença entre as datas: 16170 days, 0:00:00\n"
          ]
        }
      ]
    },
    {
      "cell_type": "code",
      "source": [
        "# Calcular a idade\n",
        "idade = int(diferenca.days / 365.25)\n",
        "# 365.25 devido aos anos bissextos\n",
        "print(\"Idade:\", idade)"
      ],
      "metadata": {
        "colab": {
          "base_uri": "https://localhost:8080/"
        },
        "id": "84IVT4JMf_GF",
        "outputId": "83d591f2-2917-449f-edd9-c91b5e09462b"
      },
      "execution_count": 55,
      "outputs": [
        {
          "output_type": "stream",
          "name": "stdout",
          "text": [
            "Idade: 44\n"
          ]
        }
      ]
    }
  ]
}