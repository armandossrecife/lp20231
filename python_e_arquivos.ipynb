{
  "nbformat": 4,
  "nbformat_minor": 0,
  "metadata": {
    "colab": {
      "provenance": [],
      "authorship_tag": "ABX9TyN4ihpHlSHkfczCzLbmT/YL",
      "include_colab_link": true
    },
    "kernelspec": {
      "name": "python3",
      "display_name": "Python 3"
    },
    "language_info": {
      "name": "python"
    }
  },
  "cells": [
    {
      "cell_type": "markdown",
      "metadata": {
        "id": "view-in-github",
        "colab_type": "text"
      },
      "source": [
        "<a href=\"https://colab.research.google.com/github/armandossrecife/lp20231/blob/main/python_e_arquivos.ipynb\" target=\"_parent\"><img src=\"https://colab.research.google.com/assets/colab-badge.svg\" alt=\"Open In Colab\"/></a>"
      ]
    },
    {
      "cell_type": "markdown",
      "source": [
        "# Escrevendo em um arquivo texto"
      ],
      "metadata": {
        "id": "QVXwBMr0y1By"
      }
    },
    {
      "cell_type": "code",
      "source": [
        "meu_arquivo = open('teste.txt', 'a')"
      ],
      "metadata": {
        "id": "iC1WEmXg4Bdd"
      },
      "execution_count": null,
      "outputs": []
    },
    {
      "cell_type": "code",
      "source": [
        "!ls -lia"
      ],
      "metadata": {
        "id": "C8tbNmx44sVd",
        "outputId": "a7e52064-ad3d-47d8-97bc-ed8dea33c24a",
        "colab": {
          "base_uri": "https://localhost:8080/"
        }
      },
      "execution_count": null,
      "outputs": [
        {
          "output_type": "stream",
          "name": "stdout",
          "text": [
            "total 16\n",
            " 524294 drwxr-xr-x 1 root root 4096 Jun  6 18:03 .\n",
            "5636107 drwxr-xr-x 1 root root 4096 Jun  6 18:02 ..\n",
            "3014663 drwxr-xr-x 4 root root 4096 Jun  5 16:30 .config\n",
            " 524295 drwxr-xr-x 1 root root 4096 Jun  5 16:31 sample_data\n",
            "5636150 -rw-r--r-- 1 root root    0 Jun  6 18:03 teste.txt\n"
          ]
        }
      ]
    },
    {
      "cell_type": "code",
      "source": [
        "!lsb_release -a"
      ],
      "metadata": {
        "id": "wcYv6xgC4zGA",
        "outputId": "dae64f4e-65e2-444b-84fc-268a8b4bcb49",
        "colab": {
          "base_uri": "https://localhost:8080/"
        }
      },
      "execution_count": null,
      "outputs": [
        {
          "output_type": "stream",
          "name": "stdout",
          "text": [
            "No LSB modules are available.\n",
            "Distributor ID:\tUbuntu\n",
            "Description:\tUbuntu 20.04.5 LTS\n",
            "Release:\t20.04\n",
            "Codename:\tfocal\n"
          ]
        }
      ]
    },
    {
      "cell_type": "code",
      "source": [
        "meu_arquivo.write(\"xxx\")"
      ],
      "metadata": {
        "colab": {
          "base_uri": "https://localhost:8080/"
        },
        "id": "jmwArPWZx189",
        "outputId": "d09b88ae-c5a7-4983-ccfb-82f5b175020f"
      },
      "execution_count": null,
      "outputs": [
        {
          "output_type": "execute_result",
          "data": {
            "text/plain": [
              "3"
            ]
          },
          "metadata": {},
          "execution_count": 8
        }
      ]
    },
    {
      "cell_type": "code",
      "source": [
        "!cat teste.txt"
      ],
      "metadata": {
        "id": "ndg327wG5nIL"
      },
      "execution_count": null,
      "outputs": []
    },
    {
      "cell_type": "code",
      "source": [
        "meu_arquivo.close()"
      ],
      "metadata": {
        "id": "ZiJMa5WYx8Fv"
      },
      "execution_count": null,
      "outputs": []
    },
    {
      "cell_type": "code",
      "source": [
        "!ls -lia"
      ],
      "metadata": {
        "colab": {
          "base_uri": "https://localhost:8080/"
        },
        "id": "UZIPzaj3x-qw",
        "outputId": "bf2389cb-cd71-4d65-c93e-b6c8cabfc7f9"
      },
      "execution_count": null,
      "outputs": [
        {
          "output_type": "stream",
          "name": "stdout",
          "text": [
            "total 24\n",
            "5898246 drwxr-xr-x 1 root root 4096 Jun  5 20:04 .\n",
            "5898256 drwxr-xr-x 1 root root 4096 Jun  5 18:16 ..\n",
            "3670023 drwxr-xr-x 4 root root 4096 Jun  2 13:38 .config\n",
            "5898299 drwxr-xr-x 2 root root 4096 Jun  5 20:04 .ipynb_checkpoints\n",
            "5898247 drwxr-xr-x 1 root root 4096 Jun  2 13:39 sample_data\n",
            "5898312 -rw-r--r-- 1 root root    3 Jun  5 20:06 teste.txt\n"
          ]
        }
      ]
    },
    {
      "cell_type": "code",
      "source": [
        "!cat teste.txt"
      ],
      "metadata": {
        "colab": {
          "base_uri": "https://localhost:8080/"
        },
        "id": "s3aMseyUyAJL",
        "outputId": "471a7eb7-96e9-4ef7-ef7d-9865e2a4f758"
      },
      "execution_count": null,
      "outputs": [
        {
          "output_type": "stream",
          "name": "stdout",
          "text": [
            "xxx"
          ]
        }
      ]
    },
    {
      "cell_type": "code",
      "source": [
        "meu_arquivo = open('teste.txt', 'a')\n",
        "meu_arquivo.write(\"yyy\")\n",
        "meu_arquivo.close()"
      ],
      "metadata": {
        "id": "04oIP-ymyCvm"
      },
      "execution_count": null,
      "outputs": []
    },
    {
      "cell_type": "code",
      "source": [
        "!cat teste.txt"
      ],
      "metadata": {
        "colab": {
          "base_uri": "https://localhost:8080/"
        },
        "id": "T4ZlraXMyP9t",
        "outputId": "5f2e447d-7825-404e-bd4f-09fd67301713"
      },
      "execution_count": null,
      "outputs": [
        {
          "output_type": "stream",
          "name": "stdout",
          "text": [
            "xxxyyy"
          ]
        }
      ]
    },
    {
      "cell_type": "code",
      "source": [
        "meu_arquivo = open('teste.txt', 'a')\n",
        "meu_arquivo.write('\\nzzz')\n",
        "meu_arquivo.close()"
      ],
      "metadata": {
        "id": "YCcM8loUyShg"
      },
      "execution_count": null,
      "outputs": []
    },
    {
      "cell_type": "code",
      "source": [
        "def insere_conteudo(nome_arquivo, conteudo):\n",
        "  file_temp = open(nome_arquivo, 'a')\n",
        "  file_temp.write(conteudo)\n",
        "  file_temp.close() "
      ],
      "metadata": {
        "id": "lncmXWBS6mF7"
      },
      "execution_count": null,
      "outputs": []
    },
    {
      "cell_type": "code",
      "source": [
        "!ls -lia"
      ],
      "metadata": {
        "colab": {
          "base_uri": "https://localhost:8080/"
        },
        "id": "a5pPogbIycrq",
        "outputId": "6feaa88f-b0b2-4611-bfd6-55107c11b2cc"
      },
      "execution_count": null,
      "outputs": [
        {
          "output_type": "stream",
          "name": "stdout",
          "text": [
            "total 20\n",
            " 524294 drwxr-xr-x 1 root root 4096 Jun  6 18:03 .\n",
            "5636107 drwxr-xr-x 1 root root 4096 Jun  6 18:02 ..\n",
            "3014663 drwxr-xr-x 4 root root 4096 Jun  5 16:30 .config\n",
            " 524295 drwxr-xr-x 1 root root 4096 Jun  5 16:31 sample_data\n",
            "5636150 -rw-r--r-- 1 root root   10 Jun  6 18:13 teste.txt\n"
          ]
        }
      ]
    },
    {
      "cell_type": "code",
      "source": [
        "!cat teste.txt"
      ],
      "metadata": {
        "colab": {
          "base_uri": "https://localhost:8080/"
        },
        "id": "1jASmG7iyeSy",
        "outputId": "d6807978-4d15-4f25-cb42-12773b567150"
      },
      "execution_count": null,
      "outputs": [
        {
          "output_type": "stream",
          "name": "stdout",
          "text": [
            "xxxyyy\n",
            "zzz"
          ]
        }
      ]
    },
    {
      "cell_type": "code",
      "source": [
        "insere_conteudo('teste.txt', '\\nBem vindo a manipulação de dados txt no Python!')"
      ],
      "metadata": {
        "id": "B8FhD1Qd6_Qp"
      },
      "execution_count": null,
      "outputs": []
    },
    {
      "cell_type": "code",
      "source": [
        "!cat teste.txt"
      ],
      "metadata": {
        "id": "EmD6YvQm7X8x",
        "outputId": "5c7a55e5-f01f-4997-8584-d4bc34b5952c",
        "colab": {
          "base_uri": "https://localhost:8080/"
        }
      },
      "execution_count": null,
      "outputs": [
        {
          "output_type": "stream",
          "name": "stdout",
          "text": [
            "xxxyyy\n",
            "zzz\n",
            "Bem vindo a manipulação de dados txt no Python!"
          ]
        }
      ]
    },
    {
      "cell_type": "markdown",
      "source": [
        "# Lendo o conteúdo de um arquivo texto"
      ],
      "metadata": {
        "id": "p4ouFuqmy6LI"
      }
    },
    {
      "cell_type": "code",
      "source": [
        "meu_arquivo = open('teste.txt', mode='r')"
      ],
      "metadata": {
        "id": "sw7qcCmjMJFG"
      },
      "execution_count": null,
      "outputs": []
    },
    {
      "cell_type": "code",
      "source": [
        "conteudo = meu_arquivo.read()\n",
        "print(conteudo)\n",
        "meu_arquivo.close()"
      ],
      "metadata": {
        "colab": {
          "base_uri": "https://localhost:8080/"
        },
        "id": "KtGrKFgSyiMZ",
        "outputId": "1de58786-8272-492c-d5f1-7de4866d31cc"
      },
      "execution_count": null,
      "outputs": [
        {
          "output_type": "stream",
          "name": "stdout",
          "text": [
            "xxxyyy\n",
            "zzz\n",
            "Bem vindo a manipulação de dados txt no Python!\n"
          ]
        }
      ]
    },
    {
      "cell_type": "code",
      "source": [
        "def ler_conteudo(nome_arquivo):\n",
        "  file_temp = open(nome_arquivo, 'r')\n",
        "  conteudo_temp = file_temp.read()\n",
        "  file_temp.close()\n",
        "  return conteudo_temp"
      ],
      "metadata": {
        "id": "S3XYm7Qy8k_u"
      },
      "execution_count": null,
      "outputs": []
    },
    {
      "cell_type": "code",
      "source": [
        "print(ler_conteudo(nome_arquivo='teste.txt'), end='')"
      ],
      "metadata": {
        "id": "StdNz5St86gr",
        "outputId": "c5818f71-fb3d-44b4-c03e-aa5339735702",
        "colab": {
          "base_uri": "https://localhost:8080/"
        }
      },
      "execution_count": null,
      "outputs": [
        {
          "output_type": "stream",
          "name": "stdout",
          "text": [
            "xxxyyy\n",
            "zzz\n",
            "Bem vindo a manipulação de dados txt no Python!"
          ]
        }
      ]
    },
    {
      "cell_type": "code",
      "source": [
        "file = open('teste.txt', 'r')\n",
        "for linha in file:\n",
        "  print(linha, end='')\n",
        "file.close()"
      ],
      "metadata": {
        "colab": {
          "base_uri": "https://localhost:8080/"
        },
        "id": "NmFg66M1zGM-",
        "outputId": "42a893ef-2163-4171-ad22-b4ba169bd7fb"
      },
      "execution_count": null,
      "outputs": [
        {
          "output_type": "stream",
          "name": "stdout",
          "text": [
            "xxxyyy\n",
            "zzz"
          ]
        }
      ]
    },
    {
      "cell_type": "code",
      "source": [
        "!cat teste.txt"
      ],
      "metadata": {
        "colab": {
          "base_uri": "https://localhost:8080/"
        },
        "id": "AWn3ZuUbOaOy",
        "outputId": "e78140c8-7754-43ed-880e-6e9269d63d32"
      },
      "execution_count": null,
      "outputs": [
        {
          "output_type": "stream",
          "name": "stdout",
          "text": [
            "xxxyyy\n",
            "zzz"
          ]
        }
      ]
    },
    {
      "cell_type": "code",
      "source": [
        "!wget https://raw.githubusercontent.com/armandossrecife/teste/main/alunos_computacao.txt"
      ],
      "metadata": {
        "id": "OWMIWprEH9tA",
        "outputId": "1d8ef713-2491-4fba-cd6b-96ee7704c93f",
        "colab": {
          "base_uri": "https://localhost:8080/"
        }
      },
      "execution_count": null,
      "outputs": [
        {
          "output_type": "stream",
          "name": "stdout",
          "text": [
            "--2023-06-06 19:12:45--  https://raw.githubusercontent.com/armandossrecife/teste/main/alunos_computacao.txt\n",
            "Resolving raw.githubusercontent.com (raw.githubusercontent.com)... 185.199.110.133, 185.199.111.133, 185.199.108.133, ...\n",
            "Connecting to raw.githubusercontent.com (raw.githubusercontent.com)|185.199.110.133|:443... connected.\n",
            "HTTP request sent, awaiting response... 200 OK\n",
            "Length: 12149 (12K) [text/plain]\n",
            "Saving to: ‘alunos_computacao.txt’\n",
            "\n",
            "\ralunos_computacao.t   0%[                    ]       0  --.-KB/s               \ralunos_computacao.t 100%[===================>]  11.86K  --.-KB/s    in 0s      \n",
            "\n",
            "2023-06-06 19:12:45 (70.6 MB/s) - ‘alunos_computacao.txt’ saved [12149/12149]\n",
            "\n"
          ]
        }
      ]
    },
    {
      "cell_type": "code",
      "source": [
        "file = open('alunos_computacao.txt', 'r')\n",
        "for linha in file:\n",
        "  if linha.find('MARIA') != -1:\n",
        "    print(linha, end='')\n",
        "file.close()"
      ],
      "metadata": {
        "colab": {
          "base_uri": "https://localhost:8080/"
        },
        "id": "Y_bl0jbnyuCW",
        "outputId": "77a593d2-c5d4-4c5a-f6c3-5811f3f220a3"
      },
      "execution_count": null,
      "outputs": [
        {
          "output_type": "stream",
          "name": "stdout",
          "text": [
            "ANA MARIA FERNANDES TAVARES\n",
            "GIOVANNA MARIA RODRIGUES MOITA\n",
            "MARIA CLARA ALVES COELHO\n",
            "MARIA DO ROSARIO DE FATIMA MARTINS FERREIRA\n",
            "MARIA EDUARDA BARRADAS DE SOUSA\n",
            "MARIA EDUARDA MENDES LEITE\n",
            "MARIANA GOMES SANTOS DE SOUSA\n",
            "MARIANA GOMES SILVA DE CARVALHO FREITAS\n"
          ]
        }
      ]
    },
    {
      "cell_type": "markdown",
      "source": [
        "# Processo de manipulação de arquivos"
      ],
      "metadata": {
        "id": "BVOGP2ndzSA5"
      }
    },
    {
      "cell_type": "markdown",
      "source": [
        "1. Criar um recurso para manipular um arquivo\n",
        "2. Definir o modo (leitura/gravação) de manipulação do arquivo \n",
        "3. Realizar a operação sobre o recurso que aponta para o arquivo\n",
        "4. Fechar o recurso que aponta para o arquivo"
      ],
      "metadata": {
        "id": "lgwP3pPozVXy"
      }
    },
    {
      "cell_type": "markdown",
      "source": [
        "## Uso do bloco with para simplificar o processo de manipulação de arquivos"
      ],
      "metadata": {
        "id": "ZdcUcvjtz2Cv"
      }
    },
    {
      "cell_type": "code",
      "source": [
        "with open('teste.txt', 'r') as file:\n",
        "  conteudo = file.read()\n",
        "  print(conteudo)"
      ],
      "metadata": {
        "colab": {
          "base_uri": "https://localhost:8080/"
        },
        "id": "RijNhtR6z7rf",
        "outputId": "ee5f8e85-a991-4d1b-e947-b77f908454ed"
      },
      "execution_count": null,
      "outputs": [
        {
          "output_type": "stream",
          "name": "stdout",
          "text": [
            "xxxyyy\n",
            "zzz\n"
          ]
        }
      ]
    },
    {
      "cell_type": "markdown",
      "source": [
        "# Usando o modo write para sobrescrever um arquivo"
      ],
      "metadata": {
        "id": "iR9ve-hAPaoT"
      }
    },
    {
      "cell_type": "code",
      "source": [
        "file = open('teste2.txt', 'w')"
      ],
      "metadata": {
        "id": "7YX0MliI5J8i"
      },
      "execution_count": null,
      "outputs": []
    },
    {
      "cell_type": "code",
      "source": [
        "!ls -lia "
      ],
      "metadata": {
        "colab": {
          "base_uri": "https://localhost:8080/"
        },
        "id": "5mMc4bSaPiOX",
        "outputId": "14ff54a1-db6f-44e0-fc5d-ac7c4b75fa44"
      },
      "execution_count": null,
      "outputs": [
        {
          "output_type": "stream",
          "name": "stdout",
          "text": [
            "total 24\n",
            "5898246 drwxr-xr-x 1 root root 4096 Jun  5 20:27 .\n",
            "5898256 drwxr-xr-x 1 root root 4096 Jun  5 18:16 ..\n",
            "3670023 drwxr-xr-x 4 root root 4096 Jun  2 13:38 .config\n",
            "5898299 drwxr-xr-x 2 root root 4096 Jun  5 20:04 .ipynb_checkpoints\n",
            "5898247 drwxr-xr-x 1 root root 4096 Jun  2 13:39 sample_data\n",
            "5898313 -rw-r--r-- 1 root root    0 Jun  5 20:27 teste2.txt\n",
            "5898312 -rw-r--r-- 1 root root   10 Jun  5 20:17 teste.txt\n"
          ]
        }
      ]
    },
    {
      "cell_type": "code",
      "source": [
        "file.write('Nova linha teste')"
      ],
      "metadata": {
        "colab": {
          "base_uri": "https://localhost:8080/"
        },
        "id": "ZR6jZDBHPlWS",
        "outputId": "7a6b0527-659f-4103-b240-a80ee7fabb7b"
      },
      "execution_count": null,
      "outputs": [
        {
          "output_type": "execute_result",
          "data": {
            "text/plain": [
              "16"
            ]
          },
          "metadata": {},
          "execution_count": 33
        }
      ]
    },
    {
      "cell_type": "code",
      "source": [
        "file.close()"
      ],
      "metadata": {
        "id": "MUwDUYFPPrjE"
      },
      "execution_count": null,
      "outputs": []
    },
    {
      "cell_type": "code",
      "source": [
        "!cat teste2.txt"
      ],
      "metadata": {
        "colab": {
          "base_uri": "https://localhost:8080/"
        },
        "id": "FTko0PYVPtG8",
        "outputId": "dd8862de-a61a-410c-cdce-b5142371c256"
      },
      "execution_count": null,
      "outputs": [
        {
          "output_type": "stream",
          "name": "stdout",
          "text": [
            "Nova linha teste"
          ]
        }
      ]
    },
    {
      "cell_type": "code",
      "source": [
        "file = open('teste2.txt', 'w')\n",
        "file.write('Segunda linha...')\n",
        "file.close()"
      ],
      "metadata": {
        "id": "SZOefo_XPvXE"
      },
      "execution_count": null,
      "outputs": []
    },
    {
      "cell_type": "code",
      "source": [
        "!cat teste2.txt"
      ],
      "metadata": {
        "colab": {
          "base_uri": "https://localhost:8080/"
        },
        "id": "qm65a1CnP7YD",
        "outputId": "07248374-fd24-46c5-d6d7-2ac903ffc223"
      },
      "execution_count": null,
      "outputs": [
        {
          "output_type": "stream",
          "name": "stdout",
          "text": [
            "Segunda linha..."
          ]
        }
      ]
    },
    {
      "cell_type": "code",
      "source": [
        "!lsb_release -a"
      ],
      "metadata": {
        "colab": {
          "base_uri": "https://localhost:8080/"
        },
        "id": "NWfgn2B5QAgK",
        "outputId": "ed1e86d6-ddc9-4a86-fbfd-df3c49a4ba96"
      },
      "execution_count": null,
      "outputs": [
        {
          "output_type": "stream",
          "name": "stdout",
          "text": [
            "No LSB modules are available.\n",
            "Distributor ID:\tUbuntu\n",
            "Description:\tUbuntu 20.04.5 LTS\n",
            "Release:\t20.04\n",
            "Codename:\tfocal\n"
          ]
        }
      ]
    },
    {
      "cell_type": "code",
      "source": [
        "!ipconfig"
      ],
      "metadata": {
        "colab": {
          "base_uri": "https://localhost:8080/"
        },
        "id": "AytwOVHUQXkf",
        "outputId": "e44a4096-1060-43d9-966b-94e3223b871d"
      },
      "execution_count": null,
      "outputs": [
        {
          "output_type": "stream",
          "name": "stdout",
          "text": [
            "/bin/bash: ipconfig: command not found\n"
          ]
        }
      ]
    },
    {
      "cell_type": "code",
      "source": [
        "!sudo apt install tree"
      ],
      "metadata": {
        "colab": {
          "base_uri": "https://localhost:8080/"
        },
        "id": "0IKeb1jFQcPw",
        "outputId": "83c10d7e-cc3e-4360-9a87-8e7e742f83ff"
      },
      "execution_count": null,
      "outputs": [
        {
          "output_type": "stream",
          "name": "stdout",
          "text": [
            "Reading package lists... Done\n",
            "Building dependency tree       \n",
            "Reading state information... Done\n",
            "The following NEW packages will be installed:\n",
            "  tree\n",
            "0 upgraded, 1 newly installed, 0 to remove and 34 not upgraded.\n",
            "Need to get 43.0 kB of archives.\n",
            "After this operation, 115 kB of additional disk space will be used.\n",
            "Get:1 http://archive.ubuntu.com/ubuntu focal/universe amd64 tree amd64 1.8.0-1 [43.0 kB]\n",
            "Fetched 43.0 kB in 0s (148 kB/s)\n",
            "debconf: unable to initialize frontend: Dialog\n",
            "debconf: (No usable dialog-like program is installed, so the dialog based frontend cannot be used. at /usr/share/perl5/Debconf/FrontEnd/Dialog.pm line 76, <> line 1.)\n",
            "debconf: falling back to frontend: Readline\n",
            "debconf: unable to initialize frontend: Readline\n",
            "debconf: (This frontend requires a controlling tty.)\n",
            "debconf: falling back to frontend: Teletype\n",
            "dpkg-preconfigure: unable to re-open stdin: \n",
            "Selecting previously unselected package tree.\n",
            "(Reading database ... 122542 files and directories currently installed.)\n",
            "Preparing to unpack .../tree_1.8.0-1_amd64.deb ...\n",
            "Unpacking tree (1.8.0-1) ...\n",
            "Setting up tree (1.8.0-1) ...\n",
            "Processing triggers for man-db (2.9.1-1) ...\n"
          ]
        }
      ]
    },
    {
      "cell_type": "code",
      "source": [
        "!tree"
      ],
      "metadata": {
        "colab": {
          "base_uri": "https://localhost:8080/"
        },
        "id": "NtL8e73jQgWR",
        "outputId": "f0ad742f-c6c7-4278-ad02-8936a3f9364c"
      },
      "execution_count": null,
      "outputs": [
        {
          "output_type": "stream",
          "name": "stdout",
          "text": [
            "\u001b[01;34m.\u001b[00m\n",
            "├── \u001b[01;34msample_data\u001b[00m\n",
            "│   ├── \u001b[01;32manscombe.json\u001b[00m\n",
            "│   ├── california_housing_test.csv\n",
            "│   ├── california_housing_train.csv\n",
            "│   ├── mnist_test.csv\n",
            "│   ├── mnist_train_small.csv\n",
            "│   └── \u001b[01;32mREADME.md\u001b[00m\n",
            "├── teste2.txt\n",
            "└── teste.txt\n",
            "\n",
            "1 directory, 8 files\n"
          ]
        }
      ]
    },
    {
      "cell_type": "code",
      "source": [],
      "metadata": {
        "id": "5Cwx_CTaQj12"
      },
      "execution_count": null,
      "outputs": []
    }
  ]
}