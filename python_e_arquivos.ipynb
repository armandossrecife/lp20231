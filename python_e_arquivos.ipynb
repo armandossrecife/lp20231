{
  "nbformat": 4,
  "nbformat_minor": 0,
  "metadata": {
    "colab": {
      "provenance": [],
      "authorship_tag": "ABX9TyNgKGbmOnvov17Qjr1jlsBV",
      "include_colab_link": true
    },
    "kernelspec": {
      "name": "python3",
      "display_name": "Python 3"
    },
    "language_info": {
      "name": "python"
    }
  },
  "cells": [
    {
      "cell_type": "markdown",
      "metadata": {
        "id": "view-in-github",
        "colab_type": "text"
      },
      "source": [
        "<a href=\"https://colab.research.google.com/github/armandossrecife/lp20231/blob/main/python_e_arquivos.ipynb\" target=\"_parent\"><img src=\"https://colab.research.google.com/assets/colab-badge.svg\" alt=\"Open In Colab\"/></a>"
      ]
    },
    {
      "cell_type": "markdown",
      "source": [
        "# Escrevendo em um arquivo texto"
      ],
      "metadata": {
        "id": "QVXwBMr0y1By"
      }
    },
    {
      "cell_type": "code",
      "execution_count": 15,
      "metadata": {
        "id": "Ut9tM9BSxsTg"
      },
      "outputs": [],
      "source": [
        "# Recurso que vai manipular o arquivo \n",
        "meu_arquivo = open('teste.txt', 'a')"
      ]
    },
    {
      "cell_type": "code",
      "source": [
        "!ls -lia"
      ],
      "metadata": {
        "colab": {
          "base_uri": "https://localhost:8080/"
        },
        "id": "0qOazar6xyOY",
        "outputId": "6944f56d-86a2-4fbc-f410-c3a598e0f0a8"
      },
      "execution_count": 17,
      "outputs": [
        {
          "output_type": "stream",
          "name": "stdout",
          "text": [
            "total 20\n",
            "5898246 drwxr-xr-x 1 root root 4096 Jun  5 20:16 .\n",
            "5898256 drwxr-xr-x 1 root root 4096 Jun  5 18:16 ..\n",
            "3670023 drwxr-xr-x 4 root root 4096 Jun  2 13:38 .config\n",
            "5898299 drwxr-xr-x 2 root root 4096 Jun  5 20:04 .ipynb_checkpoints\n",
            "5898247 drwxr-xr-x 1 root root 4096 Jun  2 13:39 sample_data\n",
            "5898312 -rw-r--r-- 1 root root    0 Jun  5 20:16 teste.txt\n"
          ]
        }
      ]
    },
    {
      "cell_type": "code",
      "source": [
        "meu_arquivo.write(\"xxx\")"
      ],
      "metadata": {
        "colab": {
          "base_uri": "https://localhost:8080/"
        },
        "id": "jmwArPWZx189",
        "outputId": "bd72ba4a-f508-4d11-9710-abdedef8f0b5"
      },
      "execution_count": 18,
      "outputs": [
        {
          "output_type": "execute_result",
          "data": {
            "text/plain": [
              "3"
            ]
          },
          "metadata": {},
          "execution_count": 18
        }
      ]
    },
    {
      "cell_type": "code",
      "source": [
        "meu_arquivo.close()"
      ],
      "metadata": {
        "id": "ZiJMa5WYx8Fv"
      },
      "execution_count": 19,
      "outputs": []
    },
    {
      "cell_type": "code",
      "source": [
        "!ls -lia"
      ],
      "metadata": {
        "colab": {
          "base_uri": "https://localhost:8080/"
        },
        "id": "UZIPzaj3x-qw",
        "outputId": "bf2389cb-cd71-4d65-c93e-b6c8cabfc7f9"
      },
      "execution_count": 5,
      "outputs": [
        {
          "output_type": "stream",
          "name": "stdout",
          "text": [
            "total 24\n",
            "5898246 drwxr-xr-x 1 root root 4096 Jun  5 20:04 .\n",
            "5898256 drwxr-xr-x 1 root root 4096 Jun  5 18:16 ..\n",
            "3670023 drwxr-xr-x 4 root root 4096 Jun  2 13:38 .config\n",
            "5898299 drwxr-xr-x 2 root root 4096 Jun  5 20:04 .ipynb_checkpoints\n",
            "5898247 drwxr-xr-x 1 root root 4096 Jun  2 13:39 sample_data\n",
            "5898312 -rw-r--r-- 1 root root    3 Jun  5 20:06 teste.txt\n"
          ]
        }
      ]
    },
    {
      "cell_type": "code",
      "source": [
        "!cat teste.txt"
      ],
      "metadata": {
        "colab": {
          "base_uri": "https://localhost:8080/"
        },
        "id": "s3aMseyUyAJL",
        "outputId": "97e3ca16-1f9d-47ac-adc3-14e71cb715a9"
      },
      "execution_count": 7,
      "outputs": [
        {
          "output_type": "stream",
          "name": "stdout",
          "text": [
            "xxx"
          ]
        }
      ]
    },
    {
      "cell_type": "code",
      "source": [
        "meu_arquivo = open('teste.txt', 'a')\n",
        "meu_arquivo.write(\"yyy\")\n",
        "meu_arquivo.close()"
      ],
      "metadata": {
        "id": "04oIP-ymyCvm"
      },
      "execution_count": 20,
      "outputs": []
    },
    {
      "cell_type": "code",
      "source": [
        "!cat teste.txt"
      ],
      "metadata": {
        "colab": {
          "base_uri": "https://localhost:8080/"
        },
        "id": "T4ZlraXMyP9t",
        "outputId": "0f4014d1-92e3-48bf-b2bc-871a4678b2ba"
      },
      "execution_count": 9,
      "outputs": [
        {
          "output_type": "stream",
          "name": "stdout",
          "text": [
            "xxxyyy"
          ]
        }
      ]
    },
    {
      "cell_type": "code",
      "source": [
        "meu_arquivo = open('teste.txt', 'a')\n",
        "meu_arquivo.write('\\nzzz')\n",
        "meu_arquivo.close()"
      ],
      "metadata": {
        "id": "YCcM8loUyShg"
      },
      "execution_count": 21,
      "outputs": []
    },
    {
      "cell_type": "code",
      "source": [
        "!ls -lia"
      ],
      "metadata": {
        "colab": {
          "base_uri": "https://localhost:8080/"
        },
        "id": "a5pPogbIycrq",
        "outputId": "093e06ce-81ae-47a2-fccd-168eb51f624f"
      },
      "execution_count": 11,
      "outputs": [
        {
          "output_type": "stream",
          "name": "stdout",
          "text": [
            "total 24\n",
            "5898246 drwxr-xr-x 1 root root 4096 Jun  5 20:04 .\n",
            "5898256 drwxr-xr-x 1 root root 4096 Jun  5 18:16 ..\n",
            "3670023 drwxr-xr-x 4 root root 4096 Jun  2 13:38 .config\n",
            "5898299 drwxr-xr-x 2 root root 4096 Jun  5 20:04 .ipynb_checkpoints\n",
            "5898247 drwxr-xr-x 1 root root 4096 Jun  2 13:39 sample_data\n",
            "5898312 -rw-r--r-- 1 root root   10 Jun  5 20:10 teste.txt\n"
          ]
        }
      ]
    },
    {
      "cell_type": "code",
      "source": [
        "!cat teste.txt"
      ],
      "metadata": {
        "colab": {
          "base_uri": "https://localhost:8080/"
        },
        "id": "1jASmG7iyeSy",
        "outputId": "416e9ab0-aa7f-45a2-c7cf-6edf924758c4"
      },
      "execution_count": 22,
      "outputs": [
        {
          "output_type": "stream",
          "name": "stdout",
          "text": [
            "xxxyyy\n",
            "zzz"
          ]
        }
      ]
    },
    {
      "cell_type": "markdown",
      "source": [
        "# Lendo o conteúdo de um arquivo texto"
      ],
      "metadata": {
        "id": "p4ouFuqmy6LI"
      }
    },
    {
      "cell_type": "code",
      "source": [
        "meu_arquivo = open('teste.txt', mode='r')"
      ],
      "metadata": {
        "id": "sw7qcCmjMJFG"
      },
      "execution_count": 23,
      "outputs": []
    },
    {
      "cell_type": "code",
      "source": [
        "conteudo = meu_arquivo.read()\n",
        "print(conteudo)\n",
        "meu_arquivo.close()"
      ],
      "metadata": {
        "colab": {
          "base_uri": "https://localhost:8080/"
        },
        "id": "KtGrKFgSyiMZ",
        "outputId": "e8187030-905a-4a0c-92d9-671cae70e75b"
      },
      "execution_count": 24,
      "outputs": [
        {
          "output_type": "stream",
          "name": "stdout",
          "text": [
            "xxxyyy\n",
            "zzz\n"
          ]
        }
      ]
    },
    {
      "cell_type": "code",
      "source": [
        "file = open('teste.txt', 'r')\n",
        "for linha in file:\n",
        "  print(linha)\n",
        "file.close()"
      ],
      "metadata": {
        "colab": {
          "base_uri": "https://localhost:8080/"
        },
        "id": "Y_bl0jbnyuCW",
        "outputId": "c759553d-6620-412b-dbdc-64f83c640897"
      },
      "execution_count": 27,
      "outputs": [
        {
          "output_type": "stream",
          "name": "stdout",
          "text": [
            "xxxyyy\n",
            "\n",
            "zzz\n"
          ]
        }
      ]
    },
    {
      "cell_type": "code",
      "source": [
        "file = open('teste.txt', 'r')\n",
        "for linha in file:\n",
        "  print(linha, end='')\n",
        "file.close()"
      ],
      "metadata": {
        "colab": {
          "base_uri": "https://localhost:8080/"
        },
        "id": "NmFg66M1zGM-",
        "outputId": "42a893ef-2163-4171-ad22-b4ba169bd7fb"
      },
      "execution_count": 28,
      "outputs": [
        {
          "output_type": "stream",
          "name": "stdout",
          "text": [
            "xxxyyy\n",
            "zzz"
          ]
        }
      ]
    },
    {
      "cell_type": "code",
      "source": [
        "!cat teste.txt"
      ],
      "metadata": {
        "colab": {
          "base_uri": "https://localhost:8080/"
        },
        "id": "AWn3ZuUbOaOy",
        "outputId": "e78140c8-7754-43ed-880e-6e9269d63d32"
      },
      "execution_count": 29,
      "outputs": [
        {
          "output_type": "stream",
          "name": "stdout",
          "text": [
            "xxxyyy\n",
            "zzz"
          ]
        }
      ]
    },
    {
      "cell_type": "markdown",
      "source": [
        "# Processo de manipulação de arquivos"
      ],
      "metadata": {
        "id": "BVOGP2ndzSA5"
      }
    },
    {
      "cell_type": "markdown",
      "source": [
        "1. Criar um recurso para manipular um arquivo\n",
        "2. Definir o modo (leitura/gravação) de manipulação do arquivo \n",
        "3. Realizar a operação sobre o recurso que aponta para o arquivo\n",
        "4. Fechar o recurso que aponta para o arquivo"
      ],
      "metadata": {
        "id": "lgwP3pPozVXy"
      }
    },
    {
      "cell_type": "markdown",
      "source": [
        "## Uso do bloco with para simplificar o processo de manipulação de arquivos"
      ],
      "metadata": {
        "id": "ZdcUcvjtz2Cv"
      }
    },
    {
      "cell_type": "code",
      "source": [
        "with open('teste.txt', 'r') as file:\n",
        "  conteudo = file.read()\n",
        "  print(conteudo)"
      ],
      "metadata": {
        "colab": {
          "base_uri": "https://localhost:8080/"
        },
        "id": "RijNhtR6z7rf",
        "outputId": "ee5f8e85-a991-4d1b-e947-b77f908454ed"
      },
      "execution_count": 30,
      "outputs": [
        {
          "output_type": "stream",
          "name": "stdout",
          "text": [
            "xxxyyy\n",
            "zzz\n"
          ]
        }
      ]
    },
    {
      "cell_type": "markdown",
      "source": [
        "# Usando o modo write para sobrescrever um arquivo"
      ],
      "metadata": {
        "id": "iR9ve-hAPaoT"
      }
    },
    {
      "cell_type": "code",
      "source": [
        "file = open('teste2.txt', 'w')"
      ],
      "metadata": {
        "id": "7YX0MliI5J8i"
      },
      "execution_count": 31,
      "outputs": []
    },
    {
      "cell_type": "code",
      "source": [
        "!ls -lia "
      ],
      "metadata": {
        "colab": {
          "base_uri": "https://localhost:8080/"
        },
        "id": "5mMc4bSaPiOX",
        "outputId": "14ff54a1-db6f-44e0-fc5d-ac7c4b75fa44"
      },
      "execution_count": 32,
      "outputs": [
        {
          "output_type": "stream",
          "name": "stdout",
          "text": [
            "total 24\n",
            "5898246 drwxr-xr-x 1 root root 4096 Jun  5 20:27 .\n",
            "5898256 drwxr-xr-x 1 root root 4096 Jun  5 18:16 ..\n",
            "3670023 drwxr-xr-x 4 root root 4096 Jun  2 13:38 .config\n",
            "5898299 drwxr-xr-x 2 root root 4096 Jun  5 20:04 .ipynb_checkpoints\n",
            "5898247 drwxr-xr-x 1 root root 4096 Jun  2 13:39 sample_data\n",
            "5898313 -rw-r--r-- 1 root root    0 Jun  5 20:27 teste2.txt\n",
            "5898312 -rw-r--r-- 1 root root   10 Jun  5 20:17 teste.txt\n"
          ]
        }
      ]
    },
    {
      "cell_type": "code",
      "source": [
        "file.write('Nova linha teste')"
      ],
      "metadata": {
        "colab": {
          "base_uri": "https://localhost:8080/"
        },
        "id": "ZR6jZDBHPlWS",
        "outputId": "7a6b0527-659f-4103-b240-a80ee7fabb7b"
      },
      "execution_count": 33,
      "outputs": [
        {
          "output_type": "execute_result",
          "data": {
            "text/plain": [
              "16"
            ]
          },
          "metadata": {},
          "execution_count": 33
        }
      ]
    },
    {
      "cell_type": "code",
      "source": [
        "file.close()"
      ],
      "metadata": {
        "id": "MUwDUYFPPrjE"
      },
      "execution_count": 34,
      "outputs": []
    },
    {
      "cell_type": "code",
      "source": [
        "!cat teste2.txt"
      ],
      "metadata": {
        "colab": {
          "base_uri": "https://localhost:8080/"
        },
        "id": "FTko0PYVPtG8",
        "outputId": "dd8862de-a61a-410c-cdce-b5142371c256"
      },
      "execution_count": 35,
      "outputs": [
        {
          "output_type": "stream",
          "name": "stdout",
          "text": [
            "Nova linha teste"
          ]
        }
      ]
    },
    {
      "cell_type": "code",
      "source": [
        "file = open('teste2.txt', 'w')\n",
        "file.write('Segunda linha...')\n",
        "file.close()"
      ],
      "metadata": {
        "id": "SZOefo_XPvXE"
      },
      "execution_count": 36,
      "outputs": []
    },
    {
      "cell_type": "code",
      "source": [
        "!cat teste2.txt"
      ],
      "metadata": {
        "colab": {
          "base_uri": "https://localhost:8080/"
        },
        "id": "qm65a1CnP7YD",
        "outputId": "07248374-fd24-46c5-d6d7-2ac903ffc223"
      },
      "execution_count": 37,
      "outputs": [
        {
          "output_type": "stream",
          "name": "stdout",
          "text": [
            "Segunda linha..."
          ]
        }
      ]
    },
    {
      "cell_type": "code",
      "source": [
        "!lsb_release -a"
      ],
      "metadata": {
        "colab": {
          "base_uri": "https://localhost:8080/"
        },
        "id": "NWfgn2B5QAgK",
        "outputId": "ed1e86d6-ddc9-4a86-fbfd-df3c49a4ba96"
      },
      "execution_count": 38,
      "outputs": [
        {
          "output_type": "stream",
          "name": "stdout",
          "text": [
            "No LSB modules are available.\n",
            "Distributor ID:\tUbuntu\n",
            "Description:\tUbuntu 20.04.5 LTS\n",
            "Release:\t20.04\n",
            "Codename:\tfocal\n"
          ]
        }
      ]
    },
    {
      "cell_type": "code",
      "source": [
        "!ipconfig"
      ],
      "metadata": {
        "colab": {
          "base_uri": "https://localhost:8080/"
        },
        "id": "AytwOVHUQXkf",
        "outputId": "e44a4096-1060-43d9-966b-94e3223b871d"
      },
      "execution_count": 39,
      "outputs": [
        {
          "output_type": "stream",
          "name": "stdout",
          "text": [
            "/bin/bash: ipconfig: command not found\n"
          ]
        }
      ]
    },
    {
      "cell_type": "code",
      "source": [
        "!sudo apt install tree"
      ],
      "metadata": {
        "colab": {
          "base_uri": "https://localhost:8080/"
        },
        "id": "0IKeb1jFQcPw",
        "outputId": "83c10d7e-cc3e-4360-9a87-8e7e742f83ff"
      },
      "execution_count": 40,
      "outputs": [
        {
          "output_type": "stream",
          "name": "stdout",
          "text": [
            "Reading package lists... Done\n",
            "Building dependency tree       \n",
            "Reading state information... Done\n",
            "The following NEW packages will be installed:\n",
            "  tree\n",
            "0 upgraded, 1 newly installed, 0 to remove and 34 not upgraded.\n",
            "Need to get 43.0 kB of archives.\n",
            "After this operation, 115 kB of additional disk space will be used.\n",
            "Get:1 http://archive.ubuntu.com/ubuntu focal/universe amd64 tree amd64 1.8.0-1 [43.0 kB]\n",
            "Fetched 43.0 kB in 0s (148 kB/s)\n",
            "debconf: unable to initialize frontend: Dialog\n",
            "debconf: (No usable dialog-like program is installed, so the dialog based frontend cannot be used. at /usr/share/perl5/Debconf/FrontEnd/Dialog.pm line 76, <> line 1.)\n",
            "debconf: falling back to frontend: Readline\n",
            "debconf: unable to initialize frontend: Readline\n",
            "debconf: (This frontend requires a controlling tty.)\n",
            "debconf: falling back to frontend: Teletype\n",
            "dpkg-preconfigure: unable to re-open stdin: \n",
            "Selecting previously unselected package tree.\n",
            "(Reading database ... 122542 files and directories currently installed.)\n",
            "Preparing to unpack .../tree_1.8.0-1_amd64.deb ...\n",
            "Unpacking tree (1.8.0-1) ...\n",
            "Setting up tree (1.8.0-1) ...\n",
            "Processing triggers for man-db (2.9.1-1) ...\n"
          ]
        }
      ]
    },
    {
      "cell_type": "code",
      "source": [
        "!tree"
      ],
      "metadata": {
        "colab": {
          "base_uri": "https://localhost:8080/"
        },
        "id": "NtL8e73jQgWR",
        "outputId": "f0ad742f-c6c7-4278-ad02-8936a3f9364c"
      },
      "execution_count": 41,
      "outputs": [
        {
          "output_type": "stream",
          "name": "stdout",
          "text": [
            "\u001b[01;34m.\u001b[00m\n",
            "├── \u001b[01;34msample_data\u001b[00m\n",
            "│   ├── \u001b[01;32manscombe.json\u001b[00m\n",
            "│   ├── california_housing_test.csv\n",
            "│   ├── california_housing_train.csv\n",
            "│   ├── mnist_test.csv\n",
            "│   ├── mnist_train_small.csv\n",
            "│   └── \u001b[01;32mREADME.md\u001b[00m\n",
            "├── teste2.txt\n",
            "└── teste.txt\n",
            "\n",
            "1 directory, 8 files\n"
          ]
        }
      ]
    },
    {
      "cell_type": "code",
      "source": [],
      "metadata": {
        "id": "5Cwx_CTaQj12"
      },
      "execution_count": null,
      "outputs": []
    }
  ]
}