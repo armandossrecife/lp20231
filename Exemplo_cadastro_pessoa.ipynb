{
  "nbformat": 4,
  "nbformat_minor": 0,
  "metadata": {
    "colab": {
      "provenance": [],
      "authorship_tag": "ABX9TyOvUMkYPvNiVjccZXsv4H00",
      "include_colab_link": true
    },
    "kernelspec": {
      "name": "python3",
      "display_name": "Python 3"
    },
    "language_info": {
      "name": "python"
    }
  },
  "cells": [
    {
      "cell_type": "markdown",
      "metadata": {
        "id": "view-in-github",
        "colab_type": "text"
      },
      "source": [
        "<a href=\"https://colab.research.google.com/github/armandossrecife/lp20231/blob/main/Exemplo_cadastro_pessoa.ipynb\" target=\"_parent\"><img src=\"https://colab.research.google.com/assets/colab-badge.svg\" alt=\"Open In Colab\"/></a>"
      ]
    },
    {
      "cell_type": "code",
      "execution_count": 3,
      "metadata": {
        "id": "3SYRnmFsDCHh"
      },
      "outputs": [],
      "source": [
        "# Ler dados de pessoa\n",
        "def ler_dados_pessoa():\n",
        "  cpf = input(\"Qual o CPF? \")\n",
        "  nome = input(\"Qual o seu nome? \")\n",
        "  endereco = input(\"Qual o seu endereço? \")\n",
        "  telefones = input(\"Informe seu(s) telefone(s) separados por virgula: \")\n",
        "  pessoa_temp = (cpf, nome, endereco, telefones)\n",
        "  return pessoa_temp"
      ]
    },
    {
      "cell_type": "code",
      "source": [
        "pessoa_aux = ler_dados_pessoa()\n"
      ],
      "metadata": {
        "colab": {
          "base_uri": "https://localhost:8080/"
        },
        "id": "1R6xg5IfDlwv",
        "outputId": "d8316e73-337d-4637-a61e-30bc948f21b6"
      },
      "execution_count": 4,
      "outputs": [
        {
          "name": "stdout",
          "output_type": "stream",
          "text": [
            "Qual o CPF? 111-1\n",
            "Qual o seu nome? Maria da Silva\n",
            "Qual o seu endereço? Rua xyz\n",
            "Informe seu(s) telefone(s) separados por virgula: (86)99455667, (86)98877667\n"
          ]
        }
      ]
    },
    {
      "cell_type": "code",
      "source": [
        "pessoa_aux"
      ],
      "metadata": {
        "colab": {
          "base_uri": "https://localhost:8080/"
        },
        "id": "XSjJKXSFEagO",
        "outputId": "1c308170-3634-479c-e9e8-663c63d7b35f"
      },
      "execution_count": 5,
      "outputs": [
        {
          "output_type": "execute_result",
          "data": {
            "text/plain": [
              "('111-1', 'Maria da Silva', 'Rua xyz', '(86)99455667, (86)98877667')"
            ]
          },
          "metadata": {},
          "execution_count": 5
        }
      ]
    },
    {
      "cell_type": "code",
      "source": [
        "dicionario_pessoas = {}\n",
        "\n",
        "def inserir_pessoa(pessoa):\n",
        "  dicionario_pessoas[pessoa[0]] = (pessoa[1], pessoa[2], pessoa[3])\n",
        "  print(\"Pessoa inserida com sucesso!\")"
      ],
      "metadata": {
        "id": "ECQMNkx4Ea1W"
      },
      "execution_count": 6,
      "outputs": []
    },
    {
      "cell_type": "code",
      "source": [
        "inserir_pessoa(pessoa_aux)"
      ],
      "metadata": {
        "colab": {
          "base_uri": "https://localhost:8080/"
        },
        "id": "XnBEzh0rFCsd",
        "outputId": "4f58f2d8-2832-4b6f-ccdd-295db8ee0d93"
      },
      "execution_count": 7,
      "outputs": [
        {
          "output_type": "stream",
          "name": "stdout",
          "text": [
            "Pessoa inserida com sucesso!\n"
          ]
        }
      ]
    },
    {
      "cell_type": "code",
      "source": [
        "print(dicionario_pessoas)"
      ],
      "metadata": {
        "colab": {
          "base_uri": "https://localhost:8080/"
        },
        "id": "k4jyHS6nE-Qx",
        "outputId": "e676aa29-bd9d-4547-ad4e-c7605ce84cb0"
      },
      "execution_count": 8,
      "outputs": [
        {
          "output_type": "stream",
          "name": "stdout",
          "text": [
            "{'111-1': ('Maria da Silva', 'Rua xyz', '(86)99455667, (86)98877667')}\n"
          ]
        }
      ]
    },
    {
      "cell_type": "code",
      "source": [
        "def listar_pessoas_cadastradas():\n",
        "  for item in dicionario_pessoas.items():\n",
        "    print(item)"
      ],
      "metadata": {
        "id": "YBJuKSSqFQPg"
      },
      "execution_count": 10,
      "outputs": []
    },
    {
      "cell_type": "code",
      "source": [
        "listar_pessoas_cadastradas()"
      ],
      "metadata": {
        "colab": {
          "base_uri": "https://localhost:8080/"
        },
        "id": "-i2d8nJ7FjTp",
        "outputId": "a04b712d-f148-4898-d9af-9e7208d53f64"
      },
      "execution_count": 11,
      "outputs": [
        {
          "output_type": "stream",
          "name": "stdout",
          "text": [
            "('111-1', ('Maria da Silva', 'Rua xyz', '(86)99455667, (86)98877667'))\n"
          ]
        }
      ]
    },
    {
      "cell_type": "code",
      "source": [
        "def buscar_pessoa(cpf):\n",
        "  dados_pessoa = dicionario_pessoas[cpf]\n",
        "  return dados_pessoa"
      ],
      "metadata": {
        "id": "psQUJiuZFm9T"
      },
      "execution_count": 12,
      "outputs": []
    },
    {
      "cell_type": "code",
      "source": [
        "buscar_pessoa(cpf='111-1')"
      ],
      "metadata": {
        "colab": {
          "base_uri": "https://localhost:8080/"
        },
        "id": "HVzo7rSOF5Z1",
        "outputId": "6b344a94-30df-457d-9289-5724acb561a2"
      },
      "execution_count": 13,
      "outputs": [
        {
          "output_type": "execute_result",
          "data": {
            "text/plain": [
              "('Maria da Silva', 'Rua xyz', '(86)99455667, (86)98877667')"
            ]
          },
          "metadata": {},
          "execution_count": 13
        }
      ]
    },
    {
      "cell_type": "code",
      "source": [
        "def meu_menu():\n",
        "  print('1. Inserir pessoa')\n",
        "  print('2. Listar pessoas cadastradas')\n",
        "  print('3. Buscar pessoa por CPF')\n",
        "  print('4. SAIR')"
      ],
      "metadata": {
        "id": "Loxo8KnbGB83"
      },
      "execution_count": 14,
      "outputs": []
    },
    {
      "cell_type": "code",
      "source": [
        "meu_menu()"
      ],
      "metadata": {
        "colab": {
          "base_uri": "https://localhost:8080/"
        },
        "id": "VAI1VU2bGawv",
        "outputId": "c28c5921-8ba7-4c23-f32a-7f81c045a754"
      },
      "execution_count": 15,
      "outputs": [
        {
          "output_type": "stream",
          "name": "stdout",
          "text": [
            "1. Inserir pessoa\n",
            "2. Listar pessoas cadastradas\n",
            "3. Buscar pessoa por CPF\n",
            "4. SAIR\n"
          ]
        }
      ]
    },
    {
      "cell_type": "code",
      "source": [
        "# Ler dados de pessoa\n",
        "def ler_dados_pessoa():\n",
        "  cpf = input(\"Qual o CPF? \")\n",
        "  nome = input(\"Qual o seu nome? \")\n",
        "  endereco = input(\"Qual o seu endereço? \")\n",
        "  telefones = input(\"Informe seu(s) telefone(s) separados por virgula: \")\n",
        "  pessoa_temp = (cpf, nome, endereco, telefones)\n",
        "  return pessoa_temp\n",
        "\n",
        "def inserir_pessoa(pessoa):\n",
        "  dicionario_pessoas[pessoa[0]] = (pessoa[1], pessoa[2], pessoa[3])\n",
        "  print(\"Pessoa inserida com sucesso!\")\n",
        "\n",
        "def listar_pessoas_cadastradas():\n",
        "  if len(dicionario_pessoas) > 0: \n",
        "    for item in dicionario_pessoas.items():\n",
        "      print(item)\n",
        "  else:\n",
        "    print(\"Nenhuma pessoa cadastrada!\")\n",
        "\n",
        "def buscar_pessoa(cpf):\n",
        "  dados_pessoa = dicionario_pessoas[cpf]\n",
        "  return dados_pessoa\n",
        "\n",
        "def meu_menu():\n",
        "  print('1. Inserir pessoa')\n",
        "  print('2. Listar pessoas cadastradas')\n",
        "  print('3. Buscar pessoa por CPF')\n",
        "  print('4. SAIR')"
      ],
      "metadata": {
        "id": "FMqaDdBVGip3"
      },
      "execution_count": 19,
      "outputs": []
    },
    {
      "cell_type": "code",
      "source": [
        "dicionario_pessoas = {}\n",
        "pessoa_temp = None\n",
        "while(True):\n",
        "  meu_menu()\n",
        "  opcao = input(\"Qual a sua opção? \")\n",
        "  if opcao == '1':\n",
        "    pessoa_temp = ler_dados_pessoa()\n",
        "    inserir_pessoa(pessoa_temp)\n",
        "  elif opcao == '2':\n",
        "    listar_pessoas_cadastradas()\n",
        "  elif opcao == '3':\n",
        "    cpf = input('Qual o cpf deseja buscar? ')\n",
        "    dados_pessoa = buscar_pessoa(cpf)\n",
        "    print(dados_pessoa)\n",
        "  elif opcao == '4':\n",
        "    break"
      ],
      "metadata": {
        "colab": {
          "base_uri": "https://localhost:8080/"
        },
        "id": "hZdidPOcGcX2",
        "outputId": "fbc0d191-b218-4b3c-e37b-c7e7c88623f1"
      },
      "execution_count": 20,
      "outputs": [
        {
          "name": "stdout",
          "output_type": "stream",
          "text": [
            "1. Inserir pessoa\n",
            "2. Listar pessoas cadastradas\n",
            "3. Buscar pessoa por CPF\n",
            "4. SAIR\n",
            "Qual a sua opção? 2\n",
            "Nenhuma pessoa cadastrada!\n",
            "1. Inserir pessoa\n",
            "2. Listar pessoas cadastradas\n",
            "3. Buscar pessoa por CPF\n",
            "4. SAIR\n",
            "Qual a sua opção? 1\n",
            "Qual o CPF? 777-7\n",
            "Qual o seu nome? Ana Carla\n",
            "Qual o seu endereço? Rua xpto\n",
            "Informe seu(s) telefone(s) separados por virgula: (86)99465432, (86)998763\n",
            "Pessoa inserida com sucesso!\n",
            "1. Inserir pessoa\n",
            "2. Listar pessoas cadastradas\n",
            "3. Buscar pessoa por CPF\n",
            "4. SAIR\n",
            "Qual a sua opção? 2\n",
            "('777-7', ('Ana Carla', 'Rua xpto', '(86)99465432, (86)998763'))\n",
            "1. Inserir pessoa\n",
            "2. Listar pessoas cadastradas\n",
            "3. Buscar pessoa por CPF\n",
            "4. SAIR\n",
            "Qual a sua opção? 3\n",
            "Qual o cpf deseja buscar? 777-7\n",
            "('Ana Carla', 'Rua xpto', '(86)99465432, (86)998763')\n",
            "1. Inserir pessoa\n",
            "2. Listar pessoas cadastradas\n",
            "3. Buscar pessoa por CPF\n",
            "4. SAIR\n",
            "Qual a sua opção? 4\n"
          ]
        }
      ]
    }
  ]
}