{
  "nbformat": 4,
  "nbformat_minor": 0,
  "metadata": {
    "colab": {
      "provenance": [],
      "authorship_tag": "ABX9TyN+Q+wsDXSY5fxCIU5u1nGL",
      "include_colab_link": true
    },
    "kernelspec": {
      "name": "python3",
      "display_name": "Python 3"
    },
    "language_info": {
      "name": "python"
    }
  },
  "cells": [
    {
      "cell_type": "markdown",
      "metadata": {
        "id": "view-in-github",
        "colab_type": "text"
      },
      "source": [
        "<a href=\"https://colab.research.google.com/github/armandossrecife/lp20231/blob/main/template_warm_up_projeto_av2.ipynb\" target=\"_parent\"><img src=\"https://colab.research.google.com/assets/colab-badge.svg\" alt=\"Open In Colab\"/></a>"
      ]
    },
    {
      "cell_type": "markdown",
      "source": [
        "# Análise de Dados de Filmes"
      ],
      "metadata": {
        "id": "xHNdbjqTTyED"
      }
    },
    {
      "cell_type": "markdown",
      "source": [
        "Link de referência: https://github.com/armandossrecife/lp20231/blob/main/top-500-movies.csv"
      ],
      "metadata": {
        "id": "LNQuOuQ-T1e-"
      }
    },
    {
      "cell_type": "markdown",
      "source": [
        "## 1. Baixe os dados para análise"
      ],
      "metadata": {
        "id": "g0Frqt_FT9OG"
      }
    },
    {
      "cell_type": "code",
      "source": [],
      "metadata": {
        "id": "7Z739tChTz1d"
      },
      "execution_count": null,
      "outputs": []
    },
    {
      "cell_type": "markdown",
      "source": [
        "## 2. Crie uma estrutura para armazenar os dados"
      ],
      "metadata": {
        "id": "HJDgd3ooUCGn"
      }
    },
    {
      "cell_type": "code",
      "source": [],
      "metadata": {
        "id": "4u-uuUhLUEuJ"
      },
      "execution_count": null,
      "outputs": []
    },
    {
      "cell_type": "markdown",
      "source": [
        "## 3. Mostre as informações básicas dos dados estruturados"
      ],
      "metadata": {
        "id": "bQixNbwRUJgx"
      }
    },
    {
      "cell_type": "code",
      "source": [],
      "metadata": {
        "id": "xE-pBQFdUzjs"
      },
      "execution_count": null,
      "outputs": []
    },
    {
      "cell_type": "markdown",
      "source": [
        "## 4. Faça a limpeza dos dados.\n",
        "\n",
        "Obs: remova os registros que possuam dados \"nulos\" ou dados inválidos\n"
      ],
      "metadata": {
        "id": "3IB8HDhGU38c"
      }
    },
    {
      "cell_type": "code",
      "source": [],
      "metadata": {
        "id": "_-2STCZsVBD5"
      },
      "execution_count": null,
      "outputs": []
    },
    {
      "cell_type": "markdown",
      "source": [
        "## 5. Mostre as estatísticas básicas dos dados estruturados\n",
        "\n",
        "Obs: mostre os dados estatísticos básicos das seguintes colunas: production_cost, domestic_gross, worldwide_gross, opening_weekend, theaters, runtime"
      ],
      "metadata": {
        "id": "qs5Vkp5zUPf5"
      }
    },
    {
      "cell_type": "code",
      "source": [],
      "metadata": {
        "id": "Sp8n7J_GUSi5"
      },
      "execution_count": null,
      "outputs": []
    },
    {
      "cell_type": "markdown",
      "source": [
        "## 6. Mostre apenas os 10 filmes de maior custo de produção (production_cost)"
      ],
      "metadata": {
        "id": "NdnegRSkWXWm"
      }
    },
    {
      "cell_type": "code",
      "source": [],
      "metadata": {
        "id": "mygqFB3pWdaT"
      },
      "execution_count": null,
      "outputs": []
    },
    {
      "cell_type": "markdown",
      "source": [
        "## 7. Mostre apenas os 10 filmes de maior custo de bilheteria mundial (worldwide_gross)"
      ],
      "metadata": {
        "id": "7z7ruwqcXFV4"
      }
    },
    {
      "cell_type": "code",
      "source": [],
      "metadata": {
        "id": "bUKm0do8XNnQ"
      },
      "execution_count": null,
      "outputs": []
    },
    {
      "cell_type": "markdown",
      "source": [
        "## 8. Quais os gêneros dos 10 filmes de maior bilheteria mundial?"
      ],
      "metadata": {
        "id": "D0TBFTSUXjJ8"
      }
    },
    {
      "cell_type": "code",
      "source": [],
      "metadata": {
        "id": "oGZPZZGvXZtI"
      },
      "execution_count": null,
      "outputs": []
    },
    {
      "cell_type": "code",
      "source": [],
      "metadata": {
        "id": "FS6P_ZECXtRV"
      },
      "execution_count": null,
      "outputs": []
    },
    {
      "cell_type": "markdown",
      "source": [
        "## 9. Qual a arrecadação total dos 10 filmes de maior bilheteria mundial?"
      ],
      "metadata": {
        "id": "m-3Cx1iYX4lm"
      }
    },
    {
      "cell_type": "code",
      "source": [],
      "metadata": {
        "id": "18_0vhWNXwg-"
      },
      "execution_count": null,
      "outputs": []
    },
    {
      "cell_type": "markdown",
      "source": [
        "## 10. Crie um gráfico que mostre a distribuição de arrecadação dos 10 filmes de maior bilheteria mundial."
      ],
      "metadata": {
        "id": "Yp1RH20uYIAP"
      }
    },
    {
      "cell_type": "code",
      "source": [],
      "metadata": {
        "id": "aMh-3MiKZJ3B"
      },
      "execution_count": null,
      "outputs": []
    },
    {
      "cell_type": "code",
      "source": [],
      "metadata": {
        "id": "O6Q142_lZTSV"
      },
      "execution_count": null,
      "outputs": []
    },
    {
      "cell_type": "code",
      "source": [],
      "metadata": {
        "id": "8H2c0c_1Zn9s"
      },
      "execution_count": null,
      "outputs": []
    },
    {
      "cell_type": "markdown",
      "source": [
        "## 11. Crie um gráfico que mostre ao percentual de partição dos 10 filmes de maior bilheteria mundial.\n"
      ],
      "metadata": {
        "id": "F8BChlmxYVFg"
      }
    },
    {
      "cell_type": "code",
      "source": [],
      "metadata": {
        "id": "OUUqdi4YaYY9"
      },
      "execution_count": null,
      "outputs": []
    },
    {
      "cell_type": "code",
      "source": [],
      "metadata": {
        "id": "lNr1u7kLabGF"
      },
      "execution_count": null,
      "outputs": []
    },
    {
      "cell_type": "code",
      "source": [],
      "metadata": {
        "id": "sXS4IQ08at7c"
      },
      "execution_count": null,
      "outputs": []
    }
  ]
}