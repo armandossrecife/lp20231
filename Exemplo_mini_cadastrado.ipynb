{
  "nbformat": 4,
  "nbformat_minor": 0,
  "metadata": {
    "colab": {
      "provenance": [],
      "authorship_tag": "ABX9TyM4agW9l4bsCd/ox/5AxF5J",
      "include_colab_link": true
    },
    "kernelspec": {
      "name": "python3",
      "display_name": "Python 3"
    },
    "language_info": {
      "name": "python"
    }
  },
  "cells": [
    {
      "cell_type": "markdown",
      "metadata": {
        "id": "view-in-github",
        "colab_type": "text"
      },
      "source": [
        "<a href=\"https://colab.research.google.com/github/armandossrecife/lp20231/blob/main/Exemplo_mini_cadastrado.ipynb\" target=\"_parent\"><img src=\"https://colab.research.google.com/assets/colab-badge.svg\" alt=\"Open In Colab\"/></a>"
      ]
    },
    {
      "cell_type": "code",
      "source": [
        "# Definição das funções\n",
        "\n",
        "def ler_dados_aluno():\n",
        "  matricula = input(\"Qual a matricula? \")\n",
        "  nome = input(\"Qual o nome? \")\n",
        "  notas = input(\"Digite 3 notas (Notas separadas por vírgula) \")\n",
        "  lista_notas = notas.split(',')\n",
        "  aluno = (matricula, nome, lista_notas)\n",
        "  return aluno\n",
        "\n",
        "def insere_aluno_dicionario(aluno):\n",
        "  disciplina_lp[aluno[0]] = (aluno[1], aluno[2])\n",
        "\n",
        "def listar_alunos_dicionario():\n",
        "  for item in disciplina_lp.items():\n",
        "    print(item)\n",
        "\n",
        "def meu_menu():\n",
        "  print('1. Inserir aluno')\n",
        "  print('2. Listar alunos cadastrados')\n",
        "  print('3. SAIR')"
      ],
      "metadata": {
        "id": "vSy0PGv68lIU"
      },
      "execution_count": 35,
      "outputs": []
    },
    {
      "cell_type": "code",
      "source": [
        "disciplina_lp = {}\n",
        "aluno = None\n",
        "while (True):\n",
        "  meu_menu()\n",
        "  opcao = input(\"Qual a sua opção? \")\n",
        "  if opcao == '1':\n",
        "    print(\"Ler Dados de Aluno e Insere no dicionário\")\n",
        "    aluno = ler_dados_aluno()\n",
        "    insere_aluno_dicionario(aluno)\n",
        "    print(\"Aluno inserido com sucesso!\")\n",
        "  elif opcao == '2': \n",
        "    print(\"Lista dados de aluno\")\n",
        "    listar_alunos_dicionario()\n",
        "    if len(disciplina_lp) == 0:\n",
        "      print(\"Nenhum aluno cadastrado!\")\n",
        "  elif opcao == '3':\n",
        "    break \n",
        "  else:\n",
        "    print(\"Você digitou uma opção inválida!\")"
      ],
      "metadata": {
        "colab": {
          "base_uri": "https://localhost:8080/"
        },
        "id": "h_OD9vJW8Bkn",
        "outputId": "4ce25dd5-217a-4089-aff0-058836668006"
      },
      "execution_count": 36,
      "outputs": [
        {
          "name": "stdout",
          "output_type": "stream",
          "text": [
            "1. Inserir aluno\n",
            "2. Listar alunos cadastrados\n",
            "3. SAIR\n",
            "Qual a sua opção? 2\n",
            "Lista dados de aluno\n",
            "Nenhum aluno cadastrado!\n",
            "1. Inserir aluno\n",
            "2. Listar alunos cadastrados\n",
            "3. SAIR\n",
            "Qual a sua opção? 1\n",
            "Ler Dados de Aluno e Insere no dicionário\n",
            "Qual a matricula? 23345-3\n",
            "Qual o nome? Maria Joaquina\n",
            "Digite 3 notas (Notas separadas por vírgula) 2,6,10\n",
            "Aluno inserido com sucesso!\n",
            "1. Inserir aluno\n",
            "2. Listar alunos cadastrados\n",
            "3. SAIR\n",
            "Qual a sua opção? 2\n",
            "Lista dados de aluno\n",
            "('23345-3', ('Maria Joaquina', ['2', '6', '10']))\n",
            "1. Inserir aluno\n",
            "2. Listar alunos cadastrados\n",
            "3. SAIR\n",
            "Qual a sua opção? 1\n",
            "Ler Dados de Aluno e Insere no dicionário\n",
            "Qual a matricula? 3456-9\n",
            "Qual o nome? Ana Carla\n",
            "Digite 3 notas (Notas separadas por vírgula) 10,9,8\n",
            "Aluno inserido com sucesso!\n",
            "1. Inserir aluno\n",
            "2. Listar alunos cadastrados\n",
            "3. SAIR\n",
            "Qual a sua opção? 2\n",
            "Lista dados de aluno\n",
            "('23345-3', ('Maria Joaquina', ['2', '6', '10']))\n",
            "('3456-9', ('Ana Carla', ['10', '9', '8']))\n",
            "1. Inserir aluno\n",
            "2. Listar alunos cadastrados\n",
            "3. SAIR\n",
            "Qual a sua opção? 3\n"
          ]
        }
      ]
    }
  ]
}