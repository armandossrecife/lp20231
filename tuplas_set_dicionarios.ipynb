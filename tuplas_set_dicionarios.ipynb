{
  "nbformat": 4,
  "nbformat_minor": 0,
  "metadata": {
    "colab": {
      "provenance": [],
      "authorship_tag": "ABX9TyN4V9QcmdSBLZ8/z0sgjDnI",
      "include_colab_link": true
    },
    "kernelspec": {
      "name": "python3",
      "display_name": "Python 3"
    },
    "language_info": {
      "name": "python"
    }
  },
  "cells": [
    {
      "cell_type": "markdown",
      "metadata": {
        "id": "view-in-github",
        "colab_type": "text"
      },
      "source": [
        "<a href=\"https://colab.research.google.com/github/armandossrecife/lp20231/blob/main/tuplas_set_dicionarios.ipynb\" target=\"_parent\"><img src=\"https://colab.research.google.com/assets/colab-badge.svg\" alt=\"Open In Colab\"/></a>"
      ]
    },
    {
      "cell_type": "markdown",
      "source": [
        "# Listas\n"
      ],
      "metadata": {
        "id": "YcjiQxp0qNfr"
      }
    },
    {
      "cell_type": "code",
      "source": [
        "lista_nomes = ['Armando', 'Maria', 'Carla']\n",
        "\n",
        "print(lista_nomes)"
      ],
      "metadata": {
        "colab": {
          "base_uri": "https://localhost:8080/"
        },
        "id": "zVfIH0Q-qOk1",
        "outputId": "1d9d2bb3-7bf5-40bb-865a-5b8045e4e773"
      },
      "execution_count": null,
      "outputs": [
        {
          "output_type": "stream",
          "name": "stdout",
          "text": [
            "['Armando', 'Maria', 'Carla']\n"
          ]
        }
      ]
    },
    {
      "cell_type": "code",
      "source": [
        "len(lista_nomes)"
      ],
      "metadata": {
        "colab": {
          "base_uri": "https://localhost:8080/"
        },
        "id": "1pfvl9Kf2Dbf",
        "outputId": "3009c84a-d8cc-4d08-990c-29cefa591676"
      },
      "execution_count": null,
      "outputs": [
        {
          "output_type": "execute_result",
          "data": {
            "text/plain": [
              "3"
            ]
          },
          "metadata": {},
          "execution_count": 24
        }
      ]
    },
    {
      "cell_type": "code",
      "source": [
        "for item in lista_nomes:\n",
        "  print(item)"
      ],
      "metadata": {
        "colab": {
          "base_uri": "https://localhost:8080/"
        },
        "id": "y_zYNrCW2JKe",
        "outputId": "e3b5cea3-844c-4bb2-a582-a0b57fde3c80"
      },
      "execution_count": null,
      "outputs": [
        {
          "output_type": "stream",
          "name": "stdout",
          "text": [
            "Armando\n",
            "Maria\n",
            "Carla\n"
          ]
        }
      ]
    },
    {
      "cell_type": "code",
      "source": [
        "lista_nomes[-1]"
      ],
      "metadata": {
        "colab": {
          "base_uri": "https://localhost:8080/",
          "height": 35
        },
        "id": "3-BI8jf82Umx",
        "outputId": "35823b9f-976d-4159-8900-10f4b5c4ce43"
      },
      "execution_count": null,
      "outputs": [
        {
          "output_type": "execute_result",
          "data": {
            "text/plain": [
              "'Carla'"
            ],
            "application/vnd.google.colaboratory.intrinsic+json": {
              "type": "string"
            }
          },
          "metadata": {},
          "execution_count": 26
        }
      ]
    },
    {
      "cell_type": "code",
      "source": [
        "lista1 = []"
      ],
      "metadata": {
        "id": "fJ3yjPUD2Z8u"
      },
      "execution_count": null,
      "outputs": []
    },
    {
      "cell_type": "code",
      "source": [
        "len(lista1)"
      ],
      "metadata": {
        "colab": {
          "base_uri": "https://localhost:8080/"
        },
        "id": "z-IrXHdM2dWT",
        "outputId": "95fac598-8592-4520-a2f1-c6f4de184572"
      },
      "execution_count": null,
      "outputs": [
        {
          "output_type": "execute_result",
          "data": {
            "text/plain": [
              "0"
            ]
          },
          "metadata": {},
          "execution_count": 28
        }
      ]
    },
    {
      "cell_type": "code",
      "source": [
        "lista1.append(17)"
      ],
      "metadata": {
        "id": "rOPKKN_62fGP"
      },
      "execution_count": null,
      "outputs": []
    },
    {
      "cell_type": "code",
      "source": [
        "lista1"
      ],
      "metadata": {
        "colab": {
          "base_uri": "https://localhost:8080/"
        },
        "id": "q3OO8tYD2h4x",
        "outputId": "a1fbe172-bd19-424c-cd02-0e49de7f3ec5"
      },
      "execution_count": null,
      "outputs": [
        {
          "output_type": "execute_result",
          "data": {
            "text/plain": [
              "[17]"
            ]
          },
          "metadata": {},
          "execution_count": 30
        }
      ]
    },
    {
      "cell_type": "code",
      "source": [
        "lista2 = list()"
      ],
      "metadata": {
        "id": "VA_MUmlc2nQA"
      },
      "execution_count": null,
      "outputs": []
    },
    {
      "cell_type": "markdown",
      "source": [
        "# Tuplas"
      ],
      "metadata": {
        "id": "hcFAAuqRqQdW"
      }
    },
    {
      "cell_type": "code",
      "source": [
        "ponto1 = (1,1)\n",
        "ponto2 = (2,2)"
      ],
      "metadata": {
        "id": "2FJOspcVqRQ2"
      },
      "execution_count": null,
      "outputs": []
    },
    {
      "cell_type": "code",
      "source": [
        "ponto3 = (3,5)"
      ],
      "metadata": {
        "id": "3eEauQOH7bk-"
      },
      "execution_count": null,
      "outputs": []
    },
    {
      "cell_type": "code",
      "source": [
        "print(ponto1)"
      ],
      "metadata": {
        "colab": {
          "base_uri": "https://localhost:8080/"
        },
        "id": "H4S7bB-Y7Shq",
        "outputId": "514e3156-45a7-4b9c-9b4b-1da1cbed623d"
      },
      "execution_count": null,
      "outputs": [
        {
          "output_type": "stream",
          "name": "stdout",
          "text": [
            "(1, 1)\n"
          ]
        }
      ]
    },
    {
      "cell_type": "code",
      "source": [
        "ponto1[0]"
      ],
      "metadata": {
        "colab": {
          "base_uri": "https://localhost:8080/"
        },
        "id": "5qpE3LLx7Uk0",
        "outputId": "4744605e-7763-49be-b0f7-ee7a0710e44a"
      },
      "execution_count": null,
      "outputs": [
        {
          "output_type": "execute_result",
          "data": {
            "text/plain": [
              "1"
            ]
          },
          "metadata": {},
          "execution_count": 34
        }
      ]
    },
    {
      "cell_type": "code",
      "source": [
        "ponto3[1]"
      ],
      "metadata": {
        "colab": {
          "base_uri": "https://localhost:8080/"
        },
        "id": "AuOZmnm67dzC",
        "outputId": "04dc2dea-ef61-4348-de3a-47dbc69616fe"
      },
      "execution_count": null,
      "outputs": [
        {
          "output_type": "execute_result",
          "data": {
            "text/plain": [
              "5"
            ]
          },
          "metadata": {},
          "execution_count": 36
        }
      ]
    },
    {
      "cell_type": "code",
      "source": [
        "x1 = 10\n",
        "y1 = 20\n",
        "z1 = 30\n",
        "ponto3d = (x1, y1, z1)\n",
        "print(ponto3d)"
      ],
      "metadata": {
        "colab": {
          "base_uri": "https://localhost:8080/"
        },
        "id": "qm7fWGmJ7qES",
        "outputId": "803d1463-f950-48ee-96c4-27408aedec3d"
      },
      "execution_count": null,
      "outputs": [
        {
          "output_type": "stream",
          "name": "stdout",
          "text": [
            "(10, 20, 30)\n"
          ]
        }
      ]
    },
    {
      "cell_type": "code",
      "source": [
        "matricula1 = '2023-10'\n",
        "nome1 = 'Maria Joaquina de Amaral Pereira Goes'\n",
        "disciplina1 = 'Cálculo I'\n",
        "lnd1 = [10, 8,9]\n",
        "disciplina2 = 'ICC'\n",
        "lnd2 = [8,7,6]\n",
        "aluno1 = (matricula1, nome1, disciplina1, lnd1, disciplina1, lnd2)\n",
        "print(aluno1)"
      ],
      "metadata": {
        "colab": {
          "base_uri": "https://localhost:8080/"
        },
        "id": "0HHFjr7H78_R",
        "outputId": "c93f40d3-340f-4565-9f3a-1c2e1ca3135e"
      },
      "execution_count": null,
      "outputs": [
        {
          "output_type": "stream",
          "name": "stdout",
          "text": [
            "('2023-10', 'Maria Joaquina de Amaral Pereira Goes', 'Cálculo I', [10, 8, 9], 'Cálculo I', [8, 7, 6])\n"
          ]
        }
      ]
    },
    {
      "cell_type": "code",
      "source": [
        "aluno1[0]"
      ],
      "metadata": {
        "colab": {
          "base_uri": "https://localhost:8080/",
          "height": 35
        },
        "id": "0K-EJ5Kv8eXY",
        "outputId": "163a84fd-672b-463c-86d9-9e1c969b0ddd"
      },
      "execution_count": null,
      "outputs": [
        {
          "output_type": "execute_result",
          "data": {
            "text/plain": [
              "'2023-10'"
            ],
            "application/vnd.google.colaboratory.intrinsic+json": {
              "type": "string"
            }
          },
          "metadata": {},
          "execution_count": 39
        }
      ]
    },
    {
      "cell_type": "markdown",
      "source": [
        "# Set"
      ],
      "metadata": {
        "id": "8S5HJkceqRx6"
      }
    },
    {
      "cell_type": "code",
      "source": [
        "conjunto = {}\n"
      ],
      "metadata": {
        "id": "455182voqSkS"
      },
      "execution_count": null,
      "outputs": []
    },
    {
      "cell_type": "code",
      "source": [
        "conjunto = set()"
      ],
      "metadata": {
        "id": "GmfpOAgcANO1"
      },
      "execution_count": null,
      "outputs": []
    },
    {
      "cell_type": "code",
      "source": [
        "minhas_cores = {'azul', 'verde', 'vermelho'}"
      ],
      "metadata": {
        "id": "bXRqAbRc-kuF"
      },
      "execution_count": null,
      "outputs": []
    },
    {
      "cell_type": "code",
      "source": [
        "minhas_cores.add('laranja')"
      ],
      "metadata": {
        "id": "aHL6YFxVAubh"
      },
      "execution_count": null,
      "outputs": []
    },
    {
      "cell_type": "code",
      "source": [
        "for cor in minhas_cores:\n",
        "  print(cor)"
      ],
      "metadata": {
        "colab": {
          "base_uri": "https://localhost:8080/"
        },
        "id": "Ufgnd9V1ACKn",
        "outputId": "ed4da470-ff7b-4bf0-d460-42c7be850754"
      },
      "execution_count": null,
      "outputs": [
        {
          "output_type": "stream",
          "name": "stdout",
          "text": [
            "azul\n",
            "vermelho\n",
            "verde\n"
          ]
        }
      ]
    },
    {
      "cell_type": "code",
      "source": [
        "nossas_cores = {'azul', 'violeta', 'laranja', 'amarelo'}"
      ],
      "metadata": {
        "id": "8ANbNu-D-xrp"
      },
      "execution_count": null,
      "outputs": []
    },
    {
      "cell_type": "code",
      "source": [
        "'verde' in minhas_cores"
      ],
      "metadata": {
        "colab": {
          "base_uri": "https://localhost:8080/"
        },
        "id": "fEjWNYdb_wf1",
        "outputId": "37bf7e4e-41bf-461c-dbf9-ad10db44025d"
      },
      "execution_count": null,
      "outputs": [
        {
          "output_type": "execute_result",
          "data": {
            "text/plain": [
              "True"
            ]
          },
          "metadata": {},
          "execution_count": 46
        }
      ]
    },
    {
      "cell_type": "code",
      "source": [
        "todas_cores = minhas_cores.union(nossas_cores)\n",
        "print(todas_cores)"
      ],
      "metadata": {
        "colab": {
          "base_uri": "https://localhost:8080/"
        },
        "id": "b9gpUHJU-6eQ",
        "outputId": "1ea13c43-5e19-41bd-a6c3-f858e3e97c78"
      },
      "execution_count": null,
      "outputs": [
        {
          "output_type": "stream",
          "name": "stdout",
          "text": [
            "{'laranja', 'vermelho', 'verde', 'violeta', 'azul', 'amarelo'}\n"
          ]
        }
      ]
    },
    {
      "cell_type": "code",
      "source": [
        "minhas_cores[0]"
      ],
      "metadata": {
        "colab": {
          "base_uri": "https://localhost:8080/",
          "height": 200
        },
        "id": "tmFr0_6O_dAR",
        "outputId": "16a22c3f-6c7d-4bac-a2d1-fe175a9b7a26"
      },
      "execution_count": null,
      "outputs": [
        {
          "output_type": "error",
          "ename": "TypeError",
          "evalue": "ignored",
          "traceback": [
            "\u001b[0;31m---------------------------------------------------------------------------\u001b[0m",
            "\u001b[0;31mTypeError\u001b[0m                                 Traceback (most recent call last)",
            "\u001b[0;32m<ipython-input-45-09622ec41e71>\u001b[0m in \u001b[0;36m<cell line: 1>\u001b[0;34m()\u001b[0m\n\u001b[0;32m----> 1\u001b[0;31m \u001b[0mminhas_cores\u001b[0m\u001b[0;34m[\u001b[0m\u001b[0;36m0\u001b[0m\u001b[0;34m]\u001b[0m\u001b[0;34m\u001b[0m\u001b[0;34m\u001b[0m\u001b[0m\n\u001b[0m",
            "\u001b[0;31mTypeError\u001b[0m: 'set' object is not subscriptable"
          ]
        }
      ]
    },
    {
      "cell_type": "markdown",
      "source": [
        "# Dicionários"
      ],
      "metadata": {
        "id": "inf-hCJXqTAX"
      }
    },
    {
      "cell_type": "code",
      "source": [
        "pessoas = {'777': 'Armando Soares Sousa', \n",
        "           '888':'Maria Joaquina de Amaral', \n",
        "           '222':'Ana Carla'}"
      ],
      "metadata": {
        "id": "V0Q9bigBqTxK"
      },
      "execution_count": null,
      "outputs": []
    },
    {
      "cell_type": "code",
      "source": [
        "pessoas['333'] = 'Francisco da Silva'"
      ],
      "metadata": {
        "id": "CimIvLnoJNk5"
      },
      "execution_count": null,
      "outputs": []
    },
    {
      "cell_type": "code",
      "source": [
        "pessoas.pop(333)"
      ],
      "metadata": {
        "colab": {
          "base_uri": "https://localhost:8080/",
          "height": 35
        },
        "id": "EFXA4bHUJVhh",
        "outputId": "719b844c-3d2c-43b0-8b9b-ee163377f5ce"
      },
      "execution_count": null,
      "outputs": [
        {
          "output_type": "execute_result",
          "data": {
            "text/plain": [
              "'Francisco da Silva'"
            ],
            "application/vnd.google.colaboratory.intrinsic+json": {
              "type": "string"
            }
          },
          "metadata": {},
          "execution_count": 71
        }
      ]
    },
    {
      "cell_type": "code",
      "source": [
        "pessoas['777'] = 'Cláudia Amaro'\n"
      ],
      "metadata": {
        "id": "P2usI3HWJxyS"
      },
      "execution_count": null,
      "outputs": []
    },
    {
      "cell_type": "code",
      "source": [
        "try:\n",
        "  pessoas.pop('12345')\n",
        "except Exception: \n",
        "  print('Erro ao remover o elemento')"
      ],
      "metadata": {
        "colab": {
          "base_uri": "https://localhost:8080/"
        },
        "id": "sCvVScTLKBEg",
        "outputId": "ae82b11d-c26f-4195-f970-ee304f0114e0"
      },
      "execution_count": null,
      "outputs": [
        {
          "output_type": "stream",
          "name": "stdout",
          "text": [
            "Erro ao remover o elemento\n"
          ]
        }
      ]
    },
    {
      "cell_type": "code",
      "source": [
        "print(pessoas)"
      ],
      "metadata": {
        "colab": {
          "base_uri": "https://localhost:8080/"
        },
        "id": "iZYqvY7wJJG1",
        "outputId": "f7cf07da-a1b6-4d58-ca39-694d1c9b8124"
      },
      "execution_count": null,
      "outputs": [
        {
          "output_type": "stream",
          "name": "stdout",
          "text": [
            "{'777': 'Cláudia Amaro', '888': 'Maria Joaquina de Amaral', '222': 'Ana Carla', '333': 'Francisco da Silva'}\n"
          ]
        }
      ]
    },
    {
      "cell_type": "code",
      "source": [
        "meus_alunos = {\n",
        "    11: 'Armando', \n",
        "    27: 'Maria',\n",
        "    33: 'Ana'\n",
        "}"
      ],
      "metadata": {
        "id": "xSYv60UJDx6S"
      },
      "execution_count": null,
      "outputs": []
    },
    {
      "cell_type": "code",
      "source": [
        "meus_alunos[11]"
      ],
      "metadata": {
        "colab": {
          "base_uri": "https://localhost:8080/",
          "height": 35
        },
        "id": "kyOjw8E-EK9x",
        "outputId": "4a696970-ed20-44b4-aa74-90b1c3045dd4"
      },
      "execution_count": null,
      "outputs": [
        {
          "output_type": "execute_result",
          "data": {
            "text/plain": [
              "'Armando'"
            ],
            "application/vnd.google.colaboratory.intrinsic+json": {
              "type": "string"
            }
          },
          "metadata": {},
          "execution_count": 59
        }
      ]
    },
    {
      "cell_type": "code",
      "source": [
        "meus_alunos[11] = 'Armando Soares Sousa'\n",
        "print(meus_alunos)"
      ],
      "metadata": {
        "colab": {
          "base_uri": "https://localhost:8080/"
        },
        "id": "db0r8EduEY-Q",
        "outputId": "7b8d6ad4-6170-4dbb-f7d1-7049a9753791"
      },
      "execution_count": null,
      "outputs": [
        {
          "output_type": "stream",
          "name": "stdout",
          "text": [
            "{11: 'Armando Soares Sousa', 27: 'Maria', 33: 'Ana'}\n"
          ]
        }
      ]
    },
    {
      "cell_type": "code",
      "source": [
        "meus_alunos[27] = 'Maria Joaquina'"
      ],
      "metadata": {
        "id": "AfhlE6nTEe-q"
      },
      "execution_count": null,
      "outputs": []
    },
    {
      "cell_type": "code",
      "source": [
        "meus_alunos[44] = 'Francisco da Silva'\n"
      ],
      "metadata": {
        "id": "xIA5n0ijEnff"
      },
      "execution_count": null,
      "outputs": []
    },
    {
      "cell_type": "code",
      "source": [
        "print(mues_)"
      ],
      "metadata": {
        "id": "8k7EIG4wI7J_"
      },
      "execution_count": null,
      "outputs": []
    },
    {
      "cell_type": "code",
      "source": [
        "print(meus_alunos)"
      ],
      "metadata": {
        "colab": {
          "base_uri": "https://localhost:8080/"
        },
        "id": "C2FColhFqgOA",
        "outputId": "27356dea-0b76-4681-9c45-1cd16498f518"
      },
      "execution_count": null,
      "outputs": [
        {
          "output_type": "stream",
          "name": "stdout",
          "text": [
            "{11: 'Armando Soares Sousa', 27: 'Maria Joaquina', 33: 'Ana', 44: 'Francisco da Silva'}\n"
          ]
        }
      ]
    },
    {
      "cell_type": "code",
      "source": [
        "pessoas['cpf1']"
      ],
      "metadata": {
        "colab": {
          "base_uri": "https://localhost:8080/",
          "height": 35
        },
        "id": "9G236fmxCt02",
        "outputId": "8a077e9f-31df-40a1-f656-2dc536032df9"
      },
      "execution_count": null,
      "outputs": [
        {
          "output_type": "execute_result",
          "data": {
            "text/plain": [
              "'Armando Soares Sousa'"
            ],
            "application/vnd.google.colaboratory.intrinsic+json": {
              "type": "string"
            }
          },
          "metadata": {},
          "execution_count": 52
        }
      ]
    },
    {
      "cell_type": "code",
      "source": [
        "pessoas['cpf3']"
      ],
      "metadata": {
        "colab": {
          "base_uri": "https://localhost:8080/",
          "height": 35
        },
        "id": "rL7BC5dUC4nq",
        "outputId": "0e3e1c64-a1c6-47a8-cd6b-99ac46150b98"
      },
      "execution_count": null,
      "outputs": [
        {
          "output_type": "execute_result",
          "data": {
            "text/plain": [
              "'Ana Carla'"
            ],
            "application/vnd.google.colaboratory.intrinsic+json": {
              "type": "string"
            }
          },
          "metadata": {},
          "execution_count": 53
        }
      ]
    },
    {
      "cell_type": "code",
      "source": [
        "for chave in pessoas.keys():\n",
        "  print(chave)"
      ],
      "metadata": {
        "colab": {
          "base_uri": "https://localhost:8080/"
        },
        "id": "Rt859L-IDPSf",
        "outputId": "808cdc32-a72e-4ed8-d9ab-ad360a9bc26c"
      },
      "execution_count": null,
      "outputs": [
        {
          "output_type": "stream",
          "name": "stdout",
          "text": [
            "cpf1\n",
            "cpf2\n",
            "cpf3\n"
          ]
        }
      ]
    },
    {
      "cell_type": "code",
      "source": [
        "for nomes in pessoas.values():\n",
        "  print(nomes)"
      ],
      "metadata": {
        "colab": {
          "base_uri": "https://localhost:8080/"
        },
        "id": "j4q7X90ZDXqz",
        "outputId": "ea36239c-5bc0-4dd0-bc3b-031f4e14f6cf"
      },
      "execution_count": null,
      "outputs": [
        {
          "output_type": "stream",
          "name": "stdout",
          "text": [
            "Armando Soares Sousa\n",
            "Maria Joaquina de Amaral\n",
            "Ana Carla\n"
          ]
        }
      ]
    },
    {
      "cell_type": "code",
      "source": [
        "for item in pessoas.items():\n",
        "  print(item)"
      ],
      "metadata": {
        "colab": {
          "base_uri": "https://localhost:8080/"
        },
        "id": "vMd4UXiADhti",
        "outputId": "c4c83c6d-2d23-4ded-ca84-587a319b9ac0"
      },
      "execution_count": null,
      "outputs": [
        {
          "output_type": "stream",
          "name": "stdout",
          "text": [
            "('cpf1', 'Armando Soares Sousa')\n",
            "('cpf2', 'Maria Joaquina de Amaral')\n",
            "('cpf3', 'Ana Carla')\n"
          ]
        }
      ]
    },
    {
      "cell_type": "code",
      "source": [
        "for item in pessoas.items():\n",
        "  print(item)"
      ],
      "metadata": {
        "colab": {
          "base_uri": "https://localhost:8080/"
        },
        "id": "ClkosfpUqhnj",
        "outputId": "c87e4b5c-5550-43af-b46f-a8053812e54e"
      },
      "execution_count": null,
      "outputs": [
        {
          "output_type": "stream",
          "name": "stdout",
          "text": [
            "('cpf1', 'Armando Soares Sousa')\n",
            "('cpf2', 'Maria Joaquina de Amaral')\n",
            "('cpf3', 'Ana Carla')\n"
          ]
        }
      ]
    },
    {
      "cell_type": "code",
      "source": [
        "for chave in pessoas.keys():\n",
        "  print(chave)"
      ],
      "metadata": {
        "colab": {
          "base_uri": "https://localhost:8080/"
        },
        "id": "7kqyfeuDqk5j",
        "outputId": "19266463-cc5d-4b19-807a-5986719378de"
      },
      "execution_count": null,
      "outputs": [
        {
          "output_type": "stream",
          "name": "stdout",
          "text": [
            "cpf1\n",
            "cpf2\n",
            "cpf3\n"
          ]
        }
      ]
    },
    {
      "cell_type": "code",
      "source": [
        "for valor in pessoas.values():\n",
        "  print(valor)"
      ],
      "metadata": {
        "colab": {
          "base_uri": "https://localhost:8080/"
        },
        "id": "mH8ufw-UqrIs",
        "outputId": "cf44385a-ca91-4bb0-a7a2-04617bffa4ee"
      },
      "execution_count": null,
      "outputs": [
        {
          "output_type": "stream",
          "name": "stdout",
          "text": [
            "Armando Soares Sousa\n",
            "Maria Joaquina de Amaral\n",
            "Ana Carla\n"
          ]
        }
      ]
    },
    {
      "cell_type": "code",
      "source": [
        "for k, v in pessoas.items():\n",
        "  print(k,v)"
      ],
      "metadata": {
        "colab": {
          "base_uri": "https://localhost:8080/"
        },
        "id": "YN91v4HLqwmI",
        "outputId": "4e34971c-25dc-4882-b766-4b01c5868698"
      },
      "execution_count": null,
      "outputs": [
        {
          "output_type": "stream",
          "name": "stdout",
          "text": [
            "cpf1 Armando Soares Sousa\n",
            "cpf2 Maria Joaquina de Amaral\n",
            "cpf3 Ana Carla\n"
          ]
        }
      ]
    },
    {
      "cell_type": "code",
      "source": [
        "len(pessoas)"
      ],
      "metadata": {
        "colab": {
          "base_uri": "https://localhost:8080/"
        },
        "id": "4ZF5XP8Uqzr8",
        "outputId": "27a46948-416b-4b8f-af7a-f5f2f897cf28"
      },
      "execution_count": null,
      "outputs": [
        {
          "output_type": "execute_result",
          "data": {
            "text/plain": [
              "3"
            ]
          },
          "metadata": {},
          "execution_count": 8
        }
      ]
    },
    {
      "cell_type": "code",
      "source": [
        "pessoas['cpf4'] = 'Francisco Santos'"
      ],
      "metadata": {
        "id": "7DGVBtZ-q2Ai"
      },
      "execution_count": null,
      "outputs": []
    },
    {
      "cell_type": "code",
      "source": [
        "print(pessoas)"
      ],
      "metadata": {
        "colab": {
          "base_uri": "https://localhost:8080/"
        },
        "id": "LAfHfOOQq7hv",
        "outputId": "1f27b17a-0336-4bc5-8649-43fd45e6f11c"
      },
      "execution_count": null,
      "outputs": [
        {
          "output_type": "stream",
          "name": "stdout",
          "text": [
            "{'cpf1': 'Armando Soares Sousa', 'cpf2': 'Maria Joaquina de Amaral', 'cpf3': 'Ana Carla', 'cpf4': 'Francisco Santos'}\n"
          ]
        }
      ]
    },
    {
      "cell_type": "code",
      "source": [
        "pessoas.pop('cpf1')"
      ],
      "metadata": {
        "colab": {
          "base_uri": "https://localhost:8080/",
          "height": 35
        },
        "id": "L2UvZvLfq8ad",
        "outputId": "eb3f0d5e-1a86-4b25-baa3-c9dd57dd42c3"
      },
      "execution_count": null,
      "outputs": [
        {
          "output_type": "execute_result",
          "data": {
            "text/plain": [
              "'Armando Soares Sousa'"
            ],
            "application/vnd.google.colaboratory.intrinsic+json": {
              "type": "string"
            }
          },
          "metadata": {},
          "execution_count": 11
        }
      ]
    },
    {
      "cell_type": "code",
      "source": [
        "pessoas"
      ],
      "metadata": {
        "colab": {
          "base_uri": "https://localhost:8080/"
        },
        "id": "MeUBgmAIr2MU",
        "outputId": "7db17287-1944-48de-ee2f-2908e106e2c9"
      },
      "execution_count": null,
      "outputs": [
        {
          "output_type": "execute_result",
          "data": {
            "text/plain": [
              "{'cpf2': 'Maria Joaquina de Amaral',\n",
              " 'cpf3': 'Ana Carla',\n",
              " 'cpf4': 'Francisco Santos'}"
            ]
          },
          "metadata": {},
          "execution_count": 12
        }
      ]
    },
    {
      "cell_type": "code",
      "source": [
        "'cpf4' in pessoas"
      ],
      "metadata": {
        "colab": {
          "base_uri": "https://localhost:8080/"
        },
        "id": "VX09ytnZr3Rs",
        "outputId": "4e946656-f653-4385-b895-75afb66bc13f"
      },
      "execution_count": null,
      "outputs": [
        {
          "output_type": "execute_result",
          "data": {
            "text/plain": [
              "True"
            ]
          },
          "metadata": {},
          "execution_count": 13
        }
      ]
    },
    {
      "cell_type": "code",
      "source": [
        "alunos = {'mat1': ['Armando', [10, 8, 9]], 'mat2':['Maria', [8,9,9]], 'mat3':['Carla', [8,7,6]]}"
      ],
      "metadata": {
        "id": "6Ue0C3qyr7B7"
      },
      "execution_count": null,
      "outputs": []
    },
    {
      "cell_type": "code",
      "source": [
        "alunos"
      ],
      "metadata": {
        "colab": {
          "base_uri": "https://localhost:8080/"
        },
        "id": "tEtG-ly6sLqr",
        "outputId": "f22ab33a-4ad5-4165-c26c-01b6ec03b1b7"
      },
      "execution_count": null,
      "outputs": [
        {
          "output_type": "execute_result",
          "data": {
            "text/plain": [
              "{'mat1': ['Armando', [10, 8, 9]],\n",
              " 'mat2': ['Maria', [8, 9, 9]],\n",
              " 'mat3': ['Carla', [8, 7, 6]]}"
            ]
          },
          "metadata": {},
          "execution_count": 15
        }
      ]
    },
    {
      "cell_type": "code",
      "source": [
        "for matricula in alunos.keys():\n",
        "  print(matricula)"
      ],
      "metadata": {
        "colab": {
          "base_uri": "https://localhost:8080/"
        },
        "id": "gxxGYF2lsMOi",
        "outputId": "76fc4147-74e6-4325-dfb8-65a3ce60a681"
      },
      "execution_count": null,
      "outputs": [
        {
          "output_type": "stream",
          "name": "stdout",
          "text": [
            "mat1\n",
            "mat2\n",
            "mat3\n"
          ]
        }
      ]
    },
    {
      "cell_type": "code",
      "source": [
        "for aluno in alunos.values():\n",
        "  print(aluno)"
      ],
      "metadata": {
        "colab": {
          "base_uri": "https://localhost:8080/"
        },
        "id": "WRO_A8YmsOeO",
        "outputId": "60fc2d2b-edb0-40cf-a8d4-ed88b1d33053"
      },
      "execution_count": null,
      "outputs": [
        {
          "output_type": "stream",
          "name": "stdout",
          "text": [
            "['Armando', [10, 8, 9]]\n",
            "['Maria', [8, 9, 9]]\n",
            "['Carla', [8, 7, 6]]\n"
          ]
        }
      ]
    },
    {
      "cell_type": "code",
      "source": [
        "agenda = {'id1':['Armando', 'Endereço1', ['12345678', '8899887766']], \n",
        "          'id2':['Maria', 'Endereço2', ['88997766']]\n",
        "          }\n",
        "print(agenda)"
      ],
      "metadata": {
        "colab": {
          "base_uri": "https://localhost:8080/"
        },
        "id": "p2CV4VtLsQxo",
        "outputId": "dd750208-222c-4be7-eca5-836e2ed01769"
      },
      "execution_count": null,
      "outputs": [
        {
          "output_type": "stream",
          "name": "stdout",
          "text": [
            "{'id1': ['Armando', 'Endereço1', ['12345678', '8899887766']], 'id2': ['Maria', 'Endereço2', ['88997766']]}\n"
          ]
        }
      ]
    },
    {
      "cell_type": "code",
      "source": [],
      "metadata": {
        "id": "DOU-XdPTtHNW"
      },
      "execution_count": null,
      "outputs": []
    },
    {
      "cell_type": "code",
      "source": [
        "d1 = {\n",
        "    1: 'a', 2: 'b', 3: 'c'\n",
        "}"
      ],
      "metadata": {
        "id": "K9GzWf_3MW2X"
      },
      "execution_count": null,
      "outputs": []
    },
    {
      "cell_type": "code",
      "source": [
        "d2 = d1.copy()"
      ],
      "metadata": {
        "id": "Y8stBdIxMbdA"
      },
      "execution_count": null,
      "outputs": []
    },
    {
      "cell_type": "code",
      "source": [
        "print(d2)"
      ],
      "metadata": {
        "colab": {
          "base_uri": "https://localhost:8080/"
        },
        "id": "wSrBwyrcMfeG",
        "outputId": "cff33189-84d0-4165-efc1-d0e89dc4b105"
      },
      "execution_count": null,
      "outputs": [
        {
          "output_type": "stream",
          "name": "stdout",
          "text": [
            "{1: 'a', 2: 'b', 3: 'c'}\n"
          ]
        }
      ]
    },
    {
      "cell_type": "code",
      "source": [],
      "metadata": {
        "id": "ySmwlKt4MgoJ"
      },
      "execution_count": null,
      "outputs": []
    }
  ]
}