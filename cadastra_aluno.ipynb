{
  "nbformat": 4,
  "nbformat_minor": 0,
  "metadata": {
    "colab": {
      "provenance": [],
      "authorship_tag": "ABX9TyNAvej6mKfPp2Epmi5E6Y6e",
      "include_colab_link": true
    },
    "kernelspec": {
      "name": "python3",
      "display_name": "Python 3"
    },
    "language_info": {
      "name": "python"
    }
  },
  "cells": [
    {
      "cell_type": "markdown",
      "metadata": {
        "id": "view-in-github",
        "colab_type": "text"
      },
      "source": [
        "<a href=\"https://colab.research.google.com/github/armandossrecife/lp20231/blob/main/cadastra_aluno.ipynb\" target=\"_parent\"><img src=\"https://colab.research.google.com/assets/colab-badge.svg\" alt=\"Open In Colab\"/></a>"
      ]
    },
    {
      "cell_type": "code",
      "execution_count": 1,
      "metadata": {
        "id": "OvFRyyCLZgKo"
      },
      "outputs": [],
      "source": [
        "# ler dados de um aluno \n",
        "\n",
        "# Guardar os alunos em um dicionario\n",
        "\n",
        "# Inserir um aluno no dicionario \n",
        "\n",
        "# Listar os alunos cadastrados no dicionario\n",
        "\n",
        "# Criar um menu de opcoes (1. Inserir aluno, 2. Listar alunos cadastrados, 3. Sair)"
      ]
    },
    {
      "cell_type": "code",
      "source": [
        "dicionario_alunos = {}\n",
        "\n",
        "def ler_dados_aluno():\n",
        "  matricula = input(\"Qual a matrícula? \")\n",
        "  nome = input(\"Qual o nome? \")\n",
        "  notas = input(\"Digite 3 notas separadas por vírgula: \")\n",
        "  notas = notas.split(',')\n",
        "  aluno = (matricula, nome, notas)\n",
        "  return aluno\n",
        "\n",
        "def inserir_aluno(aluno):\n",
        "  chave = aluno[0]\n",
        "  dados_aluno = (aluno[1], aluno[2])\n",
        "  dicionario_alunos[chave] = dados_aluno\n",
        "  print(\"aluno inserido com sucesso!\")\n",
        "\n",
        "def listar_alunos():\n",
        "  for item in dicionario_alunos.items():\n",
        "    print(item)\n",
        "\n",
        "def meu_menu():\n",
        "  print(\"1. Inserir aluno\") \n",
        "  print(\"2. Listar alunos cadastrados\")\n",
        "  print(\"3. Sair\")\n",
        "\n",
        "aluno_temp = None\n",
        "while(True):\n",
        "  meu_menu()\n",
        "  opcao = input(\"Qual sua opção? \")\n",
        "  if opcao == '1':\n",
        "    aluno_temp = ler_dados_aluno()\n",
        "    inserir_aluno(aluno_temp)\n",
        "  elif opcao == '2': \n",
        "    listar_alunos()\n",
        "  elif opcao == '3':\n",
        "    break\n",
        "  else:\n",
        "    print(\"Opcao inválida!\")"
      ],
      "metadata": {
        "colab": {
          "base_uri": "https://localhost:8080/",
          "height": 943
        },
        "id": "jOenRmvIZ1ed",
        "outputId": "a66ecc6c-5a31-44d4-ff39-2f6cbdbad0f6"
      },
      "execution_count": 12,
      "outputs": [
        {
          "output_type": "stream",
          "name": "stdout",
          "text": [
            "1. Inserir aluno\n",
            "2. Listar alunos cadastrados\n",
            "3. Sair\n",
            "Qual sua opção? 1\n",
            "Qual a matrícula? 111-11\n",
            "Qual o nome? Maria Joaquina\n",
            "Digite 3 notas separadas por vírgula: 10,8,9\n",
            "aluno inserido com sucesso!\n",
            "1. Inserir aluno\n",
            "2. Listar alunos cadastrados\n",
            "3. Sair\n",
            "Qual sua opção? 2\n",
            "('111-11', ('Maria Joaquina', ['10', '8', '9']))\n",
            "1. Inserir aluno\n",
            "2. Listar alunos cadastrados\n",
            "3. Sair\n",
            "Qual sua opção? 1\n",
            "Qual a matrícula? 222-22\n",
            "Qual o nome? Ana Carla\n",
            "Digite 3 notas separadas por vírgula: 8,9,9\n",
            "aluno inserido com sucesso!\n",
            "1. Inserir aluno\n",
            "2. Listar alunos cadastrados\n",
            "3. Sair\n",
            "Qual sua opção? 2\n",
            "('111-11', ('Maria Joaquina', ['10', '8', '9']))\n",
            "('222-22', ('Ana Carla', ['8', '9', '9']))\n",
            "1. Inserir aluno\n",
            "2. Listar alunos cadastrados\n",
            "3. Sair\n"
          ]
        },
        {
          "output_type": "error",
          "ename": "KeyboardInterrupt",
          "evalue": "ignored",
          "traceback": [
            "\u001b[0;31m---------------------------------------------------------------------------\u001b[0m",
            "\u001b[0;31mKeyboardInterrupt\u001b[0m                         Traceback (most recent call last)",
            "\u001b[0;32m<ipython-input-12-e1e48e8515ac>\u001b[0m in \u001b[0;36m<cell line: 27>\u001b[0;34m()\u001b[0m\n\u001b[1;32m     27\u001b[0m \u001b[0;32mwhile\u001b[0m\u001b[0;34m(\u001b[0m\u001b[0;32mTrue\u001b[0m\u001b[0;34m)\u001b[0m\u001b[0;34m:\u001b[0m\u001b[0;34m\u001b[0m\u001b[0;34m\u001b[0m\u001b[0m\n\u001b[1;32m     28\u001b[0m   \u001b[0mmeu_menu\u001b[0m\u001b[0;34m(\u001b[0m\u001b[0;34m)\u001b[0m\u001b[0;34m\u001b[0m\u001b[0;34m\u001b[0m\u001b[0m\n\u001b[0;32m---> 29\u001b[0;31m   \u001b[0mopcao\u001b[0m \u001b[0;34m=\u001b[0m \u001b[0minput\u001b[0m\u001b[0;34m(\u001b[0m\u001b[0;34m\"Qual sua opção? \"\u001b[0m\u001b[0;34m)\u001b[0m\u001b[0;34m\u001b[0m\u001b[0;34m\u001b[0m\u001b[0m\n\u001b[0m\u001b[1;32m     30\u001b[0m   \u001b[0;32mif\u001b[0m \u001b[0mopcao\u001b[0m \u001b[0;34m==\u001b[0m \u001b[0;34m'1'\u001b[0m\u001b[0;34m:\u001b[0m\u001b[0;34m\u001b[0m\u001b[0;34m\u001b[0m\u001b[0m\n\u001b[1;32m     31\u001b[0m     \u001b[0maluno_temp\u001b[0m \u001b[0;34m=\u001b[0m \u001b[0mler_dados_aluno\u001b[0m\u001b[0;34m(\u001b[0m\u001b[0;34m)\u001b[0m\u001b[0;34m\u001b[0m\u001b[0;34m\u001b[0m\u001b[0m\n",
            "\u001b[0;32m/usr/local/lib/python3.10/dist-packages/ipykernel/kernelbase.py\u001b[0m in \u001b[0;36mraw_input\u001b[0;34m(self, prompt)\u001b[0m\n\u001b[1;32m    849\u001b[0m                 \u001b[0;34m\"raw_input was called, but this frontend does not support input requests.\"\u001b[0m\u001b[0;34m\u001b[0m\u001b[0;34m\u001b[0m\u001b[0m\n\u001b[1;32m    850\u001b[0m             )\n\u001b[0;32m--> 851\u001b[0;31m         return self._input_request(str(prompt),\n\u001b[0m\u001b[1;32m    852\u001b[0m             \u001b[0mself\u001b[0m\u001b[0;34m.\u001b[0m\u001b[0m_parent_ident\u001b[0m\u001b[0;34m,\u001b[0m\u001b[0;34m\u001b[0m\u001b[0;34m\u001b[0m\u001b[0m\n\u001b[1;32m    853\u001b[0m             \u001b[0mself\u001b[0m\u001b[0;34m.\u001b[0m\u001b[0m_parent_header\u001b[0m\u001b[0;34m,\u001b[0m\u001b[0;34m\u001b[0m\u001b[0;34m\u001b[0m\u001b[0m\n",
            "\u001b[0;32m/usr/local/lib/python3.10/dist-packages/ipykernel/kernelbase.py\u001b[0m in \u001b[0;36m_input_request\u001b[0;34m(self, prompt, ident, parent, password)\u001b[0m\n\u001b[1;32m    893\u001b[0m             \u001b[0;32mexcept\u001b[0m \u001b[0mKeyboardInterrupt\u001b[0m\u001b[0;34m:\u001b[0m\u001b[0;34m\u001b[0m\u001b[0;34m\u001b[0m\u001b[0m\n\u001b[1;32m    894\u001b[0m                 \u001b[0;31m# re-raise KeyboardInterrupt, to truncate traceback\u001b[0m\u001b[0;34m\u001b[0m\u001b[0;34m\u001b[0m\u001b[0m\n\u001b[0;32m--> 895\u001b[0;31m                 \u001b[0;32mraise\u001b[0m \u001b[0mKeyboardInterrupt\u001b[0m\u001b[0;34m(\u001b[0m\u001b[0;34m\"Interrupted by user\"\u001b[0m\u001b[0;34m)\u001b[0m \u001b[0;32mfrom\u001b[0m \u001b[0;32mNone\u001b[0m\u001b[0;34m\u001b[0m\u001b[0;34m\u001b[0m\u001b[0m\n\u001b[0m\u001b[1;32m    896\u001b[0m             \u001b[0;32mexcept\u001b[0m \u001b[0mException\u001b[0m \u001b[0;32mas\u001b[0m \u001b[0me\u001b[0m\u001b[0;34m:\u001b[0m\u001b[0;34m\u001b[0m\u001b[0;34m\u001b[0m\u001b[0m\n\u001b[1;32m    897\u001b[0m                 \u001b[0mself\u001b[0m\u001b[0;34m.\u001b[0m\u001b[0mlog\u001b[0m\u001b[0;34m.\u001b[0m\u001b[0mwarning\u001b[0m\u001b[0;34m(\u001b[0m\u001b[0;34m\"Invalid Message:\"\u001b[0m\u001b[0;34m,\u001b[0m \u001b[0mexc_info\u001b[0m\u001b[0;34m=\u001b[0m\u001b[0;32mTrue\u001b[0m\u001b[0;34m)\u001b[0m\u001b[0;34m\u001b[0m\u001b[0;34m\u001b[0m\u001b[0m\n",
            "\u001b[0;31mKeyboardInterrupt\u001b[0m: Interrupted by user"
          ]
        }
      ]
    },
    {
      "cell_type": "code",
      "source": [],
      "metadata": {
        "id": "peOgdzoncV-N"
      },
      "execution_count": 9,
      "outputs": []
    }
  ]
}