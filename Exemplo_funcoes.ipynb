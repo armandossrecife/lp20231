{
  "nbformat": 4,
  "nbformat_minor": 0,
  "metadata": {
    "colab": {
      "provenance": [],
      "authorship_tag": "ABX9TyPREqx0J9iG4kLk4HQQpxKU",
      "include_colab_link": true
    },
    "kernelspec": {
      "name": "python3",
      "display_name": "Python 3"
    },
    "language_info": {
      "name": "python"
    }
  },
  "cells": [
    {
      "cell_type": "markdown",
      "metadata": {
        "id": "view-in-github",
        "colab_type": "text"
      },
      "source": [
        "<a href=\"https://colab.research.google.com/github/armandossrecife/lp20231/blob/main/Exemplo_funcoes.ipynb\" target=\"_parent\"><img src=\"https://colab.research.google.com/assets/colab-badge.svg\" alt=\"Open In Colab\"/></a>"
      ]
    },
    {
      "cell_type": "markdown",
      "source": [
        "# Funções em Python"
      ],
      "metadata": {
        "id": "l2Ba7CAqg176"
      }
    },
    {
      "cell_type": "code",
      "source": [
        "print('Armando')\n",
        "\n",
        "idade = 20\n",
        "\n",
        "if idade > 18:\n",
        "  print('A pessoa é maior de idade')\n",
        "else:\n",
        "  print('A pessoa é menor de idade')\n",
        "\n",
        "print('outra instrução')\n",
        "print('outra instrução')\n",
        "print('outra instrução')\n",
        "print('outra instrução')\n",
        "print('outra instrução')\n"
      ],
      "metadata": {
        "colab": {
          "base_uri": "https://localhost:8080/"
        },
        "id": "pVxAA4ZoR-qm",
        "outputId": "b264810d-02a0-4669-e311-240222c48b11"
      },
      "execution_count": 1,
      "outputs": [
        {
          "output_type": "stream",
          "name": "stdout",
          "text": [
            "Armando\n",
            "A pessoa é maior de idade\n",
            "outra instrução\n",
            "outra instrução\n",
            "outra instrução\n",
            "outra instrução\n",
            "outra instrução\n"
          ]
        }
      ]
    },
    {
      "cell_type": "code",
      "source": [
        "def f(x):\n",
        "  return x+1"
      ],
      "metadata": {
        "id": "HXVIrFZBTrwU"
      },
      "execution_count": 2,
      "outputs": []
    },
    {
      "cell_type": "code",
      "source": [
        "print(f(1))"
      ],
      "metadata": {
        "colab": {
          "base_uri": "https://localhost:8080/"
        },
        "id": "d5hNzEhYTzLo",
        "outputId": "cfcccd6d-4302-4dd3-a855-ed2b7cf5d167"
      },
      "execution_count": null,
      "outputs": [
        {
          "output_type": "stream",
          "name": "stdout",
          "text": [
            "2\n"
          ]
        }
      ]
    },
    {
      "cell_type": "code",
      "source": [
        "def minha_funcao(x,z):\n",
        "  x = 2*z;\n",
        "  return x"
      ],
      "metadata": {
        "id": "pyu8nLbJT1ij"
      },
      "execution_count": 3,
      "outputs": []
    },
    {
      "cell_type": "code",
      "source": [
        "print(minha_funcao(1,1))"
      ],
      "metadata": {
        "colab": {
          "base_uri": "https://localhost:8080/"
        },
        "id": "hAGE69q9UAYg",
        "outputId": "fef60e77-980d-41e0-8487-8a9657b873fd"
      },
      "execution_count": null,
      "outputs": [
        {
          "output_type": "stream",
          "name": "stdout",
          "text": [
            "2\n"
          ]
        }
      ]
    },
    {
      "cell_type": "code",
      "source": [
        "def repete_palavra(nome):\n",
        "  print(nome)\n",
        "  print(nome)\n",
        "  print(nome)"
      ],
      "metadata": {
        "id": "hPJ_NRsiUC4W"
      },
      "execution_count": 4,
      "outputs": []
    },
    {
      "cell_type": "code",
      "source": [
        "repete_palavra('Armando')"
      ],
      "metadata": {
        "colab": {
          "base_uri": "https://localhost:8080/"
        },
        "id": "QOd-Gd--UZjG",
        "outputId": "67070b9c-41c4-4639-b689-1d670ad5e814"
      },
      "execution_count": 5,
      "outputs": [
        {
          "output_type": "stream",
          "name": "stdout",
          "text": [
            "Armando\n",
            "Armando\n",
            "Armando\n"
          ]
        }
      ]
    },
    {
      "cell_type": "code",
      "source": [
        "def bem_vindo():\n",
        "  print('Bem vindo ao Python')\n",
        "  print('O python é uma linguagem de programação muito fácil!')"
      ],
      "metadata": {
        "id": "1Asas7xxUmbO"
      },
      "execution_count": 7,
      "outputs": []
    },
    {
      "cell_type": "code",
      "source": [
        "bem_vindo()"
      ],
      "metadata": {
        "colab": {
          "base_uri": "https://localhost:8080/"
        },
        "id": "DppipvnMUWE7",
        "outputId": "52fcd8cd-afef-42b8-d37e-7dcf2c841f0e"
      },
      "execution_count": 8,
      "outputs": [
        {
          "output_type": "stream",
          "name": "stdout",
          "text": [
            "Bem vindo ao Python\n",
            "O python é uma linguagem de programação muito fácil!\n"
          ]
        }
      ]
    },
    {
      "cell_type": "code",
      "source": [
        "for i in range(5):\n",
        "  bem_vindo()"
      ],
      "metadata": {
        "colab": {
          "base_uri": "https://localhost:8080/"
        },
        "id": "RrTxGDdSU05Z",
        "outputId": "52f11295-1ac8-420b-bbb2-c02413442239"
      },
      "execution_count": 9,
      "outputs": [
        {
          "output_type": "stream",
          "name": "stdout",
          "text": [
            "Bem vindo ao Python\n",
            "O python é uma linguagem de programação muito fácil!\n",
            "Bem vindo ao Python\n",
            "O python é uma linguagem de programação muito fácil!\n",
            "Bem vindo ao Python\n",
            "O python é uma linguagem de programação muito fácil!\n",
            "Bem vindo ao Python\n",
            "O python é uma linguagem de programação muito fácil!\n",
            "Bem vindo ao Python\n",
            "O python é uma linguagem de programação muito fácil!\n"
          ]
        }
      ]
    },
    {
      "cell_type": "code",
      "source": [
        "def nome_completo(primeiro, meio, ultimo):\n",
        "  nome = primeiro + ' ' + meio + ' ' + ultimo\n",
        "  nome = nome.upper()\n",
        "  print(nome)"
      ],
      "metadata": {
        "id": "D3S8_OwdU7Bv"
      },
      "execution_count": 11,
      "outputs": []
    },
    {
      "cell_type": "code",
      "source": [
        "nome_completo('Armando', 'Soares', 'Sousa')"
      ],
      "metadata": {
        "colab": {
          "base_uri": "https://localhost:8080/"
        },
        "id": "d8o898YjVm8y",
        "outputId": "c9a967aa-a35f-4afb-e2ca-88b89bceaaa1"
      },
      "execution_count": null,
      "outputs": [
        {
          "output_type": "stream",
          "name": "stdout",
          "text": [
            "ARMANDO SOARES SOUSA\n"
          ]
        }
      ]
    },
    {
      "cell_type": "code",
      "source": [
        "def soma_inteiros(lista_inteiros):\n",
        "  soma = 0\n",
        "  for item in lista_inteiros:\n",
        "    soma = soma + item\n",
        "  return soma"
      ],
      "metadata": {
        "id": "9AZcZaFQVq7F"
      },
      "execution_count": 12,
      "outputs": []
    },
    {
      "cell_type": "code",
      "source": [
        "soma_inteiros([1,3,7,9])"
      ],
      "metadata": {
        "colab": {
          "base_uri": "https://localhost:8080/"
        },
        "id": "AF4iqoxTWahM",
        "outputId": "a6ccd0d4-2a73-430b-89f2-1620865e27e0"
      },
      "execution_count": 13,
      "outputs": [
        {
          "output_type": "execute_result",
          "data": {
            "text/plain": [
              "20"
            ]
          },
          "metadata": {},
          "execution_count": 13
        }
      ]
    },
    {
      "cell_type": "code",
      "source": [
        "def bem_vindo_usuario(nome='Usuário'):  \n",
        "  print(f'Caro {nome} seja bem vindo ao meu programa')\n",
        "  print('O meu programa é muito bom!')"
      ],
      "metadata": {
        "id": "qH9iomgHWfsX"
      },
      "execution_count": 14,
      "outputs": []
    },
    {
      "cell_type": "code",
      "source": [
        "login_usuario = 'armando'\n",
        "bem_vindo_usuario(login_usuario)"
      ],
      "metadata": {
        "colab": {
          "base_uri": "https://localhost:8080/"
        },
        "id": "ozI4tzkoW5NQ",
        "outputId": "279648ac-1c4e-4c35-8867-0d2eb812f3b5"
      },
      "execution_count": null,
      "outputs": [
        {
          "output_type": "stream",
          "name": "stdout",
          "text": [
            "Caro armando seja bem vindo ao meu programa\n",
            "O meu programa é muito bom!\n"
          ]
        }
      ]
    },
    {
      "cell_type": "code",
      "source": [
        "bem_vindo_usuario()"
      ],
      "metadata": {
        "colab": {
          "base_uri": "https://localhost:8080/"
        },
        "id": "HatzD_tOXEX2",
        "outputId": "5d10f187-dce3-4be2-c376-a28a22a98aa8"
      },
      "execution_count": null,
      "outputs": [
        {
          "output_type": "stream",
          "name": "stdout",
          "text": [
            "Caro Usuário seja bem vindo ao meu programa\n",
            "O meu programa é muito bom!\n"
          ]
        }
      ]
    },
    {
      "cell_type": "code",
      "source": [
        "def area_retangulo(base, altura):\n",
        "  area = base*altura\n",
        "  return area"
      ],
      "metadata": {
        "id": "6qwSC1WSXRlO"
      },
      "execution_count": 15,
      "outputs": []
    },
    {
      "cell_type": "code",
      "source": [
        "area_retangulo(5,10)"
      ],
      "metadata": {
        "colab": {
          "base_uri": "https://localhost:8080/"
        },
        "id": "XuFX9qTmXoTw",
        "outputId": "2b1188f3-5fec-458b-e148-6537e10d3189"
      },
      "execution_count": null,
      "outputs": [
        {
          "output_type": "execute_result",
          "data": {
            "text/plain": [
              "50"
            ]
          },
          "metadata": {},
          "execution_count": 22
        }
      ]
    },
    {
      "cell_type": "code",
      "source": [
        "area_retangulo(altura=5, base=10)"
      ],
      "metadata": {
        "colab": {
          "base_uri": "https://localhost:8080/"
        },
        "id": "0kl8b9fyXq8R",
        "outputId": "175a71fc-2cc6-484e-b9cd-ae765b09ae08"
      },
      "execution_count": 16,
      "outputs": [
        {
          "output_type": "execute_result",
          "data": {
            "text/plain": [
              "50"
            ]
          },
          "metadata": {},
          "execution_count": 16
        }
      ]
    },
    {
      "cell_type": "code",
      "source": [
        "def nome_completo_em_maiusculo(*nome):\n",
        "  # nome recebe uma tupla de N valores\n",
        "  for item in nome: \n",
        "    print(item.upper())\n"
      ],
      "metadata": {
        "id": "qqW67xfWYmW2"
      },
      "execution_count": 17,
      "outputs": []
    },
    {
      "cell_type": "code",
      "source": [
        "nome_completo_em_maiusculo('Armando', 'Soares', 'Sousa')"
      ],
      "metadata": {
        "colab": {
          "base_uri": "https://localhost:8080/"
        },
        "id": "UFwpgUEXZDEb",
        "outputId": "b0f7a9d7-6702-4e55-b55b-f26a364b6d79"
      },
      "execution_count": null,
      "outputs": [
        {
          "output_type": "stream",
          "name": "stdout",
          "text": [
            "ARMANDO\n",
            "SOARES\n",
            "SOUSA\n"
          ]
        }
      ]
    },
    {
      "cell_type": "code",
      "source": [
        "nome_completo_em_maiusculo('Maria', 'Joaquina', 'Amaral', 'Pereira', 'Goes')"
      ],
      "metadata": {
        "colab": {
          "base_uri": "https://localhost:8080/"
        },
        "id": "wdEwsQ15ZJNd",
        "outputId": "37c7e59c-bb5d-4f93-989b-154ccecf891e"
      },
      "execution_count": 18,
      "outputs": [
        {
          "output_type": "stream",
          "name": "stdout",
          "text": [
            "MARIA\n",
            "JOAQUINA\n",
            "AMARAL\n",
            "PEREIRA\n",
            "GOES\n"
          ]
        }
      ]
    },
    {
      "cell_type": "code",
      "source": [
        "def guarda_dados_cliente(**dados):\n",
        "  for k, v in dados.items():\n",
        "    print(k, v)"
      ],
      "metadata": {
        "id": "Ss-TpHFWZV04"
      },
      "execution_count": 20,
      "outputs": []
    },
    {
      "cell_type": "code",
      "source": [
        "guarda_dados_cliente(cpf='777888999343', nome='Armando Soares')"
      ],
      "metadata": {
        "colab": {
          "base_uri": "https://localhost:8080/"
        },
        "id": "vrnc05LMaegd",
        "outputId": "117f5989-3aeb-4b1b-ed10-3eb219ffb6b2"
      },
      "execution_count": 21,
      "outputs": [
        {
          "output_type": "stream",
          "name": "stdout",
          "text": [
            "cpf 777888999343\n",
            "nome Armando Soares\n"
          ]
        }
      ]
    },
    {
      "cell_type": "code",
      "source": [
        "guarda_dados_cliente(cpf='77773423423', nome='Maria Joaquina', email='mj@gmail.com')"
      ],
      "metadata": {
        "colab": {
          "base_uri": "https://localhost:8080/"
        },
        "id": "zVPbI5iaak-k",
        "outputId": "6e266f66-3720-4f93-9867-3c65c82781e4"
      },
      "execution_count": 22,
      "outputs": [
        {
          "output_type": "stream",
          "name": "stdout",
          "text": [
            "cpf 77773423423\n",
            "nome Maria Joaquina\n",
            "email mj@gmail.com\n"
          ]
        }
      ]
    },
    {
      "cell_type": "code",
      "source": [
        "guarda_dados_cliente(cpf='45345345', nome='José da Silva', email='js@gmail.com', lista_telefones=['(86)934534534', '(86)2342343'])"
      ],
      "metadata": {
        "colab": {
          "base_uri": "https://localhost:8080/"
        },
        "id": "M6UibFCCa4uG",
        "outputId": "8bd012f4-057c-4d0b-ddb7-35cefec5c829"
      },
      "execution_count": 23,
      "outputs": [
        {
          "output_type": "stream",
          "name": "stdout",
          "text": [
            "cpf 45345345\n",
            "nome José da Silva\n",
            "email js@gmail.com\n",
            "lista_telefones ['(86)934534534', '(86)2342343']\n"
          ]
        }
      ]
    },
    {
      "cell_type": "code",
      "source": [],
      "metadata": {
        "id": "fRUu6E57bHC3"
      },
      "execution_count": null,
      "outputs": []
    }
  ]
}