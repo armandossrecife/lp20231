{
  "nbformat": 4,
  "nbformat_minor": 0,
  "metadata": {
    "colab": {
      "provenance": [],
      "authorship_tag": "ABX9TyOApQrfz8AAAho4QaKcMEg7",
      "include_colab_link": true
    },
    "kernelspec": {
      "name": "python3",
      "display_name": "Python 3"
    },
    "language_info": {
      "name": "python"
    }
  },
  "cells": [
    {
      "cell_type": "markdown",
      "metadata": {
        "id": "view-in-github",
        "colab_type": "text"
      },
      "source": [
        "<a href=\"https://colab.research.google.com/github/armandossrecife/lp20231/blob/main/introducao_ao_python1.ipynb\" target=\"_parent\"><img src=\"https://colab.research.google.com/assets/colab-badge.svg\" alt=\"Open In Colab\"/></a>"
      ]
    },
    {
      "cell_type": "markdown",
      "source": [
        "# Introdução ao Python"
      ],
      "metadata": {
        "id": "2B5iLjifBV51"
      }
    },
    {
      "cell_type": "markdown",
      "source": [
        "Tutorial Python disponível em https://docs.python.org/3/tutorial/index.html by Python.org"
      ],
      "metadata": {
        "id": "ICD4uA33Br4w"
      }
    },
    {
      "cell_type": "code",
      "source": [
        "print(\"Bem vindo ao Python!\")\n",
        "print(\"Bem vindo ao Google Colab\")"
      ],
      "metadata": {
        "colab": {
          "base_uri": "https://localhost:8080/"
        },
        "id": "0SzJw_HgBX3L",
        "outputId": "76d4bc3e-066b-46af-899a-3498ccc432dc"
      },
      "execution_count": null,
      "outputs": [
        {
          "output_type": "stream",
          "name": "stdout",
          "text": [
            "Bem vindo ao Python!\n",
            "Bem vindo ao Google Colab\n"
          ]
        }
      ]
    },
    {
      "cell_type": "markdown",
      "source": [
        "Exemplo: "
      ],
      "metadata": {
        "id": "_ddY-VYcB8fB"
      }
    },
    {
      "cell_type": "code",
      "source": [
        "idade = 18\n",
        "if idade >= 18:\n",
        "  print(\"Pode fazer o teste para tirar a habilitação\")\n",
        "else:\n",
        "  print(\"Ainda não pode dirigir.\")"
      ],
      "metadata": {
        "colab": {
          "base_uri": "https://localhost:8080/"
        },
        "id": "eaDSju3tBaX8",
        "outputId": "23ecc3c5-6fbd-44af-cd29-6c4d46a324a9"
      },
      "execution_count": null,
      "outputs": [
        {
          "output_type": "stream",
          "name": "stdout",
          "text": [
            "Pode fazer o teste para tirar a habilitação\n"
          ]
        }
      ]
    },
    {
      "cell_type": "markdown",
      "source": [
        "Uso de identação para marcar blocos de código"
      ],
      "metadata": {
        "id": "9ZaWisXbRDPN"
      }
    },
    {
      "cell_type": "code",
      "source": [
        "for num in range(10,20):\n",
        "  for i in range(2, num):\n",
        "    if num % i == 0:\n",
        "      j = num / i\n",
        "      print(f'{num} equals {i}*{j}')\n",
        "      break\n",
        "    else:\n",
        "      print(f'{num} is a prime number')\n",
        "      break"
      ],
      "metadata": {
        "colab": {
          "base_uri": "https://localhost:8080/"
        },
        "id": "CYSjhbVsCCaK",
        "outputId": "e1d31693-45ca-4296-9a1f-88ba05a1ece4"
      },
      "execution_count": null,
      "outputs": [
        {
          "output_type": "stream",
          "name": "stdout",
          "text": [
            "10 equals 2*5.0\n",
            "11 is a prime number\n",
            "12 equals 2*6.0\n",
            "13 is a prime number\n",
            "14 equals 2*7.0\n",
            "15 is a prime number\n",
            "16 equals 2*8.0\n",
            "17 is a prime number\n",
            "18 equals 2*9.0\n",
            "19 is a prime number\n"
          ]
        }
      ]
    },
    {
      "cell_type": "markdown",
      "source": [
        "Exemplo de lista de nomes de alunos"
      ],
      "metadata": {
        "id": "UwFreGokRjCe"
      }
    },
    {
      "cell_type": "code",
      "source": [
        "lista_alunos = ['maria', 'francisco', 'antônio']\n",
        "lista_alunos.sort()\n",
        "for item in lista_alunos:\n",
        "  print(item)"
      ],
      "metadata": {
        "colab": {
          "base_uri": "https://localhost:8080/"
        },
        "id": "2IouS0cCRZfI",
        "outputId": "63212290-aee8-4b49-92e3-7a0ca378294f"
      },
      "execution_count": null,
      "outputs": [
        {
          "output_type": "stream",
          "name": "stdout",
          "text": [
            "antônio\n",
            "francisco\n",
            "maria\n"
          ]
        }
      ]
    },
    {
      "cell_type": "code",
      "source": [
        "for item in lista_alunos:\n",
        "  print(item.capitalize())"
      ],
      "metadata": {
        "colab": {
          "base_uri": "https://localhost:8080/"
        },
        "id": "Osl90lEeRhJO",
        "outputId": "702569af-af98-4549-99b9-279f91dad6dd"
      },
      "execution_count": null,
      "outputs": [
        {
          "output_type": "stream",
          "name": "stdout",
          "text": [
            "Antônio\n",
            "Francisco\n",
            "Maria\n"
          ]
        }
      ]
    },
    {
      "cell_type": "markdown",
      "source": [
        "Gráficos em 3D"
      ],
      "metadata": {
        "id": "O0moRJfsScnl"
      }
    },
    {
      "cell_type": "code",
      "source": [
        "import matplotlib.pyplot as plt\n",
        "from matplotlib import cm\n",
        "import numpy as np\n",
        "from mpl_toolkits.mplot3d.axes3d import get_test_data"
      ],
      "metadata": {
        "id": "MLYfeb6wR2_V"
      },
      "execution_count": null,
      "outputs": []
    },
    {
      "cell_type": "code",
      "source": [
        "# set up a figure twice as wide as it is tall\n",
        "fig = plt.figure(figsize=plt.figaspect(0.25))\n",
        "# set up the axes for the first plot\n",
        "ax = fig.add_subplot(1, 2, 1, projection='3d')\n",
        "# plot a 3D surface like in the example mplot3d/surface3d_demo\n",
        "X = np.arange(-5, 5, 0.25)\n",
        "Y = np.arange(-5, 5, 0.25)\n",
        "X, Y = np.meshgrid(X, Y)\n",
        "R = np.sqrt(X**2 + Y**2)\n",
        "Z = np.sin(R)\n",
        "surf = ax.plot_surface(X, Y, Z, rstride=1, cstride=1, cmap=cm.coolwarm,linewidth=0, antialiased=False)\n",
        "ax.set_zlim(-1.01, 1.01)\n",
        "fig.colorbar(surf, shrink=0.5, aspect=10)\n",
        "plt.show()"
      ],
      "metadata": {
        "colab": {
          "base_uri": "https://localhost:8080/",
          "height": 248
        },
        "id": "Xg7s7fBaShO6",
        "outputId": "5b4a1b4a-459a-445e-a292-4c91f1f58101"
      },
      "execution_count": null,
      "outputs": [
        {
          "output_type": "display_data",
          "data": {
            "text/plain": [
              "<Figure size 1152x288 with 2 Axes>"
            ],
            "image/png": "[encoded data removed]"
          },
          "metadata": {
            "needs_background": "light"
          }
        }
      ]
    },
    {
      "cell_type": "markdown",
      "source": [
        "Exemplo de código"
      ],
      "metadata": {
        "id": "Qjnwau_vTDw6"
      }
    },
    {
      "cell_type": "code",
      "source": [
        "# Declaracao de variaveis\n",
        "ano_corrente = 2022\n",
        "periodo_corrente = 2\n",
        "\n",
        "curso1 = \"Ciência da Computação\"\n",
        "curso2 = \"Matemática\"\n",
        "curso3 = \"Estatística\"\n",
        "\n",
        "disciplina1 = \"Introdução a Ciência da Computação\"\n",
        "disciplina2 = \"Laboratório de Programação\"\n",
        "disciplina3 = \"Engenharia de Software\"\n",
        "\n",
        "aluno1 = \"Maria Joaquina\"\n",
        "aluno2 = \"Francisco da Silva\"\n",
        "aluno3 = \"Antônio Carlos\"\n",
        "aluno4 = \"Carlos Sampaio\"\n",
        "aluno5 = \"Eduarda Monteiro\"\n",
        "\n",
        "lista_alunos_2022_1 = [aluno1, aluno2, aluno3]\n",
        "lista_alunos_2022_2 = [aluno4, aluno5]\n",
        "\n",
        "lista_alunos_disciplina1 = lista_alunos_2022_2\n",
        "\n",
        "if ano_corrente==2022 and periodo_corrente==2:\n",
        "  mensagem = \"Bem vindos a disciplina \" + disciplina1\n",
        "  print(mensagem)\n",
        "  for item in lista_alunos_disciplina1:\n",
        "    print(item)"
      ],
      "metadata": {
        "colab": {
          "base_uri": "https://localhost:8080/"
        },
        "id": "xg-e7tdqSlb_",
        "outputId": "a77387db-dd8f-4a24-ea35-fac451c4add5"
      },
      "execution_count": null,
      "outputs": [
        {
          "output_type": "stream",
          "name": "stdout",
          "text": [
            "Bem vindos a disciplina Introdução a Ciência da Computação\n",
            "Carlos Sampaio\n",
            "Eduarda Monteiro\n"
          ]
        }
      ]
    },
    {
      "cell_type": "markdown",
      "source": [
        "Entrada de dados"
      ],
      "metadata": {
        "id": "aO9k7yIPrdEh"
      }
    },
    {
      "cell_type": "code",
      "source": [
        "ano_corrente = int(input('Qual o ano corrente? '))\n",
        "data_nascimento = int(input('Qual seu ano de nascimento? '))\n",
        "\n",
        "idade = ano_corrente - data_nascimento\n",
        "print(f'Idade atual: {idade}')"
      ],
      "metadata": {
        "colab": {
          "base_uri": "https://localhost:8080/"
        },
        "id": "fUtiR8yVSn6p",
        "outputId": "f2dd32df-166f-44f2-9575-2199796f87c1"
      },
      "execution_count": null,
      "outputs": [
        {
          "output_type": "stream",
          "name": "stdout",
          "text": [
            "Qual o ano corrente? 2023\n",
            "Qual seu ano de nascimento? 1979\n",
            "Idade atual: 44\n"
          ]
        }
      ]
    },
    {
      "cell_type": "markdown",
      "source": [
        "Tipo String"
      ],
      "metadata": {
        "id": "RS3Vxq6IsJKt"
      }
    },
    {
      "cell_type": "code",
      "source": [
        "mensagem = 'Hello'\n",
        "print(mensagem)"
      ],
      "metadata": {
        "colab": {
          "base_uri": "https://localhost:8080/"
        },
        "id": "nBDyFeh3rx6B",
        "outputId": "570efc28-2422-4323-b3a7-94aabe8128fd"
      },
      "execution_count": null,
      "outputs": [
        {
          "output_type": "stream",
          "name": "stdout",
          "text": [
            "Hello\n"
          ]
        }
      ]
    },
    {
      "cell_type": "code",
      "source": [
        " print(mensagem[0])\n",
        " print(mensagem[1])\n",
        " print(mensagem[2])\n",
        " print(mensagem[3])\n",
        " print(mensagem[4])\n"
      ],
      "metadata": {
        "colab": {
          "base_uri": "https://localhost:8080/"
        },
        "id": "wzEINZw0sN4a",
        "outputId": "f7652342-f81a-43e4-ced8-07f103c98fa1"
      },
      "execution_count": null,
      "outputs": [
        {
          "output_type": "stream",
          "name": "stdout",
          "text": [
            "H\n",
            "e\n",
            "l\n",
            "l\n",
            "o\n"
          ]
        }
      ]
    },
    {
      "cell_type": "code",
      "source": [
        " print(mensagem[-5])\n",
        " print(mensagem[-4])\n",
        " print(mensagem[-3])\n",
        " print(mensagem[-2])\n",
        " print(mensagem[-1])"
      ],
      "metadata": {
        "colab": {
          "base_uri": "https://localhost:8080/"
        },
        "id": "VPzwYV5msSHU",
        "outputId": "29517ea6-48a5-4bb5-ff88-f5d1bd1ff7f9"
      },
      "execution_count": null,
      "outputs": [
        {
          "output_type": "stream",
          "name": "stdout",
          "text": [
            "H\n",
            "e\n",
            "l\n",
            "l\n",
            "o\n"
          ]
        }
      ]
    },
    {
      "cell_type": "code",
      "source": [
        "str_texto = 'Armando Soares Sousa'\n",
        "\n",
        "print(str_texto)          # Prints complete string\n",
        "print(str_texto[0])       # Prints first character of the string\n",
        "print(str_texto[2:5])     # Prints characters starting from 3rd to 5th\n",
        "print(str_texto[2:])      # Prints string starting from 3rd character\n",
        "print(str_texto * 2)      # Prints string two times\n",
        "print(str_texto * 3)      # Prints string tree times\n",
        "print(str_texto + \"TEST\") # Prints concatenated string"
      ],
      "metadata": {
        "colab": {
          "base_uri": "https://localhost:8080/"
        },
        "id": "pvX-1HW3sbs5",
        "outputId": "81ea7eff-f379-41b3-beab-da06b066dc94"
      },
      "execution_count": null,
      "outputs": [
        {
          "output_type": "stream",
          "name": "stdout",
          "text": [
            "Armando Soares Sousa\n",
            "A\n",
            "man\n",
            "mando Soares Sousa\n",
            "Armando Soares SousaArmando Soares Sousa\n",
            "Armando Soares SousaArmando Soares SousaArmando Soares Sousa\n",
            "Armando Soares SousaTEST\n"
          ]
        }
      ]
    },
    {
      "cell_type": "code",
      "source": [
        "print(str_texto.upper() )\n",
        "print(str_texto.lower() )\n",
        "print(str_texto.capitalize() )\n",
        "print(str_texto.find(\"Sousa\") )\n",
        "print(str_texto.index('Sousa'))\n",
        "print(str_texto.isalpha() )\n",
        "print(str_texto.endswith(\"Sousa\"))"
      ],
      "metadata": {
        "colab": {
          "base_uri": "https://localhost:8080/"
        },
        "id": "BNhdAwc1yZhm",
        "outputId": "c265371f-497a-4798-e63a-e3c02c09b301"
      },
      "execution_count": null,
      "outputs": [
        {
          "output_type": "stream",
          "name": "stdout",
          "text": [
            "ARMANDO SOARES SOUSA\n",
            "armando soares sousa\n",
            "Armando soares sousa\n",
            "15\n",
            "15\n",
            "False\n",
            "True\n"
          ]
        }
      ]
    },
    {
      "cell_type": "code",
      "source": [],
      "metadata": {
        "id": "1iRFnuagydb0"
      },
      "execution_count": null,
      "outputs": []
    }
  ]
}