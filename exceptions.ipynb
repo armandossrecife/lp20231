{
  "nbformat": 4,
  "nbformat_minor": 0,
  "metadata": {
    "colab": {
      "provenance": [],
      "authorship_tag": "ABX9TyP0ZGaXuvRdilOEQcy4Of9B",
      "include_colab_link": true
    },
    "kernelspec": {
      "name": "python3",
      "display_name": "Python 3"
    },
    "language_info": {
      "name": "python"
    }
  },
  "cells": [
    {
      "cell_type": "markdown",
      "metadata": {
        "id": "view-in-github",
        "colab_type": "text"
      },
      "source": [
        "<a href=\"https://colab.research.google.com/github/armandossrecife/lp20231/blob/main/exceptions.ipynb\" target=\"_parent\"><img src=\"https://colab.research.google.com/assets/colab-badge.svg\" alt=\"Open In Colab\"/></a>"
      ]
    },
    {
      "cell_type": "markdown",
      "source": [
        "# Tópicos básicos para tratamento de exceção em Python"
      ],
      "metadata": {
        "id": "lOzKkH2qBM9M"
      }
    },
    {
      "cell_type": "markdown",
      "source": [
        "**Tipos de Erros**: Familiarize-se com os diferentes tipos de erros ou exceções que podem ocorrer em Python, como SyntaxError, NameError, TypeError, ValueError, etc. Entenda seus significados e quando são gerados.\n",
        "\n",
        "**Bloco Try-Except**: Aprenda a usar o bloco try-except para capturar e tratar exceções. Isso permite que você antecipe e lide com possíveis erros em seu código.\n",
        "\n",
        "**Tratamento de Exceções**: Explore diferentes maneiras de lidar com exceções, como capturar exceções específicas, lidar com várias exceções e usar o bloco except genérico.\n",
        "\n",
        "**Levantando Exceções**: Entenda como levantar exceções explicitamente usando a palavra-chave raise. Isso é útil quando você deseja sinalizar uma condição de erro em seu código.\n",
        "\n",
        "**Hierarquia de Exceções**: O Python possui uma hierarquia de classes de exceção, em que algumas exceções são subclasses de outras. Saiba mais sobre essa hierarquia e como ela pode ajudar a capturar e tratar exceções de maneira mais eficaz.\n",
        "\n",
        "**Tratando Múltiplas Exceções**: Aprenda a lidar com várias exceções em um único bloco except usando a sintaxe de tupla ou tratando a classe de exceção base.\n",
        "\n",
        "**Bloco Finally**: Compreenda a finalidade do bloco finally e como ele é usado para definir ações de limpeza que devem ser executadas independentemente de uma exceção ter sido gerada ou não.\n",
        "\n",
        "**Exceções Personalizadas**: Explore como definir e levantar suas próprias exceções personalizadas quando seu código encontrar condições de erro específicas que requerem tratamento especial."
      ],
      "metadata": {
        "id": "HhFqZiE3BXGg"
      }
    },
    {
      "cell_type": "markdown",
      "source": [
        "## Tipos de Erros"
      ],
      "metadata": {
        "id": "jJm5xVlmB5iT"
      }
    },
    {
      "cell_type": "code",
      "execution_count": 12,
      "metadata": {
        "colab": {
          "base_uri": "https://localhost:8080/",
          "height": 131
        },
        "id": "AUasb9k3BB83",
        "outputId": "819e5557-398d-49e6-f86b-3143e43f9255"
      },
      "outputs": [
        {
          "output_type": "error",
          "ename": "SyntaxError",
          "evalue": "ignored",
          "traceback": [
            "\u001b[0;36m  File \u001b[0;32m\"<ipython-input-12-51349adeb649>\"\u001b[0;36m, line \u001b[0;32m4\u001b[0m\n\u001b[0;31m    if condition\u001b[0m\n\u001b[0m                ^\u001b[0m\n\u001b[0;31mSyntaxError\u001b[0m\u001b[0;31m:\u001b[0m expected ':'\n"
          ]
        }
      ],
      "source": [
        "#SyntaxError:\n",
        "\n",
        "# Missing colon after the if statement\n",
        "if condition\n",
        "    print(\"Condition is True\")"
      ]
    },
    {
      "cell_type": "code",
      "source": [
        "#NameError:\n",
        "# Referencing an undefined variable\n",
        "x = 5\n",
        "print(y)"
      ],
      "metadata": {
        "colab": {
          "base_uri": "https://localhost:8080/",
          "height": 201
        },
        "id": "W63fMtZuJOdv",
        "outputId": "2bd46f1e-835f-438d-e944-d006e8bc097f"
      },
      "execution_count": 13,
      "outputs": [
        {
          "output_type": "error",
          "ename": "NameError",
          "evalue": "ignored",
          "traceback": [
            "\u001b[0;31m---------------------------------------------------------------------------\u001b[0m",
            "\u001b[0;31mNameError\u001b[0m                                 Traceback (most recent call last)",
            "\u001b[0;32m<ipython-input-13-715bdf0f201c>\u001b[0m in \u001b[0;36m<cell line: 4>\u001b[0;34m()\u001b[0m\n\u001b[1;32m      2\u001b[0m \u001b[0;31m# Referencing an undefined variable\u001b[0m\u001b[0;34m\u001b[0m\u001b[0;34m\u001b[0m\u001b[0m\n\u001b[1;32m      3\u001b[0m \u001b[0mx\u001b[0m \u001b[0;34m=\u001b[0m \u001b[0;36m5\u001b[0m\u001b[0;34m\u001b[0m\u001b[0;34m\u001b[0m\u001b[0m\n\u001b[0;32m----> 4\u001b[0;31m \u001b[0mprint\u001b[0m\u001b[0;34m(\u001b[0m\u001b[0my\u001b[0m\u001b[0;34m)\u001b[0m\u001b[0;34m\u001b[0m\u001b[0;34m\u001b[0m\u001b[0m\n\u001b[0m",
            "\u001b[0;31mNameError\u001b[0m: name 'y' is not defined"
          ]
        }
      ]
    },
    {
      "cell_type": "code",
      "source": [
        "#TypeError:\n",
        "# Attempting to concatenate a string and an integer\n",
        "x = \"Hello\"\n",
        "y = 10\n",
        "print(x + y)"
      ],
      "metadata": {
        "colab": {
          "base_uri": "https://localhost:8080/",
          "height": 201
        },
        "id": "3JUA4AR5JQj9",
        "outputId": "e7643ca6-9e55-48c7-d380-211f21720b89"
      },
      "execution_count": 14,
      "outputs": [
        {
          "output_type": "error",
          "ename": "TypeError",
          "evalue": "ignored",
          "traceback": [
            "\u001b[0;31m---------------------------------------------------------------------------\u001b[0m",
            "\u001b[0;31mTypeError\u001b[0m                                 Traceback (most recent call last)",
            "\u001b[0;32m<ipython-input-14-219a3354c815>\u001b[0m in \u001b[0;36m<cell line: 5>\u001b[0;34m()\u001b[0m\n\u001b[1;32m      3\u001b[0m \u001b[0mx\u001b[0m \u001b[0;34m=\u001b[0m \u001b[0;34m\"Hello\"\u001b[0m\u001b[0;34m\u001b[0m\u001b[0;34m\u001b[0m\u001b[0m\n\u001b[1;32m      4\u001b[0m \u001b[0my\u001b[0m \u001b[0;34m=\u001b[0m \u001b[0;36m10\u001b[0m\u001b[0;34m\u001b[0m\u001b[0;34m\u001b[0m\u001b[0m\n\u001b[0;32m----> 5\u001b[0;31m \u001b[0mprint\u001b[0m\u001b[0;34m(\u001b[0m\u001b[0mx\u001b[0m \u001b[0;34m+\u001b[0m \u001b[0my\u001b[0m\u001b[0;34m)\u001b[0m\u001b[0;34m\u001b[0m\u001b[0;34m\u001b[0m\u001b[0m\n\u001b[0m",
            "\u001b[0;31mTypeError\u001b[0m: can only concatenate str (not \"int\") to str"
          ]
        }
      ]
    },
    {
      "cell_type": "code",
      "source": [
        "#ValueError:\n",
        "# Converting an invalid string to an integer\n",
        "x = int(\"abc\")"
      ],
      "metadata": {
        "colab": {
          "base_uri": "https://localhost:8080/",
          "height": 201
        },
        "id": "t2rCUcRzJSf4",
        "outputId": "7f2b5369-8e00-420c-bb51-7c3c036539b6"
      },
      "execution_count": 15,
      "outputs": [
        {
          "output_type": "error",
          "ename": "ValueError",
          "evalue": "ignored",
          "traceback": [
            "\u001b[0;31m---------------------------------------------------------------------------\u001b[0m",
            "\u001b[0;31mValueError\u001b[0m                                Traceback (most recent call last)",
            "\u001b[0;32m<ipython-input-15-603ccdb06c70>\u001b[0m in \u001b[0;36m<cell line: 3>\u001b[0;34m()\u001b[0m\n\u001b[1;32m      1\u001b[0m \u001b[0;31m#ValueError:\u001b[0m\u001b[0;34m\u001b[0m\u001b[0;34m\u001b[0m\u001b[0m\n\u001b[1;32m      2\u001b[0m \u001b[0;31m# Converting an invalid string to an integer\u001b[0m\u001b[0;34m\u001b[0m\u001b[0;34m\u001b[0m\u001b[0m\n\u001b[0;32m----> 3\u001b[0;31m \u001b[0mx\u001b[0m \u001b[0;34m=\u001b[0m \u001b[0mint\u001b[0m\u001b[0;34m(\u001b[0m\u001b[0;34m\"abc\"\u001b[0m\u001b[0;34m)\u001b[0m\u001b[0;34m\u001b[0m\u001b[0;34m\u001b[0m\u001b[0m\n\u001b[0m",
            "\u001b[0;31mValueError\u001b[0m: invalid literal for int() with base 10: 'abc'"
          ]
        }
      ]
    },
    {
      "cell_type": "code",
      "source": [
        "#IndexError:\n",
        "# Accessing an index that is out of range\n",
        "my_list = [1, 2, 3]\n",
        "print(my_list[3])"
      ],
      "metadata": {
        "colab": {
          "base_uri": "https://localhost:8080/",
          "height": 201
        },
        "id": "vjoczVd0JUdI",
        "outputId": "c8317d56-96b4-449c-e4ef-ad0b9fe1dbb9"
      },
      "execution_count": 16,
      "outputs": [
        {
          "output_type": "error",
          "ename": "IndexError",
          "evalue": "ignored",
          "traceback": [
            "\u001b[0;31m---------------------------------------------------------------------------\u001b[0m",
            "\u001b[0;31mIndexError\u001b[0m                                Traceback (most recent call last)",
            "\u001b[0;32m<ipython-input-16-acd417d23675>\u001b[0m in \u001b[0;36m<cell line: 4>\u001b[0;34m()\u001b[0m\n\u001b[1;32m      2\u001b[0m \u001b[0;31m# Accessing an index that is out of range\u001b[0m\u001b[0;34m\u001b[0m\u001b[0;34m\u001b[0m\u001b[0m\n\u001b[1;32m      3\u001b[0m \u001b[0mmy_list\u001b[0m \u001b[0;34m=\u001b[0m \u001b[0;34m[\u001b[0m\u001b[0;36m1\u001b[0m\u001b[0;34m,\u001b[0m \u001b[0;36m2\u001b[0m\u001b[0;34m,\u001b[0m \u001b[0;36m3\u001b[0m\u001b[0;34m]\u001b[0m\u001b[0;34m\u001b[0m\u001b[0;34m\u001b[0m\u001b[0m\n\u001b[0;32m----> 4\u001b[0;31m \u001b[0mprint\u001b[0m\u001b[0;34m(\u001b[0m\u001b[0mmy_list\u001b[0m\u001b[0;34m[\u001b[0m\u001b[0;36m3\u001b[0m\u001b[0;34m]\u001b[0m\u001b[0;34m)\u001b[0m\u001b[0;34m\u001b[0m\u001b[0;34m\u001b[0m\u001b[0m\n\u001b[0m",
            "\u001b[0;31mIndexError\u001b[0m: list index out of range"
          ]
        }
      ]
    },
    {
      "cell_type": "code",
      "source": [
        "#FileNotFoundError:\n",
        "# Trying to open a file that doesn't exist\n",
        "file = open(\"nonexistent_file.txt\", \"r\")"
      ],
      "metadata": {
        "colab": {
          "base_uri": "https://localhost:8080/",
          "height": 201
        },
        "id": "49tV-OfPJWSz",
        "outputId": "aa76db1a-e07d-44c9-c7fb-61f60f053ea9"
      },
      "execution_count": 17,
      "outputs": [
        {
          "output_type": "error",
          "ename": "FileNotFoundError",
          "evalue": "ignored",
          "traceback": [
            "\u001b[0;31m---------------------------------------------------------------------------\u001b[0m",
            "\u001b[0;31mFileNotFoundError\u001b[0m                         Traceback (most recent call last)",
            "\u001b[0;32m<ipython-input-17-ae9a69247694>\u001b[0m in \u001b[0;36m<cell line: 3>\u001b[0;34m()\u001b[0m\n\u001b[1;32m      1\u001b[0m \u001b[0;31m#FileNotFoundError:\u001b[0m\u001b[0;34m\u001b[0m\u001b[0;34m\u001b[0m\u001b[0m\n\u001b[1;32m      2\u001b[0m \u001b[0;31m# Trying to open a file that doesn't exist\u001b[0m\u001b[0;34m\u001b[0m\u001b[0;34m\u001b[0m\u001b[0m\n\u001b[0;32m----> 3\u001b[0;31m \u001b[0mfile\u001b[0m \u001b[0;34m=\u001b[0m \u001b[0mopen\u001b[0m\u001b[0;34m(\u001b[0m\u001b[0;34m\"nonexistent_file.txt\"\u001b[0m\u001b[0;34m,\u001b[0m \u001b[0;34m\"r\"\u001b[0m\u001b[0;34m)\u001b[0m\u001b[0;34m\u001b[0m\u001b[0;34m\u001b[0m\u001b[0m\n\u001b[0m",
            "\u001b[0;31mFileNotFoundError\u001b[0m: [Errno 2] No such file or directory: 'nonexistent_file.txt'"
          ]
        }
      ]
    },
    {
      "cell_type": "code",
      "source": [
        "#KeyError:\n",
        "# Accessing a non-existent key in a dictionary\n",
        "my_dict = {\"name\": \"John\", \"age\": 30}\n",
        "print(my_dict[\"address\"])"
      ],
      "metadata": {
        "colab": {
          "base_uri": "https://localhost:8080/",
          "height": 201
        },
        "id": "6jTI2P5eJX45",
        "outputId": "fc0d1c73-8e5c-4ff5-bfd5-0e4da2b78fd4"
      },
      "execution_count": 18,
      "outputs": [
        {
          "output_type": "error",
          "ename": "KeyError",
          "evalue": "ignored",
          "traceback": [
            "\u001b[0;31m---------------------------------------------------------------------------\u001b[0m",
            "\u001b[0;31mKeyError\u001b[0m                                  Traceback (most recent call last)",
            "\u001b[0;32m<ipython-input-18-29802f37aaec>\u001b[0m in \u001b[0;36m<cell line: 4>\u001b[0;34m()\u001b[0m\n\u001b[1;32m      2\u001b[0m \u001b[0;31m# Accessing a non-existent key in a dictionary\u001b[0m\u001b[0;34m\u001b[0m\u001b[0;34m\u001b[0m\u001b[0m\n\u001b[1;32m      3\u001b[0m \u001b[0mmy_dict\u001b[0m \u001b[0;34m=\u001b[0m \u001b[0;34m{\u001b[0m\u001b[0;34m\"name\"\u001b[0m\u001b[0;34m:\u001b[0m \u001b[0;34m\"John\"\u001b[0m\u001b[0;34m,\u001b[0m \u001b[0;34m\"age\"\u001b[0m\u001b[0;34m:\u001b[0m \u001b[0;36m30\u001b[0m\u001b[0;34m}\u001b[0m\u001b[0;34m\u001b[0m\u001b[0;34m\u001b[0m\u001b[0m\n\u001b[0;32m----> 4\u001b[0;31m \u001b[0mprint\u001b[0m\u001b[0;34m(\u001b[0m\u001b[0mmy_dict\u001b[0m\u001b[0;34m[\u001b[0m\u001b[0;34m\"address\"\u001b[0m\u001b[0;34m]\u001b[0m\u001b[0;34m)\u001b[0m\u001b[0;34m\u001b[0m\u001b[0;34m\u001b[0m\u001b[0m\n\u001b[0m",
            "\u001b[0;31mKeyError\u001b[0m: 'address'"
          ]
        }
      ]
    },
    {
      "cell_type": "markdown",
      "source": [
        "## Try-Except Block"
      ],
      "metadata": {
        "id": "WtXd7DMdCjRl"
      }
    },
    {
      "cell_type": "code",
      "source": [
        "# Handling any exception:\n",
        "try:\n",
        "    x = 10 / 0\n",
        "except Exception as e:\n",
        "    print(\"An error occurred:\", str(e))"
      ],
      "metadata": {
        "colab": {
          "base_uri": "https://localhost:8080/"
        },
        "id": "FR06oRfvDL3u",
        "outputId": "deacb90d-2988-4136-90bb-feefa3a51c6a"
      },
      "execution_count": 21,
      "outputs": [
        {
          "output_type": "stream",
          "name": "stdout",
          "text": [
            "An error occurred: division by zero\n"
          ]
        }
      ]
    },
    {
      "cell_type": "code",
      "source": [
        "# Handling a specific exception:\n",
        "try:\n",
        "    x = 10 / 0\n",
        "except ZeroDivisionError:\n",
        "    print(\"Cannot divide by zero!\")"
      ],
      "metadata": {
        "colab": {
          "base_uri": "https://localhost:8080/"
        },
        "id": "fSWKjr6nCmVs",
        "outputId": "c80e0fc9-ea4a-4efb-aeb4-a6250a861879"
      },
      "execution_count": 19,
      "outputs": [
        {
          "output_type": "stream",
          "name": "stdout",
          "text": [
            "Cannot divide by zero!\n"
          ]
        }
      ]
    },
    {
      "cell_type": "code",
      "source": [
        "# Handling multiple exceptions:\n",
        "try:\n",
        "    file = open(\"nonexistent_file.txt\", \"r\")\n",
        "    resultado_divisao = 10 / 0\n",
        "except FileNotFoundError:\n",
        "    print(\"File not found!\")\n",
        "except ZeroDivisionError:\n",
        "    print(\"Cannot divide by zero!\")"
      ],
      "metadata": {
        "colab": {
          "base_uri": "https://localhost:8080/"
        },
        "id": "o37Cyn-lDH4x",
        "outputId": "6654630a-5867-4fdd-9791-6a34195cc893"
      },
      "execution_count": 56,
      "outputs": [
        {
          "output_type": "stream",
          "name": "stdout",
          "text": [
            "File not found!\n"
          ]
        }
      ]
    },
    {
      "cell_type": "code",
      "source": [
        "# Using an else block\n",
        "try:\n",
        "    x = 10 / 2\n",
        "except ZeroDivisionError:\n",
        "    print(\"Cannot divide by zero!\")\n",
        "else:\n",
        "    print(\"Division result:\", x)"
      ],
      "metadata": {
        "colab": {
          "base_uri": "https://localhost:8080/"
        },
        "id": "VuOz8BAEDPVS",
        "outputId": "9f2e6feb-42c4-4657-ed6e-406c6c29ec49"
      },
      "execution_count": 22,
      "outputs": [
        {
          "output_type": "stream",
          "name": "stdout",
          "text": [
            "Division result: 5.0\n"
          ]
        }
      ]
    },
    {
      "cell_type": "markdown",
      "source": [
        "## Tratamento geral de Exceções"
      ],
      "metadata": {
        "id": "-cTg7JkpDfui"
      }
    },
    {
      "cell_type": "code",
      "source": [
        "#Basic exception handling:\n",
        "\n",
        "try:\n",
        "    # Code that may raise an exception\n",
        "    result = 10 / 0\n",
        "except Exception as e:\n",
        "    # Handling the exception\n",
        "    print(\"An error occurred:\", str(e))"
      ],
      "metadata": {
        "colab": {
          "base_uri": "https://localhost:8080/"
        },
        "id": "a69I37KSDhsK",
        "outputId": "7e73f007-b0ff-4ed1-8ac1-6bd7e228277a"
      },
      "execution_count": 24,
      "outputs": [
        {
          "output_type": "stream",
          "name": "stdout",
          "text": [
            "An error occurred: division by zero\n"
          ]
        }
      ]
    },
    {
      "cell_type": "code",
      "source": [
        "#Handling specific exceptions\n",
        "\n",
        "try:\n",
        "    # Code that may raise an exception\n",
        "    file = open(\"nonexistent_file.txt\", \"r\")\n",
        "except FileNotFoundError:\n",
        "    # Handling a specific exception\n",
        "    print(\"File not found!\")\n",
        "except PermissionError:\n",
        "    # Handling another specific exception\n",
        "    print(\"Permission denied!\")"
      ],
      "metadata": {
        "colab": {
          "base_uri": "https://localhost:8080/"
        },
        "id": "HbYJPCyeDoii",
        "outputId": "cdce28cb-3fbc-49e6-ef67-8ee5fdc2db36"
      },
      "execution_count": 25,
      "outputs": [
        {
          "output_type": "stream",
          "name": "stdout",
          "text": [
            "File not found!\n"
          ]
        }
      ]
    },
    {
      "cell_type": "code",
      "source": [
        "# Handling multiple exceptions\n",
        "try:\n",
        "    # Code that may raise an exception\n",
        "    x = int(input(\"Enter a number: \"))\n",
        "    result = 10 / x\n",
        "except ValueError:\n",
        "    # Handling a specific exception\n",
        "    print(\"Invalid input! Please enter a valid number.\")\n",
        "except ZeroDivisionError:\n",
        "    # Handling another specific exception\n",
        "    print(\"Cannot divide by zero!\")"
      ],
      "metadata": {
        "colab": {
          "base_uri": "https://localhost:8080/"
        },
        "id": "fCE0hgMADskU",
        "outputId": "46527caa-0c1d-44c5-e5a6-73413d51cffa"
      },
      "execution_count": 59,
      "outputs": [
        {
          "output_type": "stream",
          "name": "stdout",
          "text": [
            "Enter a number: 0\n",
            "Cannot divide by zero!\n"
          ]
        }
      ]
    },
    {
      "cell_type": "code",
      "source": [
        "# Using an else block\n",
        "\n",
        "try:\n",
        "    # Code that may raise an exception\n",
        "    x = int(input(\"Enter a number: \"))\n",
        "    result = 10 / x\n",
        "except ValueError:\n",
        "    # Handling a specific exception\n",
        "    print(\"Invalid input! Please enter a valid number.\")\n",
        "except ZeroDivisionError:\n",
        "    # Handling another specific exception\n",
        "    print(\"Cannot divide by zero!\")\n",
        "else:\n",
        "    # Executed if no exception occurred\n",
        "    print(\"Division result:\", result)"
      ],
      "metadata": {
        "colab": {
          "base_uri": "https://localhost:8080/"
        },
        "id": "pMQ41adHDymL",
        "outputId": "62f6ceb4-62e8-43c3-a2ee-af84ab917334"
      },
      "execution_count": 64,
      "outputs": [
        {
          "output_type": "stream",
          "name": "stdout",
          "text": [
            "Enter a number: 2\n",
            "Division result: 5.0\n"
          ]
        }
      ]
    },
    {
      "cell_type": "markdown",
      "source": [
        "## Raising Exceptions (Levantando exceções)"
      ],
      "metadata": {
        "id": "gWeFkY9aD-In"
      }
    },
    {
      "cell_type": "code",
      "source": [
        "# Raising a specific exception\n",
        "def validate_age(age):\n",
        "    if age < 0:\n",
        "        raise ValueError(\"Age cannot be negative\")\n",
        "    if age > 120:\n",
        "        raise ValueError(\"Invalid age\")\n",
        "    # Perform other validation checks\n",
        "\n",
        "try:\n",
        "    age = int(input(\"Enter your age: \"))\n",
        "    validate_age(age)\n",
        "    print(\"Age is valid\")\n",
        "except ValueError as e:\n",
        "    print(\"Invalid age:\", str(e))"
      ],
      "metadata": {
        "colab": {
          "base_uri": "https://localhost:8080/"
        },
        "id": "FfrDzppWEAXA",
        "outputId": "7d4d0bf2-fbab-4089-864d-c7fc193ceba0"
      },
      "execution_count": 65,
      "outputs": [
        {
          "output_type": "stream",
          "name": "stdout",
          "text": [
            "Enter your age: 121\n",
            "Invalid age: Invalid age\n"
          ]
        }
      ]
    },
    {
      "cell_type": "code",
      "source": [
        "# Raising a built-in exception\n",
        "\n",
        "def calculate_percentage(value, total):\n",
        "    if total == 0:\n",
        "        raise ZeroDivisionError(\"Total cannot be zero\")\n",
        "    percentage = (value / total) * 100\n",
        "    return percentage\n",
        "\n",
        "try:\n",
        "    result = calculate_percentage(10, 0)\n",
        "    print(\"Percentage:\", result)\n",
        "except ZeroDivisionError as e:\n",
        "    print(\"Error:\", str(e))"
      ],
      "metadata": {
        "colab": {
          "base_uri": "https://localhost:8080/"
        },
        "id": "JM7X_0ceEENP",
        "outputId": "e6288133-66d0-47f6-880e-9d86556b0459"
      },
      "execution_count": 66,
      "outputs": [
        {
          "output_type": "stream",
          "name": "stdout",
          "text": [
            "Error: Total cannot be zero\n"
          ]
        }
      ]
    },
    {
      "cell_type": "code",
      "source": [
        "# Creating a custom exception\n",
        "\n",
        "class CustomException(Exception):\n",
        "    pass\n",
        "\n",
        "def process_data(data):\n",
        "    if not data:\n",
        "        raise CustomException(\"Empty data provided\")\n",
        "    # Process the data\n",
        "\n",
        "try:\n",
        "    data = []\n",
        "    process_data(data)\n",
        "except CustomException as e:\n",
        "    print(\"Error:\", str(e))"
      ],
      "metadata": {
        "colab": {
          "base_uri": "https://localhost:8080/"
        },
        "id": "cmUF2T6CEIYG",
        "outputId": "7c9f502d-d84a-48d3-aebd-6a52942b00e3"
      },
      "execution_count": 67,
      "outputs": [
        {
          "output_type": "stream",
          "name": "stdout",
          "text": [
            "Error: Empty data provided\n"
          ]
        }
      ]
    },
    {
      "cell_type": "markdown",
      "source": [
        "## Exception Hierarchy"
      ],
      "metadata": {
        "id": "sziJcvUWEQnD"
      }
    },
    {
      "cell_type": "code",
      "source": [
        "exception_hierarchy = '''\n",
        "BaseException\n",
        "├── SystemExit\n",
        "├── KeyboardInterrupt\n",
        "├── GeneratorExit\n",
        "└── Exception\n",
        "    ├── StopIteration\n",
        "    ├── ArithmeticError\n",
        "    │   ├── ZeroDivisionError\n",
        "    │   ├── OverflowError\n",
        "    │   └── FloatingPointError\n",
        "    ├── AssertionError\n",
        "    ├── AttributeError\n",
        "    ├── EOFError\n",
        "    ├── ImportError\n",
        "    ├── IndexError\n",
        "    ├── KeyError\n",
        "    ├── NameError\n",
        "    ├── SyntaxError\n",
        "    ├── TypeError\n",
        "    ├── ValueError\n",
        "    ├── OSError\n",
        "    │   ├── FileNotFoundError\n",
        "    │   └── PermissionError\n",
        "    └── ...\n",
        "'''"
      ],
      "metadata": {
        "id": "spfl8hRwERv1"
      },
      "execution_count": 3,
      "outputs": []
    },
    {
      "cell_type": "code",
      "source": [
        "print(exception_hierarchy)"
      ],
      "metadata": {
        "id": "LaHY2_axEZX9"
      },
      "execution_count": null,
      "outputs": []
    },
    {
      "cell_type": "code",
      "source": [
        "def process_data(data):\n",
        "    if not data:\n",
        "        raise ValueError(\"Empty data provided\")\n",
        "    if len(data) > 10:\n",
        "        raise ValueError(\"Too many items in the data\")\n",
        "    # Process the data\n",
        "\n",
        "try:\n",
        "    data = []\n",
        "    process_data(data)\n",
        "except ValueError as e:\n",
        "    print(\"ValueError occurred:\", str(e))\n",
        "except Exception as e:\n",
        "    print(\"Exception occurred:\", str(e))"
      ],
      "metadata": {
        "colab": {
          "base_uri": "https://localhost:8080/"
        },
        "id": "n6sxQhwBEg16",
        "outputId": "407daa9a-bd39-43cc-ee15-12e90834a092"
      },
      "execution_count": 68,
      "outputs": [
        {
          "output_type": "stream",
          "name": "stdout",
          "text": [
            "ValueError occurred: Empty data provided\n"
          ]
        }
      ]
    },
    {
      "cell_type": "markdown",
      "source": [
        "## Handling Multiple Exceptions"
      ],
      "metadata": {
        "id": "SjkT0h_GE5XH"
      }
    },
    {
      "cell_type": "markdown",
      "source": [
        "Exemplo 1: temos blocos except separados para lidar com exceções específicas (ZeroDivisionError e ValueError). Cada bloco é responsável por tratar a exceção correspondente gerada no bloco try."
      ],
      "metadata": {
        "id": "3ASLEbG0Fd1D"
      }
    },
    {
      "cell_type": "code",
      "source": [
        "# Handling multiple specific exceptions\n",
        "try:\n",
        "    # Code that may raise exceptions\n",
        "    a = 10 / 0\n",
        "    b = int('abc')\n",
        "except ZeroDivisionError:\n",
        "    print(\"Error: Division by zero!\")\n",
        "except ValueError:\n",
        "    print(\"Error: Invalid conversion to integer!\")"
      ],
      "metadata": {
        "colab": {
          "base_uri": "https://localhost:8080/"
        },
        "id": "4hArct0_E6YH",
        "outputId": "d73c238d-281d-42b9-de22-b3d2c9db0798"
      },
      "execution_count": 39,
      "outputs": [
        {
          "output_type": "stream",
          "name": "stdout",
          "text": [
            "Error: Division by zero!\n"
          ]
        }
      ]
    },
    {
      "cell_type": "markdown",
      "source": [
        "Exemplo 2: usamos um único bloco except com parênteses para lidar com várias exceções (ZeroDivisionError e ValueError) de uma maneira mais concisa. A palavra-chave as nos permite acessar o objeto de exceção e imprimir a mensagem de erro."
      ],
      "metadata": {
        "id": "2Lt8G4rNFgk6"
      }
    },
    {
      "cell_type": "code",
      "source": [
        "# Handling multiple exceptions with a single except block\n",
        "\n",
        "try:\n",
        "    # Code that may raise exceptions\n",
        "    a = 10 / 0\n",
        "    b = int('abc')\n",
        "except (ZeroDivisionError, ValueError) as e:\n",
        "    print(\"An error occurred:\", str(e))\n"
      ],
      "metadata": {
        "colab": {
          "base_uri": "https://localhost:8080/"
        },
        "id": "p3w3C-p2E-Yx",
        "outputId": "3723d66b-bfe2-4e79-c779-32b114c2a328"
      },
      "execution_count": 40,
      "outputs": [
        {
          "output_type": "stream",
          "name": "stdout",
          "text": [
            "An error occurred: division by zero\n"
          ]
        }
      ]
    },
    {
      "cell_type": "markdown",
      "source": [
        "Exemplo 3: usamos a classe base Exception no bloco except, que pode capturar qualquer exceção gerada no bloco try. Essa abordagem pode ser útil quando você deseja lidar com um grupo de exceções relacionadas de maneira semelhante."
      ],
      "metadata": {
        "id": "XDbkdrAjFldl"
      }
    },
    {
      "cell_type": "code",
      "source": [
        "# Handling multiple exceptions with a base class\n",
        "try:\n",
        "    # Code that may raise exceptions\n",
        "    a = 10 / 0\n",
        "    b = int('abc')\n",
        "except Exception as e:\n",
        "    print(\"An error occurred:\", str(e))"
      ],
      "metadata": {
        "colab": {
          "base_uri": "https://localhost:8080/"
        },
        "id": "fq-1UsCxFCIX",
        "outputId": "b6b950c7-941e-49a2-9383-94b8f420423e"
      },
      "execution_count": 41,
      "outputs": [
        {
          "output_type": "stream",
          "name": "stdout",
          "text": [
            "An error occurred: division by zero\n"
          ]
        }
      ]
    },
    {
      "cell_type": "markdown",
      "source": [
        "## Bloco Finally"
      ],
      "metadata": {
        "id": "fwz_uFaLF2oR"
      }
    },
    {
      "cell_type": "markdown",
      "source": [
        "No exemplo abaixo, o bloco try tenta abrir um arquivo para leitura. Se o arquivo não for encontrado, um FileNotFoundError será levantado e capturado no bloco except. Por fim, o bloco final é executado independentemente da ocorrência ou não de uma exceção, garantindo que o arquivo seja fechado."
      ],
      "metadata": {
        "id": "Oxd0A3eLGHuT"
      }
    },
    {
      "cell_type": "code",
      "source": [
        "# Executing code in the finally block\n",
        "\n",
        "try:\n",
        "    # Code that may raise an exception\n",
        "    file = open(\"myfile.txt\", \"r\")\n",
        "    # Perform some operations on the file\n",
        "except FileNotFoundError:\n",
        "    print(\"File not found!\")\n",
        "finally:\n",
        "    # Close the file regardless of exceptions\n",
        "    file.close()"
      ],
      "metadata": {
        "colab": {
          "base_uri": "https://localhost:8080/"
        },
        "id": "HTri15CrF5w1",
        "outputId": "8a96dee3-2333-4f2f-9172-d76af826c6b8"
      },
      "execution_count": 69,
      "outputs": [
        {
          "output_type": "stream",
          "name": "stdout",
          "text": [
            "File not found!\n"
          ]
        }
      ]
    },
    {
      "cell_type": "markdown",
      "source": [
        "No exemplo abaixo, o bloco try contém código que não gera uma exceção. O bloco final ainda é executado após a conclusão do bloco try, permitindo que você execute operações de limpeza ou finalização."
      ],
      "metadata": {
        "id": "MPz1DuWWGYz0"
      }
    },
    {
      "cell_type": "code",
      "source": [
        "def perform_operation(lista):\n",
        "  return sum(lista)\n",
        "\n",
        "def cleanup(lista):\n",
        "  lista.clear()"
      ],
      "metadata": {
        "id": "9XYEEV9qK3-j"
      },
      "execution_count": 70,
      "outputs": []
    },
    {
      "cell_type": "code",
      "source": [
        "# Using finally block without an exception\n",
        "lista = [1,2,3,4,5]\n",
        "try:\n",
        "    # Code that does not raise an exception\n",
        "    result = perform_operation(lista)\n",
        "    print(result)\n",
        "finally:\n",
        "    # Clean up or finalize operations\n",
        "    cleanup(lista)"
      ],
      "metadata": {
        "colab": {
          "base_uri": "https://localhost:8080/"
        },
        "id": "kfVWMuoQGOTH",
        "outputId": "bb99315b-b212-428a-c807-fd6498445992"
      },
      "execution_count": 71,
      "outputs": [
        {
          "output_type": "stream",
          "name": "stdout",
          "text": [
            "15\n"
          ]
        }
      ]
    },
    {
      "cell_type": "code",
      "source": [
        "print(lista)"
      ],
      "metadata": {
        "colab": {
          "base_uri": "https://localhost:8080/"
        },
        "id": "kNX7QffENZWn",
        "outputId": "52c55bbb-17d0-42d9-b94b-ff80dc3b80ba"
      },
      "execution_count": 72,
      "outputs": [
        {
          "output_type": "stream",
          "name": "stdout",
          "text": [
            "[]\n"
          ]
        }
      ]
    },
    {
      "cell_type": "markdown",
      "source": [
        "No examplo abaixo, o bloco final é executado mesmo que uma exceção ocorra ou não. Neste caso, é utilizado para imprimir uma mensagem que sempre será exibida independente da divisão ser bem-sucedida ou ocorrer um ZeroDivisionError."
      ],
      "metadata": {
        "id": "R7WXN50fGkp1"
      }
    },
    {
      "cell_type": "code",
      "source": [
        "# Using finally block with return statement\n",
        "\n",
        "def divide(a, b):\n",
        "    try:\n",
        "        result = a / b\n",
        "        return result\n",
        "    except ZeroDivisionError:\n",
        "        print(\"Division by zero!\")\n",
        "        return None\n",
        "    finally:\n",
        "        print(\"This will always be executed\")\n",
        "\n",
        "# Calling the function\n",
        "print(divide(10, 2))"
      ],
      "metadata": {
        "colab": {
          "base_uri": "https://localhost:8080/"
        },
        "id": "41SkWM6eF-GE",
        "outputId": "9a435462-c079-42bd-a24e-98ebb8856061"
      },
      "execution_count": 73,
      "outputs": [
        {
          "output_type": "stream",
          "name": "stdout",
          "text": [
            "This will always be executed\n",
            "5.0\n"
          ]
        }
      ]
    }
  ]
}