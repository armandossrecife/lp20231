{
  "nbformat": 4,
  "nbformat_minor": 0,
  "metadata": {
    "colab": {
      "provenance": [],
      "authorship_tag": "ABX9TyNr/PVZbL0rfOFQJN8zd+aK",
      "include_colab_link": true
    },
    "kernelspec": {
      "name": "python3",
      "display_name": "Python 3"
    },
    "language_info": {
      "name": "python"
    }
  },
  "cells": [
    {
      "cell_type": "markdown",
      "metadata": {
        "id": "view-in-github",
        "colab_type": "text"
      },
      "source": [
        "<a href=\"https://colab.research.google.com/github/armandossrecife/lp20231/blob/main/exceptions.ipynb\" target=\"_parent\"><img src=\"https://colab.research.google.com/assets/colab-badge.svg\" alt=\"Open In Colab\"/></a>"
      ]
    },
    {
      "cell_type": "markdown",
      "source": [
        "# Tópicos básicos para tratamento de exceção em Python"
      ],
      "metadata": {
        "id": "lOzKkH2qBM9M"
      }
    },
    {
      "cell_type": "markdown",
      "source": [
        "**Tipos de Erros**: Familiarize-se com os diferentes tipos de erros ou exceções que podem ocorrer em Python, como SyntaxError, NameError, TypeError, ValueError, etc. Entenda seus significados e quando são gerados.\n",
        "\n",
        "**Bloco Try-Except**: Aprenda a usar o bloco try-except para capturar e tratar exceções. Isso permite que você antecipe e lide com possíveis erros em seu código.\n",
        "\n",
        "**Tratamento de Exceções**: Explore diferentes maneiras de lidar com exceções, como capturar exceções específicas, lidar com várias exceções e usar o bloco except genérico.\n",
        "\n",
        "**Levantando Exceções**: Entenda como levantar exceções explicitamente usando a palavra-chave raise. Isso é útil quando você deseja sinalizar uma condição de erro em seu código.\n",
        "\n",
        "**Hierarquia de Exceções**: O Python possui uma hierarquia de classes de exceção, em que algumas exceções são subclasses de outras. Saiba mais sobre essa hierarquia e como ela pode ajudar a capturar e tratar exceções de maneira mais eficaz.\n",
        "\n",
        "**Tratando Múltiplas Exceções**: Aprenda a lidar com várias exceções em um único bloco except usando a sintaxe de tupla ou tratando a classe de exceção base.\n",
        "\n",
        "**Bloco Finally**: Compreenda a finalidade do bloco finally e como ele é usado para definir ações de limpeza que devem ser executadas independentemente de uma exceção ter sido gerada ou não.\n",
        "\n",
        "**Exceções Personalizadas**: Explore como definir e levantar suas próprias exceções personalizadas quando seu código encontrar condições de erro específicas que requerem tratamento especial.\n",
        "\n",
        "Mais detalhes em https://docs.python.org/3/tutorial/errors.html"
      ],
      "metadata": {
        "id": "HhFqZiE3BXGg"
      }
    },
    {
      "cell_type": "markdown",
      "source": [
        "## Tipos de Erros"
      ],
      "metadata": {
        "id": "jJm5xVlmB5iT"
      }
    },
    {
      "cell_type": "code",
      "execution_count": null,
      "metadata": {
        "colab": {
          "base_uri": "https://localhost:8080/",
          "height": 131
        },
        "id": "AUasb9k3BB83",
        "outputId": "819e5557-398d-49e6-f86b-3143e43f9255"
      },
      "outputs": [
        {
          "output_type": "error",
          "ename": "SyntaxError",
          "evalue": "ignored",
          "traceback": [
            "\u001b[0;36m  File \u001b[0;32m\"<ipython-input-12-51349adeb649>\"\u001b[0;36m, line \u001b[0;32m4\u001b[0m\n\u001b[0;31m    if condition\u001b[0m\n\u001b[0m                ^\u001b[0m\n\u001b[0;31mSyntaxError\u001b[0m\u001b[0;31m:\u001b[0m expected ':'\n"
          ]
        }
      ],
      "source": [
        "#SyntaxError:\n",
        "condition = True\n",
        "# Missing colon after the if statement\n",
        "if condition\n",
        "    print(\"Condition is True\")"
      ]
    },
    {
      "cell_type": "code",
      "source": [
        "#NameError:\n",
        "# Referencing an undefined variable\n",
        "x = 5\n",
        "print(y)"
      ],
      "metadata": {
        "colab": {
          "base_uri": "https://localhost:8080/",
          "height": 201
        },
        "id": "W63fMtZuJOdv",
        "outputId": "2bd46f1e-835f-438d-e944-d006e8bc097f"
      },
      "execution_count": null,
      "outputs": [
        {
          "output_type": "error",
          "ename": "NameError",
          "evalue": "ignored",
          "traceback": [
            "\u001b[0;31m---------------------------------------------------------------------------\u001b[0m",
            "\u001b[0;31mNameError\u001b[0m                                 Traceback (most recent call last)",
            "\u001b[0;32m<ipython-input-13-715bdf0f201c>\u001b[0m in \u001b[0;36m<cell line: 4>\u001b[0;34m()\u001b[0m\n\u001b[1;32m      2\u001b[0m \u001b[0;31m# Referencing an undefined variable\u001b[0m\u001b[0;34m\u001b[0m\u001b[0;34m\u001b[0m\u001b[0m\n\u001b[1;32m      3\u001b[0m \u001b[0mx\u001b[0m \u001b[0;34m=\u001b[0m \u001b[0;36m5\u001b[0m\u001b[0;34m\u001b[0m\u001b[0;34m\u001b[0m\u001b[0m\n\u001b[0;32m----> 4\u001b[0;31m \u001b[0mprint\u001b[0m\u001b[0;34m(\u001b[0m\u001b[0my\u001b[0m\u001b[0;34m)\u001b[0m\u001b[0;34m\u001b[0m\u001b[0;34m\u001b[0m\u001b[0m\n\u001b[0m",
            "\u001b[0;31mNameError\u001b[0m: name 'y' is not defined"
          ]
        }
      ]
    },
    {
      "cell_type": "code",
      "source": [
        "#TypeError:\n",
        "# Attempting to concatenate a string and an integer\n",
        "x = \"Hello\"\n",
        "y = 10\n",
        "print(x + y)"
      ],
      "metadata": {
        "colab": {
          "base_uri": "https://localhost:8080/",
          "height": 201
        },
        "id": "3JUA4AR5JQj9",
        "outputId": "e7643ca6-9e55-48c7-d380-211f21720b89"
      },
      "execution_count": null,
      "outputs": [
        {
          "output_type": "error",
          "ename": "TypeError",
          "evalue": "ignored",
          "traceback": [
            "\u001b[0;31m---------------------------------------------------------------------------\u001b[0m",
            "\u001b[0;31mTypeError\u001b[0m                                 Traceback (most recent call last)",
            "\u001b[0;32m<ipython-input-14-219a3354c815>\u001b[0m in \u001b[0;36m<cell line: 5>\u001b[0;34m()\u001b[0m\n\u001b[1;32m      3\u001b[0m \u001b[0mx\u001b[0m \u001b[0;34m=\u001b[0m \u001b[0;34m\"Hello\"\u001b[0m\u001b[0;34m\u001b[0m\u001b[0;34m\u001b[0m\u001b[0m\n\u001b[1;32m      4\u001b[0m \u001b[0my\u001b[0m \u001b[0;34m=\u001b[0m \u001b[0;36m10\u001b[0m\u001b[0;34m\u001b[0m\u001b[0;34m\u001b[0m\u001b[0m\n\u001b[0;32m----> 5\u001b[0;31m \u001b[0mprint\u001b[0m\u001b[0;34m(\u001b[0m\u001b[0mx\u001b[0m \u001b[0;34m+\u001b[0m \u001b[0my\u001b[0m\u001b[0;34m)\u001b[0m\u001b[0;34m\u001b[0m\u001b[0;34m\u001b[0m\u001b[0m\n\u001b[0m",
            "\u001b[0;31mTypeError\u001b[0m: can only concatenate str (not \"int\") to str"
          ]
        }
      ]
    },
    {
      "cell_type": "code",
      "source": [
        "#ValueError:\n",
        "# Converting an invalid string to an integer\n",
        "x = int(\"abc\")"
      ],
      "metadata": {
        "colab": {
          "base_uri": "https://localhost:8080/",
          "height": 201
        },
        "id": "t2rCUcRzJSf4",
        "outputId": "7f2b5369-8e00-420c-bb51-7c3c036539b6"
      },
      "execution_count": null,
      "outputs": [
        {
          "output_type": "error",
          "ename": "ValueError",
          "evalue": "ignored",
          "traceback": [
            "\u001b[0;31m---------------------------------------------------------------------------\u001b[0m",
            "\u001b[0;31mValueError\u001b[0m                                Traceback (most recent call last)",
            "\u001b[0;32m<ipython-input-15-603ccdb06c70>\u001b[0m in \u001b[0;36m<cell line: 3>\u001b[0;34m()\u001b[0m\n\u001b[1;32m      1\u001b[0m \u001b[0;31m#ValueError:\u001b[0m\u001b[0;34m\u001b[0m\u001b[0;34m\u001b[0m\u001b[0m\n\u001b[1;32m      2\u001b[0m \u001b[0;31m# Converting an invalid string to an integer\u001b[0m\u001b[0;34m\u001b[0m\u001b[0;34m\u001b[0m\u001b[0m\n\u001b[0;32m----> 3\u001b[0;31m \u001b[0mx\u001b[0m \u001b[0;34m=\u001b[0m \u001b[0mint\u001b[0m\u001b[0;34m(\u001b[0m\u001b[0;34m\"abc\"\u001b[0m\u001b[0;34m)\u001b[0m\u001b[0;34m\u001b[0m\u001b[0;34m\u001b[0m\u001b[0m\n\u001b[0m",
            "\u001b[0;31mValueError\u001b[0m: invalid literal for int() with base 10: 'abc'"
          ]
        }
      ]
    },
    {
      "cell_type": "code",
      "source": [
        "#IndexError:\n",
        "# Accessing an index that is out of range\n",
        "my_list = [1, 2, 3]\n",
        "print(my_list[3])"
      ],
      "metadata": {
        "colab": {
          "base_uri": "https://localhost:8080/",
          "height": 201
        },
        "id": "vjoczVd0JUdI",
        "outputId": "c8317d56-96b4-449c-e4ef-ad0b9fe1dbb9"
      },
      "execution_count": null,
      "outputs": [
        {
          "output_type": "error",
          "ename": "IndexError",
          "evalue": "ignored",
          "traceback": [
            "\u001b[0;31m---------------------------------------------------------------------------\u001b[0m",
            "\u001b[0;31mIndexError\u001b[0m                                Traceback (most recent call last)",
            "\u001b[0;32m<ipython-input-16-acd417d23675>\u001b[0m in \u001b[0;36m<cell line: 4>\u001b[0;34m()\u001b[0m\n\u001b[1;32m      2\u001b[0m \u001b[0;31m# Accessing an index that is out of range\u001b[0m\u001b[0;34m\u001b[0m\u001b[0;34m\u001b[0m\u001b[0m\n\u001b[1;32m      3\u001b[0m \u001b[0mmy_list\u001b[0m \u001b[0;34m=\u001b[0m \u001b[0;34m[\u001b[0m\u001b[0;36m1\u001b[0m\u001b[0;34m,\u001b[0m \u001b[0;36m2\u001b[0m\u001b[0;34m,\u001b[0m \u001b[0;36m3\u001b[0m\u001b[0;34m]\u001b[0m\u001b[0;34m\u001b[0m\u001b[0;34m\u001b[0m\u001b[0m\n\u001b[0;32m----> 4\u001b[0;31m \u001b[0mprint\u001b[0m\u001b[0;34m(\u001b[0m\u001b[0mmy_list\u001b[0m\u001b[0;34m[\u001b[0m\u001b[0;36m3\u001b[0m\u001b[0;34m]\u001b[0m\u001b[0;34m)\u001b[0m\u001b[0;34m\u001b[0m\u001b[0;34m\u001b[0m\u001b[0m\n\u001b[0m",
            "\u001b[0;31mIndexError\u001b[0m: list index out of range"
          ]
        }
      ]
    },
    {
      "cell_type": "code",
      "source": [
        "#FileNotFoundError:\n",
        "# Trying to open a file that doesn't exist\n",
        "file = open(\"nonexistent_file.txt\", \"r\")"
      ],
      "metadata": {
        "colab": {
          "base_uri": "https://localhost:8080/",
          "height": 201
        },
        "id": "49tV-OfPJWSz",
        "outputId": "aa76db1a-e07d-44c9-c7fb-61f60f053ea9"
      },
      "execution_count": null,
      "outputs": [
        {
          "output_type": "error",
          "ename": "FileNotFoundError",
          "evalue": "ignored",
          "traceback": [
            "\u001b[0;31m---------------------------------------------------------------------------\u001b[0m",
            "\u001b[0;31mFileNotFoundError\u001b[0m                         Traceback (most recent call last)",
            "\u001b[0;32m<ipython-input-17-ae9a69247694>\u001b[0m in \u001b[0;36m<cell line: 3>\u001b[0;34m()\u001b[0m\n\u001b[1;32m      1\u001b[0m \u001b[0;31m#FileNotFoundError:\u001b[0m\u001b[0;34m\u001b[0m\u001b[0;34m\u001b[0m\u001b[0m\n\u001b[1;32m      2\u001b[0m \u001b[0;31m# Trying to open a file that doesn't exist\u001b[0m\u001b[0;34m\u001b[0m\u001b[0;34m\u001b[0m\u001b[0m\n\u001b[0;32m----> 3\u001b[0;31m \u001b[0mfile\u001b[0m \u001b[0;34m=\u001b[0m \u001b[0mopen\u001b[0m\u001b[0;34m(\u001b[0m\u001b[0;34m\"nonexistent_file.txt\"\u001b[0m\u001b[0;34m,\u001b[0m \u001b[0;34m\"r\"\u001b[0m\u001b[0;34m)\u001b[0m\u001b[0;34m\u001b[0m\u001b[0;34m\u001b[0m\u001b[0m\n\u001b[0m",
            "\u001b[0;31mFileNotFoundError\u001b[0m: [Errno 2] No such file or directory: 'nonexistent_file.txt'"
          ]
        }
      ]
    },
    {
      "cell_type": "code",
      "source": [
        "#KeyError:\n",
        "# Accessing a non-existent key in a dictionary\n",
        "my_dict = {\"name\": \"John\", \"age\": 30}\n",
        "print(my_dict[\"address\"])"
      ],
      "metadata": {
        "colab": {
          "base_uri": "https://localhost:8080/",
          "height": 201
        },
        "id": "6jTI2P5eJX45",
        "outputId": "fc0d1c73-8e5c-4ff5-bfd5-0e4da2b78fd4"
      },
      "execution_count": null,
      "outputs": [
        {
          "output_type": "error",
          "ename": "KeyError",
          "evalue": "ignored",
          "traceback": [
            "\u001b[0;31m---------------------------------------------------------------------------\u001b[0m",
            "\u001b[0;31mKeyError\u001b[0m                                  Traceback (most recent call last)",
            "\u001b[0;32m<ipython-input-18-29802f37aaec>\u001b[0m in \u001b[0;36m<cell line: 4>\u001b[0;34m()\u001b[0m\n\u001b[1;32m      2\u001b[0m \u001b[0;31m# Accessing a non-existent key in a dictionary\u001b[0m\u001b[0;34m\u001b[0m\u001b[0;34m\u001b[0m\u001b[0m\n\u001b[1;32m      3\u001b[0m \u001b[0mmy_dict\u001b[0m \u001b[0;34m=\u001b[0m \u001b[0;34m{\u001b[0m\u001b[0;34m\"name\"\u001b[0m\u001b[0;34m:\u001b[0m \u001b[0;34m\"John\"\u001b[0m\u001b[0;34m,\u001b[0m \u001b[0;34m\"age\"\u001b[0m\u001b[0;34m:\u001b[0m \u001b[0;36m30\u001b[0m\u001b[0;34m}\u001b[0m\u001b[0;34m\u001b[0m\u001b[0;34m\u001b[0m\u001b[0m\n\u001b[0;32m----> 4\u001b[0;31m \u001b[0mprint\u001b[0m\u001b[0;34m(\u001b[0m\u001b[0mmy_dict\u001b[0m\u001b[0;34m[\u001b[0m\u001b[0;34m\"address\"\u001b[0m\u001b[0;34m]\u001b[0m\u001b[0;34m)\u001b[0m\u001b[0;34m\u001b[0m\u001b[0;34m\u001b[0m\u001b[0m\n\u001b[0m",
            "\u001b[0;31mKeyError\u001b[0m: 'address'"
          ]
        }
      ]
    },
    {
      "cell_type": "markdown",
      "source": [
        "## Try-Except Block"
      ],
      "metadata": {
        "id": "WtXd7DMdCjRl"
      }
    },
    {
      "cell_type": "code",
      "source": [
        "# Handling any exception:\n",
        "try:\n",
        "    x = 10 / 0\n",
        "except Exception as e:\n",
        "    print(\"An error occurred:\", str(e))"
      ],
      "metadata": {
        "colab": {
          "base_uri": "https://localhost:8080/"
        },
        "id": "FR06oRfvDL3u",
        "outputId": "0e91b352-a833-4543-c466-b5b649bbf2e3"
      },
      "execution_count": 4,
      "outputs": [
        {
          "output_type": "stream",
          "name": "stdout",
          "text": [
            "An error occurred: division by zero\n"
          ]
        }
      ]
    },
    {
      "cell_type": "code",
      "source": [
        "# Handling a specific exception:\n",
        "try:\n",
        "    x = 10 / 0\n",
        "except ZeroDivisionError:\n",
        "    print(\"Cannot divide by zero!\")"
      ],
      "metadata": {
        "colab": {
          "base_uri": "https://localhost:8080/"
        },
        "id": "fSWKjr6nCmVs",
        "outputId": "a4ee5dc0-d7a0-4188-fdd8-0a9685b55159"
      },
      "execution_count": 5,
      "outputs": [
        {
          "output_type": "stream",
          "name": "stdout",
          "text": [
            "Cannot divide by zero!\n"
          ]
        }
      ]
    },
    {
      "cell_type": "code",
      "source": [
        "# Handling multiple exceptions:\n",
        "try:\n",
        "    file = open(\"nonexistent_file.txt\", \"r\")\n",
        "    resultado_divisao1 = 10 / 0\n",
        "    resultado_divisao2 = 0 / 0\n",
        "    resultado_divisao3 = 10 / 10\n",
        "except FileNotFoundError:\n",
        "    print(\"File not found!\")\n",
        "except ZeroDivisionError:\n",
        "    print(\"Cannot divide by zero!\")\n",
        "print('Continua a aplicação...')"
      ],
      "metadata": {
        "colab": {
          "base_uri": "https://localhost:8080/"
        },
        "id": "o37Cyn-lDH4x",
        "outputId": "6e18f8ab-82cf-4a80-aad0-79aabc47adc8"
      },
      "execution_count": 7,
      "outputs": [
        {
          "output_type": "stream",
          "name": "stdout",
          "text": [
            "File not found!\n",
            "Continua a aplicação...\n"
          ]
        }
      ]
    },
    {
      "cell_type": "code",
      "source": [
        "# Using an else block\n",
        "try:\n",
        "    x = 10 / 2\n",
        "except ZeroDivisionError:\n",
        "    print(\"Cannot divide by zero!\")\n",
        "else:\n",
        "    print(\"Division result:\", x)\n",
        "print('Continua a aplicação...')"
      ],
      "metadata": {
        "colab": {
          "base_uri": "https://localhost:8080/"
        },
        "id": "VuOz8BAEDPVS",
        "outputId": "9046ec66-88df-4d30-d68d-fbe78ec381b9"
      },
      "execution_count": 11,
      "outputs": [
        {
          "output_type": "stream",
          "name": "stdout",
          "text": [
            "Division result: 5.0\n",
            "Continua a aplicação...\n"
          ]
        }
      ]
    },
    {
      "cell_type": "code",
      "source": [
        "# Using an else block\n",
        "try:\n",
        "    x = 10 / 0\n",
        "except ZeroDivisionError:\n",
        "    print(\"Cannot divide by zero!\")\n",
        "else:\n",
        "    print(\"Division result:\", x)\n",
        "print('Continua a aplicação...')"
      ],
      "metadata": {
        "id": "6i4_E1LKJCj5",
        "outputId": "8c9b5775-bcdd-4593-c6e6-09a4d3dbe85c",
        "colab": {
          "base_uri": "https://localhost:8080/"
        }
      },
      "execution_count": 12,
      "outputs": [
        {
          "output_type": "stream",
          "name": "stdout",
          "text": [
            "Cannot divide by zero!\n",
            "Continua a aplicação...\n"
          ]
        }
      ]
    },
    {
      "cell_type": "markdown",
      "source": [
        "## Tratamento geral de Exceções"
      ],
      "metadata": {
        "id": "-cTg7JkpDfui"
      }
    },
    {
      "cell_type": "code",
      "source": [
        "#Basic exception handling:\n",
        "try:\n",
        "    # Code that may raise an exception\n",
        "    result = 10 / 0\n",
        "except Exception as e:\n",
        "    # Handling the exception\n",
        "    print(\"An error occurred:\", str(e))\n",
        "print('Continua a aplicação...')"
      ],
      "metadata": {
        "colab": {
          "base_uri": "https://localhost:8080/"
        },
        "id": "a69I37KSDhsK",
        "outputId": "3cf07e0a-fdfe-4eb7-8429-99013931a6c3"
      },
      "execution_count": 13,
      "outputs": [
        {
          "output_type": "stream",
          "name": "stdout",
          "text": [
            "An error occurred: division by zero\n",
            "Continua a aplicação...\n"
          ]
        }
      ]
    },
    {
      "cell_type": "code",
      "source": [
        "#Handling specific exceptions\n",
        "\n",
        "try:\n",
        "    # Code that may raise an exception\n",
        "    file = open(\"nonexistent_file.txt\", \"r\")\n",
        "except FileNotFoundError:\n",
        "    # Handling a specific exception\n",
        "    print(\"File not found!\")\n",
        "except PermissionError:\n",
        "    # Handling another specific exception\n",
        "    print(\"Permission denied!\")\n",
        "print('Continua a aplicação...')"
      ],
      "metadata": {
        "colab": {
          "base_uri": "https://localhost:8080/"
        },
        "id": "HbYJPCyeDoii",
        "outputId": "1123e30f-1b3b-4df5-e140-a837861a72ae"
      },
      "execution_count": 14,
      "outputs": [
        {
          "output_type": "stream",
          "name": "stdout",
          "text": [
            "File not found!\n",
            "Continua a aplicação...\n"
          ]
        }
      ]
    },
    {
      "cell_type": "code",
      "source": [
        "# Handling multiple exceptions\n",
        "try:\n",
        "    # Code that may raise an exception\n",
        "    x = int(input(\"Enter a number: \"))\n",
        "    result = 10 / x\n",
        "except ValueError:\n",
        "    # Handling a specific exception\n",
        "    print(\"Invalid input! Please enter a valid number.\")\n",
        "except ZeroDivisionError:\n",
        "    # Handling another specific exception\n",
        "    print(\"Cannot divide by zero!\")\n",
        "print('Continua a aplicação...')"
      ],
      "metadata": {
        "colab": {
          "base_uri": "https://localhost:8080/"
        },
        "id": "fCE0hgMADskU",
        "outputId": "c965f51a-0b4e-447f-ce68-ff477dcfb3cc"
      },
      "execution_count": 15,
      "outputs": [
        {
          "output_type": "stream",
          "name": "stdout",
          "text": [
            "Enter a number: 1\n",
            "Continua a aplicação...\n"
          ]
        }
      ]
    },
    {
      "cell_type": "code",
      "source": [
        "# Using an else block\n",
        "\n",
        "try:\n",
        "    # Code that may raise an exception\n",
        "    x = int(input(\"Enter a number: \"))\n",
        "    result = 10 / x\n",
        "except ValueError:\n",
        "    # Handling a specific exception\n",
        "    print(\"Invalid input! Please enter a valid number.\")\n",
        "except ZeroDivisionError:\n",
        "    # Handling another specific exception\n",
        "    print(\"Cannot divide by zero!\")\n",
        "else:\n",
        "    # Executed if no exception occurred\n",
        "    print(\"Division result:\", result)\n",
        "print('Continua a aplicação...')"
      ],
      "metadata": {
        "colab": {
          "base_uri": "https://localhost:8080/"
        },
        "id": "pMQ41adHDymL",
        "outputId": "96cce7f3-f953-4d7b-83a6-d9fbbd09e25f"
      },
      "execution_count": 16,
      "outputs": [
        {
          "output_type": "stream",
          "name": "stdout",
          "text": [
            "Enter a number: 1\n",
            "Division result: 10.0\n",
            "Continua a aplicação...\n"
          ]
        }
      ]
    },
    {
      "cell_type": "markdown",
      "source": [
        "## Raising Exceptions (Levantando exceções)"
      ],
      "metadata": {
        "id": "gWeFkY9aD-In"
      }
    },
    {
      "cell_type": "code",
      "source": [
        "# Raising a specific exception\n",
        "def validate_age(age):\n",
        "    if age < 0:\n",
        "        raise ValueError(\"Age cannot be negative\")\n",
        "    if age > 120:\n",
        "        raise ValueError(\"Invalid age\")\n",
        "    # Perform other validation checks\n",
        "\n",
        "try:\n",
        "    age = int(input(\"Enter your age: \"))\n",
        "    validate_age(age)\n",
        "    print(\"Age is valid\")\n",
        "except ValueError as e:\n",
        "    print(\"Invalid age:\", str(e))\n",
        "print('Continua a aplicação...')"
      ],
      "metadata": {
        "colab": {
          "base_uri": "https://localhost:8080/"
        },
        "id": "FfrDzppWEAXA",
        "outputId": "4a4797a8-5ec2-43cd-d4b2-bbc11c9b50de"
      },
      "execution_count": 18,
      "outputs": [
        {
          "output_type": "stream",
          "name": "stdout",
          "text": [
            "Enter your age: 18\n",
            "Age is valid\n",
            "Continua a aplicação...\n"
          ]
        }
      ]
    },
    {
      "cell_type": "code",
      "source": [
        "# Raising a built-in exception\n",
        "\n",
        "def calculate_percentage(value, total):\n",
        "    if total == 0:\n",
        "        raise ZeroDivisionError(\"Total cannot be zero\")\n",
        "    percentage = (value / total) * 100\n",
        "    return percentage\n",
        "\n",
        "try:\n",
        "    result = calculate_percentage(10, 0)\n",
        "    print(\"Percentage:\", result)\n",
        "except ZeroDivisionError as e:\n",
        "    print(\"Error:\", str(e))\n",
        "\n",
        "print('Continua a aplicação...')"
      ],
      "metadata": {
        "colab": {
          "base_uri": "https://localhost:8080/"
        },
        "id": "JM7X_0ceEENP",
        "outputId": "42ab9c67-e5ce-42b8-e812-28239dc99123"
      },
      "execution_count": 19,
      "outputs": [
        {
          "output_type": "stream",
          "name": "stdout",
          "text": [
            "Error: Total cannot be zero\n",
            "Continua a aplicação...\n"
          ]
        }
      ]
    },
    {
      "cell_type": "code",
      "source": [
        "# Creating a custom exception\n",
        "\n",
        "class CustomException(Exception):\n",
        "    pass\n",
        "\n",
        "def process_data(data):\n",
        "    if not data:\n",
        "        raise CustomException(\"Empty data provided\")\n",
        "    # Process the data\n",
        "\n",
        "try:\n",
        "    data = []\n",
        "    process_data(data)\n",
        "except CustomException as e:\n",
        "    print(\"Error:\", str(e))\n",
        "\n",
        "print('Continua a aplicação...')"
      ],
      "metadata": {
        "colab": {
          "base_uri": "https://localhost:8080/"
        },
        "id": "cmUF2T6CEIYG",
        "outputId": "72fe79b7-0497-4286-9d83-1478c2971eee"
      },
      "execution_count": 20,
      "outputs": [
        {
          "output_type": "stream",
          "name": "stdout",
          "text": [
            "Error: Empty data provided\n",
            "Continua a aplicação...\n"
          ]
        }
      ]
    },
    {
      "cell_type": "markdown",
      "source": [
        "## Exception Hierarchy"
      ],
      "metadata": {
        "id": "sziJcvUWEQnD"
      }
    },
    {
      "cell_type": "code",
      "source": [
        "exception_hierarchy = '''\n",
        "BaseException\n",
        "├── SystemExit\n",
        "├── KeyboardInterrupt\n",
        "├── GeneratorExit\n",
        "└── Exception\n",
        "    ├── StopIteration\n",
        "    ├── ArithmeticError\n",
        "    │   ├── ZeroDivisionError\n",
        "    │   ├── OverflowError\n",
        "    │   └── FloatingPointError\n",
        "    ├── AssertionError\n",
        "    ├── AttributeError\n",
        "    ├── EOFError\n",
        "    ├── ImportError\n",
        "    ├── IndexError\n",
        "    ├── KeyError\n",
        "    ├── NameError\n",
        "    ├── SyntaxError\n",
        "    ├── TypeError\n",
        "    ├── ValueError\n",
        "    ├── OSError\n",
        "    │   ├── FileNotFoundError\n",
        "    │   └── PermissionError\n",
        "    └── ...\n",
        "'''"
      ],
      "metadata": {
        "id": "spfl8hRwERv1"
      },
      "execution_count": null,
      "outputs": []
    },
    {
      "cell_type": "code",
      "source": [
        "print(exception_hierarchy)"
      ],
      "metadata": {
        "id": "LaHY2_axEZX9"
      },
      "execution_count": null,
      "outputs": []
    },
    {
      "cell_type": "code",
      "source": [
        "def process_data(data):\n",
        "    if not data:\n",
        "        raise ValueError(\"Empty data provided\")\n",
        "    if len(data) > 10:\n",
        "        raise ValueError(\"Too many items in the data\")\n",
        "    # Process the data\n",
        "\n",
        "try:\n",
        "    data = []\n",
        "    process_data(data)\n",
        "except ValueError as e:\n",
        "    print(\"ValueError occurred:\", str(e))\n",
        "except Exception as e:\n",
        "    print(\"Exception occurred:\", str(e))\n",
        "\n",
        "print('Continua a aplicação...')"
      ],
      "metadata": {
        "colab": {
          "base_uri": "https://localhost:8080/"
        },
        "id": "n6sxQhwBEg16",
        "outputId": "4779f54d-6e1a-4a51-8148-41ac51936642"
      },
      "execution_count": 21,
      "outputs": [
        {
          "output_type": "stream",
          "name": "stdout",
          "text": [
            "ValueError occurred: Empty data provided\n",
            "Continua a aplicação...\n"
          ]
        }
      ]
    },
    {
      "cell_type": "markdown",
      "source": [
        "## Handling Multiple Exceptions"
      ],
      "metadata": {
        "id": "SjkT0h_GE5XH"
      }
    },
    {
      "cell_type": "markdown",
      "source": [
        "Exemplo 1: temos blocos except separados para lidar com exceções específicas (ZeroDivisionError e ValueError). Cada bloco é responsável por tratar a exceção correspondente gerada no bloco try."
      ],
      "metadata": {
        "id": "3ASLEbG0Fd1D"
      }
    },
    {
      "cell_type": "code",
      "source": [
        "# Handling multiple specific exceptions\n",
        "try:\n",
        "    # Code that may raise exceptions\n",
        "    a = 10 / 0\n",
        "    b = int('abc')\n",
        "except ZeroDivisionError:\n",
        "    print(\"Error: Division by zero!\")\n",
        "except ValueError:\n",
        "    print(\"Error: Invalid conversion to integer!\")\n",
        "\n",
        "print('Continua a aplicação...')"
      ],
      "metadata": {
        "colab": {
          "base_uri": "https://localhost:8080/"
        },
        "id": "4hArct0_E6YH",
        "outputId": "bb3465d8-91bf-494b-9b7b-78d40a192564"
      },
      "execution_count": 22,
      "outputs": [
        {
          "output_type": "stream",
          "name": "stdout",
          "text": [
            "Error: Division by zero!\n",
            "Continua a aplicação...\n"
          ]
        }
      ]
    },
    {
      "cell_type": "markdown",
      "source": [
        "Exemplo 2: usamos um único bloco except com parênteses para lidar com várias exceções (ZeroDivisionError e ValueError) de uma maneira mais concisa. A palavra-chave as nos permite acessar o objeto de exceção e imprimir a mensagem de erro."
      ],
      "metadata": {
        "id": "2Lt8G4rNFgk6"
      }
    },
    {
      "cell_type": "code",
      "source": [
        "# Handling multiple exceptions with a single except block\n",
        "\n",
        "try:\n",
        "    # Code that may raise exceptions\n",
        "    a = 10 / 0\n",
        "    b = int('abc')\n",
        "except (ZeroDivisionError, ValueError) as e:\n",
        "    print(\"An error occurred:\", str(e))\n",
        "\n",
        "print('Continua a aplicação...')"
      ],
      "metadata": {
        "colab": {
          "base_uri": "https://localhost:8080/"
        },
        "id": "p3w3C-p2E-Yx",
        "outputId": "d47c4c4d-e505-4e39-f02d-8284c21fc259"
      },
      "execution_count": 23,
      "outputs": [
        {
          "output_type": "stream",
          "name": "stdout",
          "text": [
            "An error occurred: division by zero\n",
            "Continua a aplicação...\n"
          ]
        }
      ]
    },
    {
      "cell_type": "markdown",
      "source": [
        "Exemplo 3: usamos a classe base Exception no bloco except, que pode capturar qualquer exceção gerada no bloco try. Essa abordagem pode ser útil quando você deseja lidar com um grupo de exceções relacionadas de maneira semelhante."
      ],
      "metadata": {
        "id": "XDbkdrAjFldl"
      }
    },
    {
      "cell_type": "code",
      "source": [
        "# Handling multiple exceptions with a base class\n",
        "try:\n",
        "    # Code that may raise exceptions\n",
        "    a = 10 / 0\n",
        "    b = int('abc')\n",
        "except Exception as e:\n",
        "    print(\"An error occurred:\", str(e))\n",
        "\n",
        "print('Continua a aplicação...')"
      ],
      "metadata": {
        "colab": {
          "base_uri": "https://localhost:8080/"
        },
        "id": "fq-1UsCxFCIX",
        "outputId": "d772b0b4-f253-45b1-d452-1f9c9dc1a925"
      },
      "execution_count": 24,
      "outputs": [
        {
          "output_type": "stream",
          "name": "stdout",
          "text": [
            "An error occurred: division by zero\n",
            "Continua a aplicação...\n"
          ]
        }
      ]
    },
    {
      "cell_type": "markdown",
      "source": [
        "## Bloco Finally"
      ],
      "metadata": {
        "id": "fwz_uFaLF2oR"
      }
    },
    {
      "cell_type": "markdown",
      "source": [
        "No exemplo abaixo, o bloco try contém código que não gera uma exceção. O bloco final ainda é executado após a conclusão do bloco try, permitindo que você execute operações de limpeza ou finalização."
      ],
      "metadata": {
        "id": "MPz1DuWWGYz0"
      }
    },
    {
      "cell_type": "code",
      "source": [
        "def perform_operation(lista):\n",
        "  return sum(lista)\n",
        "\n",
        "def cleanup(lista):\n",
        "  lista.clear()"
      ],
      "metadata": {
        "id": "9XYEEV9qK3-j"
      },
      "execution_count": 26,
      "outputs": []
    },
    {
      "cell_type": "code",
      "source": [
        "# Using finally block without an exception\n",
        "lista = [1,2,3,4,5]\n",
        "try:\n",
        "    # Code that does not raise an exception\n",
        "    result = perform_operation(lista)\n",
        "    print(result)\n",
        "finally:\n",
        "    # Clean up or finalize operations\n",
        "    cleanup(lista)\n",
        "\n",
        "print('Continua a aplicação...')"
      ],
      "metadata": {
        "colab": {
          "base_uri": "https://localhost:8080/"
        },
        "id": "kfVWMuoQGOTH",
        "outputId": "d56dd839-20ee-4783-882c-923ea43db9df"
      },
      "execution_count": 29,
      "outputs": [
        {
          "output_type": "stream",
          "name": "stdout",
          "text": [
            "15\n",
            "Continua a aplicação...\n"
          ]
        }
      ]
    },
    {
      "cell_type": "code",
      "source": [
        "print(lista)"
      ],
      "metadata": {
        "colab": {
          "base_uri": "https://localhost:8080/"
        },
        "id": "kNX7QffENZWn",
        "outputId": "c2b800e9-750a-4265-f61c-ee0d09391140"
      },
      "execution_count": 28,
      "outputs": [
        {
          "output_type": "stream",
          "name": "stdout",
          "text": [
            "[]\n"
          ]
        }
      ]
    },
    {
      "cell_type": "markdown",
      "source": [
        "No examplo abaixo, o bloco final é executado mesmo que uma exceção ocorra ou não. Neste caso, é utilizado para imprimir uma mensagem que sempre será exibida independente da divisão ser bem-sucedida ou ocorrer um ZeroDivisionError."
      ],
      "metadata": {
        "id": "R7WXN50fGkp1"
      }
    },
    {
      "cell_type": "code",
      "source": [
        "# Using finally block with return statement\n",
        "\n",
        "def divide(a, b):\n",
        "    try:\n",
        "        result = a / b\n",
        "        return result\n",
        "    except ZeroDivisionError:\n",
        "        print(\"Division by zero!\")\n",
        "        return None\n",
        "    finally:\n",
        "        print(\"This will always be executed\")\n",
        "\n",
        "# Calling the function\n",
        "print(divide(10, 2))\n",
        "print('Continua a aplicação...')"
      ],
      "metadata": {
        "colab": {
          "base_uri": "https://localhost:8080/"
        },
        "id": "41SkWM6eF-GE",
        "outputId": "795c3e93-5487-45cd-8c49-d050a7046c98"
      },
      "execution_count": 31,
      "outputs": [
        {
          "output_type": "stream",
          "name": "stdout",
          "text": [
            "This will always be executed\n",
            "5.0\n",
            "Continua a aplicação...\n"
          ]
        }
      ]
    },
    {
      "cell_type": "code",
      "source": [
        "print(divide(10, 0))\n",
        "print('Continua a aplicação...')"
      ],
      "metadata": {
        "id": "FBiNKYg0Kbw0",
        "outputId": "21cf77de-4f38-4336-f878-07d109008554",
        "colab": {
          "base_uri": "https://localhost:8080/"
        }
      },
      "execution_count": 32,
      "outputs": [
        {
          "output_type": "stream",
          "name": "stdout",
          "text": [
            "Division by zero!\n",
            "This will always be executed\n",
            "None\n",
            "Continua a aplicação...\n"
          ]
        }
      ]
    },
    {
      "cell_type": "markdown",
      "source": [
        "# Exemplos"
      ],
      "metadata": {
        "id": "ekJVOsBDqXpj"
      }
    },
    {
      "cell_type": "markdown",
      "source": [
        "## Validando a entrada de um número"
      ],
      "metadata": {
        "id": "-E5PWWCRskNu"
      }
    },
    {
      "cell_type": "code",
      "source": [
        "numero = float(input('Digite um número real: '))\n",
        "print(f'valor do numero: {numero}')"
      ],
      "metadata": {
        "id": "IdgdVl8EuKZP",
        "outputId": "4eb91081-0c90-40de-b9e6-7495a81d99f8",
        "colab": {
          "base_uri": "https://localhost:8080/"
        }
      },
      "execution_count": 33,
      "outputs": [
        {
          "output_type": "stream",
          "name": "stdout",
          "text": [
            "Digite um número real: 1.5\n",
            "valor do numero: 1.5\n"
          ]
        }
      ]
    },
    {
      "cell_type": "code",
      "source": [
        "numero = float(input('Digite um número real: '))\n",
        "print(f'valor do numero: {numero}')"
      ],
      "metadata": {
        "id": "b3GMvJ5LKg1w",
        "outputId": "1c001795-7aff-42b7-da9a-4de2420c272d",
        "colab": {
          "base_uri": "https://localhost:8080/",
          "height": 201
        }
      },
      "execution_count": 34,
      "outputs": [
        {
          "name": "stdout",
          "output_type": "stream",
          "text": [
            "Digite um número real: ab\n"
          ]
        },
        {
          "output_type": "error",
          "ename": "ValueError",
          "evalue": "ignored",
          "traceback": [
            "\u001b[0;31m---------------------------------------------------------------------------\u001b[0m",
            "\u001b[0;31mValueError\u001b[0m                                Traceback (most recent call last)",
            "\u001b[0;32m<ipython-input-34-7f81fff02646>\u001b[0m in \u001b[0;36m<cell line: 1>\u001b[0;34m()\u001b[0m\n\u001b[0;32m----> 1\u001b[0;31m \u001b[0mnumero\u001b[0m \u001b[0;34m=\u001b[0m \u001b[0mfloat\u001b[0m\u001b[0;34m(\u001b[0m\u001b[0minput\u001b[0m\u001b[0;34m(\u001b[0m\u001b[0;34m'Digite um número real: '\u001b[0m\u001b[0;34m)\u001b[0m\u001b[0;34m)\u001b[0m\u001b[0;34m\u001b[0m\u001b[0;34m\u001b[0m\u001b[0m\n\u001b[0m\u001b[1;32m      2\u001b[0m \u001b[0mprint\u001b[0m\u001b[0;34m(\u001b[0m\u001b[0;34mf'valor do numero: {numero}'\u001b[0m\u001b[0;34m)\u001b[0m\u001b[0;34m\u001b[0m\u001b[0;34m\u001b[0m\u001b[0m\n",
            "\u001b[0;31mValueError\u001b[0m: could not convert string to float: 'ab'"
          ]
        }
      ]
    },
    {
      "cell_type": "code",
      "source": [
        "# Tratando a entrada de dados via excecao\n",
        "numero_invalido = True\n",
        "try:\n",
        "  numero = float(input('Digite um número real: '))\n",
        "  print(numero)\n",
        "  numero_invalido = False\n",
        "except ValueError as ve:\n",
        "  print(f'valor inválido! Digite um número real!')\n",
        "\n",
        "print(numero_invalido)"
      ],
      "metadata": {
        "id": "YT-EIRANsqir",
        "outputId": "43a57a1d-3eda-423b-9581-40f79d334d1f",
        "colab": {
          "base_uri": "https://localhost:8080/"
        }
      },
      "execution_count": 35,
      "outputs": [
        {
          "output_type": "stream",
          "name": "stdout",
          "text": [
            "Digite um número real: 1.5\n",
            "1.5\n",
            "False\n"
          ]
        }
      ]
    },
    {
      "cell_type": "code",
      "source": [
        "numero_invalido = True\n",
        "while numero_invalido:\n",
        "  try:\n",
        "    numero = float(input('Digite um número real: '))\n",
        "    print(numero)\n",
        "    numero_invalido = False\n",
        "  except ValueError as ve:\n",
        "    print(f'valor inválido! Digite um número real!')"
      ],
      "metadata": {
        "id": "Gvk2JEmutrQt",
        "outputId": "4d00bf49-c6a8-44ab-e347-c4e4fd36ccac",
        "colab": {
          "base_uri": "https://localhost:8080/"
        }
      },
      "execution_count": null,
      "outputs": [
        {
          "output_type": "stream",
          "name": "stdout",
          "text": [
            "Digite um número real: a\n",
            "valor inválido! Digite um número real!\n",
            "Digite um número real: 1,5\n",
            "valor inválido! Digite um número real!\n",
            "Digite um número real: 1.5\n",
            "1.5\n"
          ]
        }
      ]
    },
    {
      "cell_type": "markdown",
      "source": [
        "## Fazendo o download de um arquivo"
      ],
      "metadata": {
        "id": "KWE1CI1nssF-"
      }
    },
    {
      "cell_type": "markdown",
      "source": [
        "Fazendo o download de um arquivo usando o módulo requests\n",
        "\n",
        "https://requests.readthedocs.io/en/latest/"
      ],
      "metadata": {
        "id": "bIbV8UuyrhN7"
      }
    },
    {
      "cell_type": "code",
      "source": [
        "import requests\n",
        "\n",
        "def download_file(url, destination):\n",
        "    try:\n",
        "        response = requests.get(url)\n",
        "        response.raise_for_status()  # Verifica se houve algum erro na requisição\n",
        "\n",
        "        with open(destination, 'wb') as file:\n",
        "            file.write(response.content)\n",
        "\n",
        "        print(f\"Download completo. Arquivo salvo em: {destination}\")\n",
        "    except requests.exceptions.MissingSchema:\n",
        "        print(\"URL inválida. Certifique-se de fornecer uma URL válida.\")\n",
        "    except requests.exceptions.RequestException as e:\n",
        "        print(f\"Erro na conexão: {e}\")"
      ],
      "metadata": {
        "id": "wZ6MzhwgqYsA"
      },
      "execution_count": 36,
      "outputs": []
    },
    {
      "cell_type": "code",
      "source": [
        "# Exemplo 1 de uso (caminho feliz)\n",
        "url = 'https://raw.githubusercontent.com/armandossrecife/teste/main/ATDIMSummary.png'  # Insira a URL do arquivo desejado\n",
        "destination = 'ATDIMSummary.png'  # Insira o caminho de destino para salvar o arquivo\n",
        "\n",
        "download_file(url, destination)"
      ],
      "metadata": {
        "id": "sNbmAKpXrDe5",
        "outputId": "f76827ba-7712-44c1-ba8a-deaab9028d4b",
        "colab": {
          "base_uri": "https://localhost:8080/"
        }
      },
      "execution_count": 37,
      "outputs": [
        {
          "output_type": "stream",
          "name": "stdout",
          "text": [
            "Download completo. Arquivo salvo em: ATDIMSummary.png\n"
          ]
        }
      ]
    },
    {
      "cell_type": "code",
      "source": [
        "# Exemplo 2 de uso (arquivo não existe)\n",
        "url = 'https://raw.githubusercontent.com/armandossrecife/teste/main/ATDIMSummary'  # Insira a URL do arquivo desejado\n",
        "destination = 'ATDIMSummary.png'  # Insira o caminho de destino para salvar o arquivo\n",
        "\n",
        "download_file(url, destination)"
      ],
      "metadata": {
        "id": "5RJxQ7gir-k8",
        "outputId": "47b6e963-7483-4c0a-a15e-c1e9ca095124",
        "colab": {
          "base_uri": "https://localhost:8080/"
        }
      },
      "execution_count": 38,
      "outputs": [
        {
          "output_type": "stream",
          "name": "stdout",
          "text": [
            "Erro na conexão: 404 Client Error: Not Found for url: https://raw.githubusercontent.com/armandossrecife/teste/main/ATDIMSummary\n"
          ]
        }
      ]
    },
    {
      "cell_type": "code",
      "source": [
        "# Exemplo 3 de uso (url inválida)\n",
        "url = 'https:raw.githubusercontent.com/armandossrecife/teste/main/ATDIMSummary.png'  # Insira a URL do arquivo desejado\n",
        "destination = 'ATDIMSummary.png'  # Insira o caminho de destino para salvar o arquivo\n",
        "\n",
        "download_file(url, destination)"
      ],
      "metadata": {
        "id": "lj4JthjasGuy",
        "outputId": "55ead33f-0c76-4233-c531-0aaf0a631bb1",
        "colab": {
          "base_uri": "https://localhost:8080/"
        }
      },
      "execution_count": 39,
      "outputs": [
        {
          "output_type": "stream",
          "name": "stdout",
          "text": [
            "Erro na conexão: Invalid URL 'https:raw.githubusercontent.com/armandossrecife/teste/main/ATDIMSummary.png': No host supplied\n"
          ]
        }
      ]
    },
    {
      "cell_type": "code",
      "source": [],
      "metadata": {
        "id": "cGjUXB1vvq9M"
      },
      "execution_count": null,
      "outputs": []
    }
  ]
}