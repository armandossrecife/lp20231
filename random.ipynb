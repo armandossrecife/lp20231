{
  "nbformat": 4,
  "nbformat_minor": 0,
  "metadata": {
    "colab": {
      "provenance": [],
      "authorship_tag": "ABX9TyP5qFTYvWWXg/mkBgHdGFjW",
      "include_colab_link": true
    },
    "kernelspec": {
      "name": "python3",
      "display_name": "Python 3"
    },
    "language_info": {
      "name": "python"
    }
  },
  "cells": [
    {
      "cell_type": "markdown",
      "metadata": {
        "id": "view-in-github",
        "colab_type": "text"
      },
      "source": [
        "<a href=\"https://colab.research.google.com/github/armandossrecife/lp20231/blob/main/random.ipynb\" target=\"_parent\"><img src=\"https://colab.research.google.com/assets/colab-badge.svg\" alt=\"Open In Colab\"/></a>"
      ]
    },
    {
      "cell_type": "markdown",
      "source": [
        "# Random no Python\n",
        "\n",
        "https://docs.python.org/3/library/random.html\n",
        "\n",
        "- A biblioteca random é uma biblioteca padrão do Python que fornece funções para geração de números aleatórios.\n",
        "- É amplamente utilizada em diferentes domínios, como jogos, simulações, criptografia e testes estatísticos."
      ],
      "metadata": {
        "id": "T4MLof2cq6kI"
      }
    },
    {
      "cell_type": "code",
      "source": [
        "import random"
      ],
      "metadata": {
        "id": "ZD-d0RIOp9Wj"
      },
      "execution_count": null,
      "outputs": []
    },
    {
      "cell_type": "markdown",
      "source": [
        "Principais Conceitos:\n",
        "\n",
        "Semente Aleatória:\n",
        "\n",
        "- Antes de usar a biblioteca random, é necessário definir uma semente aleatória.\n",
        "A semente determina o ponto de partida para a geração de números aleatórios.\n",
        "- O uso de uma semente garante a reprodução dos mesmos resultados quando a mesma semente é usada em diferentes execuções.\n",
        "\n",
        "Geração de Números Aleatórios:\n",
        "\n",
        "- A biblioteca random oferece uma variedade de funções para gerar números aleatórios.\n",
        "- random(): gera um número aleatório de ponto flutuante entre 0 e 1.\n",
        "- randint(a, b): gera um número inteiro aleatório entre dois valores inclusivos.\n",
        "- choice(seq): retorna um elemento aleatório de uma sequência.\n",
        "- shuffle(seq): embaralha aleatoriamente os elementos de uma sequência.\n",
        "\n",
        "Amostragem Aleatória:\n",
        "\n",
        "- A biblioteca random também oferece funções para amostragem aleatória de elementos.\n",
        "- sample(population, k): retorna uma lista com k elementos únicos amostrados aleatoriamente de uma população.\n"
      ],
      "metadata": {
        "id": "B-K-HXw2K3mE"
      }
    },
    {
      "cell_type": "markdown",
      "source": [
        "Gerar um número inteiro aleatório entre 0 e 9\n"
      ],
      "metadata": {
        "id": "OPNR8hHrrBr-"
      }
    },
    {
      "cell_type": "code",
      "source": [
        "numero_inteiro = random.randint(0, 9)\n",
        "print(\"Número inteiro aleatório:\", numero_inteiro)"
      ],
      "metadata": {
        "colab": {
          "base_uri": "https://localhost:8080/"
        },
        "id": "UQUyskL0qjMH",
        "outputId": "bc3e7d48-70bd-4ec0-d1e3-3172bbf39ba6"
      },
      "execution_count": null,
      "outputs": [
        {
          "output_type": "stream",
          "name": "stdout",
          "text": [
            "Número inteiro aleatório: 7\n"
          ]
        }
      ]
    },
    {
      "cell_type": "markdown",
      "source": [
        "Gerar um número inteiro aleatório entre -9 e 9"
      ],
      "metadata": {
        "id": "V5YV-sy4sOZm"
      }
    },
    {
      "cell_type": "code",
      "source": [
        "numero_inteiro = random.randint(-9, 9)\n",
        "print(\"Número inteiro aleatório:\", numero_inteiro)"
      ],
      "metadata": {
        "colab": {
          "base_uri": "https://localhost:8080/"
        },
        "id": "CccCKQlysNOA",
        "outputId": "c45295db-93af-4412-915f-667f3fa4d4ac"
      },
      "execution_count": null,
      "outputs": [
        {
          "output_type": "stream",
          "name": "stdout",
          "text": [
            "Número inteiro aleatório: -8\n"
          ]
        }
      ]
    },
    {
      "cell_type": "markdown",
      "source": [
        "Gerar um número real aleatório entre 0 e 1"
      ],
      "metadata": {
        "id": "ThpIHKgvrF9c"
      }
    },
    {
      "cell_type": "code",
      "source": [
        "numero_decimal = random.random()\n",
        "print(\"Número decimal aleatório:\", numero_decimal)"
      ],
      "metadata": {
        "colab": {
          "base_uri": "https://localhost:8080/"
        },
        "id": "KDQ1ec_yql2j",
        "outputId": "62730eea-dae2-4202-d5a2-698f10c560ce"
      },
      "execution_count": null,
      "outputs": [
        {
          "output_type": "stream",
          "name": "stdout",
          "text": [
            "Número decimal aleatório: 0.771683730923948\n"
          ]
        }
      ]
    },
    {
      "cell_type": "markdown",
      "source": [
        "Arredondando um número real \n",
        "\n",
        "round : round(valor, casas decimais)\n",
        "\n",
        "https://docs.python.org/3/library/functions.html#round"
      ],
      "metadata": {
        "id": "RT1D8k3IsbpU"
      }
    },
    {
      "cell_type": "code",
      "source": [
        "print(\"Número decimal aleatório:\", round(numero_decimal, 3))"
      ],
      "metadata": {
        "colab": {
          "base_uri": "https://localhost:8080/"
        },
        "id": "p7dwx5xus4av",
        "outputId": "39cd4e4c-cf73-4598-826f-1c452d619d35"
      },
      "execution_count": null,
      "outputs": [
        {
          "output_type": "stream",
          "name": "stdout",
          "text": [
            "Número decimal aleatório: 0.772\n"
          ]
        }
      ]
    },
    {
      "cell_type": "markdown",
      "source": [
        "Gerar um número real aleatório dentro de um intervalo específico"
      ],
      "metadata": {
        "id": "mc2uDYLkrJFB"
      }
    },
    {
      "cell_type": "code",
      "source": [
        "numero_intervalo = random.uniform(1.5, 3.5)\n",
        "print(\"Número aleatório no intervalo [1.5, 3.5]:\", numero_intervalo)"
      ],
      "metadata": {
        "colab": {
          "base_uri": "https://localhost:8080/"
        },
        "id": "KVSRnJMaqpmy",
        "outputId": "2b9b0831-2fd3-447f-857b-fd4c7ce0dc79"
      },
      "execution_count": null,
      "outputs": [
        {
          "output_type": "stream",
          "name": "stdout",
          "text": [
            "Número aleatório no intervalo [1.5, 3.5]: 2.424496561407252\n"
          ]
        }
      ]
    },
    {
      "cell_type": "markdown",
      "source": [
        "Escolher um elemento aleatório de uma lista"
      ],
      "metadata": {
        "id": "6ys7iTicrNPt"
      }
    },
    {
      "cell_type": "code",
      "source": [
        "lista = [\"Maçã\", \"Banana\", \"Laranja\", \"Abacaxi\"]\n",
        "elemento_aleatorio = random.choice(lista)\n",
        "print(\"Elemento aleatório da lista:\", elemento_aleatorio)"
      ],
      "metadata": {
        "colab": {
          "base_uri": "https://localhost:8080/"
        },
        "id": "3esrdS7GquEU",
        "outputId": "c44ae2a3-8262-4d23-ce0d-a76ee67a5c19"
      },
      "execution_count": null,
      "outputs": [
        {
          "output_type": "stream",
          "name": "stdout",
          "text": [
            "Elemento aleatório da lista: Abacaxi\n"
          ]
        }
      ]
    },
    {
      "cell_type": "markdown",
      "source": [
        "Embaralhar uma lista"
      ],
      "metadata": {
        "id": "QrNKTYmNrRci"
      }
    },
    {
      "cell_type": "code",
      "source": [
        "random.shuffle(lista)\n",
        "print(\"Lista embaralhada:\", lista)"
      ],
      "metadata": {
        "colab": {
          "base_uri": "https://localhost:8080/"
        },
        "id": "6Ak8rwE5qzgn",
        "outputId": "692abeae-4fc8-4cd4-95dd-613f865d139e"
      },
      "execution_count": null,
      "outputs": [
        {
          "output_type": "stream",
          "name": "stdout",
          "text": [
            "Lista embaralhada: ['Abacaxi', 'Laranja', 'Banana', 'Maçã']\n"
          ]
        }
      ]
    },
    {
      "cell_type": "markdown",
      "source": [
        "Selecionar uma amostra aleatória de elementos de uma lista"
      ],
      "metadata": {
        "id": "hliaBAfJrWHa"
      }
    },
    {
      "cell_type": "code",
      "source": [
        "amostra_aleatoria = random.sample(lista, 2)\n",
        "print(\"Amostra aleatória:\", amostra_aleatoria)"
      ],
      "metadata": {
        "colab": {
          "base_uri": "https://localhost:8080/"
        },
        "id": "0P1d4dOfou78",
        "outputId": "bc63ef31-cc52-47d1-eb21-6a194aaf95f8"
      },
      "execution_count": null,
      "outputs": [
        {
          "output_type": "stream",
          "name": "stdout",
          "text": [
            "Amostra aleatória: ['Abacaxi', 'Maçã']\n"
          ]
        }
      ]
    }
  ]
}