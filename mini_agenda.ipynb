{
  "cells": [
    {
      "cell_type": "markdown",
      "metadata": {
        "id": "view-in-github",
        "colab_type": "text"
      },
      "source": [
        "<a href=\"https://colab.research.google.com/github/armandossrecife/lp20231/blob/main/mini_agenda.ipynb\" target=\"_parent\"><img src=\"https://colab.research.google.com/assets/colab-badge.svg\" alt=\"Open In Colab\"/></a>"
      ]
    },
    {
      "cell_type": "markdown",
      "metadata": {
        "id": "ZUMYSMLzPsK0"
      },
      "source": [
        "# Revisão de manipulação de arquivos com Python"
      ]
    },
    {
      "cell_type": "code",
      "execution_count": null,
      "metadata": {
        "colab": {
          "base_uri": "https://localhost:8080/"
        },
        "id": "0b3s9aTlPqka",
        "outputId": "e5a8a813-f470-4eca-dead-91628c50123c"
      },
      "outputs": [
        {
          "name": "stdout",
          "output_type": "stream",
          "text": [
            "Qual o id? 1\n",
            "Qual o nome? Maria\n",
            "Qual o endereço? Rua xxx\n"
          ]
        }
      ],
      "source": [
        "# Ler dados de pessoa\n",
        "id = input(\"Qual o id? \")\n",
        "nome = input(\"Qual o nome? \")\n",
        "endereco = input(\"Qual o endereço? \")"
      ]
    },
    {
      "cell_type": "code",
      "execution_count": null,
      "metadata": {
        "colab": {
          "base_uri": "https://localhost:8080/"
        },
        "id": "Q5raDNTHY2au",
        "outputId": "fa3e9b5f-f436-4d58-8919-a10ae3b347c4"
      },
      "outputs": [
        {
          "output_type": "stream",
          "name": "stdout",
          "text": [
            "1 Maria Rua xxx\n"
          ]
        }
      ],
      "source": [
        "print(id, nome, endereco)"
      ]
    },
    {
      "cell_type": "code",
      "execution_count": null,
      "metadata": {
        "id": "L2-A0B34Y-zw"
      },
      "outputs": [],
      "source": [
        "# Funcao que ler dados de uma pessoa\n",
        "# retorna uma tupla contendo os dados da pessoa\n",
        "def ler_dados_pessoa():\n",
        "  id = input(\"Qual o id? \")\n",
        "  nome = input(\"Qual o nome? \")\n",
        "  endereco = input(\"Qual o endereço? \")\n",
        "  return id, nome, endereco"
      ]
    },
    {
      "cell_type": "code",
      "execution_count": null,
      "metadata": {
        "colab": {
          "base_uri": "https://localhost:8080/"
        },
        "id": "-Lpa7Gs_ZMCT",
        "outputId": "8bf65e94-f08b-4392-88b6-0a779a969f62"
      },
      "outputs": [
        {
          "name": "stdout",
          "output_type": "stream",
          "text": [
            "Qual o id? 1\n",
            "Qual o nome? Maria\n",
            "Qual o endereço? Rua xxxy\n"
          ]
        }
      ],
      "source": [
        "pessoa_temp = ler_dados_pessoa()"
      ]
    },
    {
      "cell_type": "code",
      "execution_count": null,
      "metadata": {
        "colab": {
          "base_uri": "https://localhost:8080/"
        },
        "id": "SvYi0nxSZPBU",
        "outputId": "b9ece0b8-4db3-4fdf-9010-ec777bbe3c97"
      },
      "outputs": [
        {
          "output_type": "stream",
          "name": "stdout",
          "text": [
            "('1', 'Maria', 'Rua xxxy')\n"
          ]
        }
      ],
      "source": [
        "print(pessoa_temp)"
      ]
    },
    {
      "cell_type": "code",
      "execution_count": null,
      "metadata": {
        "id": "fRUA1WRdZSxy"
      },
      "outputs": [],
      "source": [
        "# escreve um conteudo qualquer em um arquivo\n",
        "\n",
        "conteudo = \"Novos Dados de teste\" + \"\\n\"\n",
        "\n",
        "file_temp = open('meu_arquivo.txt', 'a')\n",
        "file_temp.write(conteudo)\n",
        "file_temp.close()"
      ]
    },
    {
      "cell_type": "code",
      "execution_count": null,
      "metadata": {
        "colab": {
          "base_uri": "https://localhost:8080/"
        },
        "id": "LBJ66lYAZl0_",
        "outputId": "b9b81592-a20a-48ae-f0bd-71f3bca705d8"
      },
      "outputs": [
        {
          "output_type": "stream",
          "name": "stdout",
          "text": [
            "Novos Dados de teste na próxima linha\n",
            "outra linha\n",
            "Novos Dados de teste\n"
          ]
        }
      ],
      "source": [
        "!cat meu_arquivo.txt"
      ]
    },
    {
      "cell_type": "code",
      "execution_count": null,
      "metadata": {
        "id": "M5-bNDxKZ6vv"
      },
      "outputs": [],
      "source": [
        "conteudo_temp = \"outra linha\" + \"\\n\"\n",
        "\n",
        "file_temp2 = open('meu_arquivo.txt', 'a')\n",
        "file_temp2.write(conteudo_temp)\n",
        "file_temp2.close()"
      ]
    },
    {
      "cell_type": "code",
      "execution_count": null,
      "metadata": {
        "colab": {
          "base_uri": "https://localhost:8080/"
        },
        "id": "0ACu0ZtiafKj",
        "outputId": "ae023656-a728-4097-c201-009c52b90564"
      },
      "outputs": [
        {
          "output_type": "stream",
          "name": "stdout",
          "text": [
            "Novos Dados de teste na próxima linha\n",
            "outra linha\n",
            "Novos Dados de teste\n",
            "outra linha\n"
          ]
        }
      ],
      "source": [
        "!cat meu_arquivo.txt"
      ]
    },
    {
      "cell_type": "code",
      "execution_count": null,
      "metadata": {
        "id": "1cYkXMwDahgj"
      },
      "outputs": [],
      "source": [
        "# Dado um arquivo, insere um conteudo neste arquivo\n",
        "def insere_conteudo_no_arquivo(nome_arquivo, conteudo):\n",
        "  file_temp = open(nome_arquivo, 'a')\n",
        "  conteudo = conteudo + \"\\n\"\n",
        "  file_temp.write(conteudo)\n",
        "  file_temp.close()"
      ]
    },
    {
      "cell_type": "code",
      "execution_count": null,
      "metadata": {
        "id": "-25SKoJPa-3i"
      },
      "outputs": [],
      "source": [
        "insere_conteudo_no_arquivo('teste.txt', 'primeira linha')"
      ]
    },
    {
      "cell_type": "code",
      "execution_count": null,
      "metadata": {
        "id": "wVj-kN8WbRA0"
      },
      "outputs": [],
      "source": [
        "insere_conteudo_no_arquivo('teste.txt', 'segunda linha')"
      ]
    },
    {
      "cell_type": "code",
      "execution_count": null,
      "metadata": {
        "colab": {
          "base_uri": "https://localhost:8080/"
        },
        "id": "g7qr3560bW8o",
        "outputId": "d3281579-8634-42f8-91a9-84efad194f17"
      },
      "outputs": [
        {
          "name": "stdout",
          "output_type": "stream",
          "text": [
            "Qual o id? 1\n",
            "Qual o nome? Maria\n",
            "Qual o endereço? Rua xyz\n"
          ]
        }
      ],
      "source": [
        "pessoa_temp = ler_dados_pessoa()\n",
        "\n",
        "linha = pessoa_temp[0] + ';' + pessoa_temp[1] + ';' + pessoa_temp[2]\n",
        "insere_conteudo_no_arquivo('pessoas.txt', linha)"
      ]
    },
    {
      "cell_type": "code",
      "execution_count": null,
      "metadata": {
        "colab": {
          "base_uri": "https://localhost:8080/"
        },
        "id": "vZr76_vIcQjW",
        "outputId": "5ac1c5f0-9323-4a53-ae8e-c5bbaa1533c8"
      },
      "outputs": [
        {
          "name": "stdout",
          "output_type": "stream",
          "text": [
            "Qual o id? 2\n",
            "Qual o nome? Carla\n",
            "Qual o endereço? Rua zyy\n"
          ]
        }
      ],
      "source": [
        "pessoa_temp = ler_dados_pessoa()\n",
        "linha = pessoa_temp[0] + ';' + pessoa_temp[1] + ';' + pessoa_temp[2]\n",
        "insere_conteudo_no_arquivo('pessoas.txt', linha)"
      ]
    },
    {
      "cell_type": "code",
      "execution_count": null,
      "metadata": {
        "colab": {
          "base_uri": "https://localhost:8080/"
        },
        "id": "3m7ELlDDc4Wm",
        "outputId": "7bff144c-ed52-46e4-9298-65d0939ea302"
      },
      "outputs": [
        {
          "output_type": "stream",
          "name": "stdout",
          "text": [
            "1;Maria;Rua xyz\n",
            "2;Carla;Rua zyy\n"
          ]
        }
      ],
      "source": [
        "!cat pessoas.txt"
      ]
    },
    {
      "cell_type": "code",
      "execution_count": null,
      "metadata": {
        "colab": {
          "base_uri": "https://localhost:8080/"
        },
        "id": "MMVJpOIwc51A",
        "outputId": "dd5ac406-29c0-48a0-98e6-96b835526ab2"
      },
      "outputs": [
        {
          "output_type": "stream",
          "name": "stdout",
          "text": [
            "1;Maria;Rua xyz\n",
            "2;Carla;Rua zyy\n",
            "\n"
          ]
        }
      ],
      "source": [
        "file_temp = open('pessoas.txt', mode='r')\n",
        "\n",
        "conteudo_arquivo = file_temp.read()\n",
        "print(conteudo_arquivo)\n",
        "file_temp.close()"
      ]
    },
    {
      "cell_type": "code",
      "execution_count": null,
      "metadata": {
        "id": "3t-Y8tNNdS1w"
      },
      "outputs": [],
      "source": [
        "# Dado um arquivo mostra o conteudo dele\n",
        "def ler_conteudo_do_arquivo(nome_arquivo):\n",
        "  file_temp = open(nome_arquivo, mode='r')\n",
        "  conteudo_arquivo = file_temp.read()\n",
        "  print(conteudo_arquivo)\n",
        "  file_temp.close()"
      ]
    },
    {
      "cell_type": "code",
      "execution_count": null,
      "metadata": {
        "colab": {
          "base_uri": "https://localhost:8080/"
        },
        "id": "1_trn-H6dknp",
        "outputId": "92f7c574-f682-4f89-9a3c-19972b838207"
      },
      "outputs": [
        {
          "output_type": "stream",
          "name": "stdout",
          "text": [
            "1;Maria;Rua xyz\n",
            "2;Carla;Rua zyy\n",
            "\n"
          ]
        }
      ],
      "source": [
        "ler_conteudo_do_arquivo(\"pessoas.txt\")"
      ]
    },
    {
      "cell_type": "markdown",
      "source": [
        "# Mini agenda de contatos (versão simplificada)"
      ],
      "metadata": {
        "id": "XCJDEVAPkc_7"
      }
    },
    {
      "cell_type": "code",
      "execution_count": 1,
      "metadata": {
        "id": "s2KcM5qJdokj"
      },
      "outputs": [],
      "source": [
        "def ler_dados_pessoa():\n",
        "  id = input(\"Qual o id? \")\n",
        "  nome = input(\"Qual o nome? \")\n",
        "  endereco = input(\"Qual o endereço? \")\n",
        "  return id, nome, endereco\n",
        "\n",
        "def insere_conteudo_no_arquivo(nome_arquivo, conteudo):\n",
        "  file_temp = open(nome_arquivo, 'a')\n",
        "  conteudo = conteudo + \"\\n\"\n",
        "  file_temp.write(conteudo)\n",
        "  file_temp.close()\n",
        "\n",
        "def ler_conteudo_do_arquivo(nome_arquivo):\n",
        "  file_temp = open(nome_arquivo, mode='r')\n",
        "  conteudo_arquivo = file_temp.read()\n",
        "  print(conteudo_arquivo)\n",
        "  file_temp.close()\n",
        "\n",
        "def menu():\n",
        "  print(\"1. Insere pessoa\")\n",
        "  print(\"2. Listar conteúdo do arquivo\")\n",
        "  print(\"3. SAIR\")\n",
        "\n",
        "def executa_agenda():\n",
        "  while True:\n",
        "    menu()\n",
        "    opcao = input(\"Qual a sua opção? \")\n",
        "    if opcao == '1':\n",
        "      pessoa_temp = ler_dados_pessoa()\n",
        "      linha = pessoa_temp[0] + ';' + pessoa_temp[1] + ';' + pessoa_temp[2]\n",
        "      insere_conteudo_no_arquivo(nome_arquivo=\"pessoas.txt\", conteudo=linha)\n",
        "    elif opcao == '2':\n",
        "      ler_conteudo_do_arquivo(nome_arquivo=\"pessoas.txt\")\n",
        "    elif opcao == '3':\n",
        "      break\n",
        "    else:\n",
        "      print(\"Opção inválida!\")"
      ]
    },
    {
      "cell_type": "code",
      "execution_count": 4,
      "metadata": {
        "colab": {
          "base_uri": "https://localhost:8080/"
        },
        "id": "vob6Ha2Zd9yP",
        "outputId": "5d977f7e-3e6d-49c6-e913-b66922fdaa82"
      },
      "outputs": [
        {
          "name": "stdout",
          "output_type": "stream",
          "text": [
            "1. Insere pessoa\n",
            "2. Listar conteúdo do arquivo\n",
            "3. SAIR\n",
            "Qual a sua opção? 1\n",
            "Qual o id? 1\n",
            "Qual o nome? Maria\n",
            "Qual o endereço? Rua xxx\n",
            "1. Insere pessoa\n",
            "2. Listar conteúdo do arquivo\n",
            "3. SAIR\n",
            "Qual a sua opção? 2\n",
            "1;Maria;Rua xxx\n",
            "\n",
            "1. Insere pessoa\n",
            "2. Listar conteúdo do arquivo\n",
            "3. SAIR\n",
            "Qual a sua opção? 1\n",
            "Qual o id? 2\n",
            "Qual o nome? Ana Carla\n",
            "Qual o endereço? Rua xxxyz\n",
            "1. Insere pessoa\n",
            "2. Listar conteúdo do arquivo\n",
            "3. SAIR\n",
            "Qual a sua opção? 2\n",
            "1;Maria;Rua xxx\n",
            "2;Ana Carla;Rua xxxyz\n",
            "\n",
            "1. Insere pessoa\n",
            "2. Listar conteúdo do arquivo\n",
            "3. SAIR\n",
            "Qual a sua opção? 3\n"
          ]
        }
      ],
      "source": [
        "executa_agenda()"
      ]
    },
    {
      "cell_type": "markdown",
      "source": [
        "# Uso do bloco with"
      ],
      "metadata": {
        "id": "d2zb-6fKkkaD"
      }
    },
    {
      "cell_type": "markdown",
      "source": [
        "## Insere conteúdo em um arquivo"
      ],
      "metadata": {
        "id": "y6gWslpMl3Yg"
      }
    },
    {
      "cell_type": "code",
      "source": [
        "with open('teste.txt', 'a') as file_temp:\n",
        "  print('Cria o arquivo teste.txt')\n",
        "  conteudo_temp = \"Premeira linha \\n\"\n",
        "  print(f'Insere conteudo: {conteudo_temp} no arquivo teste.txt')\n",
        "  file_temp.write(conteudo_temp)"
      ],
      "metadata": {
        "id": "pUlHopUUkl1J",
        "outputId": "78011032-5e7b-44b7-9c53-62528b65b994",
        "colab": {
          "base_uri": "https://localhost:8080/"
        }
      },
      "execution_count": 5,
      "outputs": [
        {
          "output_type": "stream",
          "name": "stdout",
          "text": [
            "Cria o arquivo teste.txt\n",
            "Insere conteudo: Premeira linha \n",
            " no arquivo teste.txt\n"
          ]
        }
      ]
    },
    {
      "cell_type": "code",
      "source": [
        "# crie uma funcao para inserir um conteudo (texto) em um arquivo .txt\n",
        "# ..."
      ],
      "metadata": {
        "id": "xA-g2eBFpETY"
      },
      "execution_count": null,
      "outputs": []
    },
    {
      "cell_type": "markdown",
      "source": [
        "## Ler conteúdo de um arquivo"
      ],
      "metadata": {
        "id": "8Y2h1sLel6qw"
      }
    },
    {
      "cell_type": "code",
      "source": [
        "with open('teste.txt', 'r') as file_temp:\n",
        "  conteudo_temp = file_temp.read()\n",
        "  print(conteudo_temp, end=\"\")"
      ],
      "metadata": {
        "id": "Z_24vMxGk_6j",
        "outputId": "a3bb9f87-7adf-4939-a984-a03cd2c35330",
        "colab": {
          "base_uri": "https://localhost:8080/"
        }
      },
      "execution_count": 6,
      "outputs": [
        {
          "output_type": "stream",
          "name": "stdout",
          "text": [
            "Premeira linha \n"
          ]
        }
      ]
    },
    {
      "cell_type": "code",
      "source": [
        "# crie uma funcao para ler o conteudo (texto) de um arquivo .txt\n",
        "# ..."
      ],
      "metadata": {
        "id": "Sd17MZXvpL2C"
      },
      "execution_count": null,
      "outputs": []
    },
    {
      "cell_type": "markdown",
      "source": [
        "# Fazendo chamadas ao Sistema Operacional via módulo os\n",
        "\n",
        "https://docs.python.org/3/library/os.html"
      ],
      "metadata": {
        "id": "E5UZSpUXmIw9"
      }
    },
    {
      "cell_type": "code",
      "source": [
        "import os"
      ],
      "metadata": {
        "id": "GMlUxOwjmGSy"
      },
      "execution_count": 7,
      "outputs": []
    },
    {
      "cell_type": "code",
      "source": [
        "path_temp = os.getcwd()\n",
        "print(f'Diretório corrente: {path_temp}')"
      ],
      "metadata": {
        "id": "amnnYieKmQUE",
        "outputId": "f94aa4b8-9784-44b2-a3dc-0c1d997aa548",
        "colab": {
          "base_uri": "https://localhost:8080/"
        }
      },
      "execution_count": 8,
      "outputs": [
        {
          "output_type": "stream",
          "name": "stdout",
          "text": [
            "Diretório corrente: /content\n"
          ]
        }
      ]
    },
    {
      "cell_type": "code",
      "source": [
        "# lista os arquivos/diretórios do diretório corrente\n",
        "lista_arquivos_path = os.listdir()\n",
        "print(lista_arquivos_path)"
      ],
      "metadata": {
        "id": "CtAg4eMxmWr2",
        "outputId": "9693c1a3-61e6-496a-9b11-b61f348cac33",
        "colab": {
          "base_uri": "https://localhost:8080/"
        }
      },
      "execution_count": 9,
      "outputs": [
        {
          "output_type": "stream",
          "name": "stdout",
          "text": [
            "['.config', '.ipynb_checkpoints', 'pessoas.txt', 'teste.txt', 'sample_data']\n"
          ]
        }
      ]
    },
    {
      "cell_type": "code",
      "source": [
        "!ls -lia"
      ],
      "metadata": {
        "id": "LRg19lNGmmRM",
        "outputId": "2a7ce438-0b63-4256-c4e2-75f6135c883d",
        "colab": {
          "base_uri": "https://localhost:8080/"
        }
      },
      "execution_count": 10,
      "outputs": [
        {
          "output_type": "stream",
          "name": "stdout",
          "text": [
            "total 28\n",
            "131078 drwxr-xr-x 1 root root 4096 Jun 13 14:03 .\n",
            "262155 drwxr-xr-x 1 root root 4096 Jun 13 13:59 ..\n",
            "524295 drwxr-xr-x 4 root root 4096 Jun  9 13:38 .config\n",
            "262202 drwxr-xr-x 2 root root 4096 Jun 13 14:02 .ipynb_checkpoints\n",
            "262203 -rw-r--r-- 1 root root   38 Jun 13 14:02 pessoas.txt\n",
            "131079 drwxr-xr-x 1 root root 4096 Jun  9 13:39 sample_data\n",
            "262204 -rw-r--r-- 1 root root   16 Jun 13 14:03 teste.txt\n"
          ]
        }
      ]
    },
    {
      "cell_type": "code",
      "source": [
        "teste_existe = os.path.exists('teste.txt')\n",
        "\n",
        "if teste_existe:\n",
        "  print('Arquivo teste.txt existe!')\n",
        "else:\n",
        "  print('Arquivo teste.txt NÃO existe!')"
      ],
      "metadata": {
        "id": "ebHOUggDmvks",
        "colab": {
          "base_uri": "https://localhost:8080/"
        },
        "outputId": "2cb70977-6c0e-43a1-e759-847074ed5798"
      },
      "execution_count": 11,
      "outputs": [
        {
          "output_type": "stream",
          "name": "stdout",
          "text": [
            "Arquivo teste.txt existe!\n"
          ]
        }
      ]
    },
    {
      "cell_type": "markdown",
      "source": [
        "# Mini agenda v2\n",
        "\n",
        "Versão modificada usando o bloco **with**"
      ],
      "metadata": {
        "id": "wYmS1QUAnZ1a"
      }
    },
    {
      "cell_type": "code",
      "source": [
        "import os\n",
        "\n",
        "def ler_dados_pessoa():\n",
        "  id = input(\"Qual o id? \")\n",
        "  nome = input(\"Qual o nome? \")\n",
        "  endereco = input(\"Qual o endereço? \")\n",
        "  return id, nome, endereco\n",
        "\n",
        "def insere_conteudo_no_arquivo(nome_arquivo, conteudo):\n",
        "  with open(nome_arquivo, 'a') as file_temp:\n",
        "    conteudo = conteudo + \"\\n\"\n",
        "    file_temp.write(conteudo)\n",
        "\n",
        "def ler_conteudo_do_arquivo(nome_arquivo):\n",
        "  # testa se o arquivo existe\n",
        "  teste_arquivo = os.path.exists(nome_arquivo)\n",
        "  if teste_arquivo:\n",
        "    with open(nome_arquivo, mode='r') as file_temp:\n",
        "      conteudo_arquivo = file_temp.read()\n",
        "      print(conteudo_arquivo)\n",
        "  else:\n",
        "    print(f'O arquivo {nome_arquivo} ainda não existe!')\n",
        "\n",
        "def menu():\n",
        "  print(\"1. Insere pessoa\")\n",
        "  print(\"2. Listar conteúdo do arquivo\")\n",
        "  print(\"3. SAIR\")\n",
        "\n",
        "def executa_agenda():\n",
        "  while True:\n",
        "    menu()\n",
        "    opcao = input(\"Qual a sua opção? \")\n",
        "    if opcao == '1':\n",
        "      pessoa_temp = ler_dados_pessoa()\n",
        "      linha = pessoa_temp[0] + ';' + pessoa_temp[1] + ';' + pessoa_temp[2]\n",
        "      insere_conteudo_no_arquivo(nome_arquivo=\"pessoas.txt\", conteudo=linha)\n",
        "    elif opcao == '2':\n",
        "      ler_conteudo_do_arquivo(nome_arquivo=\"pessoas.txt\")\n",
        "    elif opcao == '3':\n",
        "      break\n",
        "    else:\n",
        "      print(\"Opção inválida!\")"
      ],
      "metadata": {
        "id": "1_x-j6xMnYgU"
      },
      "execution_count": 12,
      "outputs": []
    },
    {
      "cell_type": "code",
      "source": [
        "executa_agenda()"
      ],
      "metadata": {
        "id": "rRYCCz6eoYgg",
        "colab": {
          "base_uri": "https://localhost:8080/"
        },
        "outputId": "d305f805-69e7-4914-de22-e717cb49445a"
      },
      "execution_count": 13,
      "outputs": [
        {
          "name": "stdout",
          "output_type": "stream",
          "text": [
            "1. Insere pessoa\n",
            "2. Listar conteúdo do arquivo\n",
            "3. SAIR\n",
            "Qual a sua opção? 2\n",
            "1;Maria;Rua xxx\n",
            "2;Ana Carla;Rua xxxyz\n",
            "\n",
            "1. Insere pessoa\n",
            "2. Listar conteúdo do arquivo\n",
            "3. SAIR\n",
            "Qual a sua opção? 1\n",
            "Qual o id? 3\n",
            "Qual o nome? Francisca\n",
            "Qual o endereço? Rua zzfxy\n",
            "1. Insere pessoa\n",
            "2. Listar conteúdo do arquivo\n",
            "3. SAIR\n",
            "Qual a sua opção? 2\n",
            "1;Maria;Rua xxx\n",
            "2;Ana Carla;Rua xxxyz\n",
            "3;Francisca;Rua zzfxy\n",
            "\n",
            "1. Insere pessoa\n",
            "2. Listar conteúdo do arquivo\n",
            "3. SAIR\n",
            "Qual a sua opção? 3\n"
          ]
        }
      ]
    }
  ],
  "metadata": {
    "colab": {
      "provenance": [],
      "authorship_tag": "ABX9TyOotlDusgq1yD3Pr+2V6W1m",
      "include_colab_link": true
    },
    "kernelspec": {
      "display_name": "Python 3",
      "name": "python3"
    },
    "language_info": {
      "name": "python"
    }
  },
  "nbformat": 4,
  "nbformat_minor": 0
}