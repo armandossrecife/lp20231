{
  "cells": [
    {
      "cell_type": "markdown",
      "metadata": {
        "id": "view-in-github",
        "colab_type": "text"
      },
      "source": [
        "<a href=\"https://colab.research.google.com/github/armandossrecife/lp20231/blob/main/mini_agenda.ipynb\" target=\"_parent\"><img src=\"https://colab.research.google.com/assets/colab-badge.svg\" alt=\"Open In Colab\"/></a>"
      ]
    },
    {
      "cell_type": "markdown",
      "metadata": {
        "id": "ZUMYSMLzPsK0"
      },
      "source": [
        "# Revisão de manipulação de arquivos com Python"
      ]
    },
    {
      "cell_type": "code",
      "execution_count": null,
      "metadata": {
        "colab": {
          "base_uri": "https://localhost:8080/"
        },
        "id": "0b3s9aTlPqka",
        "outputId": "06ae2ac7-179a-4125-e7ca-387695e63760"
      },
      "outputs": [
        {
          "name": "stdout",
          "output_type": "stream",
          "text": [
            "Qual o id? 1\n",
            "Qual o nome? Maria\n",
            "Qual o endereço? Rua xyz\n"
          ]
        }
      ],
      "source": [
        "# Ler dados de pessoa\n",
        "id = input(\"Qual o id? \")\n",
        "nome = input(\"Qual o nome? \")\n",
        "endereco = input(\"Qual o endereço? \")"
      ]
    },
    {
      "cell_type": "code",
      "execution_count": null,
      "metadata": {
        "colab": {
          "base_uri": "https://localhost:8080/"
        },
        "id": "Q5raDNTHY2au",
        "outputId": "189ca2b8-ba51-4489-eb5c-196c5958408a"
      },
      "outputs": [
        {
          "name": "stdout",
          "output_type": "stream",
          "text": [
            "1 Maria Rua xyz\n"
          ]
        }
      ],
      "source": [
        "print(id, nome, endereco)"
      ]
    },
    {
      "cell_type": "code",
      "execution_count": null,
      "metadata": {
        "id": "L2-A0B34Y-zw"
      },
      "outputs": [],
      "source": [
        "def ler_dados_pessoa():\n",
        "  id = input(\"Qual o id? \")\n",
        "  nome = input(\"Qual o nome? \")\n",
        "  endereco = input(\"Qual o endereço? \")\n",
        "  return id, nome, endereco"
      ]
    },
    {
      "cell_type": "code",
      "execution_count": null,
      "metadata": {
        "colab": {
          "base_uri": "https://localhost:8080/"
        },
        "id": "-Lpa7Gs_ZMCT",
        "outputId": "c5fe2801-a874-40bf-c6ad-9913e1dcc9a5"
      },
      "outputs": [
        {
          "name": "stdout",
          "output_type": "stream",
          "text": [
            "Qual o id? 1\n",
            "Qual o nome? Antonio\n",
            "Qual o endereço? Rua xxx\n"
          ]
        }
      ],
      "source": [
        "pessoa_temp = ler_dados_pessoa()"
      ]
    },
    {
      "cell_type": "code",
      "execution_count": null,
      "metadata": {
        "colab": {
          "base_uri": "https://localhost:8080/"
        },
        "id": "SvYi0nxSZPBU",
        "outputId": "55955e7a-5b8c-4d87-a614-8807864b7b5b"
      },
      "outputs": [
        {
          "data": {
            "text/plain": [
              "('1', 'Antonio', 'Rua xxx')"
            ]
          },
          "execution_count": 5,
          "metadata": {},
          "output_type": "execute_result"
        }
      ],
      "source": [
        "pessoa_temp"
      ]
    },
    {
      "cell_type": "code",
      "execution_count": null,
      "metadata": {
        "id": "fRUA1WRdZSxy"
      },
      "outputs": [],
      "source": [
        "conteudo = \"\\n\" + \"Novos Dados de teste na próxima linha\"\n",
        "\n",
        "file_temp = open('pessoas.txt', 'a')\n",
        "file_temp.write(conteudo)\n",
        "file_temp.close()"
      ]
    },
    {
      "cell_type": "code",
      "execution_count": null,
      "metadata": {
        "colab": {
          "base_uri": "https://localhost:8080/"
        },
        "id": "LBJ66lYAZl0_",
        "outputId": "bef7438f-0cee-49e4-cdeb-ac70385212ba"
      },
      "outputs": [
        {
          "name": "stdout",
          "output_type": "stream",
          "text": [
            "Dados de teste\n",
            "Novos Dados de teste na próxima linha"
          ]
        }
      ],
      "source": [
        "!cat pessoas.txt"
      ]
    },
    {
      "cell_type": "code",
      "execution_count": null,
      "metadata": {
        "id": "M5-bNDxKZ6vv"
      },
      "outputs": [],
      "source": [
        "conteudo_temp = \"\\n\" + \"outra linha\"\n",
        "\n",
        "file_temp2 = open('meu_arquivo.txt', 'a')\n",
        "file_temp2.write(conteudo_temp)\n",
        "file_temp2.close()"
      ]
    },
    {
      "cell_type": "code",
      "execution_count": null,
      "metadata": {
        "colab": {
          "base_uri": "https://localhost:8080/"
        },
        "id": "0ACu0ZtiafKj",
        "outputId": "179e1dd7-0ec8-4589-8e6e-de3196aec81f"
      },
      "outputs": [
        {
          "name": "stdout",
          "output_type": "stream",
          "text": [
            "xxxx alguma\n",
            "outra linha"
          ]
        }
      ],
      "source": [
        "!cat meu_arquivo.txt"
      ]
    },
    {
      "cell_type": "code",
      "execution_count": null,
      "metadata": {
        "id": "1cYkXMwDahgj"
      },
      "outputs": [],
      "source": [
        "def insere_conteudo_no_arquivo(nome_arquivo, conteudo):\n",
        "  file_temp = open(nome_arquivo, 'a')\n",
        "  conteudo = conteudo + \"\\n\"\n",
        "  file_temp.write(conteudo)\n",
        "  file_temp.close()"
      ]
    },
    {
      "cell_type": "code",
      "execution_count": null,
      "metadata": {
        "id": "-25SKoJPa-3i"
      },
      "outputs": [],
      "source": [
        "insere_conteudo_no_arquivo('teste.txt', 'primeira linha')"
      ]
    },
    {
      "cell_type": "code",
      "execution_count": null,
      "metadata": {
        "id": "wVj-kN8WbRA0"
      },
      "outputs": [],
      "source": [
        "insere_conteudo_no_arquivo('teste.txt', 'segunda linha')"
      ]
    },
    {
      "cell_type": "code",
      "execution_count": null,
      "metadata": {
        "colab": {
          "base_uri": "https://localhost:8080/"
        },
        "id": "g7qr3560bW8o",
        "outputId": "94c047cb-ed66-4647-e8c0-88962355f5be"
      },
      "outputs": [
        {
          "name": "stdout",
          "output_type": "stream",
          "text": [
            "Qual o id? 1\n",
            "Qual o nome? Maria\n",
            "Qual o endereço? Rua xyz\n"
          ]
        }
      ],
      "source": [
        "pessoa_temp = ler_dados_pessoa()\n",
        "linha = pessoa_temp[0] + ';' + pessoa_temp[1] + ';' + pessoa_temp[2]\n",
        "insere_conteudo_no_arquivo('pessoas.txt', linha)"
      ]
    },
    {
      "cell_type": "code",
      "execution_count": null,
      "metadata": {
        "colab": {
          "base_uri": "https://localhost:8080/"
        },
        "id": "vZr76_vIcQjW",
        "outputId": "3c74485e-fd01-4611-f73b-972a59052d71"
      },
      "outputs": [
        {
          "name": "stdout",
          "output_type": "stream",
          "text": [
            "Qual o id? 2\n",
            "Qual o nome? João\n",
            "Qual o endereço? Rua zzz\n"
          ]
        }
      ],
      "source": [
        "pessoa_temp = ler_dados_pessoa()\n",
        "linha = pessoa_temp[0] + ';' + pessoa_temp[1] + ';' + pessoa_temp[2]\n",
        "insere_conteudo_no_arquivo('pessoas.txt', linha)"
      ]
    },
    {
      "cell_type": "code",
      "execution_count": null,
      "metadata": {
        "colab": {
          "base_uri": "https://localhost:8080/"
        },
        "id": "3m7ELlDDc4Wm",
        "outputId": "b99606d9-a718-48aa-9a82-2d1cd532c32c"
      },
      "outputs": [
        {
          "name": "stdout",
          "output_type": "stream",
          "text": [
            "1;Maria;Rua xyz\n",
            "2;João;Rua zzz\n"
          ]
        }
      ],
      "source": [
        "!cat pessoas.txt"
      ]
    },
    {
      "cell_type": "code",
      "execution_count": null,
      "metadata": {
        "colab": {
          "base_uri": "https://localhost:8080/"
        },
        "id": "MMVJpOIwc51A",
        "outputId": "6b7fc343-19f9-44c1-b1ff-fc1c402f8cca"
      },
      "outputs": [
        {
          "name": "stdout",
          "output_type": "stream",
          "text": [
            "1;Maria;Rua xyz\n",
            "2;João;Rua zzz\n",
            "\n"
          ]
        }
      ],
      "source": [
        "file_temp = open('pessoas.txt', mode='r')\n",
        "conteudo_arquivo = file_temp.read()\n",
        "print(conteudo_arquivo)\n",
        "file_temp.close()"
      ]
    },
    {
      "cell_type": "code",
      "execution_count": null,
      "metadata": {
        "id": "3t-Y8tNNdS1w"
      },
      "outputs": [],
      "source": [
        "def ler_conteudo_do_arquivo(nome_arquivo):\n",
        "  file_temp = open(nome_arquivo, mode='r')\n",
        "  conteudo_arquivo = file_temp.read()\n",
        "  print(conteudo_arquivo)\n",
        "  file_temp.close()"
      ]
    },
    {
      "cell_type": "code",
      "execution_count": null,
      "metadata": {
        "colab": {
          "base_uri": "https://localhost:8080/"
        },
        "id": "1_trn-H6dknp",
        "outputId": "73916302-14df-4c4e-80fc-262e758ffb32"
      },
      "outputs": [
        {
          "name": "stdout",
          "output_type": "stream",
          "text": [
            "1;Maria;Rua xyz\n",
            "2;João;Rua zzz\n",
            "\n"
          ]
        }
      ],
      "source": [
        "ler_conteudo_do_arquivo(\"pessoas.txt\")"
      ]
    },
    {
      "cell_type": "markdown",
      "source": [
        "# Mini agenda de contatos (versão simplificada)"
      ],
      "metadata": {
        "id": "XCJDEVAPkc_7"
      }
    },
    {
      "cell_type": "code",
      "execution_count": null,
      "metadata": {
        "id": "s2KcM5qJdokj"
      },
      "outputs": [],
      "source": [
        "def ler_dados_pessoa():\n",
        "  id = input(\"Qual o id? \")\n",
        "  nome = input(\"Qual o nome? \")\n",
        "  endereco = input(\"Qual o endereço? \")\n",
        "  return id, nome, endereco\n",
        "\n",
        "def insere_conteudo_no_arquivo(nome_arquivo, conteudo):\n",
        "  file_temp = open(nome_arquivo, 'a')\n",
        "  conteudo = conteudo + \"\\n\"\n",
        "  file_temp.write(conteudo)\n",
        "  file_temp.close()\n",
        "\n",
        "def ler_conteudo_do_arquivo(nome_arquivo):\n",
        "  file_temp = open(nome_arquivo, mode='r')\n",
        "  conteudo_arquivo = file_temp.read()\n",
        "  print(conteudo_arquivo)\n",
        "  file_temp.close()\n",
        "\n",
        "def menu():\n",
        "  print(\"1. Insere pessoa\")\n",
        "  print(\"2. Listar conteúdo do arquivo\")\n",
        "  print(\"3. SAIR\")\n",
        "\n",
        "def executa_agenda():\n",
        "  while True:\n",
        "    menu()\n",
        "    opcao = input(\"Qual a sua opção? \")\n",
        "    if opcao == '1':\n",
        "      pessoa_temp = ler_dados_pessoa()\n",
        "      linha = pessoa_temp[0] + ';' + pessoa_temp[1] + ';' + pessoa_temp[2]\n",
        "      insere_conteudo_no_arquivo(nome_arquivo=\"pessoas.txt\", conteudo=linha)\n",
        "    elif opcao == '2':\n",
        "      ler_conteudo_do_arquivo(nome_arquivo=\"pessoas.txt\")\n",
        "    elif opcao == '3':\n",
        "      break\n",
        "    else:\n",
        "      print(\"Opção inválida!\")"
      ]
    },
    {
      "cell_type": "code",
      "execution_count": null,
      "metadata": {
        "colab": {
          "background_save": true,
          "base_uri": "https://localhost:8080/"
        },
        "id": "vob6Ha2Zd9yP",
        "outputId": "63fa1692-7911-4e95-db7d-5d8158138a38"
      },
      "outputs": [
        {
          "name": "stdout",
          "output_type": "stream",
          "text": [
            "1. Insere pessoa\n",
            "2. Listar conteúdo do arquivo\n",
            "3. SAIR\n",
            "1;Maria;Rua xyz\n",
            "2;João;Rua zzz\n",
            "3;Francisco;Rua fff\n",
            "4;Ana Carla;Rua ccc\n",
            "\n",
            "1. Insere pessoa\n",
            "2. Listar conteúdo do arquivo\n",
            "3. SAIR\n",
            "Opção inválida!\n",
            "1. Insere pessoa\n",
            "2. Listar conteúdo do arquivo\n",
            "3. SAIR\n"
          ]
        }
      ],
      "source": [
        "executa_agenda()"
      ]
    },
    {
      "cell_type": "markdown",
      "source": [
        "# Uso do bloco with"
      ],
      "metadata": {
        "id": "d2zb-6fKkkaD"
      }
    },
    {
      "cell_type": "markdown",
      "source": [
        "## Insere conteúdo em um arquivo"
      ],
      "metadata": {
        "id": "y6gWslpMl3Yg"
      }
    },
    {
      "cell_type": "code",
      "source": [
        "with open('teste.txt', 'a') as file_temp:\n",
        "  print('Cria o arquivo teste.txt')\n",
        "  conteudo_temp = \"Segunda linha \\n\"\n",
        "  print(f'Insere conteudo: {conteudo_temp} no arquivo teste.txt')\n",
        "  file_temp.write(conteudo_temp)"
      ],
      "metadata": {
        "id": "pUlHopUUkl1J",
        "outputId": "dfbee6a1-274e-4b54-e771-87861860faab",
        "colab": {
          "base_uri": "https://localhost:8080/"
        }
      },
      "execution_count": null,
      "outputs": [
        {
          "output_type": "stream",
          "name": "stdout",
          "text": [
            "Cria o arquivo teste.txt\n",
            "Insere conteudo: Segunda linha \n",
            " no arquivo teste.txt\n"
          ]
        }
      ]
    },
    {
      "cell_type": "code",
      "source": [
        "# crie uma funcao para inserir um conteudo (texto) em um arquivo .txt\n",
        "# ..."
      ],
      "metadata": {
        "id": "xA-g2eBFpETY"
      },
      "execution_count": 4,
      "outputs": []
    },
    {
      "cell_type": "markdown",
      "source": [
        "## Ler conteúdo de um arquivo"
      ],
      "metadata": {
        "id": "8Y2h1sLel6qw"
      }
    },
    {
      "cell_type": "code",
      "source": [
        "with open('teste.txt', 'r') as file_temp:\n",
        "  conteudo_temp = file_temp.read()\n",
        "  print(conteudo_temp, end=\"\")"
      ],
      "metadata": {
        "id": "Z_24vMxGk_6j",
        "outputId": "893af7b3-a9d0-45e0-cef1-79f5132f3010",
        "colab": {
          "base_uri": "https://localhost:8080/"
        }
      },
      "execution_count": null,
      "outputs": [
        {
          "output_type": "stream",
          "name": "stdout",
          "text": [
            "Primeira linha \n",
            "Segunda linha \n"
          ]
        }
      ]
    },
    {
      "cell_type": "code",
      "source": [
        "# crie uma funcao para ler o conteudo (texto) de um arquivo .txt\n",
        "# ..."
      ],
      "metadata": {
        "id": "Sd17MZXvpL2C"
      },
      "execution_count": 6,
      "outputs": []
    },
    {
      "cell_type": "markdown",
      "source": [
        "# Fazendo chamadas ao Sistema Operacional via módulo os \n",
        "\n",
        "https://docs.python.org/3/library/os.html"
      ],
      "metadata": {
        "id": "E5UZSpUXmIw9"
      }
    },
    {
      "cell_type": "code",
      "source": [
        "import os"
      ],
      "metadata": {
        "id": "GMlUxOwjmGSy"
      },
      "execution_count": null,
      "outputs": []
    },
    {
      "cell_type": "code",
      "source": [
        "path_temp = os.getcwd()\n",
        "print(f'Diretório corrente: {path_temp}')"
      ],
      "metadata": {
        "id": "amnnYieKmQUE",
        "outputId": "2c72b782-d2ac-44b8-ce25-fb4f0d9622d1",
        "colab": {
          "base_uri": "https://localhost:8080/"
        }
      },
      "execution_count": null,
      "outputs": [
        {
          "output_type": "stream",
          "name": "stdout",
          "text": [
            "Diretório corrente: /content\n"
          ]
        }
      ]
    },
    {
      "cell_type": "code",
      "source": [
        "# lista os arquivos/diretórios do diretório corrente\n",
        "lista_arquivos_path = os.listdir()\n",
        "print(lista_arquivos_path)"
      ],
      "metadata": {
        "id": "CtAg4eMxmWr2",
        "outputId": "e87871ba-709e-4076-e180-4a83a3a6e554",
        "colab": {
          "base_uri": "https://localhost:8080/"
        }
      },
      "execution_count": 7,
      "outputs": [
        {
          "output_type": "stream",
          "name": "stdout",
          "text": [
            "['.config', 'pessoas.txt', 'sample_data']\n"
          ]
        }
      ]
    },
    {
      "cell_type": "code",
      "source": [
        "!ls -lia"
      ],
      "metadata": {
        "id": "LRg19lNGmmRM",
        "outputId": "5175281e-d5a2-4970-88d0-b2659c3765c2",
        "colab": {
          "base_uri": "https://localhost:8080/"
        }
      },
      "execution_count": 8,
      "outputs": [
        {
          "output_type": "stream",
          "name": "stdout",
          "text": [
            "total 20\n",
            " 131078 drwxr-xr-x 1 root root 4096 Jun 12 17:23 .\n",
            "4849675 drwxr-xr-x 1 root root 4096 Jun 12 17:21 ..\n",
            " 524295 drwxr-xr-x 4 root root 4096 Jun  9 13:38 .config\n",
            "4849722 -rw-r--r-- 1 root root   19 Jun 12 17:23 pessoas.txt\n",
            " 131079 drwxr-xr-x 1 root root 4096 Jun  9 13:39 sample_data\n"
          ]
        }
      ]
    },
    {
      "cell_type": "code",
      "source": [
        "teste_existe = os.path.exists('teste.txt')\n",
        "\n",
        "if teste_existe: \n",
        "  print('Arquivo teste.txt existe!') \n",
        "else:\n",
        "  print('Arquivo teste.txt NÃO existe!') "
      ],
      "metadata": {
        "id": "ebHOUggDmvks"
      },
      "execution_count": null,
      "outputs": []
    },
    {
      "cell_type": "markdown",
      "source": [
        "# Mini agenda v2"
      ],
      "metadata": {
        "id": "wYmS1QUAnZ1a"
      }
    },
    {
      "cell_type": "code",
      "source": [
        "import os\n",
        "\n",
        "def ler_dados_pessoa():\n",
        "  id = input(\"Qual o id? \")\n",
        "  nome = input(\"Qual o nome? \")\n",
        "  endereco = input(\"Qual o endereço? \")\n",
        "  return id, nome, endereco\n",
        "\n",
        "def insere_conteudo_no_arquivo(nome_arquivo, conteudo):\n",
        "  with open(nome_arquivo, 'a') as file_temp:\n",
        "    conteudo = conteudo + \"\\n\"\n",
        "    file_temp.write(conteudo)\n",
        "\n",
        "def ler_conteudo_do_arquivo(nome_arquivo):\n",
        "  # testa se o arquivo existe\n",
        "  teste_arquivo = os.path.exists(nome_arquivo)\n",
        "  if teste_arquivo: \n",
        "    with open(nome_arquivo, mode='r') as file_temp:\n",
        "      conteudo_arquivo = file_temp.read()\n",
        "      print(conteudo_arquivo)\n",
        "  else:\n",
        "    print(f'O arquivo {nome_arquivo} ainda não existe!')\n",
        "\n",
        "def menu():\n",
        "  print(\"1. Insere pessoa\")\n",
        "  print(\"2. Listar conteúdo do arquivo\")\n",
        "  print(\"3. SAIR\")\n",
        "\n",
        "def executa_agenda():\n",
        "  while True:\n",
        "    menu()\n",
        "    opcao = input(\"Qual a sua opção? \")\n",
        "    if opcao == '1':\n",
        "      pessoa_temp = ler_dados_pessoa()\n",
        "      linha = pessoa_temp[0] + ';' + pessoa_temp[1] + ';' + pessoa_temp[2]\n",
        "      insere_conteudo_no_arquivo(nome_arquivo=\"pessoas.txt\", conteudo=linha)\n",
        "    elif opcao == '2':\n",
        "      ler_conteudo_do_arquivo(nome_arquivo=\"pessoas.txt\")\n",
        "    elif opcao == '3':\n",
        "      break\n",
        "    else:\n",
        "      print(\"Opção inválida!\")"
      ],
      "metadata": {
        "id": "1_x-j6xMnYgU"
      },
      "execution_count": 1,
      "outputs": []
    },
    {
      "cell_type": "code",
      "source": [
        "executa_agenda()"
      ],
      "metadata": {
        "id": "rRYCCz6eoYgg"
      },
      "execution_count": null,
      "outputs": []
    }
  ],
  "metadata": {
    "colab": {
      "provenance": [],
      "collapsed_sections": [
        "ZUMYSMLzPsK0",
        "XCJDEVAPkc_7"
      ],
      "authorship_tag": "ABX9TyO+ybK9FMVPRK4nTiFbs3CL",
      "include_colab_link": true
    },
    "kernelspec": {
      "display_name": "Python 3",
      "name": "python3"
    },
    "language_info": {
      "name": "python"
    }
  },
  "nbformat": 4,
  "nbformat_minor": 0
}