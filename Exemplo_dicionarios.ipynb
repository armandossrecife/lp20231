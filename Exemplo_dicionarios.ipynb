{
  "nbformat": 4,
  "nbformat_minor": 0,
  "metadata": {
    "colab": {
      "provenance": [],
      "authorship_tag": "ABX9TyNp/HTDM2XoRc8KfNUo8Sfr",
      "include_colab_link": true
    },
    "kernelspec": {
      "name": "python3",
      "display_name": "Python 3"
    },
    "language_info": {
      "name": "python"
    }
  },
  "cells": [
    {
      "cell_type": "markdown",
      "metadata": {
        "id": "view-in-github",
        "colab_type": "text"
      },
      "source": [
        "<a href=\"https://colab.research.google.com/github/armandossrecife/lp20231/blob/main/Exemplo_dicionarios.ipynb\" target=\"_parent\"><img src=\"https://colab.research.google.com/assets/colab-badge.svg\" alt=\"Open In Colab\"/></a>"
      ]
    },
    {
      "cell_type": "markdown",
      "source": [
        "# Revisão de Dicionários"
      ],
      "metadata": {
        "id": "QGICO70renjj"
      }
    },
    {
      "cell_type": "code",
      "source": [],
      "metadata": {
        "id": "-BKWkg8Cerev"
      },
      "execution_count": null,
      "outputs": []
    },
    {
      "cell_type": "markdown",
      "source": [
        "# Manipulando os alunos e as notas de uma disciplina"
      ],
      "metadata": {
        "id": "CURyKkWYhYO3"
      }
    },
    {
      "cell_type": "markdown",
      "source": [
        "## 1. Informações de um aluno\n",
        "Um aluno tem uma matrícula, um nome e 4 notas\n",
        "\n",
        "Um aluno pode ser representado por uma tupla ('Nome', lista_de_notas)\n",
        "\n",
        "tupla aluno = ('Nome do aluno', lista_de_notas)\n",
        "\n",
        "Por exemplo:\n",
        " \n",
        "aluno1 = ('Nome do aluno1', [10, 8, 7, 9])"
      ],
      "metadata": {
        "id": "6H01bFYYhh5K"
      }
    },
    {
      "cell_type": "code",
      "source": [
        "aluno1 = ('Maria Joaquina', [10, 9,8,7])\n",
        "aluno2 = ('Ana Carla', [10, 10,8,8])\n",
        "aluno3 = ('Maria Júlia', [10, 10,10,10])"
      ],
      "metadata": {
        "id": "EJ3cTjwzzMzX"
      },
      "execution_count": 1,
      "outputs": []
    },
    {
      "cell_type": "markdown",
      "source": [
        "## 2. Informações de uma disciplina\n",
        "\n",
        "Uma disciplina pode ser representada por um dicionário de alunos, onde cada item tem como chave a matrícula do aluno e o valor é a tupla que representa o aluno.\n",
        "\n",
        "Por exemplo: \n",
        "\n",
        "alunos_lp = {\n",
        "    'matricula1': ('aluno1', [10, 8, 7, 5]),\n",
        "    'matricula2': ('aluno2', [8, 8, 9, 6]),\n",
        "    'matricula3': ('aluno3', [9, 8, 6, 7]),\n",
        "}"
      ],
      "metadata": {
        "id": "IgI7BWKaysHy"
      }
    },
    {
      "cell_type": "code",
      "execution_count": 2,
      "metadata": {
        "id": "zeBP7lvrcw7P"
      },
      "outputs": [],
      "source": [
        "dicionario_alunos = {}"
      ]
    },
    {
      "cell_type": "code",
      "source": [
        "dicionario_alunos['20220001'] = aluno1\n",
        "dicionario_alunos['20200202'] = aluno2\n",
        "dicionario_alunos['20210002'] = aluno3"
      ],
      "metadata": {
        "id": "lVek2vmBzbCq"
      },
      "execution_count": null,
      "outputs": []
    },
    {
      "cell_type": "markdown",
      "source": [
        "## 3. Liste todas as matrículas dos alunos matriculados na disciplina\n",
        "\n",
        "Dica: liste apenas as chaves (keys) do dicionário"
      ],
      "metadata": {
        "id": "2UFZaKJtzkUC"
      }
    },
    {
      "cell_type": "code",
      "source": [
        "for matricula in dicionario_alunos.keys():\n",
        "  print(matricula)"
      ],
      "metadata": {
        "id": "E7SQ0QHHc_gO"
      },
      "execution_count": 3,
      "outputs": []
    },
    {
      "cell_type": "markdown",
      "source": [
        "## 4. Liste todos os alunos matriculados na disciplina\n",
        "\n",
        "Dica: liste apenas os valores (values) do dicionário"
      ],
      "metadata": {
        "id": "NaU0kXBazw0D"
      }
    },
    {
      "cell_type": "code",
      "source": [
        "for aluno in dicionario_alunos.values():\n",
        "  print(aluno)"
      ],
      "metadata": {
        "id": "8JNo2FF9dso4"
      },
      "execution_count": 4,
      "outputs": []
    },
    {
      "cell_type": "markdown",
      "source": [
        "## 5. Liste apenas os nomes dos alunos matriculados\n",
        "Dica: para cada valor, mostre apenas o 1o. elemento da tupla"
      ],
      "metadata": {
        "id": "ZQKJFhaSz4o9"
      }
    },
    {
      "cell_type": "code",
      "source": [
        "for k, v in dicionario_alunos.items():\n",
        "  print(f'Nome: {v[0]}')"
      ],
      "metadata": {
        "id": "LO6-4EIXeOIg"
      },
      "execution_count": 5,
      "outputs": []
    },
    {
      "cell_type": "markdown",
      "source": [
        "## 6. Liste os nomes dos alunos com suas respetivas notas\n",
        "\n",
        "Dica: liste apenas os valores do dicionário"
      ],
      "metadata": {
        "id": "OzY_pjVW0IlV"
      }
    },
    {
      "cell_type": "code",
      "source": [
        "for k, v in dicionario_alunos.items():\n",
        "  print(f'Nome: {v[0]}, Notas: {v[1]}')"
      ],
      "metadata": {
        "id": "6CfN1mV00NRu"
      },
      "execution_count": 6,
      "outputs": []
    },
    {
      "cell_type": "code",
      "source": [],
      "metadata": {
        "id": "3gSscVrVfI87"
      },
      "execution_count": null,
      "outputs": []
    }
  ]
}