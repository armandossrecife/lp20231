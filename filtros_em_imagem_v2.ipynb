{
  "nbformat": 4,
  "nbformat_minor": 0,
  "metadata": {
    "colab": {
      "provenance": [],
      "authorship_tag": "ABX9TyNl/I60DjxMyfQQizG/5qD6",
      "include_colab_link": true
    },
    "kernelspec": {
      "name": "python3",
      "display_name": "Python 3"
    },
    "language_info": {
      "name": "python"
    }
  },
  "cells": [
    {
      "cell_type": "markdown",
      "metadata": {
        "id": "view-in-github",
        "colab_type": "text"
      },
      "source": [
        "<a href=\"https://colab.research.google.com/github/armandossrecife/lp20231/blob/main/filtros_em_imagem_v2.ipynb\" target=\"_parent\"><img src=\"https://colab.research.google.com/assets/colab-badge.svg\" alt=\"Open In Colab\"/></a>"
      ]
    },
    {
      "cell_type": "markdown",
      "source": [
        "# Criando um programa que aplica filtros em uma imagem"
      ],
      "metadata": {
        "id": "ew9uc1wWv6wD"
      }
    },
    {
      "cell_type": "markdown",
      "source": [
        "1. Baixa (download) uma imagem da internet\n",
        "2. Cria uma classe para representar uma imagem com seus atributos e métodos\n",
        "3. Cria um filtro de imagem (exemplos: Preto e Branco, Tons de Cinza e Bordas)\n",
        "4. Aplica um filtro em uma imagem"
      ],
      "metadata": {
        "id": "9BXluEO9wAF4"
      }
    },
    {
      "cell_type": "code",
      "source": [
        "!wget https://raw.githubusercontent.com/armandossrecife/teste/main/filtros.png"
      ],
      "metadata": {
        "colab": {
          "base_uri": "https://localhost:8080/"
        },
        "id": "DnUDQFSV8W9x",
        "outputId": "d6b25398-c9ed-4be6-ce8c-b5af3730ce9b"
      },
      "execution_count": 11,
      "outputs": [
        {
          "output_type": "stream",
          "name": "stdout",
          "text": [
            "--2023-06-19 13:58:17--  https://raw.githubusercontent.com/armandossrecife/teste/main/filtros.png\n",
            "Resolving raw.githubusercontent.com (raw.githubusercontent.com)... 185.199.108.133, 185.199.109.133, 185.199.110.133, ...\n",
            "Connecting to raw.githubusercontent.com (raw.githubusercontent.com)|185.199.108.133|:443... connected.\n",
            "HTTP request sent, awaiting response... 200 OK\n",
            "Length: 66653 (65K) [image/png]\n",
            "Saving to: ‘filtros.png’\n",
            "\n",
            "filtros.png         100%[===================>]  65.09K  --.-KB/s    in 0.01s   \n",
            "\n",
            "2023-06-19 13:58:18 (4.43 MB/s) - ‘filtros.png’ saved [66653/66653]\n",
            "\n"
          ]
        }
      ]
    },
    {
      "cell_type": "markdown",
      "source": [
        "## Instala dependências"
      ],
      "metadata": {
        "id": "SVzPDhNE1Dxk"
      }
    },
    {
      "cell_type": "code",
      "source": [
        "# Instala o pacote Pillow (Modulo para manipular imagens)\n",
        "!pip3 install Pillow"
      ],
      "metadata": {
        "colab": {
          "base_uri": "https://localhost:8080/"
        },
        "id": "WLDTiryPwaxS",
        "outputId": "982f28d7-1f68-4733-f862-7c9616ddff87"
      },
      "execution_count": 2,
      "outputs": [
        {
          "output_type": "stream",
          "name": "stdout",
          "text": [
            "Looking in indexes: https://pypi.org/simple, https://us-python.pkg.dev/colab-wheels/public/simple/\n",
            "Requirement already satisfied: Pillow in /usr/local/lib/python3.10/dist-packages (8.4.0)\n"
          ]
        }
      ]
    },
    {
      "cell_type": "code",
      "source": [
        "# Instala o pacote Requests (Módulo para manipular requisicoes http)\n",
        "!pip3 install requests"
      ],
      "metadata": {
        "colab": {
          "base_uri": "https://localhost:8080/"
        },
        "id": "qgy06SkUwgbM",
        "outputId": "6b46ac48-1d64-4ad3-cbda-ad9b87400f4f"
      },
      "execution_count": 3,
      "outputs": [
        {
          "output_type": "stream",
          "name": "stdout",
          "text": [
            "Looking in indexes: https://pypi.org/simple, https://us-python.pkg.dev/colab-wheels/public/simple/\n",
            "Requirement already satisfied: requests in /usr/local/lib/python3.10/dist-packages (2.27.1)\n",
            "Requirement already satisfied: urllib3<1.27,>=1.21.1 in /usr/local/lib/python3.10/dist-packages (from requests) (1.26.15)\n",
            "Requirement already satisfied: certifi>=2017.4.17 in /usr/local/lib/python3.10/dist-packages (from requests) (2022.12.7)\n",
            "Requirement already satisfied: charset-normalizer~=2.0.0 in /usr/local/lib/python3.10/dist-packages (from requests) (2.0.12)\n",
            "Requirement already satisfied: idna<4,>=2.5 in /usr/local/lib/python3.10/dist-packages (from requests) (3.4)\n"
          ]
        }
      ]
    },
    {
      "cell_type": "markdown",
      "source": [
        "## Cria as Classes de Download e Imagem"
      ],
      "metadata": {
        "id": "TE2xWW-x1Gci"
      }
    },
    {
      "cell_type": "code",
      "source": [
        "from PIL import Image\n",
        "import requests\n",
        "import os\n",
        "\n",
        "class Download:\n",
        "    def __init__(self, url, path_arquivo):\n",
        "        self.url = url\n",
        "        self.path_arquivo = path_arquivo\n",
        "\n",
        "    def download_file(self):\n",
        "        try:\n",
        "            response = requests.get(self.url)\n",
        "            response.raise_for_status()  # Verifica se houve algum erro na requisição\n",
        "            with open(self.path_arquivo, 'wb') as file:\n",
        "                file.write(response.content)\n",
        "            print(f\"Download completo. Arquivo salvo em: {self.path_arquivo}\")\n",
        "        except requests.exceptions.MissingSchema:\n",
        "            print(\"URL inválida. Certifique-se de fornecer uma URL válida.\")\n",
        "        except requests.exceptions.RequestException as e:\n",
        "            print(f\"Erro na conexão: {e}\")\n",
        "\n",
        "class Imagem:\n",
        "    minha_imagem = None\n",
        "    def __init__(self, id, nome_arquivo, path_arquivo):\n",
        "        self.id = id\n",
        "        self.nome_arquivo = nome_arquivo\n",
        "        self.local_referencia = path_arquivo\n",
        "        try:\n",
        "            self.minha_imagem = Image.open(path_arquivo)\n",
        "        except Exception as ex:\n",
        "            print(f'Erro ao criar a imagem com o arquivo {nome_arquivo} na referência {path_arquivo}: {str(str)}')\n",
        "\n",
        "    def dimensoes(self):\n",
        "        return self.minha_imagem.size\n",
        "\n",
        "    def tamanho(self):\n",
        "        return os.path.getsize(self.local_referencia)\n",
        "\n",
        "    def formato(self):\n",
        "        return self.minha_imagem.format\n",
        "\n",
        "    def conteudo(self):\n",
        "        return self.minha_imagem\n",
        "\n",
        "    def __str__(self):\n",
        "        return f'Nome: {self.nome_arquivo}, Dimensoes:{self.dimensoes()}, Formato: {self.formato()}, Tamanho: {self.tamanho()} Bytes'\n"
      ],
      "metadata": {
        "id": "0QVSyPeZuplq"
      },
      "execution_count": 4,
      "outputs": []
    },
    {
      "cell_type": "markdown",
      "source": [
        "## Cria as classes que vão representar os filtros (BlackAndWhite, Greyscale, Edges)"
      ],
      "metadata": {
        "id": "L4yRty_d1Lsb"
      }
    },
    {
      "cell_type": "code",
      "source": [
        "from PIL import ImageFilter\n",
        "\n",
        "class BlackAndWhiteFilter:\n",
        "    def apply_filter(self, image):\n",
        "        # Convert the image to grayscale\n",
        "        grayscale_image = image.convert(\"L\")\n",
        "        # Convert the grayscale image to black and white\n",
        "        black_white_image = grayscale_image.convert(\"1\")\n",
        "        return black_white_image\n",
        "\n",
        "class GrayscaleFilter:\n",
        "    def apply_filter(self, image):\n",
        "        # Convert the image to grayscale\n",
        "        grayscale_image = image.convert(\"L\")\n",
        "        return grayscale_image\n",
        "\n",
        "class EdgesFilter:\n",
        "    def apply_filter(self, image):\n",
        "        # Convert the image to grayscale\n",
        "        grayscale_image = image.convert(\"L\")\n",
        "        cartoon_image = grayscale_image.filter(ImageFilter.FIND_EDGES)\n",
        "        return cartoon_image"
      ],
      "metadata": {
        "id": "3qJ8uAamxNb8"
      },
      "execution_count": 5,
      "outputs": []
    },
    {
      "cell_type": "markdown",
      "source": [
        "## Cria as classes para instanciar o programa principal que integra todas as classes e aplica os filtros em uma imagem"
      ],
      "metadata": {
        "id": "gLbIQiG71hlz"
      }
    },
    {
      "cell_type": "code",
      "source": [
        "import os\n",
        "import time\n",
        "from urllib.parse import urlparse\n",
        "\n",
        "class Util:\n",
        "  def extrair_nome_extensao_url(self,url):\n",
        "    # Faz o parse da URL\n",
        "    parsed_url = urlparse(url)\n",
        "    # Obtém o caminho do arquivo\n",
        "    caminho_arquivo = parsed_url.path\n",
        "    # Extrai o nome do arquivo e a extensão\n",
        "    nome_arquivo, extensao = os.path.splitext(os.path.basename(caminho_arquivo))\n",
        "    return nome_arquivo, extensao\n",
        "\n",
        "  def wait_for_file(self,file_path, interval=1):\n",
        "      print('Aguarde...')\n",
        "      while not os.path.exists(file_path):\n",
        "        time.sleep(interval)\n",
        "        interval = interval + 1\n",
        "        print(\".\", end=\" \")\n",
        "\n",
        "class Main:\n",
        "  def __init__(self, utilidades):\n",
        "    self.utilidades = utilidades\n",
        "\n",
        "  def cria_imagem(self, minha_url):\n",
        "    print(f'URL: {minha_url}')\n",
        "    nome_arquivo, extensao_arquivo = self.utilidades.extrair_nome_extensao_url(minha_url)\n",
        "    arquivo = nome_arquivo + extensao_arquivo\n",
        "    print(f'Arquivo: {arquivo}')\n",
        "    meu_download = Download(url=minha_url, path_arquivo=arquivo)\n",
        "    print(f'Inicia download...')\n",
        "    meu_download.download_file()\n",
        "    print(f'Download concluído!')\n",
        "    self.utilidades.wait_for_file(arquivo)\n",
        "    imagem_teste = Imagem(id=1, nome_arquivo=arquivo, path_arquivo=arquivo)\n",
        "    print(imagem_teste)\n",
        "    return imagem_teste.conteudo()\n",
        "\n",
        "  def aplica_filtro_grayscale(self,minha_imagem, nome):\n",
        "    print('Aplicando filtro grayscale...')\n",
        "    # Create an instance of the GrayscaleFilter\n",
        "    grayscale_filter = GrayscaleFilter()\n",
        "    # Apply the filter to the image\n",
        "    filtered_image_grayscale = grayscale_filter.apply_filter(minha_imagem)\n",
        "    # Save the filtered image\n",
        "    nome = nome + '_greyscale.jpg'\n",
        "    filtered_image_grayscale.save(nome)\n",
        "    print(f'Filtro grayscale aplicado com sucesso! Arquivo salvo em {nome}')\n",
        "\n",
        "  def aplica_filtro_black_and_white(self,minha_imagem, nome):\n",
        "    print('Aplicando filtro BlackAndWhite...')\n",
        "    # Create an instance of the BlackAndWhiteFilter\n",
        "    black_and_white_filter = BlackAndWhiteFilter()\n",
        "    # Apply the filter to the image\n",
        "    filtered_image_black_and_white = black_and_white_filter.apply_filter(minha_imagem)\n",
        "    # Save the filtered image\n",
        "    nome = nome + '_black_and_white.jpg'\n",
        "    filtered_image_black_and_white.save(nome)\n",
        "    print(f'Filtro black_and_white aplicado com sucesso! Arquivo salvo em {nome}')\n",
        "\n",
        "  def aplica_filtro_edges(self,minha_imagem, nome):\n",
        "    print('Aplicando filtro EdgesFilter...')\n",
        "    # Create an instance of the EdgesFilter\n",
        "    edges_filter = EdgesFilter()\n",
        "    # Apply the filter to the image\n",
        "    filtered_image_edges_filter = edges_filter.apply_filter(minha_imagem)\n",
        "    # Save the filtered image\n",
        "    nome = nome + '_edges.jpg'\n",
        "    filtered_image_edges_filter.save(nome)\n",
        "    print(f'Filtro edges aplicado com sucesso! Arquivo salvo em {nome}')"
      ],
      "metadata": {
        "id": "5rvxocrVxa78"
      },
      "execution_count": 8,
      "outputs": []
    },
    {
      "cell_type": "code",
      "source": [
        "# Exemplos de URLs de imagens publicas:\n",
        "# https://github.com/armandossrecife/lp/raw/main/engenhariasoftware.png\n",
        "# https://raw.githubusercontent.com/armandossrecife/teste/main/Pizigani_1367_Chart_10MB.jpg\n",
        "\n",
        "utilidades = Util()\n",
        "app_principal = Main(utilidades)\n",
        "\n",
        "# Cria uma imagem\n",
        "imagem1 = app_principal.cria_imagem(minha_url='https://raw.githubusercontent.com/my-prototypes/tflk/main/app/static/upload/armando.jpeg')\n",
        "\n",
        "# Aplica filtros na imagem criada\n",
        "app_principal.aplica_filtro_grayscale(minha_imagem=imagem1, nome='armando')\n",
        "app_principal.aplica_filtro_black_and_white(minha_imagem=imagem1, nome='armando')\n",
        "app_principal.aplica_filtro_edges(minha_imagem=imagem1, nome='armando')"
      ],
      "metadata": {
        "colab": {
          "base_uri": "https://localhost:8080/"
        },
        "id": "_72cJ8_JySBt",
        "outputId": "7719fb62-0e4e-40a6-f776-1cb3a38a8d3f"
      },
      "execution_count": 9,
      "outputs": [
        {
          "output_type": "stream",
          "name": "stdout",
          "text": [
            "URL: https://raw.githubusercontent.com/my-prototypes/tflk/main/app/static/upload/armando.jpeg\n",
            "Arquivo: armando.jpeg\n",
            "Inicia download...\n",
            "Download completo. Arquivo salvo em: armando.jpeg\n",
            "Download concluído!\n",
            "Aguarde...\n",
            "Nome: armando.jpeg, Dimensoes:(1024, 768), Formato: JPEG, Tamanho: 92258 Bytes\n",
            "Aplicando filtro grayscale...\n",
            "Filtro grayscale aplicado com sucesso! Arquivo salvo em armando_greyscale.jpg\n",
            "Aplicando filtro BlackAndWhite...\n",
            "Filtro black_and_white aplicado com sucesso! Arquivo salvo em armando_black_and_white.jpg\n",
            "Aplicando filtro EdgesFilter...\n",
            "Filtro edges aplicado com sucesso! Arquivo salvo em armando_edges.jpg\n"
          ]
        }
      ]
    },
    {
      "cell_type": "code",
      "source": [
        "# Cria uma imagem\n",
        "imagem2 = app_principal.cria_imagem(minha_url='https://github.com/armandossrecife/lp/raw/main/engenhariasoftware.png')\n",
        "\n",
        "# Aplica filtros na imagem criada\n",
        "app_principal.aplica_filtro_grayscale(minha_imagem=imagem2, nome='engenhariasoftware')\n",
        "app_principal.aplica_filtro_black_and_white(minha_imagem=imagem2, nome='engenhariasoftware')\n",
        "app_principal.aplica_filtro_edges(minha_imagem=imagem2, nome='engenhariasoftware')"
      ],
      "metadata": {
        "colab": {
          "base_uri": "https://localhost:8080/"
        },
        "id": "DeZQlqX_4-NL",
        "outputId": "f863047e-0edc-493c-e493-1007dfc6cf4d"
      },
      "execution_count": 10,
      "outputs": [
        {
          "output_type": "stream",
          "name": "stdout",
          "text": [
            "URL: https://github.com/armandossrecife/lp/raw/main/engenhariasoftware.png\n",
            "Arquivo: engenhariasoftware.png\n",
            "Inicia download...\n",
            "Download completo. Arquivo salvo em: engenhariasoftware.png\n",
            "Download concluído!\n",
            "Aguarde...\n",
            "Nome: engenhariasoftware.png, Dimensoes:(685, 486), Formato: PNG, Tamanho: 381549 Bytes\n",
            "Aplicando filtro grayscale...\n",
            "Filtro grayscale aplicado com sucesso! Arquivo salvo em engenhariasoftware_greyscale.jpg\n",
            "Aplicando filtro BlackAndWhite...\n",
            "Filtro black_and_white aplicado com sucesso! Arquivo salvo em engenhariasoftware_black_and_white.jpg\n",
            "Aplicando filtro EdgesFilter...\n",
            "Filtro edges aplicado com sucesso! Arquivo salvo em engenhariasoftware_edges.jpg\n"
          ]
        }
      ]
    }
  ]
}