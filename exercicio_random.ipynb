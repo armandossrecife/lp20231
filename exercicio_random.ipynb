{
  "nbformat": 4,
  "nbformat_minor": 0,
  "metadata": {
    "colab": {
      "provenance": [],
      "authorship_tag": "ABX9TyOrx+RvVybHa3rZUDWFtVSi",
      "include_colab_link": true
    },
    "kernelspec": {
      "name": "python3",
      "display_name": "Python 3"
    },
    "language_info": {
      "name": "python"
    }
  },
  "cells": [
    {
      "cell_type": "markdown",
      "metadata": {
        "id": "view-in-github",
        "colab_type": "text"
      },
      "source": [
        "<a href=\"https://colab.research.google.com/github/armandossrecife/lp20231/blob/main/exercicio_random.ipynb\" target=\"_parent\"><img src=\"https://colab.research.google.com/assets/colab-badge.svg\" alt=\"Open In Colab\"/></a>"
      ]
    },
    {
      "cell_type": "markdown",
      "source": [
        "# Acessando elementos de uma lista de forma aleatória"
      ],
      "metadata": {
        "id": "mnaNTC_YxFnq"
      }
    },
    {
      "cell_type": "code",
      "execution_count": 1,
      "metadata": {
        "id": "x7szPq5Bt2RD"
      },
      "outputs": [],
      "source": [
        "import pandas as pd"
      ]
    },
    {
      "cell_type": "code",
      "source": [
        "# Funcao que dada uma URL contendo uma tabela html com as matriculas e nomes de alunos\n",
        "# retorna as listas de matriculas e nomes dos alunos\n",
        "def get_alunos_ufpi(url):\n",
        "  lista_matriculas, lista_alunos = None, None\n",
        "  try:\n",
        "    lista_alunos_ufpi = pd.read_html(url)\n",
        "    alunos_ufpi = lista_alunos_ufpi[0]\n",
        "    alunos_ufpi = alunos_ufpi[['Matrícula', 'Aluno']]\n",
        "    lista_matriculas = alunos_ufpi['Matrícula'].tolist()\n",
        "    lista_matriculas.pop()\n",
        "    lista_alunos = alunos_ufpi['Aluno'].tolist()\n",
        "    lista_alunos.pop\n",
        "  except Exception:\n",
        "    print('Erro ao recuperar dados de alunos')\n",
        "  return lista_matriculas, lista_alunos"
      ],
      "metadata": {
        "id": "KmsP9qU8t6PX"
      },
      "execution_count": 21,
      "outputs": []
    },
    {
      "cell_type": "code",
      "source": [
        "# URL dos alunos (computacao, matematica, fisica e quimica) da UFPI (SIGAA dados públicos)\n",
        "URL_ALUNOS_COMPUTACAO_UFPI = 'https://www.sigaa.ufpi.br/sigaa/public/curso/alunos.jsf?lc=pt_BR&id=74268'\n",
        "URL_ALUNOS_MATEMATICA_UFPI = 'https://www.sigaa.ufpi.br/sigaa/public/curso/alunos.jsf?lc=pt_BR&id=74260'\n",
        "URL_ALUNOS_FISICA = 'https://www.sigaa.ufpi.br/sigaa/public/curso/portal.jsf?id=74263&lc=pt_BR'\n",
        "URL_ALUNOS_QUIMICA = 'https://www.sigaa.ufpi.br/sigaa/public/curso/portal.jsf?id=74263&lc=pt_BR' "
      ],
      "metadata": {
        "id": "1I5Xi6T8ueqJ"
      },
      "execution_count": 22,
      "outputs": []
    },
    {
      "cell_type": "code",
      "source": [
        "# exemplo de chamada da funcao get_alunos_ufpi(..)\n",
        "matriculas, alunos = get_alunos_ufpi(URL_ALUNOS_COMPUTACAO_UFPI)"
      ],
      "metadata": {
        "id": "zGWdwNjOupGl"
      },
      "execution_count": 23,
      "outputs": []
    },
    {
      "cell_type": "markdown",
      "source": [
        "## 1. Crie uma função que dada uma lista de alunos do curso de Computação (presencial) da UFPI (Teresina), selecione um aluno aleatoriamente."
      ],
      "metadata": {
        "id": "uDF4OqfnvCwD"
      }
    },
    {
      "cell_type": "code",
      "source": [
        "#?"
      ],
      "metadata": {
        "id": "XuBOzcsGyoqX"
      },
      "execution_count": null,
      "outputs": []
    },
    {
      "cell_type": "markdown",
      "source": [
        "## 2. Crie uma função que dada uma lista de alunos do curso de Matemática (presencial) da UFPI (Teresina), selecione dez alunos aleatoriamente."
      ],
      "metadata": {
        "id": "QV1vCBmPvJmd"
      }
    },
    {
      "cell_type": "code",
      "source": [
        "#?"
      ],
      "metadata": {
        "id": "cDdXEnpoyjek"
      },
      "execution_count": null,
      "outputs": []
    }
  ]
}