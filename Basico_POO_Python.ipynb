{
  "nbformat": 4,
  "nbformat_minor": 0,
  "metadata": {
    "colab": {
      "provenance": [],
      "authorship_tag": "ABX9TyOJZZVWtHmD+qqbYREXsn2l",
      "include_colab_link": true
    },
    "kernelspec": {
      "name": "python3",
      "display_name": "Python 3"
    },
    "language_info": {
      "name": "python"
    }
  },
  "cells": [
    {
      "cell_type": "markdown",
      "metadata": {
        "id": "view-in-github",
        "colab_type": "text"
      },
      "source": [
        "<a href=\"https://colab.research.google.com/github/armandossrecife/lp20231/blob/main/Basico_POO_Python.ipynb\" target=\"_parent\"><img src=\"https://colab.research.google.com/assets/colab-badge.svg\" alt=\"Open In Colab\"/></a>"
      ]
    },
    {
      "cell_type": "markdown",
      "source": [
        "# POO básico em Python"
      ],
      "metadata": {
        "id": "UrPgOiFF_z2A"
      }
    },
    {
      "cell_type": "markdown",
      "source": [
        "## Conceitos Básicos de POO\n",
        "\n",
        "Programação Orientada a Objetos (POO) é um paradigma de programação que se baseia na organização do código em objetos que interagem entre si.\n",
        "\n",
        "Em POO, objetos são instâncias de classes, que são estruturas que definem propriedades e comportamentos dos objetos.\n",
        "\n",
        "As classes são utilizadas para criar objetos do mesmo tipo, com atributos e métodos em comum.\n",
        "\n",
        "Atributos são características ou propriedades dos objetos, enquanto métodos são as ações que os objetos podem realizar.\n",
        "\n",
        "POO oferece uma abordagem mais modular, reutilizável e escalável para o desenvolvimento de software."
      ],
      "metadata": {
        "id": "LnwVtYFq_32k"
      }
    },
    {
      "cell_type": "markdown",
      "source": [
        "### Classes em Python\n",
        "\n",
        "Declaração de classe\n",
        "\n",
        "Construtor\n",
        "\n",
        "Atributos de instância e atributos de classe\n",
        "\n",
        "Métodos de uma classe"
      ],
      "metadata": {
        "id": "YzJTgTaNFj3g"
      }
    },
    {
      "cell_type": "code",
      "source": [
        "class Pessoa:\n",
        "    def __init__(self, cpf, nome, data_nascimento):\n",
        "        self.cpf = cpf\n",
        "        self.nome = nome\n",
        "        self.data_nascimento = data_nascimento\n",
        "\n",
        "    def calcular_idade(self):\n",
        "        # Lógica para calcular a idade com base na data de nascimento\n",
        "        # Retorna a idade da pessoa\n",
        "        pass\n",
        "\n",
        "    def validar_cpf(self):\n",
        "        # Lógica para validar o CPF\n",
        "        # Retorna True se o CPF é válido, False caso contrário\n",
        "        pass"
      ],
      "metadata": {
        "id": "hcLxEEye_29r"
      },
      "execution_count": 2,
      "outputs": []
    },
    {
      "cell_type": "markdown",
      "source": [
        "Exemplo completo de uma classe Pessoa"
      ],
      "metadata": {
        "id": "ucfx7RxyDvoS"
      }
    },
    {
      "cell_type": "code",
      "source": [
        "import datetime\n",
        "import re\n",
        "\n",
        "class Pessoa:\n",
        "    def __init__(self, cpf, nome, data_nascimento):\n",
        "        self.cpf = cpf\n",
        "        self.nome = nome\n",
        "        self.data_nascimento = data_nascimento\n",
        "\n",
        "    '''\n",
        "    ^ e $ indicam o início e o fim da string, respectivamente.\n",
        "    (0[1-9]|1[0-9]|2[0-9]|3[0-1]) representa o dia da data de nascimento, permitindo valores de 01 a 31.\n",
        "    (0[1-9]|1[0-2]) representa o mês da data de nascimento, permitindo valores de 01 a 12.\n",
        "    (19|20)\\d{2} representa o ano da data de nascimento, permitindo valores de 1900 a 2099.\n",
        "    '''\n",
        "    def validar_data_nascimento(self):\n",
        "      pattern = r\"^(0[1-9]|1[0-9]|2[0-9]|3[0-1])/(0[1-9]|1[0-2])/(19|20)\\d{2}$\"\n",
        "      if re.match(pattern, self.data_nascimento):\n",
        "          return True\n",
        "      else:\n",
        "          return False\n",
        "\n",
        "    def calcular_idade(self):\n",
        "        hoje = datetime.datetime.now()\n",
        "        ano_corrente = hoje.year\n",
        "        if self.validar_data_nascimento():\n",
        "          data_temp = self.data_nascimento.split(\"/\")\n",
        "          ano_nascimento = int(data_temp[2])\n",
        "          idade = ano_corrente - ano_nascimento\n",
        "          return idade\n",
        "\n",
        "    '''\n",
        "    ^ e $ indicam o início e o fim da string, respectivamente.\n",
        "    \\d{11} representa exatamente 11 dígitos numéricos.\n",
        "    '''\n",
        "    def validar_cpf(self):\n",
        "      pattern = r\"^\\d{11}$\"\n",
        "      if re.match(pattern, self.cpf):\n",
        "        return True\n",
        "      else:\n",
        "        return False"
      ],
      "metadata": {
        "id": "FTxJ8QD4AFXe"
      },
      "execution_count": 39,
      "outputs": []
    },
    {
      "cell_type": "code",
      "source": [
        "pessoa1 = Pessoa(\"12345678900\",\"João\", \"01/01/1990\")\n",
        "print(f\"CPF: {pessoa1.cpf}\")\n",
        "print(f\"Nome: {pessoa1.nome}\")  # Saída: João\n",
        "print(f\"Idade: {pessoa1.calcular_idade()}\")  # Chama o método calcular_idade da classe Pessoa"
      ],
      "metadata": {
        "colab": {
          "base_uri": "https://localhost:8080/"
        },
        "id": "-e5bJMiTD39K",
        "outputId": "2fc09ad0-e996-40bc-b21b-35b7affadbde"
      },
      "execution_count": 40,
      "outputs": [
        {
          "output_type": "stream",
          "name": "stdout",
          "text": [
            "CPF: 12345678900\n",
            "Nome: João\n",
            "Idade: 33\n"
          ]
        }
      ]
    },
    {
      "cell_type": "markdown",
      "source": [
        "### Herança em Python\n",
        "\n",
        "Conceito de herança\n",
        "\n",
        "Criação de classes filhas (subclasses)\n",
        "\n",
        "Sobrescrita de métodos"
      ],
      "metadata": {
        "id": "tQj9FVDPEM65"
      }
    },
    {
      "cell_type": "code",
      "source": [
        "class Usuario(Pessoa):\n",
        "    def __init__(self, cpf, nome, data_nascimento, email, nome_usuario, senha):\n",
        "        super().__init__(cpf, nome, data_nascimento)\n",
        "        self.email = email\n",
        "        self.nome_usuario = nome_usuario\n",
        "        self.senha = senha"
      ],
      "metadata": {
        "id": "w5C_BYf1EAn_"
      },
      "execution_count": 41,
      "outputs": []
    },
    {
      "cell_type": "code",
      "source": [
        "usuario1 = Usuario(pessoa1.cpf, pessoa1.nome,pessoa1.data_nascimento, 'joao@gmail.com', 'joao', '123456')\n",
        "\n",
        "print(f'Criado o usuario1!')\n",
        "print(f\"Dados do usuario1: {usuario1.nome_usuario}, {usuario1.data_nascimento}, {usuario1.cpf}, {usuario1.email}, {usuario1.nome_usuario}, {usuario1.senha}\")\n",
        "print(f\"Idade do usuario1: {usuario1.calcular_idade()}\")"
      ],
      "metadata": {
        "colab": {
          "base_uri": "https://localhost:8080/"
        },
        "id": "37M1om8hEWdy",
        "outputId": "86fc3d41-abe6-4af9-f2de-777793e6dc19"
      },
      "execution_count": 34,
      "outputs": [
        {
          "output_type": "stream",
          "name": "stdout",
          "text": [
            "Criado o usuario1!\n",
            "Dados do usuario1: joao, 01/01/1990, 12345678900, joao@gmail.com, joao, 123456\n",
            "Idade do usuario1: 33\n"
          ]
        }
      ]
    },
    {
      "cell_type": "markdown",
      "source": [
        "## Aplicando POO em programas estruturados"
      ],
      "metadata": {
        "id": "2y8mZyp8FxS1"
      }
    },
    {
      "cell_type": "code",
      "source": [
        "class ManipulaArquivoTexto:\n",
        "  # contrutor da classe\n",
        "  def __init__(self, nome_arquivo):\n",
        "    self.nome_arquivo = nome_arquivo\n",
        "\n",
        "  def insere_conteudo_no_arquivo(self, pessoa):\n",
        "    registro = pessoa.cpf + ';' + pessoa.nome + ';' + pessoa.data_nascimento\n",
        "    with open(self.nome_arquivo, 'a') as file_temp:\n",
        "      conteudo = registro + \"\\n\"\n",
        "      file_temp.write(conteudo)\n",
        "\n",
        "  def ler_conteudo_do_arquivo(self):\n",
        "    # testa se o arquivo existe\n",
        "    teste_arquivo = os.path.exists(self.nome_arquivo)\n",
        "    if teste_arquivo:\n",
        "      with open(self.nome_arquivo, mode='r') as file_temp:\n",
        "        conteudo_arquivo = file_temp.read()\n",
        "        print(conteudo_arquivo)\n",
        "    else:\n",
        "      print(f'O arquivo {self.nome_arquivo} ainda não existe!')"
      ],
      "metadata": {
        "id": "08I2yqO5JTjz"
      },
      "execution_count": 49,
      "outputs": []
    },
    {
      "cell_type": "code",
      "source": [
        "class MyAgenda:\n",
        "  def __init__(self, ManipulaArquivosTexto):\n",
        "    self.ManipulaArquivosTexto = ManipulaArquivosTexto\n",
        "\n",
        "  def ler_dados_pessoa(self):\n",
        "    cpf = input(\"Qual o cpf \")\n",
        "    nome = input(\"Qual o nome? \")\n",
        "    data_nascimento = input(\"Qual a data de nascimento? \")\n",
        "    pessoa_temp = Pessoa(cpf, data_nascimento, nome)\n",
        "    return pessoa_temp\n",
        "\n",
        "  def menu(self):\n",
        "    print(\"1. Insere pessoa\")\n",
        "    print(\"2. Listar conteúdo do arquivo\")\n",
        "    print(\"3. SAIR\")\n",
        "\n",
        "  def executa_agenda(self):\n",
        "    while True:\n",
        "      self.menu()\n",
        "      opcao = input(\"Qual a sua opção? \")\n",
        "      if opcao == '1':\n",
        "        pessoa_temp = self.ler_dados_pessoa()\n",
        "        self.ManipulaArquivosTexto.insere_conteudo_no_arquivo(pessoa=pessoa_temp)\n",
        "      elif opcao == '2':\n",
        "        self.ManipulaArquivosTexto.ler_conteudo_do_arquivo()\n",
        "      elif opcao == '3':\n",
        "        break\n",
        "      else:\n",
        "        print(\"Opção inválida!\")"
      ],
      "metadata": {
        "id": "vdzGEf3RKmKD"
      },
      "execution_count": 48,
      "outputs": []
    },
    {
      "cell_type": "code",
      "source": [
        "import os\n",
        "\n",
        "meu_arquivo_texto = ManipulaArquivoTexto(\"pessoas.txt\")\n",
        "minha_agenda = MyAgenda(meu_arquivo_texto)\n",
        "minha_agenda.executa_agenda()"
      ],
      "metadata": {
        "id": "1_x-j6xMnYgU",
        "colab": {
          "base_uri": "https://localhost:8080/",
          "height": 867
        },
        "outputId": "9c24b156-e562-4506-d295-082831f28248"
      },
      "execution_count": 51,
      "outputs": [
        {
          "output_type": "stream",
          "name": "stdout",
          "text": [
            "1. Insere pessoa\n",
            "2. Listar conteúdo do arquivo\n",
            "3. SAIR\n",
            "Qual a sua opção? 1\n",
            "Qual o cpf 12345678911\n",
            "Qual o nome? Armando\n",
            "Qual a data de nascimento? 19/02/1979\n",
            "1. Insere pessoa\n",
            "2. Listar conteúdo do arquivo\n",
            "3. SAIR\n",
            "Qual a sua opção? 2\n",
            "12345678911;19/02/1979;Armando\n",
            "\n",
            "1. Insere pessoa\n",
            "2. Listar conteúdo do arquivo\n",
            "3. SAIR\n",
            "Qual a sua opção? 1\n",
            "Qual o cpf 12345678912\n",
            "Qual o nome? Maria\n",
            "Qual a data de nascimento? 01/02/2000\n",
            "1. Insere pessoa\n",
            "2. Listar conteúdo do arquivo\n",
            "3. SAIR\n",
            "Qual a sua opção? 2\n",
            "12345678911;19/02/1979;Armando\n",
            "12345678912;01/02/2000;Maria\n",
            "\n",
            "1. Insere pessoa\n",
            "2. Listar conteúdo do arquivo\n",
            "3. SAIR\n"
          ]
        },
        {
          "output_type": "error",
          "ename": "KeyboardInterrupt",
          "evalue": "ignored",
          "traceback": [
            "\u001b[0;31m---------------------------------------------------------------------------\u001b[0m",
            "\u001b[0;31mKeyboardInterrupt\u001b[0m                         Traceback (most recent call last)",
            "\u001b[0;32m<ipython-input-51-90f5b7d7ce22>\u001b[0m in \u001b[0;36m<cell line: 5>\u001b[0;34m()\u001b[0m\n\u001b[1;32m      3\u001b[0m \u001b[0mmeu_arquivo_texto\u001b[0m \u001b[0;34m=\u001b[0m \u001b[0mManipulaArquivoTexto\u001b[0m\u001b[0;34m(\u001b[0m\u001b[0;34m\"pessoas.txt\"\u001b[0m\u001b[0;34m)\u001b[0m\u001b[0;34m\u001b[0m\u001b[0;34m\u001b[0m\u001b[0m\n\u001b[1;32m      4\u001b[0m \u001b[0mminha_agenda\u001b[0m \u001b[0;34m=\u001b[0m \u001b[0mMyAgenda\u001b[0m\u001b[0;34m(\u001b[0m\u001b[0mmeu_arquivo_texto\u001b[0m\u001b[0;34m)\u001b[0m\u001b[0;34m\u001b[0m\u001b[0;34m\u001b[0m\u001b[0m\n\u001b[0;32m----> 5\u001b[0;31m \u001b[0mminha_agenda\u001b[0m\u001b[0;34m.\u001b[0m\u001b[0mexecuta_agenda\u001b[0m\u001b[0;34m(\u001b[0m\u001b[0;34m)\u001b[0m\u001b[0;34m\u001b[0m\u001b[0;34m\u001b[0m\u001b[0m\n\u001b[0m",
            "\u001b[0;32m<ipython-input-48-a1adaecb3720>\u001b[0m in \u001b[0;36mexecuta_agenda\u001b[0;34m(self)\u001b[0m\n\u001b[1;32m     18\u001b[0m     \u001b[0;32mwhile\u001b[0m \u001b[0;32mTrue\u001b[0m\u001b[0;34m:\u001b[0m\u001b[0;34m\u001b[0m\u001b[0;34m\u001b[0m\u001b[0m\n\u001b[1;32m     19\u001b[0m       \u001b[0mself\u001b[0m\u001b[0;34m.\u001b[0m\u001b[0mmenu\u001b[0m\u001b[0;34m(\u001b[0m\u001b[0;34m)\u001b[0m\u001b[0;34m\u001b[0m\u001b[0;34m\u001b[0m\u001b[0m\n\u001b[0;32m---> 20\u001b[0;31m       \u001b[0mopcao\u001b[0m \u001b[0;34m=\u001b[0m \u001b[0minput\u001b[0m\u001b[0;34m(\u001b[0m\u001b[0;34m\"Qual a sua opção? \"\u001b[0m\u001b[0;34m)\u001b[0m\u001b[0;34m\u001b[0m\u001b[0;34m\u001b[0m\u001b[0m\n\u001b[0m\u001b[1;32m     21\u001b[0m       \u001b[0;32mif\u001b[0m \u001b[0mopcao\u001b[0m \u001b[0;34m==\u001b[0m \u001b[0;34m'1'\u001b[0m\u001b[0;34m:\u001b[0m\u001b[0;34m\u001b[0m\u001b[0;34m\u001b[0m\u001b[0m\n\u001b[1;32m     22\u001b[0m         \u001b[0mpessoa_temp\u001b[0m \u001b[0;34m=\u001b[0m \u001b[0mself\u001b[0m\u001b[0;34m.\u001b[0m\u001b[0mler_dados_pessoa\u001b[0m\u001b[0;34m(\u001b[0m\u001b[0;34m)\u001b[0m\u001b[0;34m\u001b[0m\u001b[0;34m\u001b[0m\u001b[0m\n",
            "\u001b[0;32m/usr/local/lib/python3.10/dist-packages/ipykernel/kernelbase.py\u001b[0m in \u001b[0;36mraw_input\u001b[0;34m(self, prompt)\u001b[0m\n\u001b[1;32m    849\u001b[0m                 \u001b[0;34m\"raw_input was called, but this frontend does not support input requests.\"\u001b[0m\u001b[0;34m\u001b[0m\u001b[0;34m\u001b[0m\u001b[0m\n\u001b[1;32m    850\u001b[0m             )\n\u001b[0;32m--> 851\u001b[0;31m         return self._input_request(str(prompt),\n\u001b[0m\u001b[1;32m    852\u001b[0m             \u001b[0mself\u001b[0m\u001b[0;34m.\u001b[0m\u001b[0m_parent_ident\u001b[0m\u001b[0;34m,\u001b[0m\u001b[0;34m\u001b[0m\u001b[0;34m\u001b[0m\u001b[0m\n\u001b[1;32m    853\u001b[0m             \u001b[0mself\u001b[0m\u001b[0;34m.\u001b[0m\u001b[0m_parent_header\u001b[0m\u001b[0;34m,\u001b[0m\u001b[0;34m\u001b[0m\u001b[0;34m\u001b[0m\u001b[0m\n",
            "\u001b[0;32m/usr/local/lib/python3.10/dist-packages/ipykernel/kernelbase.py\u001b[0m in \u001b[0;36m_input_request\u001b[0;34m(self, prompt, ident, parent, password)\u001b[0m\n\u001b[1;32m    893\u001b[0m             \u001b[0;32mexcept\u001b[0m \u001b[0mKeyboardInterrupt\u001b[0m\u001b[0;34m:\u001b[0m\u001b[0;34m\u001b[0m\u001b[0;34m\u001b[0m\u001b[0m\n\u001b[1;32m    894\u001b[0m                 \u001b[0;31m# re-raise KeyboardInterrupt, to truncate traceback\u001b[0m\u001b[0;34m\u001b[0m\u001b[0;34m\u001b[0m\u001b[0m\n\u001b[0;32m--> 895\u001b[0;31m                 \u001b[0;32mraise\u001b[0m \u001b[0mKeyboardInterrupt\u001b[0m\u001b[0;34m(\u001b[0m\u001b[0;34m\"Interrupted by user\"\u001b[0m\u001b[0;34m)\u001b[0m \u001b[0;32mfrom\u001b[0m \u001b[0;32mNone\u001b[0m\u001b[0;34m\u001b[0m\u001b[0;34m\u001b[0m\u001b[0m\n\u001b[0m\u001b[1;32m    896\u001b[0m             \u001b[0;32mexcept\u001b[0m \u001b[0mException\u001b[0m \u001b[0;32mas\u001b[0m \u001b[0me\u001b[0m\u001b[0;34m:\u001b[0m\u001b[0;34m\u001b[0m\u001b[0;34m\u001b[0m\u001b[0m\n\u001b[1;32m    897\u001b[0m                 \u001b[0mself\u001b[0m\u001b[0;34m.\u001b[0m\u001b[0mlog\u001b[0m\u001b[0;34m.\u001b[0m\u001b[0mwarning\u001b[0m\u001b[0;34m(\u001b[0m\u001b[0;34m\"Invalid Message:\"\u001b[0m\u001b[0;34m,\u001b[0m \u001b[0mexc_info\u001b[0m\u001b[0;34m=\u001b[0m\u001b[0;32mTrue\u001b[0m\u001b[0;34m)\u001b[0m\u001b[0;34m\u001b[0m\u001b[0;34m\u001b[0m\u001b[0m\n",
            "\u001b[0;31mKeyboardInterrupt\u001b[0m: Interrupted by user"
          ]
        }
      ]
    },
    {
      "cell_type": "code",
      "source": [],
      "metadata": {
        "id": "V9FTG_YzHN5D"
      },
      "execution_count": null,
      "outputs": []
    }
  ]
}