{
  "nbformat": 4,
  "nbformat_minor": 0,
  "metadata": {
    "colab": {
      "provenance": [],
      "authorship_tag": "ABX9TyPWYoMBKfbqqCm0sJCs7xuP",
      "include_colab_link": true
    },
    "kernelspec": {
      "name": "python3",
      "display_name": "Python 3"
    },
    "language_info": {
      "name": "python"
    }
  },
  "cells": [
    {
      "cell_type": "markdown",
      "metadata": {
        "id": "view-in-github",
        "colab_type": "text"
      },
      "source": [
        "<a href=\"https://colab.research.google.com/github/armandossrecife/lp20231/blob/main/Basico_POO_Python.ipynb\" target=\"_parent\"><img src=\"https://colab.research.google.com/assets/colab-badge.svg\" alt=\"Open In Colab\"/></a>"
      ]
    },
    {
      "cell_type": "markdown",
      "source": [
        "# POO básico em Python\n",
        "\n",
        "Paradigma que trabalha baseado em objetos. Os objetos podem conter dados e operações.\n",
        "\n",
        "Um objeto pode conter propriedades (atributos) ou operações (métodos)\n",
        "\n",
        "https://docs.python.org/3/tutorial/classes.html"
      ],
      "metadata": {
        "id": "UrPgOiFF_z2A"
      }
    },
    {
      "cell_type": "markdown",
      "source": [
        "## Conceitos Básicos de POO\n",
        "\n",
        "Programação Orientada a Objetos (POO) é um paradigma de programação que se baseia na organização do código em objetos que interagem entre si.\n",
        "\n",
        "Em POO, objetos são instâncias de classes, que são estruturas que definem propriedades e comportamentos dos objetos.\n",
        "\n",
        "As classes são utilizadas para criar objetos do mesmo tipo, com atributos e métodos em comum.\n",
        "\n",
        "Atributos são características ou propriedades dos objetos, enquanto métodos são as ações que os objetos podem realizar.\n",
        "\n",
        "POO oferece uma abordagem mais modular, reutilizável e escalável para o desenvolvimento de software."
      ],
      "metadata": {
        "id": "LnwVtYFq_32k"
      }
    },
    {
      "cell_type": "markdown",
      "source": [
        "### Classes em Python\n",
        "\n",
        "Declaração de classe\n",
        "\n",
        "Construtor\n",
        "\n",
        "Atributos de instância e atributos de classe\n",
        "\n",
        "Métodos de uma classe"
      ],
      "metadata": {
        "id": "YzJTgTaNFj3g"
      }
    },
    {
      "cell_type": "markdown",
      "source": [
        "Criando uma classe\n",
        "\n",
        "Definindo uma classe com um construtor init inicializando abributos\n",
        "\n",
        "Obs: Neste caso, ao instanciar uma classe é preciso informar os valores dos atributos\n",
        "\n",
        "O parâmetro **self** é uma referência à instância atual da classe e é usado para acessar variáveis que pertencem à classe."
      ],
      "metadata": {
        "id": "d44S2fPB3DKe"
      }
    },
    {
      "cell_type": "code",
      "source": [
        "class Pessoa:\n",
        "  # metodo que define as propriedades de pessoa\n",
        "  def __init__(self, cpf, nome, data_nascimento):\n",
        "        self.cpf = cpf\n",
        "        self.nome = nome\n",
        "        self.data_nascimento = data_nascimento\n",
        "\n",
        "# Instancia pessoa1 a partir da classe Pessoa, passando os dados de Maria\n",
        "pessoa1 = Pessoa('12345678911', 'Maria', '01/01/2000')\n",
        "\n",
        "# Instancia pessoa2 a partir da classe Pessoa, passando os dados de Ana\n",
        "pessoa2 = Pessoa('12345678912', 'Ana', '01/01/2010')"
      ],
      "metadata": {
        "id": "f9HYvt4k3E1K"
      },
      "execution_count": null,
      "outputs": []
    },
    {
      "cell_type": "markdown",
      "source": [
        "Criando uma classe de forma simplificada\n",
        "\n",
        "Definindo atributos de uma classe\n",
        "\n",
        "Obs: os atributos de uma classe, por padrão, devem ser inicializados."
      ],
      "metadata": {
        "id": "_HeLmgwV31Rr"
      }
    },
    {
      "cell_type": "code",
      "source": [
        "# A classe Pessoa tambem pode ser criada da forma simplificada abaixo:\n",
        "# mas as propriedades precisam ser inicializadas\n",
        "class Pessoa:\n",
        "  cpf=''\n",
        "  nome=''\n",
        "  nascimento=''\n",
        "\n",
        "# Instancia pessoa1 a partir da classe Pessoa, passando os dados de Maria\n",
        "pessoa1 = Pessoa()\n",
        "pessoa1.cpf = '12345678911'\n",
        "pessoa1.nome = 'Maria'\n",
        "pessoa1.data_nascimento = '01/01/2000'"
      ],
      "metadata": {
        "id": "IA4s12Dk33iH"
      },
      "execution_count": null,
      "outputs": []
    },
    {
      "cell_type": "markdown",
      "source": [
        "A forma mais correta e usar o metodo **__init__()** e criar metodos para acessar as propriedades"
      ],
      "metadata": {
        "id": "61hQH_j63qQe"
      }
    },
    {
      "cell_type": "code",
      "source": [
        "class Pessoa:\n",
        "    def __init__(self, cpf, nome, data_nascimento):\n",
        "        self.cpf = cpf\n",
        "        self.nome = nome\n",
        "        self.data_nascimento = data_nascimento\n",
        "\n",
        "    def calcular_idade(self):\n",
        "        # Lógica para calcular a idade com base na data de nascimento\n",
        "        # Retorna a idade da pessoa\n",
        "        pass\n",
        "\n",
        "    def validar_cpf(self):\n",
        "        # Lógica para validar o CPF\n",
        "        # Retorna True se o CPF é válido, False caso contrário\n",
        "        pass"
      ],
      "metadata": {
        "id": "hcLxEEye_29r"
      },
      "execution_count": null,
      "outputs": []
    },
    {
      "cell_type": "markdown",
      "source": [
        "Criando a classe Aluno"
      ],
      "metadata": {
        "id": "bbc6fxsA4bB7"
      }
    },
    {
      "cell_type": "code",
      "source": [
        "class Aluno:\n",
        "  def __init__(self, matricula, nome, notas):\n",
        "    self.matricula = matricula\n",
        "    self.nome = nome\n",
        "    self.notas = notas\n",
        "\n",
        "  def calcula_media(self):\n",
        "    soma_notas = sum(self.notas)\n",
        "    qtd_notas = len(self.notas)\n",
        "    media = soma_notas/qtd_notas\n",
        "    return media"
      ],
      "metadata": {
        "id": "0X0C5Taq4cLV"
      },
      "execution_count": null,
      "outputs": []
    },
    {
      "cell_type": "code",
      "source": [
        "# Cria uma lista para armazenar alunos\n",
        "lista_alunos = []\n",
        "\n",
        "# Instancia o aluno1\n",
        "aluno1 = Aluno('123456', 'Carla', [10,9,8.5])\n",
        "# Instancia o aluno2\n",
        "aluno2 = Aluno('3333456', 'Francisco', [9,7.5,6.5])\n",
        "# Instancia o aluno3\n",
        "aluno3 = Aluno('33356444', 'José', [9,9,9])\n",
        "\n",
        "# insere os 3 alunos na lista de alunos\n",
        "lista_alunos.append(aluno1)\n",
        "lista_alunos.append(aluno2)\n",
        "lista_alunos.append(aluno3)\n",
        "\n",
        "# Mostra os dados de todos os alunos salvos na lista\n",
        "for elemento in lista_alunos:\n",
        "  print(f'Matrícula: {elemento.matricula}, Nome: {elemento.nome}, Notas: {elemento.notas}, Média: {elemento.calcula_media()}')\n"
      ],
      "metadata": {
        "id": "qwIVSxId4hp2",
        "outputId": "6faa2b84-ef8e-4132-add3-f78ee1845cf6",
        "colab": {
          "base_uri": "https://localhost:8080/"
        }
      },
      "execution_count": null,
      "outputs": [
        {
          "output_type": "stream",
          "name": "stdout",
          "text": [
            "Matrícula: 123456, Nome: Carla, Notas: [10, 9, 8.5], Média: 9.166666666666666\n",
            "Matrícula: 3333456, Nome: Francisco, Notas: [9, 7.5, 6.5], Média: 7.666666666666667\n",
            "Matrícula: 33356444, Nome: José, Notas: [9, 9, 9], Média: 9.0\n"
          ]
        }
      ]
    },
    {
      "cell_type": "markdown",
      "source": [
        "Método especial __str__\n",
        "\n",
        "Obs: Mostra os dados definidos no método ao imprimir(exibir) a referência do objeto\n",
        "\n",
        "O método __str__ no python representa os objetos de classe como uma string - ele pode ser usado para classes."
      ],
      "metadata": {
        "id": "QgeoobLB4qUs"
      }
    },
    {
      "cell_type": "code",
      "source": [
        "class Aluno:\n",
        "  def __init__(self, matricula, nome, notas):\n",
        "    self.matricula = matricula\n",
        "    self.nome = nome\n",
        "    self.notas = notas\n",
        "\n",
        "  def calcula_media(self):\n",
        "    soma_notas = sum(self.notas)\n",
        "    qtd_notas = len(self.notas)\n",
        "    media = soma_notas/qtd_notas\n",
        "    return media\n",
        "\n",
        "  def __str__(self):\n",
        "    return '(' + self.matricula + ',' + self.nome + ')'"
      ],
      "metadata": {
        "id": "I0mEjG634o6R"
      },
      "execution_count": null,
      "outputs": []
    },
    {
      "cell_type": "code",
      "source": [
        "# Instancia o aluno1\n",
        "aluno1 = Aluno('123456', 'Carla', [10,9,8.5])\n",
        "\n",
        "print(aluno1)"
      ],
      "metadata": {
        "id": "_Z-SUcL34wYA",
        "outputId": "c1f0d0ab-2268-4bb6-ad46-4ee5c06a44eb",
        "colab": {
          "base_uri": "https://localhost:8080/"
        }
      },
      "execution_count": null,
      "outputs": [
        {
          "output_type": "stream",
          "name": "stdout",
          "text": [
            "(123456,Carla)\n"
          ]
        }
      ]
    },
    {
      "cell_type": "markdown",
      "source": [
        "Exemplo completo de uma classe Pessoa"
      ],
      "metadata": {
        "id": "ucfx7RxyDvoS"
      }
    },
    {
      "cell_type": "code",
      "source": [
        "import datetime\n",
        "import re\n",
        "\n",
        "class Pessoa:\n",
        "    def __init__(self, cpf, nome, data_nascimento):\n",
        "        self.cpf = cpf\n",
        "        self.nome = nome\n",
        "        self.data_nascimento = data_nascimento\n",
        "\n",
        "    '''\n",
        "    ^ e $ indicam o início e o fim da string, respectivamente.\n",
        "    (0[1-9]|1[0-9]|2[0-9]|3[0-1]) representa o dia da data de nascimento, permitindo valores de 01 a 31.\n",
        "    (0[1-9]|1[0-2]) representa o mês da data de nascimento, permitindo valores de 01 a 12.\n",
        "    (19|20)\\d{2} representa o ano da data de nascimento, permitindo valores de 1900 a 2099.\n",
        "    '''\n",
        "    def validar_data_nascimento(self):\n",
        "      pattern = r\"^(0[1-9]|1[0-9]|2[0-9]|3[0-1])/(0[1-9]|1[0-2])/(19|20)\\d{2}$\"\n",
        "      if re.match(pattern, self.data_nascimento):\n",
        "          return True\n",
        "      else:\n",
        "          return False\n",
        "\n",
        "    def calcular_idade(self):\n",
        "        hoje = datetime.datetime.now()\n",
        "        ano_corrente = hoje.year\n",
        "        if self.validar_data_nascimento():\n",
        "          data_temp = self.data_nascimento.split(\"/\")\n",
        "          ano_nascimento = int(data_temp[2])\n",
        "          idade = ano_corrente - ano_nascimento\n",
        "          return idade\n",
        "\n",
        "    '''\n",
        "    ^ e $ indicam o início e o fim da string, respectivamente.\n",
        "    \\d{11} representa exatamente 11 dígitos numéricos.\n",
        "    '''\n",
        "    def validar_cpf(self):\n",
        "      pattern = r\"^\\d{11}$\"\n",
        "      if re.match(pattern, self.cpf):\n",
        "        return True\n",
        "      else:\n",
        "        return False"
      ],
      "metadata": {
        "id": "FTxJ8QD4AFXe"
      },
      "execution_count": null,
      "outputs": []
    },
    {
      "cell_type": "code",
      "source": [
        "pessoa1 = Pessoa(\"12345678900\",\"João\", \"01/01/1990\")\n",
        "print(f\"CPF: {pessoa1.cpf}\")\n",
        "print(f\"Nome: {pessoa1.nome}\")  # Saída: João\n",
        "print(f\"Idade: {pessoa1.calcular_idade()}\")  # Chama o método calcular_idade da classe Pessoa"
      ],
      "metadata": {
        "colab": {
          "base_uri": "https://localhost:8080/"
        },
        "id": "-e5bJMiTD39K",
        "outputId": "ba95bc2a-fe2d-40fe-a64b-46a610d1baeb"
      },
      "execution_count": null,
      "outputs": [
        {
          "output_type": "stream",
          "name": "stdout",
          "text": [
            "CPF: 12345678900\n",
            "Nome: João\n",
            "Idade: 33\n"
          ]
        }
      ]
    },
    {
      "cell_type": "markdown",
      "source": [
        "### Herança em Python\n",
        "\n",
        "Conceito de herança\n",
        "\n",
        "Criação de classes filhas (subclasses)\n",
        "\n",
        "Sobrescrita de métodos"
      ],
      "metadata": {
        "id": "tQj9FVDPEM65"
      }
    },
    {
      "cell_type": "code",
      "source": [
        "class Usuario(Pessoa):\n",
        "    def __init__(self, cpf, nome, data_nascimento, email, nome_usuario, senha):\n",
        "        super().__init__(cpf, nome, data_nascimento)\n",
        "        self.email = email\n",
        "        self.nome_usuario = nome_usuario\n",
        "        self.senha = senha"
      ],
      "metadata": {
        "id": "w5C_BYf1EAn_"
      },
      "execution_count": null,
      "outputs": []
    },
    {
      "cell_type": "code",
      "source": [
        "usuario1 = Usuario(pessoa1.cpf, pessoa1.nome,pessoa1.data_nascimento, 'joao@gmail.com', 'joao', '123456')\n",
        "\n",
        "print(f'Criado o usuario1!')\n",
        "print(f\"Dados do usuario1: {usuario1.nome_usuario}, {usuario1.data_nascimento}, {usuario1.cpf}, {usuario1.email}, {usuario1.nome_usuario}, {usuario1.senha}\")\n",
        "print(f\"Idade do usuario1: {usuario1.calcular_idade()}\")"
      ],
      "metadata": {
        "colab": {
          "base_uri": "https://localhost:8080/"
        },
        "id": "37M1om8hEWdy",
        "outputId": "fc21865c-a7a6-4ffe-d884-fb7331c4423b"
      },
      "execution_count": null,
      "outputs": [
        {
          "output_type": "stream",
          "name": "stdout",
          "text": [
            "Criado o usuario1!\n",
            "Dados do usuario1: joao, 01/01/1990, 12345678900, joao@gmail.com, joao, 123456\n",
            "Idade do usuario1: 33\n"
          ]
        }
      ]
    },
    {
      "cell_type": "markdown",
      "source": [
        "## Aplicando POO em programas estruturados"
      ],
      "metadata": {
        "id": "2y8mZyp8FxS1"
      }
    },
    {
      "cell_type": "code",
      "source": [
        "class ManipulaArquivoTexto:\n",
        "  # contrutor da classe\n",
        "  def __init__(self, nome_arquivo):\n",
        "    self.nome_arquivo = nome_arquivo\n",
        "\n",
        "  def insere_conteudo_no_arquivo(self, pessoa):\n",
        "    registro = pessoa.cpf + ';' + pessoa.nome + ';' + pessoa.data_nascimento\n",
        "    with open(self.nome_arquivo, 'a') as file_temp:\n",
        "      conteudo = registro + \"\\n\"\n",
        "      file_temp.write(conteudo)\n",
        "\n",
        "  def ler_conteudo_do_arquivo(self):\n",
        "    # testa se o arquivo existe\n",
        "    teste_arquivo = os.path.exists(self.nome_arquivo)\n",
        "    if teste_arquivo:\n",
        "      with open(self.nome_arquivo, mode='r') as file_temp:\n",
        "        conteudo_arquivo = file_temp.read()\n",
        "        print(conteudo_arquivo)\n",
        "    else:\n",
        "      print(f'O arquivo {self.nome_arquivo} ainda não existe!')"
      ],
      "metadata": {
        "id": "08I2yqO5JTjz"
      },
      "execution_count": null,
      "outputs": []
    },
    {
      "cell_type": "code",
      "source": [
        "class MyAgenda:\n",
        "  def __init__(self, ManipulaArquivosTexto):\n",
        "    self.ManipulaArquivosTexto = ManipulaArquivosTexto\n",
        "\n",
        "  def ler_dados_pessoa(self):\n",
        "    cpf = input(\"Qual o cpf \")\n",
        "    nome = input(\"Qual o nome? \")\n",
        "    data_nascimento = input(\"Qual a data de nascimento? \")\n",
        "    pessoa_temp = Pessoa(cpf, data_nascimento, nome)\n",
        "    return pessoa_temp\n",
        "\n",
        "  def menu(self):\n",
        "    print(\"1. Insere pessoa\")\n",
        "    print(\"2. Listar conteúdo do arquivo\")\n",
        "    print(\"3. SAIR\")\n",
        "\n",
        "  def executa_agenda(self):\n",
        "    while True:\n",
        "      self.menu()\n",
        "      opcao = input(\"Qual a sua opção? \")\n",
        "      if opcao == '1':\n",
        "        pessoa_temp = self.ler_dados_pessoa()\n",
        "        self.ManipulaArquivosTexto.insere_conteudo_no_arquivo(pessoa=pessoa_temp)\n",
        "      elif opcao == '2':\n",
        "        self.ManipulaArquivosTexto.ler_conteudo_do_arquivo()\n",
        "      elif opcao == '3':\n",
        "        break\n",
        "      else:\n",
        "        print(\"Opção inválida!\")"
      ],
      "metadata": {
        "id": "vdzGEf3RKmKD"
      },
      "execution_count": null,
      "outputs": []
    },
    {
      "cell_type": "code",
      "source": [
        "import os\n",
        "\n",
        "meu_arquivo_texto = ManipulaArquivoTexto(\"pessoas.txt\")\n",
        "minha_agenda = MyAgenda(meu_arquivo_texto)\n",
        "minha_agenda.executa_agenda()"
      ],
      "metadata": {
        "id": "1_x-j6xMnYgU",
        "colab": {
          "base_uri": "https://localhost:8080/"
        },
        "outputId": "3e37b815-87b3-4e34-c452-0c7cc227dd6f"
      },
      "execution_count": null,
      "outputs": [
        {
          "output_type": "stream",
          "name": "stdout",
          "text": [
            "1. Insere pessoa\n",
            "2. Listar conteúdo do arquivo\n",
            "3. SAIR\n",
            "Qual a sua opção? 2\n",
            "O arquivo pessoas.txt ainda não existe!\n",
            "1. Insere pessoa\n",
            "2. Listar conteúdo do arquivo\n",
            "3. SAIR\n",
            "Qual a sua opção? 1\n",
            "Qual o cpf 12345678911\n",
            "Qual o nome? Maria\n",
            "Qual a data de nascimento? 01/01/2000\n",
            "1. Insere pessoa\n",
            "2. Listar conteúdo do arquivo\n",
            "3. SAIR\n",
            "Qual a sua opção? 2\n",
            "12345678911;01/01/2000;Maria\n",
            "\n",
            "1. Insere pessoa\n",
            "2. Listar conteúdo do arquivo\n",
            "3. SAIR\n"
          ]
        }
      ]
    },
    {
      "cell_type": "code",
      "source": [],
      "metadata": {
        "id": "V9FTG_YzHN5D"
      },
      "execution_count": null,
      "outputs": []
    }
  ]
}