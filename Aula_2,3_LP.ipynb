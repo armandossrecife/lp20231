{
  "nbformat": 4,
  "nbformat_minor": 0,
  "metadata": {
    "colab": {
      "provenance": [],
      "collapsed_sections": [
        "XQ0Ah0R9ndzB"
      ],
      "authorship_tag": "ABX9TyMCx+G2xEqEyShOT6TJJDn+",
      "include_colab_link": true
    },
    "kernelspec": {
      "name": "python3",
      "display_name": "Python 3"
    },
    "language_info": {
      "name": "python"
    }
  },
  "cells": [
    {
      "cell_type": "markdown",
      "metadata": {
        "id": "view-in-github",
        "colab_type": "text"
      },
      "source": [
        "<a href=\"https://colab.research.google.com/github/armandossrecife/lp20231/blob/main/Aula_2%2C3_LP.ipynb\" target=\"_parent\"><img src=\"https://colab.research.google.com/assets/colab-badge.svg\" alt=\"Open In Colab\"/></a>"
      ]
    },
    {
      "cell_type": "markdown",
      "source": [
        "# Uso de variáveis"
      ],
      "metadata": {
        "id": "pVfkcH-Ck9LT"
      }
    },
    {
      "cell_type": "code",
      "source": [
        "# Principais tipos de variaveis\n",
        "\n",
        "# str\n",
        "nome_usuario = \"armando\"\n",
        "\n",
        "# int\n",
        "qtd_acessos = 10\n",
        "\n",
        "# float\n",
        "altura_usuario = 1.7\n",
        "\n",
        "# bool\n",
        "logado = True"
      ],
      "metadata": {
        "id": "_XULQcHNk_Vz"
      },
      "execution_count": null,
      "outputs": []
    },
    {
      "cell_type": "markdown",
      "source": [
        "# Operadores"
      ],
      "metadata": {
        "id": "kG4SQwCMiGo4"
      }
    },
    {
      "cell_type": "markdown",
      "source": [
        "arithmetic operators (+, -, *, /)\n",
        "\n",
        "comparison operators (>, <, ==, !=)\n",
        "\n",
        "logical operators (and, or, not)."
      ],
      "metadata": {
        "id": "S3oxNDtyiJqb"
      }
    },
    {
      "cell_type": "markdown",
      "source": [
        "# Estrutura de seleção (if)"
      ],
      "metadata": {
        "id": "X6mPLF8hlVeo"
      }
    },
    {
      "cell_type": "code",
      "source": [
        "# bloco1\n",
        "print(\"Bem vindo ao sistema de testes\")\n",
        "print(\"Este será nosso ambiente de testes para exercitar a linguagem Python\")\n",
        "if logado:\n",
        "  # bloco2\n",
        "  print(\"--- Usuário logado ---\")\n",
        "  print(f\"O usuário {nome_usuario} teve {qtd_acessos} acesssos\")\n",
        "  print(\"-----------------------------------\")\n",
        "else:\n",
        "  # bloco3 \n",
        "  print(\"Nenhum usuário logado!\")\n",
        "  print(\"---\")\n",
        "# bloco4\n",
        "print(\"É necessário treinar todos os dias para se acostumar com o ambiente e a linguagem.\")\n",
        "print(\"Treinar, treinar e treinar...\")"
      ],
      "metadata": {
        "colab": {
          "base_uri": "https://localhost:8080/"
        },
        "id": "GKspB6TtlHPW",
        "outputId": "4b1babbf-6cdc-49e1-8dc0-7e6ac482c9e1"
      },
      "execution_count": null,
      "outputs": [
        {
          "output_type": "stream",
          "name": "stdout",
          "text": [
            "Bem vindo ao sistema de testes\n",
            "Este será nosso ambiente de testes para exercitar a linguagem Python\n",
            "--- Usuário logado ---\n",
            "O usuário armando teve 10 acesssos\n",
            "-----------------------------------\n",
            "É necessário treinar todos os dias para se acostumar com o ambiente e a linguagem.\n",
            "Treinar, treinar e treinar...\n"
          ]
        }
      ]
    },
    {
      "cell_type": "markdown",
      "source": [
        "# Aspectos básicos do tipo String"
      ],
      "metadata": {
        "id": "sTnHHczYmcuq"
      }
    },
    {
      "cell_type": "code",
      "source": [
        "texto = \"Armando Soares Sousa\"\n",
        "print(texto)\n",
        "\n",
        "# Tamanho da string\n",
        "print(f\"Tamanho da string: {len(texto)}\")\n",
        "\n",
        "# Primeiro caractere\n",
        "print(f\"Primeiro caractere: {texto[0]}\")\n",
        "\n",
        "# Ultimo caractere\n",
        "tamanho_texto = len(texto)\n",
        "print(f\"Último caractere do texto: {texto[tamanho_texto-1]}\")\n",
        "\n",
        "# Concatenando strings \n",
        "professor_armando = texto + ' - Professor do Departamento de Computação - UFPI'\n",
        "print(professor_armando)\n",
        "\n",
        "print(professor_armando[7:])\n",
        "\n",
        "print(professor_armando[7:21])\n",
        "\n",
        "# Metodos mais comuns de manipulacao de strings\n",
        "\n",
        "# Upper case\n",
        "print(professor_armando.upper())\n",
        "\n",
        "# Lower case\n",
        "print(professor_armando.lower())\n",
        "\n",
        "# Capitalize \n",
        "print(professor_armando.capitalize())\n",
        "\n",
        "# Find\n",
        "print(professor_armando.find(\"Sousa\"))\n",
        "print(professor_armando[15])\n",
        "\n",
        "print(professor_armando.find(\"Souza\"))\n",
        "\n",
        "print(professor_armando.index(\"Sousa\"))"
      ],
      "metadata": {
        "colab": {
          "base_uri": "https://localhost:8080/"
        },
        "id": "0B2jPKqAl4Lw",
        "outputId": "50420493-318c-42e9-c292-1f701c26194b"
      },
      "execution_count": null,
      "outputs": [
        {
          "output_type": "stream",
          "name": "stdout",
          "text": [
            "Armando Soares Sousa\n",
            "Tamanho da string: 20\n",
            "Primeiro caractere: A\n",
            "Último caractere do texto: a\n",
            "Armando Soares Sousa - Professor do Departamento de Computação - UFPI\n",
            " Soares Sousa - Professor do Departamento de Computação - UFPI\n",
            " Soares Sousa \n",
            "ARMANDO SOARES SOUSA - PROFESSOR DO DEPARTAMENTO DE COMPUTAÇÃO - UFPI\n",
            "armando soares sousa - professor do departamento de computação - ufpi\n",
            "Armando soares sousa - professor do departamento de computação - ufpi\n",
            "15\n",
            "S\n",
            "-1\n",
            "15\n"
          ]
        }
      ]
    },
    {
      "cell_type": "code",
      "source": [
        "meu_texto1 = '''Você também pode definir um texto qualquer \n",
        "que tenha inclusive linhas entre o texto\n",
        "esta é a 3a. linha\n",
        "esta é a 4a. linha'''\n",
        "\n",
        "print(meu_texto1)"
      ],
      "metadata": {
        "colab": {
          "base_uri": "https://localhost:8080/"
        },
        "id": "NgQUyoA1k4xy",
        "outputId": "48e59c4b-27cb-4c88-c09b-3b43fb00ac43"
      },
      "execution_count": 142,
      "outputs": [
        {
          "output_type": "stream",
          "name": "stdout",
          "text": [
            "Você também pode definir um texto qualquer \n",
            "que tenha inclusive linhas entre o texto\n",
            "esta é a 3a. linha\n",
            "esta é a 4a. linha\n"
          ]
        }
      ]
    },
    {
      "cell_type": "markdown",
      "source": [
        "# Entrada padrão (teclado)\n",
        "\n",
        "input(..)"
      ],
      "metadata": {
        "id": "7Kc79V8Kmtyn"
      }
    },
    {
      "cell_type": "code",
      "source": [
        "## Entrada padrao (teclado) input \n",
        "\n",
        "nome_usuario = input(\"Qual o seu usuário? \")\n",
        "print(f\"Bem vindo {nome_usuario} ao sistema!\")\n",
        "\n",
        "ano_nascimento = int(input(\"Qual seu ano de nascimento? \"))\n",
        "print(f\"O usuário {nome_usuario} nasceu em {ano_nascimento}.\")"
      ],
      "metadata": {
        "colab": {
          "base_uri": "https://localhost:8080/"
        },
        "id": "EnaGfmJQml0I",
        "outputId": "316035ed-a4ae-4679-e139-ce7f72ac02b2"
      },
      "execution_count": null,
      "outputs": [
        {
          "output_type": "stream",
          "name": "stdout",
          "text": [
            "Qual o seu usuário? armando.sousa\n",
            "Bem vindo armando.sousa ao sistema!\n",
            "Qual seu ano de nascimento? 1979\n",
            "O usuário armando.sousa nasceu em 1979.\n"
          ]
        }
      ]
    },
    {
      "cell_type": "code",
      "source": [
        "ano_corrente = int(input(\"Qual o ano corrente? \"))\n",
        "\n",
        "idade = ano_corrente - ano_nascimento\n",
        "\n",
        "print(f\"O usuário {nome_usuario} tem {idade} anos.\")"
      ],
      "metadata": {
        "colab": {
          "base_uri": "https://localhost:8080/"
        },
        "id": "2luVmwsFmxyh",
        "outputId": "fd7ca4ae-a3b3-403d-9fec-15a74f1c5765"
      },
      "execution_count": null,
      "outputs": [
        {
          "output_type": "stream",
          "name": "stdout",
          "text": [
            "Qual o ano corrente? 2023\n",
            "O usuário armando.sousa tem 44 anos.\n"
          ]
        }
      ]
    },
    {
      "cell_type": "code",
      "source": [
        "try:\n",
        "  numero = int(input(\"Digite um número: \"))\n",
        "  print(numero)\n",
        "except Exception as ex:\n",
        "  print(f\"Valor inválido! Digite um número inteiro! - Erro: {ex}\")"
      ],
      "metadata": {
        "colab": {
          "base_uri": "https://localhost:8080/"
        },
        "id": "Qt5MtK3RizLC",
        "outputId": "978ecc1f-d54e-46a5-a6c4-3ab5ce58956f"
      },
      "execution_count": 136,
      "outputs": [
        {
          "output_type": "stream",
          "name": "stdout",
          "text": [
            "Digite um número: a\n",
            "Valor inválido! Digite um número inteiro! - Erro: invalid literal for int() with base 10: 'a'\n"
          ]
        }
      ]
    },
    {
      "cell_type": "markdown",
      "source": [
        "# Loops"
      ],
      "metadata": {
        "id": "xA2TRh5AnbdG"
      }
    },
    {
      "cell_type": "markdown",
      "source": [
        "## For"
      ],
      "metadata": {
        "id": "XQ0Ah0R9ndzB"
      }
    },
    {
      "cell_type": "code",
      "source": [
        "# For no python\n",
        "lista_numeros = [1,2,3,4,5]\n",
        "print(lista_numeros)\n",
        "\n",
        "for i in lista_numeros:\n",
        "    print(i)"
      ],
      "metadata": {
        "colab": {
          "base_uri": "https://localhost:8080/"
        },
        "id": "Qk8GGcKvnHeI",
        "outputId": "f228f471-a99e-45d6-aec0-471ac2c2963c"
      },
      "execution_count": null,
      "outputs": [
        {
          "output_type": "stream",
          "name": "stdout",
          "text": [
            "[1, 2, 3, 4, 5]\n",
            "1\n",
            "2\n",
            "3\n",
            "4\n",
            "5\n"
          ]
        }
      ]
    },
    {
      "cell_type": "code",
      "source": [
        "lista_nomes = ['Maria', 'Ana', 'Carla']\n",
        "print(lista_nomes)\n",
        "\n",
        "for elemento in lista_nomes:\n",
        "    print(elemento)"
      ],
      "metadata": {
        "colab": {
          "base_uri": "https://localhost:8080/"
        },
        "id": "IrLo25ZGnk4j",
        "outputId": "2e09621c-ded3-4d13-bfbc-784e532a3346"
      },
      "execution_count": null,
      "outputs": [
        {
          "output_type": "stream",
          "name": "stdout",
          "text": [
            "['Maria', 'Ana', 'Carla']\n",
            "Maria\n",
            "Ana\n",
            "Carla\n"
          ]
        }
      ]
    },
    {
      "cell_type": "code",
      "source": [
        "print(range(5))\n",
        "\n",
        "print(\"A classe range\")\n",
        "for i in range(5):\n",
        "    print(i)"
      ],
      "metadata": {
        "colab": {
          "base_uri": "https://localhost:8080/"
        },
        "id": "-rg0D176no_r",
        "outputId": "bfac28e3-cf6c-4ef5-a941-eb1ea44d3544"
      },
      "execution_count": null,
      "outputs": [
        {
          "output_type": "stream",
          "name": "stdout",
          "text": [
            "range(0, 5)\n",
            "A classe range\n",
            "0\n",
            "1\n",
            "2\n",
            "3\n",
            "4\n"
          ]
        }
      ]
    },
    {
      "cell_type": "code",
      "source": [
        "print(\"O comando break\")\n",
        "for i in range(10):\n",
        "    # sai do for se i for igual a 5\n",
        "    if i == 5:\n",
        "        break\n",
        "    else:\n",
        "        print(i)"
      ],
      "metadata": {
        "colab": {
          "base_uri": "https://localhost:8080/"
        },
        "id": "ksT2Weahnsic",
        "outputId": "7e8974a5-3a43-41bb-a685-8ce8f1a3edc0"
      },
      "execution_count": null,
      "outputs": [
        {
          "output_type": "stream",
          "name": "stdout",
          "text": [
            "O comando break\n",
            "0\n",
            "1\n",
            "2\n",
            "3\n",
            "4\n"
          ]
        }
      ]
    },
    {
      "cell_type": "code",
      "source": [
        "print(\"O comando continue\")\n",
        "for i in range(10):\n",
        "    if i == 5:\n",
        "        # pula a iteracao se i == 5\n",
        "        continue\n",
        "    else:\n",
        "        print(i)"
      ],
      "metadata": {
        "colab": {
          "base_uri": "https://localhost:8080/"
        },
        "id": "o6rQVKVNnvAo",
        "outputId": "689f2386-e7e9-4a5d-cf27-5af63f016441"
      },
      "execution_count": null,
      "outputs": [
        {
          "output_type": "stream",
          "name": "stdout",
          "text": [
            "O comando continue\n",
            "0\n",
            "1\n",
            "2\n",
            "3\n",
            "4\n",
            "6\n",
            "7\n",
            "8\n",
            "9\n"
          ]
        }
      ]
    },
    {
      "cell_type": "code",
      "source": [
        "print(\"Mostra os números pares de 0 até 10\")\n",
        "for i in range(11):\n",
        "    if i%2==0:\n",
        "        print(i)"
      ],
      "metadata": {
        "colab": {
          "base_uri": "https://localhost:8080/"
        },
        "id": "sqA9JaS1nw6n",
        "outputId": "deb5b1d9-2d54-4dbd-9eda-ece7e43e9df2"
      },
      "execution_count": null,
      "outputs": [
        {
          "output_type": "stream",
          "name": "stdout",
          "text": [
            "Mostra os números pares de 0 até 10\n",
            "0\n",
            "2\n",
            "4\n",
            "6\n",
            "8\n",
            "10\n"
          ]
        }
      ]
    },
    {
      "cell_type": "code",
      "source": [
        "print(\"Mostra apenas os números ímpares de 0 a 10\")\n",
        "for i in range(11):\n",
        "    if i%2 != 0:\n",
        "        print(i)"
      ],
      "metadata": {
        "colab": {
          "base_uri": "https://localhost:8080/"
        },
        "id": "0hqWA617nzaO",
        "outputId": "57c31d5e-7b9b-4e98-e386-e97265cd0af3"
      },
      "execution_count": null,
      "outputs": [
        {
          "output_type": "stream",
          "name": "stdout",
          "text": [
            "Mostra apenas os números ímpares de 0 a 10\n",
            "1\n",
            "3\n",
            "5\n",
            "7\n",
            "9\n"
          ]
        }
      ]
    },
    {
      "cell_type": "code",
      "source": [
        "print(\"For aninhado\")\n",
        "for i in range(5):\n",
        "    for j in range(5):\n",
        "        print(f\"i:{i}, j:{j} = {i*j}\")"
      ],
      "metadata": {
        "colab": {
          "base_uri": "https://localhost:8080/"
        },
        "id": "7Po0CvFFn08q",
        "outputId": "19b2b3df-b83a-42ac-b105-27108c78b514"
      },
      "execution_count": null,
      "outputs": [
        {
          "output_type": "stream",
          "name": "stdout",
          "text": [
            "For aninhado\n",
            "i:0, j:0 = 0\n",
            "i:0, j:1 = 0\n",
            "i:0, j:2 = 0\n",
            "i:0, j:3 = 0\n",
            "i:0, j:4 = 0\n",
            "i:1, j:0 = 0\n",
            "i:1, j:1 = 1\n",
            "i:1, j:2 = 2\n",
            "i:1, j:3 = 3\n",
            "i:1, j:4 = 4\n",
            "i:2, j:0 = 0\n",
            "i:2, j:1 = 2\n",
            "i:2, j:2 = 4\n",
            "i:2, j:3 = 6\n",
            "i:2, j:4 = 8\n",
            "i:3, j:0 = 0\n",
            "i:3, j:1 = 3\n",
            "i:3, j:2 = 6\n",
            "i:3, j:3 = 9\n",
            "i:3, j:4 = 12\n",
            "i:4, j:0 = 0\n",
            "i:4, j:1 = 4\n",
            "i:4, j:2 = 8\n",
            "i:4, j:3 = 12\n",
            "i:4, j:4 = 16\n"
          ]
        }
      ]
    },
    {
      "cell_type": "markdown",
      "source": [
        "## While"
      ],
      "metadata": {
        "id": "COtTdprJoPID"
      }
    },
    {
      "cell_type": "code",
      "source": [
        "# While no python\n",
        "print(\"Imprimie de 0 a 9\")\n",
        "contador = 0\n",
        "limite = 10\n",
        "while (contador < limite):\n",
        "    print(contador)\n",
        "    contador = contador + 1"
      ],
      "metadata": {
        "colab": {
          "base_uri": "https://localhost:8080/"
        },
        "id": "fUhClzWEn2Cz",
        "outputId": "b84c9fcd-ef80-40f6-e556-bc8219201493"
      },
      "execution_count": null,
      "outputs": [
        {
          "output_type": "stream",
          "name": "stdout",
          "text": [
            "Imprimie de 0 a 9\n",
            "0\n",
            "1\n",
            "2\n",
            "3\n",
            "4\n",
            "5\n",
            "6\n",
            "7\n",
            "8\n",
            "9\n"
          ]
        }
      ]
    },
    {
      "cell_type": "code",
      "source": [
        "print(\"O comando break no while\")\n",
        "contador = 0\n",
        "limite = 10\n",
        "while (contador < limite):\n",
        "    if contador == 5:\n",
        "        # sai do loop\n",
        "        break\n",
        "    print(contador)\n",
        "    contador = contador + 1"
      ],
      "metadata": {
        "colab": {
          "base_uri": "https://localhost:8080/"
        },
        "id": "2i6fz9ZxoSFL",
        "outputId": "5894e0a2-9305-4c29-df8b-9face6b5006a"
      },
      "execution_count": null,
      "outputs": [
        {
          "output_type": "stream",
          "name": "stdout",
          "text": [
            "O comando break no while\n",
            "0\n",
            "1\n",
            "2\n",
            "3\n",
            "4\n"
          ]
        }
      ]
    },
    {
      "cell_type": "code",
      "source": [
        "print(\"O comando continue no while\")\n",
        "contador = 0\n",
        "limite = 10\n",
        "while(contador < limite):\n",
        "    contador = contador + 1\n",
        "    # Pula a iteracao quando contador == 5\n",
        "    if contador == 5:\n",
        "        continue\n",
        "    print(contador)"
      ],
      "metadata": {
        "colab": {
          "base_uri": "https://localhost:8080/"
        },
        "id": "RDskTCehoUQM",
        "outputId": "13c3f793-1539-4717-c774-68634ff8cd37"
      },
      "execution_count": null,
      "outputs": [
        {
          "output_type": "stream",
          "name": "stdout",
          "text": [
            "O comando continue no while\n",
            "1\n",
            "2\n",
            "3\n",
            "4\n",
            "6\n",
            "7\n",
            "8\n",
            "9\n",
            "10\n"
          ]
        }
      ]
    },
    {
      "cell_type": "code",
      "source": [
        "print(\"Bem vindo ao sistema X\")\n",
        "while (True):\n",
        "  print(\"--- Menu Principal ---\")\n",
        "  print(\"1. Opção A\")\n",
        "  print(\"2. Opção B\")\n",
        "  print(\"3. Opção C\")\n",
        "  print(\"4. SAIR\")\n",
        "  opcao = input(\"Qual a opção? \")\n",
        "  if opcao=='1':\n",
        "    print(\"Você escolheu a opção A!\")\n",
        "  elif opcao=='2':\n",
        "    print(\"Você escolheu a opção B!\")\n",
        "  elif opcao=='3':\n",
        "    print(\"Você escolheu a opção B!\")\n",
        "  elif opcao=='4':\n",
        "    print(\"Você escolheu SAIR\")\n",
        "    break\n",
        "  else:\n",
        "    print(\"Opção inválida!\") \n",
        "print(\"Fim do programa.\")"
      ],
      "metadata": {
        "colab": {
          "base_uri": "https://localhost:8080/"
        },
        "id": "_zzEDl4doVK5",
        "outputId": "acd63459-a63c-4e78-ecee-bcb6733eaddf"
      },
      "execution_count": null,
      "outputs": [
        {
          "output_type": "stream",
          "name": "stdout",
          "text": [
            "Bem vindo ao sistema X\n",
            "--- Menu Principal ---\n",
            "1. Opção A\n",
            "2. Opção B\n",
            "3. Opção C\n",
            "4. SAIR\n",
            "Qual a opção? 4\n",
            "Você escolheu SAIR\n",
            "Fim do programa.\n"
          ]
        }
      ]
    },
    {
      "cell_type": "code",
      "source": [
        "# Só aceita a entrada se o usuário digitar um número inteiro válido\n",
        "numero_valido = False\n",
        "while (not numero_valido):\n",
        "  try:\n",
        "    numero_inteiro = int(input(\"Digite um número inteiro: \"))\n",
        "    print(numero_inteiro)\n",
        "    numero_valido = True\n",
        "  except Exception:\n",
        "    print(\"Digite um número inteiro válido!\")\n",
        "    numero_valido = False"
      ],
      "metadata": {
        "colab": {
          "base_uri": "https://localhost:8080/"
        },
        "id": "SpseSJMyjcIB",
        "outputId": "24753f01-8e66-472d-f0f1-eca3d7b2a976"
      },
      "execution_count": 141,
      "outputs": [
        {
          "output_type": "stream",
          "name": "stdout",
          "text": [
            "Digite um número inteiro: a\n",
            "Digite um número inteiro válido!\n",
            "Digite um número inteiro: v\n",
            "Digite um número inteiro válido!\n",
            "Digite um número inteiro: 2s\n",
            "Digite um número inteiro válido!\n",
            "Digite um número inteiro: 2.5\n",
            "Digite um número inteiro válido!\n",
            "Digite um número inteiro: 10\n",
            "10\n"
          ]
        }
      ]
    },
    {
      "cell_type": "markdown",
      "source": [
        "# Listas"
      ],
      "metadata": {
        "id": "J__VwJvkrud4"
      }
    },
    {
      "cell_type": "code",
      "source": [
        "lista_numeros = [1,2,3, 5, 10, 20]"
      ],
      "metadata": {
        "id": "fV5bNURTpXSf"
      },
      "execution_count": null,
      "outputs": []
    },
    {
      "cell_type": "code",
      "source": [
        "print(lista_numeros)"
      ],
      "metadata": {
        "colab": {
          "base_uri": "https://localhost:8080/"
        },
        "id": "BaooMoCksMDO",
        "outputId": "1d10e21b-f050-4621-b1ac-b63146fe7128"
      },
      "execution_count": null,
      "outputs": [
        {
          "output_type": "stream",
          "name": "stdout",
          "text": [
            "[1, 2, 3, 5, 10, 20]\n"
          ]
        }
      ]
    },
    {
      "cell_type": "code",
      "source": [
        "len(lista_numeros)"
      ],
      "metadata": {
        "colab": {
          "base_uri": "https://localhost:8080/"
        },
        "id": "NR7viLbAsQov",
        "outputId": "63bc91fd-cec8-4a4c-9d6f-c487a2712d7c"
      },
      "execution_count": null,
      "outputs": [
        {
          "output_type": "execute_result",
          "data": {
            "text/plain": [
              "6"
            ]
          },
          "metadata": {},
          "execution_count": 67
        }
      ]
    },
    {
      "cell_type": "code",
      "source": [
        "lista_numeros[0]"
      ],
      "metadata": {
        "colab": {
          "base_uri": "https://localhost:8080/"
        },
        "id": "9stZFf8hsYGJ",
        "outputId": "ed8977db-bc26-4330-f80c-bae69e03d9a8"
      },
      "execution_count": null,
      "outputs": [
        {
          "output_type": "execute_result",
          "data": {
            "text/plain": [
              "1"
            ]
          },
          "metadata": {},
          "execution_count": 68
        }
      ]
    },
    {
      "cell_type": "code",
      "source": [
        "lista_numeros[5]"
      ],
      "metadata": {
        "colab": {
          "base_uri": "https://localhost:8080/"
        },
        "id": "K4Nk9GyNsd9r",
        "outputId": "bb3be2b7-64c9-481a-db59-86d1d3c45a3d"
      },
      "execution_count": null,
      "outputs": [
        {
          "output_type": "execute_result",
          "data": {
            "text/plain": [
              "20"
            ]
          },
          "metadata": {},
          "execution_count": 69
        }
      ]
    },
    {
      "cell_type": "code",
      "source": [
        "lista_numeros[-1]"
      ],
      "metadata": {
        "colab": {
          "base_uri": "https://localhost:8080/"
        },
        "id": "9Pd2_tNJslh5",
        "outputId": "71397cbd-24a2-42df-9e55-f7998a6ce30d"
      },
      "execution_count": null,
      "outputs": [
        {
          "output_type": "execute_result",
          "data": {
            "text/plain": [
              "20"
            ]
          },
          "metadata": {},
          "execution_count": 70
        }
      ]
    },
    {
      "cell_type": "code",
      "source": [
        "lista_numeros[4]"
      ],
      "metadata": {
        "colab": {
          "base_uri": "https://localhost:8080/"
        },
        "id": "37C6hCtwsuSW",
        "outputId": "c5b568cb-6c93-4f74-c153-73b91fd10d12"
      },
      "execution_count": null,
      "outputs": [
        {
          "output_type": "execute_result",
          "data": {
            "text/plain": [
              "10"
            ]
          },
          "metadata": {},
          "execution_count": 71
        }
      ]
    },
    {
      "cell_type": "code",
      "source": [
        "lista_vazia = []"
      ],
      "metadata": {
        "id": "WitrmNSOs_xf"
      },
      "execution_count": null,
      "outputs": []
    },
    {
      "cell_type": "code",
      "source": [
        "lista_vazia = list()"
      ],
      "metadata": {
        "id": "Pv8ou86RtDHE"
      },
      "execution_count": null,
      "outputs": []
    },
    {
      "cell_type": "code",
      "source": [
        "len(lista_vazia)"
      ],
      "metadata": {
        "colab": {
          "base_uri": "https://localhost:8080/"
        },
        "id": "YsNmijBEtFd5",
        "outputId": "555fd3b5-a810-4d0f-d0fd-47f9e16f6d90"
      },
      "execution_count": null,
      "outputs": [
        {
          "output_type": "execute_result",
          "data": {
            "text/plain": [
              "0"
            ]
          },
          "metadata": {},
          "execution_count": 74
        }
      ]
    },
    {
      "cell_type": "code",
      "source": [
        "print(lista_numeros)\n",
        "lista_numeros[2:]"
      ],
      "metadata": {
        "colab": {
          "base_uri": "https://localhost:8080/"
        },
        "id": "ZcKZWIYGtMFg",
        "outputId": "7adc957e-d656-4058-fb84-56460166c32e"
      },
      "execution_count": null,
      "outputs": [
        {
          "output_type": "stream",
          "name": "stdout",
          "text": [
            "[1, 2, 3, 5, 10, 20]\n"
          ]
        },
        {
          "output_type": "execute_result",
          "data": {
            "text/plain": [
              "[3, 5, 10, 20]"
            ]
          },
          "metadata": {},
          "execution_count": 75
        }
      ]
    },
    {
      "cell_type": "code",
      "source": [
        "print(lista_numeros)\n",
        "lista_numeros[2:5]"
      ],
      "metadata": {
        "colab": {
          "base_uri": "https://localhost:8080/"
        },
        "id": "z8A8k2v2teev",
        "outputId": "ec70529c-c9a8-46a8-b62c-78774b1fb24f"
      },
      "execution_count": null,
      "outputs": [
        {
          "output_type": "stream",
          "name": "stdout",
          "text": [
            "[1, 2, 3, 5, 10, 20]\n"
          ]
        },
        {
          "output_type": "execute_result",
          "data": {
            "text/plain": [
              "[3, 5, 10]"
            ]
          },
          "metadata": {},
          "execution_count": 76
        }
      ]
    },
    {
      "cell_type": "code",
      "source": [
        "print(lista_numeros)\n",
        "lista_numeros[2:]"
      ],
      "metadata": {
        "colab": {
          "base_uri": "https://localhost:8080/"
        },
        "id": "8wb9wLYWt062",
        "outputId": "85f4e09a-1b2d-498e-86ca-29cc0fda7364"
      },
      "execution_count": null,
      "outputs": [
        {
          "output_type": "stream",
          "name": "stdout",
          "text": [
            "[1, 2, 3, 5, 10, 20]\n"
          ]
        },
        {
          "output_type": "execute_result",
          "data": {
            "text/plain": [
              "[3, 5, 10, 20]"
            ]
          },
          "metadata": {},
          "execution_count": 77
        }
      ]
    },
    {
      "cell_type": "code",
      "source": [
        "lista_numeros[:4]"
      ],
      "metadata": {
        "colab": {
          "base_uri": "https://localhost:8080/"
        },
        "id": "hgiza67OuI0r",
        "outputId": "2a79d289-f0b7-4387-d77a-b75f3d86f0b2"
      },
      "execution_count": null,
      "outputs": [
        {
          "output_type": "execute_result",
          "data": {
            "text/plain": [
              "[1, 2, 3, 5]"
            ]
          },
          "metadata": {},
          "execution_count": 78
        }
      ]
    },
    {
      "cell_type": "code",
      "source": [
        "lista_numeros[:-1]"
      ],
      "metadata": {
        "colab": {
          "base_uri": "https://localhost:8080/"
        },
        "id": "ElqBRcc-uSim",
        "outputId": "ccd5c2c3-fd9e-4b14-f34f-fa180129baf2"
      },
      "execution_count": null,
      "outputs": [
        {
          "output_type": "execute_result",
          "data": {
            "text/plain": [
              "[1, 2, 3, 5, 10]"
            ]
          },
          "metadata": {},
          "execution_count": 79
        }
      ]
    },
    {
      "cell_type": "code",
      "source": [
        "lista_numeros[1:]"
      ],
      "metadata": {
        "colab": {
          "base_uri": "https://localhost:8080/"
        },
        "id": "V-1F3quluXMv",
        "outputId": "094753b6-4a38-49bd-e6ff-95cd24f18219"
      },
      "execution_count": null,
      "outputs": [
        {
          "output_type": "execute_result",
          "data": {
            "text/plain": [
              "[2, 3, 5, 10, 20]"
            ]
          },
          "metadata": {},
          "execution_count": 80
        }
      ]
    },
    {
      "cell_type": "code",
      "source": [
        "print(f\"Mínimo: {min(lista_numeros)}, Máximo: {max(lista_numeros)}, Soma: {sum(lista_numeros)}\")"
      ],
      "metadata": {
        "colab": {
          "base_uri": "https://localhost:8080/"
        },
        "id": "IXFWmlpBnIlD",
        "outputId": "1ce9083e-748f-4b41-c43c-f5d5eea1d174"
      },
      "execution_count": 143,
      "outputs": [
        {
          "output_type": "stream",
          "name": "stdout",
          "text": [
            "Mínimo: 1, Máximo: 20, Soma: 46\n"
          ]
        }
      ]
    },
    {
      "cell_type": "code",
      "source": [
        "lista_nomes = ['Maria', 'Ana', 'Carla']"
      ],
      "metadata": {
        "id": "uxI3_gkNuhQO"
      },
      "execution_count": null,
      "outputs": []
    },
    {
      "cell_type": "code",
      "source": [
        "print(lista_nomes)"
      ],
      "metadata": {
        "colab": {
          "base_uri": "https://localhost:8080/"
        },
        "id": "Yoin2PWUumPi",
        "outputId": "ee602e88-7261-4764-f98b-74dbfe7e2061"
      },
      "execution_count": null,
      "outputs": [
        {
          "output_type": "stream",
          "name": "stdout",
          "text": [
            "['Maria', 'Ana', 'Carla']\n"
          ]
        }
      ]
    },
    {
      "cell_type": "code",
      "source": [
        "'Ana' in lista_nomes"
      ],
      "metadata": {
        "colab": {
          "base_uri": "https://localhost:8080/"
        },
        "id": "b8vERMQwuq0f",
        "outputId": "d3ec4c6f-cef1-45ad-eb99-139be8ffbf4e"
      },
      "execution_count": null,
      "outputs": [
        {
          "output_type": "execute_result",
          "data": {
            "text/plain": [
              "True"
            ]
          },
          "metadata": {},
          "execution_count": 83
        }
      ]
    },
    {
      "cell_type": "code",
      "source": [
        "'Armando' in lista_nomes"
      ],
      "metadata": {
        "colab": {
          "base_uri": "https://localhost:8080/"
        },
        "id": "AXvxUgESuw78",
        "outputId": "f04c4402-634b-4ed5-d85b-a689c2719447"
      },
      "execution_count": null,
      "outputs": [
        {
          "output_type": "execute_result",
          "data": {
            "text/plain": [
              "False"
            ]
          },
          "metadata": {},
          "execution_count": 84
        }
      ]
    },
    {
      "cell_type": "code",
      "source": [
        "for elemento in lista_nomes:\n",
        "  print(elemento)"
      ],
      "metadata": {
        "colab": {
          "base_uri": "https://localhost:8080/"
        },
        "id": "qJ-zGXcCuzz-",
        "outputId": "89db60a5-4370-4808-86a8-69c1d12f2475"
      },
      "execution_count": null,
      "outputs": [
        {
          "output_type": "stream",
          "name": "stdout",
          "text": [
            "Maria\n",
            "Ana\n",
            "Carla\n"
          ]
        }
      ]
    },
    {
      "cell_type": "code",
      "source": [
        "for elemento in lista_numeros:\n",
        "  print(elemento)"
      ],
      "metadata": {
        "colab": {
          "base_uri": "https://localhost:8080/"
        },
        "id": "Xd4s2gSRu4rc",
        "outputId": "1e2c5482-2d2d-4637-9b99-00bff86bb387"
      },
      "execution_count": null,
      "outputs": [
        {
          "output_type": "stream",
          "name": "stdout",
          "text": [
            "1\n",
            "2\n",
            "3\n",
            "5\n",
            "10\n",
            "20\n"
          ]
        }
      ]
    },
    {
      "cell_type": "code",
      "source": [
        "lista_nomes.append('Armando')\n",
        "print(lista_nomes)"
      ],
      "metadata": {
        "colab": {
          "base_uri": "https://localhost:8080/"
        },
        "id": "J6I8KmlLvCkP",
        "outputId": "77458a9f-9799-4a90-d442-c89f610664d8"
      },
      "execution_count": null,
      "outputs": [
        {
          "output_type": "stream",
          "name": "stdout",
          "text": [
            "['Maria', 'Ana', 'Carla', 'Armando']\n"
          ]
        }
      ]
    },
    {
      "cell_type": "code",
      "source": [
        "lista_nomes.insert(0,'Teste')\n",
        "print(lista_nomes)"
      ],
      "metadata": {
        "colab": {
          "base_uri": "https://localhost:8080/"
        },
        "id": "G5tpx6pfvJC6",
        "outputId": "1987e030-e6e1-4ad5-8d99-025b0d622018"
      },
      "execution_count": null,
      "outputs": [
        {
          "output_type": "stream",
          "name": "stdout",
          "text": [
            "['Teste', 'Maria', 'Ana', 'Carla', 'Armando']\n"
          ]
        }
      ]
    },
    {
      "cell_type": "code",
      "source": [
        "lista_nomes.remove('Teste')\n",
        "print(lista_nomes)"
      ],
      "metadata": {
        "colab": {
          "base_uri": "https://localhost:8080/"
        },
        "id": "QxgSNSTnvZ7e",
        "outputId": "66b05cf1-8db7-4f2b-d93c-82a4cb72ff7c"
      },
      "execution_count": null,
      "outputs": [
        {
          "output_type": "stream",
          "name": "stdout",
          "text": [
            "['Maria', 'Ana', 'Carla', 'Armando']\n"
          ]
        }
      ]
    },
    {
      "cell_type": "code",
      "source": [
        "lista_nomes.remove('Armando')\n",
        "print(lista_nomes)"
      ],
      "metadata": {
        "colab": {
          "base_uri": "https://localhost:8080/"
        },
        "id": "Lx3u3VGdvhSR",
        "outputId": "bf6303e6-7071-470c-d2f1-42f62f0069b5"
      },
      "execution_count": null,
      "outputs": [
        {
          "output_type": "stream",
          "name": "stdout",
          "text": [
            "['Maria', 'Ana', 'Carla']\n"
          ]
        }
      ]
    },
    {
      "cell_type": "code",
      "source": [
        "lista_nomes.remove('Francisco')"
      ],
      "metadata": {
        "colab": {
          "base_uri": "https://localhost:8080/",
          "height": 166
        },
        "id": "BB3NEBfEvqGF",
        "outputId": "b1f1edac-28dc-45ad-a49b-da9decfa759e"
      },
      "execution_count": null,
      "outputs": [
        {
          "output_type": "error",
          "ename": "ValueError",
          "evalue": "ignored",
          "traceback": [
            "\u001b[0;31m---------------------------------------------------------------------------\u001b[0m",
            "\u001b[0;31mValueError\u001b[0m                                Traceback (most recent call last)",
            "\u001b[0;32m<ipython-input-91-0683e3856a6e>\u001b[0m in \u001b[0;36m<cell line: 1>\u001b[0;34m()\u001b[0m\n\u001b[0;32m----> 1\u001b[0;31m \u001b[0mlista_nomes\u001b[0m\u001b[0;34m.\u001b[0m\u001b[0mremove\u001b[0m\u001b[0;34m(\u001b[0m\u001b[0;34m'Francisco'\u001b[0m\u001b[0;34m)\u001b[0m\u001b[0;34m\u001b[0m\u001b[0;34m\u001b[0m\u001b[0m\n\u001b[0m",
            "\u001b[0;31mValueError\u001b[0m: list.remove(x): x not in list"
          ]
        }
      ]
    },
    {
      "cell_type": "code",
      "source": [
        "try:\n",
        "  lista_nomes.remove('Francisco')\n",
        "except Exception as ex:\n",
        "  print(f\"Elemento inválido! Erro: {ex}\")"
      ],
      "metadata": {
        "colab": {
          "base_uri": "https://localhost:8080/"
        },
        "id": "wCX2NOuuvxIT",
        "outputId": "4a6dcf93-6d82-4423-c5c0-1c881cc99982"
      },
      "execution_count": null,
      "outputs": [
        {
          "output_type": "stream",
          "name": "stdout",
          "text": [
            "Elemento inválido! Erro: list.remove(x): x not in list\n"
          ]
        }
      ]
    },
    {
      "cell_type": "code",
      "source": [
        "print(lista_nomes)\n",
        "lista_nomes.pop(2)\n",
        "print(lista_nomes)"
      ],
      "metadata": {
        "colab": {
          "base_uri": "https://localhost:8080/"
        },
        "id": "w2BUygB5wOF3",
        "outputId": "0d2717aa-c9d7-41a5-df8c-934b02ae5dc4"
      },
      "execution_count": null,
      "outputs": [
        {
          "output_type": "stream",
          "name": "stdout",
          "text": [
            "['Maria', 'Ana', 'Carla']\n",
            "['Maria', 'Ana']\n"
          ]
        }
      ]
    },
    {
      "cell_type": "code",
      "source": [
        "print(lista_nomes)\n",
        "del lista_nomes[3]\n",
        "print(lista_nomes)"
      ],
      "metadata": {
        "colab": {
          "base_uri": "https://localhost:8080/",
          "height": 218
        },
        "id": "l5E2UeQ3wcJh",
        "outputId": "f96efa4c-079f-4d6a-f965-212c5678969f"
      },
      "execution_count": null,
      "outputs": [
        {
          "output_type": "stream",
          "name": "stdout",
          "text": [
            "['Maria', 'Ana']\n"
          ]
        },
        {
          "output_type": "error",
          "ename": "IndexError",
          "evalue": "ignored",
          "traceback": [
            "\u001b[0;31m---------------------------------------------------------------------------\u001b[0m",
            "\u001b[0;31mIndexError\u001b[0m                                Traceback (most recent call last)",
            "\u001b[0;32m<ipython-input-94-0a0cbec53796>\u001b[0m in \u001b[0;36m<cell line: 2>\u001b[0;34m()\u001b[0m\n\u001b[1;32m      1\u001b[0m \u001b[0mprint\u001b[0m\u001b[0;34m(\u001b[0m\u001b[0mlista_nomes\u001b[0m\u001b[0;34m)\u001b[0m\u001b[0;34m\u001b[0m\u001b[0;34m\u001b[0m\u001b[0m\n\u001b[0;32m----> 2\u001b[0;31m \u001b[0;32mdel\u001b[0m \u001b[0mlista_nomes\u001b[0m\u001b[0;34m[\u001b[0m\u001b[0;36m3\u001b[0m\u001b[0;34m]\u001b[0m\u001b[0;34m\u001b[0m\u001b[0;34m\u001b[0m\u001b[0m\n\u001b[0m\u001b[1;32m      3\u001b[0m \u001b[0mprint\u001b[0m\u001b[0;34m(\u001b[0m\u001b[0mlista_nomes\u001b[0m\u001b[0;34m)\u001b[0m\u001b[0;34m\u001b[0m\u001b[0;34m\u001b[0m\u001b[0m\n",
            "\u001b[0;31mIndexError\u001b[0m: list assignment index out of range"
          ]
        }
      ]
    },
    {
      "cell_type": "code",
      "source": [
        "len(lista_nomes)"
      ],
      "metadata": {
        "id": "6-T3ArGJw2BK",
        "colab": {
          "base_uri": "https://localhost:8080/"
        },
        "outputId": "46d12982-b67c-4ba0-9242-f633ca6dfc3b"
      },
      "execution_count": 95,
      "outputs": [
        {
          "output_type": "execute_result",
          "data": {
            "text/plain": [
              "2"
            ]
          },
          "metadata": {},
          "execution_count": 95
        }
      ]
    },
    {
      "cell_type": "code",
      "source": [
        "for nome in lista_nomes:\n",
        "  print(nome)"
      ],
      "metadata": {
        "id": "IpAWc9pAxALv",
        "colab": {
          "base_uri": "https://localhost:8080/"
        },
        "outputId": "7133d022-a642-4e4d-9700-4a40310aceca"
      },
      "execution_count": 96,
      "outputs": [
        {
          "output_type": "stream",
          "name": "stdout",
          "text": [
            "Maria\n",
            "Ana\n"
          ]
        }
      ]
    },
    {
      "cell_type": "code",
      "source": [
        "for i in range(len(lista_nomes)):\n",
        "  print(f\"índice: {i}, valor: {lista_nomes[i]}\")"
      ],
      "metadata": {
        "id": "I9fAGi6Hw4q9",
        "colab": {
          "base_uri": "https://localhost:8080/"
        },
        "outputId": "17b93876-171c-44fa-9d67-c65eda15d933"
      },
      "execution_count": 97,
      "outputs": [
        {
          "output_type": "stream",
          "name": "stdout",
          "text": [
            "índice: 0, valor: Maria\n",
            "índice: 1, valor: Ana\n"
          ]
        }
      ]
    },
    {
      "cell_type": "code",
      "source": [
        "lista_nomes.sort()\n",
        "print(lista_nomes)"
      ],
      "metadata": {
        "id": "CqgACsOKxSe6",
        "colab": {
          "base_uri": "https://localhost:8080/"
        },
        "outputId": "c4bb2ca8-d6aa-428d-ffab-9597737d90d5"
      },
      "execution_count": 98,
      "outputs": [
        {
          "output_type": "stream",
          "name": "stdout",
          "text": [
            "['Ana', 'Maria']\n"
          ]
        }
      ]
    },
    {
      "cell_type": "code",
      "source": [
        "print(lista_nomes)"
      ],
      "metadata": {
        "id": "ams3mQ8Oxkqm",
        "colab": {
          "base_uri": "https://localhost:8080/"
        },
        "outputId": "a6e036ce-8f98-4eec-b667-dfbd05cf0ff8"
      },
      "execution_count": 99,
      "outputs": [
        {
          "output_type": "stream",
          "name": "stdout",
          "text": [
            "['Ana', 'Maria']\n"
          ]
        }
      ]
    },
    {
      "cell_type": "code",
      "source": [
        "lista_nomes_ordenado = lista_nomes.copy()\n",
        "lista_nomes_ordenado.sort()\n",
        "print(lista_nomes_ordenado)"
      ],
      "metadata": {
        "id": "XgVgMNSlxpW0",
        "colab": {
          "base_uri": "https://localhost:8080/"
        },
        "outputId": "755112e2-671e-445d-ea0f-bbc14161896d"
      },
      "execution_count": 100,
      "outputs": [
        {
          "output_type": "stream",
          "name": "stdout",
          "text": [
            "['Ana', 'Maria']\n"
          ]
        }
      ]
    },
    {
      "cell_type": "code",
      "source": [
        "nova_lista_nomes = lista_nomes_ordenado + lista_nomes\n",
        "print(nova_lista_nomes)"
      ],
      "metadata": {
        "id": "cPuQ38q9yRCe",
        "colab": {
          "base_uri": "https://localhost:8080/"
        },
        "outputId": "d8d8ff2c-c7ed-420f-c761-7de65ceb2f0f"
      },
      "execution_count": 101,
      "outputs": [
        {
          "output_type": "stream",
          "name": "stdout",
          "text": [
            "['Ana', 'Maria', 'Ana', 'Maria']\n"
          ]
        }
      ]
    },
    {
      "cell_type": "code",
      "source": [
        "print(lista_numeros)"
      ],
      "metadata": {
        "id": "dUFDRORAzmEk",
        "colab": {
          "base_uri": "https://localhost:8080/"
        },
        "outputId": "59d56de8-5390-4e70-ebf3-2b2bac99ebea"
      },
      "execution_count": 102,
      "outputs": [
        {
          "output_type": "stream",
          "name": "stdout",
          "text": [
            "[1, 2, 3, 5, 10, 20]\n"
          ]
        }
      ]
    },
    {
      "cell_type": "code",
      "source": [
        "lista_numeros.append(5)\n",
        "print(lista_numeros)"
      ],
      "metadata": {
        "id": "44h-TT8vzpjC",
        "colab": {
          "base_uri": "https://localhost:8080/"
        },
        "outputId": "a76229b3-a825-461f-ba55-8f1149a94081"
      },
      "execution_count": 103,
      "outputs": [
        {
          "output_type": "stream",
          "name": "stdout",
          "text": [
            "[1, 2, 3, 5, 10, 20, 5]\n"
          ]
        }
      ]
    },
    {
      "cell_type": "code",
      "source": [
        "lista_numeros.count(5)"
      ],
      "metadata": {
        "id": "U76orNgFztrR",
        "colab": {
          "base_uri": "https://localhost:8080/"
        },
        "outputId": "acc93dad-985a-4050-c8de-410ae1f37bd3"
      },
      "execution_count": 104,
      "outputs": [
        {
          "output_type": "execute_result",
          "data": {
            "text/plain": [
              "2"
            ]
          },
          "metadata": {},
          "execution_count": 104
        }
      ]
    },
    {
      "cell_type": "code",
      "source": [
        "lista_numeros.count(7)"
      ],
      "metadata": {
        "id": "rRO--mUIz1WI",
        "colab": {
          "base_uri": "https://localhost:8080/"
        },
        "outputId": "54152b1b-8cdf-4129-c757-955e78d52a50"
      },
      "execution_count": 105,
      "outputs": [
        {
          "output_type": "execute_result",
          "data": {
            "text/plain": [
              "0"
            ]
          },
          "metadata": {},
          "execution_count": 105
        }
      ]
    },
    {
      "cell_type": "code",
      "source": [
        "lista_numeros.sort()\n",
        "print(lista_numeros)"
      ],
      "metadata": {
        "id": "GwsURLPZz80b",
        "colab": {
          "base_uri": "https://localhost:8080/"
        },
        "outputId": "a42ec30a-886c-4f45-ffe7-90c21a814101"
      },
      "execution_count": 106,
      "outputs": [
        {
          "output_type": "stream",
          "name": "stdout",
          "text": [
            "[1, 2, 3, 5, 5, 10, 20]\n"
          ]
        }
      ]
    },
    {
      "cell_type": "code",
      "source": [
        "lista_numeros.reverse()\n",
        "print(lista_numeros)"
      ],
      "metadata": {
        "id": "uwxR8FI80Aol",
        "colab": {
          "base_uri": "https://localhost:8080/"
        },
        "outputId": "0c3aa251-4872-4839-e1bc-9606b74d2c54"
      },
      "execution_count": 107,
      "outputs": [
        {
          "output_type": "stream",
          "name": "stdout",
          "text": [
            "[20, 10, 5, 5, 3, 2, 1]\n"
          ]
        }
      ]
    },
    {
      "cell_type": "code",
      "source": [
        "lista_alunos = ['Maria', 'Ana', 'Carla']\n",
        "lista_notas = [[10, 8, 9], [8, 7, 9], [7,7,7]]\n",
        "\n",
        "# Associa alunos e notas por índice:\n",
        "print(f\"Aluno: {lista_alunos[0]}, notas: {lista_notas[0]}\")"
      ],
      "metadata": {
        "id": "tphaCfAeUaYZ",
        "colab": {
          "base_uri": "https://localhost:8080/"
        },
        "outputId": "9042920f-b4ab-4afa-948a-1eae34cd2563"
      },
      "execution_count": 108,
      "outputs": [
        {
          "output_type": "stream",
          "name": "stdout",
          "text": [
            "Aluno: Maria, notas: [10, 8, 9]\n"
          ]
        }
      ]
    },
    {
      "cell_type": "code",
      "source": [
        "for i in range(len(lista_alunos)):\n",
        "  print(f\"índice: {i}, aluno: {lista_alunos[i]}, notas: {lista_notas[i]}\")"
      ],
      "metadata": {
        "id": "MFNx9Rh3VFT0",
        "colab": {
          "base_uri": "https://localhost:8080/"
        },
        "outputId": "333917ba-a70f-41ed-961e-7318fa3e7887"
      },
      "execution_count": 109,
      "outputs": [
        {
          "output_type": "stream",
          "name": "stdout",
          "text": [
            "índice: 0, aluno: Maria, notas: [10, 8, 9]\n",
            "índice: 1, aluno: Ana, notas: [8, 7, 9]\n",
            "índice: 2, aluno: Carla, notas: [7, 7, 7]\n"
          ]
        }
      ]
    },
    {
      "cell_type": "code",
      "source": [
        "matriz_2x3 = [[1,2,3], [4,5,6]]\n",
        "print(matriz_2x3)\n",
        "print(f\"Linha: {0}, {matriz_2x3[0]}\")\n",
        "print(f\"coluna 1: {matriz_2x3[0][0]}, coluna 2: {matriz_2x3[0][1]}, coluna 3: {matriz_2x3[0][2]}\")\n",
        "print(f\"Linha: {1}, {matriz_2x3[1]}\")\n",
        "print(f\"coluna 1: {matriz_2x3[1][0]}, coluna 2: {matriz_2x3[1][1]}, coluna 3: {matriz_2x3[1][2]}\")"
      ],
      "metadata": {
        "id": "AL7Vv286VZYC",
        "colab": {
          "base_uri": "https://localhost:8080/"
        },
        "outputId": "225cd083-7b7d-400b-b244-e5da28574b4e"
      },
      "execution_count": 110,
      "outputs": [
        {
          "output_type": "stream",
          "name": "stdout",
          "text": [
            "[[1, 2, 3], [4, 5, 6]]\n",
            "Linha: 0, [1, 2, 3]\n",
            "coluna 1: 1, coluna 2: 2, coluna 3: 3\n",
            "Linha: 1, [4, 5, 6]\n",
            "coluna 1: 4, coluna 2: 5, coluna 3: 6\n"
          ]
        }
      ]
    },
    {
      "cell_type": "markdown",
      "source": [
        "# Tuplas"
      ],
      "metadata": {
        "id": "vxOtCg2Jrvwf"
      }
    },
    {
      "cell_type": "code",
      "source": [
        "frutas = ('apple', 'banana', 'cherry')\n",
        "print(frutas)"
      ],
      "metadata": {
        "id": "NUh4LnP1wbJr",
        "colab": {
          "base_uri": "https://localhost:8080/"
        },
        "outputId": "04857f18-1f1e-444f-cbe3-15a8c606230b"
      },
      "execution_count": 111,
      "outputs": [
        {
          "output_type": "stream",
          "name": "stdout",
          "text": [
            "('apple', 'banana', 'cherry')\n"
          ]
        }
      ]
    },
    {
      "cell_type": "code",
      "source": [
        "frutas[0]"
      ],
      "metadata": {
        "id": "gbhEJLRcrwoZ",
        "colab": {
          "base_uri": "https://localhost:8080/",
          "height": 35
        },
        "outputId": "cfa41ed5-3d4e-40fd-f2a3-f5c3c35f25ae"
      },
      "execution_count": 112,
      "outputs": [
        {
          "output_type": "execute_result",
          "data": {
            "text/plain": [
              "'apple'"
            ],
            "application/vnd.google.colaboratory.intrinsic+json": {
              "type": "string"
            }
          },
          "metadata": {},
          "execution_count": 112
        }
      ]
    },
    {
      "cell_type": "code",
      "source": [
        "frutas[2:]"
      ],
      "metadata": {
        "id": "suO15v4fbOJf",
        "colab": {
          "base_uri": "https://localhost:8080/"
        },
        "outputId": "9b561b2b-76f3-4f8e-d302-b4e00c751540"
      },
      "execution_count": 113,
      "outputs": [
        {
          "output_type": "execute_result",
          "data": {
            "text/plain": [
              "('cherry',)"
            ]
          },
          "metadata": {},
          "execution_count": 113
        }
      ]
    },
    {
      "cell_type": "code",
      "source": [
        "lado = 10\n",
        "altura = 5\n",
        "retangulo = (lado, altura)"
      ],
      "metadata": {
        "id": "t8IT-hVpba2_"
      },
      "execution_count": 114,
      "outputs": []
    },
    {
      "cell_type": "code",
      "source": [
        "a = 10\n",
        "b = 20\n",
        "c = 30\n",
        "triangulo = (a, b, c)"
      ],
      "metadata": {
        "id": "3DvEO944bipB"
      },
      "execution_count": 115,
      "outputs": []
    },
    {
      "cell_type": "code",
      "source": [
        "x, y, z = frutas"
      ],
      "metadata": {
        "id": "9X8ERLwdb-oz"
      },
      "execution_count": 116,
      "outputs": []
    },
    {
      "cell_type": "code",
      "source": [
        "print(x, y, z)"
      ],
      "metadata": {
        "id": "7l06dc8vcA3a",
        "colab": {
          "base_uri": "https://localhost:8080/"
        },
        "outputId": "6923b1f8-ec15-4536-ef3a-e920451f8809"
      },
      "execution_count": 117,
      "outputs": [
        {
          "output_type": "stream",
          "name": "stdout",
          "text": [
            "apple banana cherry\n"
          ]
        }
      ]
    },
    {
      "cell_type": "code",
      "source": [
        "for item in frutas:\n",
        "  print(item)"
      ],
      "metadata": {
        "id": "ZW_WlXmZcPxK",
        "colab": {
          "base_uri": "https://localhost:8080/"
        },
        "outputId": "f9b970f0-e78f-48d5-da29-d7fb97f19950"
      },
      "execution_count": 118,
      "outputs": [
        {
          "output_type": "stream",
          "name": "stdout",
          "text": [
            "apple\n",
            "banana\n",
            "cherry\n"
          ]
        }
      ]
    },
    {
      "cell_type": "code",
      "source": [
        "for i in range(len(frutas)):\n",
        "  print(i, frutas[i])"
      ],
      "metadata": {
        "id": "0MXbTiu5comk",
        "colab": {
          "base_uri": "https://localhost:8080/"
        },
        "outputId": "39175c3d-8cd7-4015-e6ad-0f3107a0986d"
      },
      "execution_count": 119,
      "outputs": [
        {
          "output_type": "stream",
          "name": "stdout",
          "text": [
            "0 apple\n",
            "1 banana\n",
            "2 cherry\n"
          ]
        }
      ]
    },
    {
      "cell_type": "code",
      "source": [
        "frutas_do_nordeste = ('bacuri', 'acerola', 'melancia')\n",
        "print(frutas_do_nordeste)"
      ],
      "metadata": {
        "id": "pfb8RuZvcyA2",
        "colab": {
          "base_uri": "https://localhost:8080/"
        },
        "outputId": "1dd70dda-7ba9-4eb1-ff53-ec5ac13650c6"
      },
      "execution_count": 120,
      "outputs": [
        {
          "output_type": "stream",
          "name": "stdout",
          "text": [
            "('bacuri', 'acerola', 'melancia')\n"
          ]
        }
      ]
    },
    {
      "cell_type": "code",
      "source": [
        "minhas_frutas = frutas + frutas_do_nordeste\n",
        "print(minhas_frutas)"
      ],
      "metadata": {
        "id": "4XOtoR3Tc9u2",
        "colab": {
          "base_uri": "https://localhost:8080/"
        },
        "outputId": "d5a0d134-0d3f-4811-f858-4331af405818"
      },
      "execution_count": 121,
      "outputs": [
        {
          "output_type": "stream",
          "name": "stdout",
          "text": [
            "('apple', 'banana', 'cherry', 'bacuri', 'acerola', 'melancia')\n"
          ]
        }
      ]
    },
    {
      "cell_type": "markdown",
      "source": [
        "# Conjuntos"
      ],
      "metadata": {
        "id": "nbbs737orxyu"
      }
    },
    {
      "cell_type": "code",
      "source": [
        "cores = {'azul', 'amarelo', 'verde', 'vermelho'}\n",
        "print(cores)"
      ],
      "metadata": {
        "id": "58x93vnsbZqL",
        "colab": {
          "base_uri": "https://localhost:8080/"
        },
        "outputId": "a09eb04d-8582-4c80-cf3e-b1bcd7f45ec0"
      },
      "execution_count": 122,
      "outputs": [
        {
          "output_type": "stream",
          "name": "stdout",
          "text": [
            "{'amarelo', 'vermelho', 'azul', 'verde'}\n"
          ]
        }
      ]
    },
    {
      "cell_type": "code",
      "source": [
        "for item in cores:\n",
        "  print(item)"
      ],
      "metadata": {
        "id": "96zcL8v1rzsi",
        "colab": {
          "base_uri": "https://localhost:8080/"
        },
        "outputId": "fe38c4e4-eb17-49b8-b66b-c85ad46a637f"
      },
      "execution_count": 123,
      "outputs": [
        {
          "output_type": "stream",
          "name": "stdout",
          "text": [
            "amarelo\n",
            "vermelho\n",
            "azul\n",
            "verde\n"
          ]
        }
      ]
    },
    {
      "cell_type": "code",
      "source": [
        "'rosa' in cores"
      ],
      "metadata": {
        "id": "G8uMBULhdl8M",
        "colab": {
          "base_uri": "https://localhost:8080/"
        },
        "outputId": "87e4ccf7-3ba0-45a6-f07d-8760c6eea544"
      },
      "execution_count": 124,
      "outputs": [
        {
          "output_type": "execute_result",
          "data": {
            "text/plain": [
              "False"
            ]
          },
          "metadata": {},
          "execution_count": 124
        }
      ]
    },
    {
      "cell_type": "code",
      "source": [
        "minhas_cores = {'azul', 'rosa', 'laranja', 'verde'}\n",
        "print(minhas_cores)"
      ],
      "metadata": {
        "id": "JKw6_XMUdpBZ",
        "colab": {
          "base_uri": "https://localhost:8080/"
        },
        "outputId": "0ab7546a-cc04-44a6-924b-61df394fad59"
      },
      "execution_count": 125,
      "outputs": [
        {
          "output_type": "stream",
          "name": "stdout",
          "text": [
            "{'rosa', 'azul', 'laranja', 'verde'}\n"
          ]
        }
      ]
    },
    {
      "cell_type": "code",
      "source": [
        "minhas_cores.add('preto')\n",
        "print(minhas_cores)"
      ],
      "metadata": {
        "id": "XMSzckiddw_y",
        "colab": {
          "base_uri": "https://localhost:8080/"
        },
        "outputId": "23ddebf9-7771-44b0-8f10-22f0bd5f3c21"
      },
      "execution_count": 126,
      "outputs": [
        {
          "output_type": "stream",
          "name": "stdout",
          "text": [
            "{'preto', 'verde', 'laranja', 'rosa', 'azul'}\n"
          ]
        }
      ]
    },
    {
      "cell_type": "code",
      "source": [
        "minhas_cores.add('preto')\n",
        "print(minhas_cores)"
      ],
      "metadata": {
        "id": "EG9qYbZXd3Zb",
        "colab": {
          "base_uri": "https://localhost:8080/"
        },
        "outputId": "56b919ae-5eaf-4bdc-cce4-f9cad1a9fdfe"
      },
      "execution_count": 127,
      "outputs": [
        {
          "output_type": "stream",
          "name": "stdout",
          "text": [
            "{'preto', 'verde', 'laranja', 'rosa', 'azul'}\n"
          ]
        }
      ]
    },
    {
      "cell_type": "code",
      "source": [
        "nossas_cores = cores.union(minhas_cores)"
      ],
      "metadata": {
        "id": "dPFIKuCkd-S_"
      },
      "execution_count": 128,
      "outputs": []
    },
    {
      "cell_type": "code",
      "source": [
        "print(nossas_cores)"
      ],
      "metadata": {
        "id": "wgpoej_4eH9D",
        "colab": {
          "base_uri": "https://localhost:8080/"
        },
        "outputId": "8acf1f0e-49ae-44c7-fe9b-ead53812dbe9"
      },
      "execution_count": 129,
      "outputs": [
        {
          "output_type": "stream",
          "name": "stdout",
          "text": [
            "{'preto', 'verde', 'laranja', 'rosa', 'amarelo', 'vermelho', 'azul'}\n"
          ]
        }
      ]
    },
    {
      "cell_type": "code",
      "source": [
        "dif_cores_minhas_cores = cores.difference(minhas_cores)\n",
        "print(dif_cores_minhas_cores)"
      ],
      "metadata": {
        "id": "7Su_lt7weJdC",
        "colab": {
          "base_uri": "https://localhost:8080/"
        },
        "outputId": "a124dd56-4a9a-4d76-ff2a-03e0c5076da3"
      },
      "execution_count": 130,
      "outputs": [
        {
          "output_type": "stream",
          "name": "stdout",
          "text": [
            "{'amarelo', 'vermelho'}\n"
          ]
        }
      ]
    },
    {
      "cell_type": "code",
      "source": [
        "#@title\n",
        "dif_minhas_cores_cores = minhas_cores.difference(cores)\n",
        "print(dif_minhas_cores_cores)"
      ],
      "metadata": {
        "id": "DGxbFnKheX91",
        "colab": {
          "base_uri": "https://localhost:8080/"
        },
        "cellView": "form",
        "outputId": "869b29ff-41e9-42d4-a396-3668d8ba0fd4"
      },
      "execution_count": 131,
      "outputs": [
        {
          "output_type": "stream",
          "name": "stdout",
          "text": [
            "{'rosa', 'preto', 'laranja'}\n"
          ]
        }
      ]
    }
  ]
}