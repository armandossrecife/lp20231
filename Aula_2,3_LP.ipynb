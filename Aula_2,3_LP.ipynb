{
  "nbformat": 4,
  "nbformat_minor": 0,
  "metadata": {
    "colab": {
      "provenance": [],
      "authorship_tag": "ABX9TyOh/Mfb1qUwjNQUG/t/M8Dx",
      "include_colab_link": true
    },
    "kernelspec": {
      "name": "python3",
      "display_name": "Python 3"
    },
    "language_info": {
      "name": "python"
    }
  },
  "cells": [
    {
      "cell_type": "markdown",
      "metadata": {
        "id": "view-in-github",
        "colab_type": "text"
      },
      "source": [
        "<a href=\"https://colab.research.google.com/github/armandossrecife/lp20231/blob/main/Aula_2%2C3_LP.ipynb\" target=\"_parent\"><img src=\"https://colab.research.google.com/assets/colab-badge.svg\" alt=\"Open In Colab\"/></a>"
      ]
    },
    {
      "cell_type": "markdown",
      "source": [
        "# Uso de variáveis"
      ],
      "metadata": {
        "id": "pVfkcH-Ck9LT"
      }
    },
    {
      "cell_type": "code",
      "source": [
        "verdade = True"
      ],
      "metadata": {
        "id": "olQ7k14Tz1Mt"
      },
      "execution_count": 281,
      "outputs": []
    },
    {
      "cell_type": "code",
      "source": [
        "mentira = False"
      ],
      "metadata": {
        "id": "qJj3MnE0z3yb"
      },
      "execution_count": 282,
      "outputs": []
    },
    {
      "cell_type": "code",
      "source": [
        "meu_texto =  \"\""
      ],
      "metadata": {
        "id": "AxfdsDJLzY-x"
      },
      "execution_count": 283,
      "outputs": []
    },
    {
      "cell_type": "code",
      "source": [
        "type(meu_texto)"
      ],
      "metadata": {
        "colab": {
          "base_uri": "https://localhost:8080/"
        },
        "id": "t5wDR7-czoMP",
        "outputId": "ec23c7e1-159a-4082-cf25-d93fa77cac4d"
      },
      "execution_count": 284,
      "outputs": [
        {
          "output_type": "execute_result",
          "data": {
            "text/plain": [
              "str"
            ]
          },
          "metadata": {},
          "execution_count": 284
        }
      ]
    },
    {
      "cell_type": "code",
      "source": [
        "meu_numerot_inteiro = 0"
      ],
      "metadata": {
        "id": "vATuKOC7zdBB"
      },
      "execution_count": 285,
      "outputs": []
    },
    {
      "cell_type": "code",
      "source": [
        "minha_altura = 0"
      ],
      "metadata": {
        "id": "lrxPVY2uzh00"
      },
      "execution_count": 286,
      "outputs": []
    },
    {
      "cell_type": "code",
      "source": [
        "# Principais tipos de variaveis\n",
        "\n",
        "# str\n",
        "nome_usuario = \"armando\"\n",
        "\n",
        "# int\n",
        "qtd_acessos = 10\n",
        "\n",
        "# float\n",
        "altura_usuario = 1.7\n",
        "\n",
        "# bool\n",
        "logado = True"
      ],
      "metadata": {
        "id": "_XULQcHNk_Vz"
      },
      "execution_count": 287,
      "outputs": []
    },
    {
      "cell_type": "markdown",
      "source": [
        "# Operadores"
      ],
      "metadata": {
        "id": "kG4SQwCMiGo4"
      }
    },
    {
      "cell_type": "code",
      "source": [
        "3 % 2"
      ],
      "metadata": {
        "colab": {
          "base_uri": "https://localhost:8080/"
        },
        "id": "JUNCD3mF0VvQ",
        "outputId": "9ca55312-40b4-4efe-adaa-0fb2bd89b06c"
      },
      "execution_count": 288,
      "outputs": [
        {
          "output_type": "execute_result",
          "data": {
            "text/plain": [
              "1"
            ]
          },
          "metadata": {},
          "execution_count": 288
        }
      ]
    },
    {
      "cell_type": "markdown",
      "source": [
        "arithmetic operators (+, -, *, /)\n",
        "\n",
        "comparison operators (>, <, ==, !=)\n",
        "\n",
        "logical operators (and, or, not)."
      ],
      "metadata": {
        "id": "S3oxNDtyiJqb"
      }
    },
    {
      "cell_type": "markdown",
      "source": [
        "# Estrutura de seleção (if)"
      ],
      "metadata": {
        "id": "X6mPLF8hlVeo"
      }
    },
    {
      "cell_type": "code",
      "source": [
        "# bloco1\n",
        "print(\"Bem vindo ao sistema de testes\")\n",
        "print(\"Este será nosso ambiente de testes para exercitar a linguagem Python\")\n",
        "\n",
        "if logado:\n",
        "  # bloco2\n",
        "  print(\"--- Usuário logado ---\")\n",
        "  print(f\"O usuário {nome_usuario} teve {qtd_acessos} acesssos\")\n",
        "  print(\"-----------------------------------\")\n",
        "else:\n",
        "  # bloco3 \n",
        "  print(\"Nenhum usuário logado!\")\n",
        "  print(\"---\")\n",
        "# bloco4\n",
        "print(\"É necessário treinar todos os dias para se acostumar com o ambiente e a linguagem.\")\n",
        "print(\"Treinar, treinar e treinar...\")"
      ],
      "metadata": {
        "colab": {
          "base_uri": "https://localhost:8080/"
        },
        "id": "X4bJ2LvQ0wRf",
        "outputId": "d0150178-502e-4fe6-f8da-48ba917a8112"
      },
      "execution_count": 289,
      "outputs": [
        {
          "output_type": "stream",
          "name": "stdout",
          "text": [
            "Bem vindo ao sistema de testes\n",
            "Este será nosso ambiente de testes para exercitar a linguagem Python\n",
            "--- Usuário logado ---\n",
            "O usuário armando teve 10 acesssos\n",
            "-----------------------------------\n",
            "É necessário treinar todos os dias para se acostumar com o ambiente e a linguagem.\n",
            "Treinar, treinar e treinar...\n"
          ]
        }
      ]
    },
    {
      "cell_type": "markdown",
      "source": [
        "# Aspectos básicos do tipo String"
      ],
      "metadata": {
        "id": "sTnHHczYmcuq"
      }
    },
    {
      "cell_type": "code",
      "source": [
        "texto = 'Ciência da Computação'\n",
        "\n",
        "primeiro_caractere = texto[0]\n",
        "\n",
        "print(f\"Primeiro caractere: {primeiro_caractere}\")\n",
        "print(f\"Tamanho do texto: {len(texto)}\")\n",
        "print(f\"último caractere: {texto[20]}\")"
      ],
      "metadata": {
        "colab": {
          "base_uri": "https://localhost:8080/"
        },
        "id": "fNyzLcNd3HRZ",
        "outputId": "da63023c-f2a9-427e-8355-63c51b8a2b00"
      },
      "execution_count": 290,
      "outputs": [
        {
          "output_type": "stream",
          "name": "stdout",
          "text": [
            "Primeiro caractere: C\n",
            "Tamanho do texto: 21\n",
            "último caractere: o\n"
          ]
        }
      ]
    },
    {
      "cell_type": "code",
      "source": [
        "print(texto)\n",
        "\n",
        "centro = 'Ciência da Natureza'\n",
        "\n",
        "descricao_curso = texto + \" - \" + centro\n",
        "print(descricao_curso)"
      ],
      "metadata": {
        "colab": {
          "base_uri": "https://localhost:8080/"
        },
        "id": "YR_jlfYZ5KdW",
        "outputId": "cb53fc22-4038-4244-ad40-6e88084046a9"
      },
      "execution_count": 291,
      "outputs": [
        {
          "output_type": "stream",
          "name": "stdout",
          "text": [
            "Ciência da Computação\n",
            "Ciência da Computação - Ciência da Natureza\n"
          ]
        }
      ]
    },
    {
      "cell_type": "code",
      "source": [
        "print(descricao_curso[10:])"
      ],
      "metadata": {
        "colab": {
          "base_uri": "https://localhost:8080/"
        },
        "id": "7Rv1elvl5pyT",
        "outputId": "b0d41e50-d6f2-47d2-8438-3bf941144837"
      },
      "execution_count": 292,
      "outputs": [
        {
          "output_type": "stream",
          "name": "stdout",
          "text": [
            " Computação - Ciência da Natureza\n"
          ]
        }
      ]
    },
    {
      "cell_type": "code",
      "source": [
        "print(descricao_curso[-1])"
      ],
      "metadata": {
        "colab": {
          "base_uri": "https://localhost:8080/"
        },
        "id": "4Tag9cfk52Cw",
        "outputId": "5fea97df-7e60-4c09-aad9-16b976a172d2"
      },
      "execution_count": 293,
      "outputs": [
        {
          "output_type": "stream",
          "name": "stdout",
          "text": [
            "a\n"
          ]
        }
      ]
    },
    {
      "cell_type": "code",
      "source": [
        "print(descricao_curso[-2])"
      ],
      "metadata": {
        "colab": {
          "base_uri": "https://localhost:8080/"
        },
        "id": "tWr5kgZK6MxU",
        "outputId": "ce92fc74-6e13-44aa-cf6f-a57b96dbacaf"
      },
      "execution_count": 294,
      "outputs": [
        {
          "output_type": "stream",
          "name": "stdout",
          "text": [
            "z\n"
          ]
        }
      ]
    },
    {
      "cell_type": "code",
      "source": [
        "texto = \"Armando Soares Sousa\"\n",
        "print(texto)\n",
        "\n",
        "# Tamanho da string\n",
        "print(f\"Tamanho da string: {len(texto)}\")\n",
        "\n",
        "# Primeiro caractere\n",
        "print(f\"Primeiro caractere: {texto[0]}\")\n",
        "\n",
        "# Ultimo caractere\n",
        "tamanho_texto = len(texto)\n",
        "print(f\"Último caractere do texto: {texto[tamanho_texto-1]}\")\n",
        "\n",
        "# Concatenando strings \n",
        "professor_armando = texto + ' - Professor do Departamento de Computação - UFPI'\n",
        "print(professor_armando)\n",
        "\n",
        "print(professor_armando[7:])\n",
        "\n",
        "print(professor_armando[7:20])\n",
        "\n",
        "# Metodos mais comuns de manipulacao de strings\n",
        "\n"
      ],
      "metadata": {
        "colab": {
          "base_uri": "https://localhost:8080/"
        },
        "id": "0B2jPKqAl4Lw",
        "outputId": "ee7a809a-d324-48f4-b455-53b4c2700153"
      },
      "execution_count": 295,
      "outputs": [
        {
          "output_type": "stream",
          "name": "stdout",
          "text": [
            "Armando Soares Sousa\n",
            "Tamanho da string: 20\n",
            "Primeiro caractere: A\n",
            "Último caractere do texto: a\n",
            "Armando Soares Sousa - Professor do Departamento de Computação - UFPI\n",
            " Soares Sousa - Professor do Departamento de Computação - UFPI\n",
            " Soares Sousa\n"
          ]
        }
      ]
    },
    {
      "cell_type": "code",
      "source": [
        "# Upper case\n",
        "print(professor_armando.upper())\n",
        "\n",
        "# Lower case\n",
        "print(professor_armando.lower())\n",
        "\n",
        "# Capitalize \n",
        "print(professor_armando.capitalize())"
      ],
      "metadata": {
        "colab": {
          "base_uri": "https://localhost:8080/"
        },
        "id": "pBS9Zjw56gqX",
        "outputId": "6f72450b-107d-4a92-a970-aca8bde3571d"
      },
      "execution_count": 296,
      "outputs": [
        {
          "output_type": "stream",
          "name": "stdout",
          "text": [
            "ARMANDO SOARES SOUSA - PROFESSOR DO DEPARTAMENTO DE COMPUTAÇÃO - UFPI\n",
            "armando soares sousa - professor do departamento de computação - ufpi\n",
            "Armando soares sousa - professor do departamento de computação - ufpi\n"
          ]
        }
      ]
    },
    {
      "cell_type": "code",
      "source": [
        "# Find\n",
        "print(professor_armando.find(\"Sousa\"))"
      ],
      "metadata": {
        "colab": {
          "base_uri": "https://localhost:8080/"
        },
        "id": "_Jv7lPA26_uN",
        "outputId": "28233864-9b1c-4507-98f2-b1a1c7404d5c"
      },
      "execution_count": 297,
      "outputs": [
        {
          "output_type": "stream",
          "name": "stdout",
          "text": [
            "15\n"
          ]
        }
      ]
    },
    {
      "cell_type": "code",
      "source": [
        "# Find\n",
        "print(professor_armando.find(\"Sousa\"))\n",
        "print(professor_armando[15])\n",
        "\n",
        "print(professor_armando.find(\"Souza\"))\n",
        "\n",
        "print(professor_armando.index(\"Sousa\"))"
      ],
      "metadata": {
        "colab": {
          "base_uri": "https://localhost:8080/"
        },
        "id": "tFOzqem463VT",
        "outputId": "0f582dd9-407c-4758-a1db-f6d9b5bd26a9"
      },
      "execution_count": 298,
      "outputs": [
        {
          "output_type": "stream",
          "name": "stdout",
          "text": [
            "15\n",
            "S\n",
            "-1\n",
            "15\n"
          ]
        }
      ]
    },
    {
      "cell_type": "code",
      "source": [
        "meu_texto1 = '''Você também pode definir um texto qualquer \n",
        "que tenha inclusive linhas entre o texto\n",
        "esta é a 3a. linha\n",
        "esta é a 4a. linha'''\n",
        "\n",
        "print(meu_texto1)"
      ],
      "metadata": {
        "colab": {
          "base_uri": "https://localhost:8080/"
        },
        "id": "NgQUyoA1k4xy",
        "outputId": "8225fdf7-7a78-4220-a090-b279ad6bdb98"
      },
      "execution_count": 299,
      "outputs": [
        {
          "output_type": "stream",
          "name": "stdout",
          "text": [
            "Você também pode definir um texto qualquer \n",
            "que tenha inclusive linhas entre o texto\n",
            "esta é a 3a. linha\n",
            "esta é a 4a. linha\n"
          ]
        }
      ]
    },
    {
      "cell_type": "markdown",
      "source": [
        "# Entrada padrão (teclado)\n",
        "\n",
        "input(..)"
      ],
      "metadata": {
        "id": "7Kc79V8Kmtyn"
      }
    },
    {
      "cell_type": "code",
      "source": [
        "nome_usuario = input(\"Qual o seu usuário? \")\n",
        "print(f\"Bem vindo {nome_usuario} ao sistema!\")"
      ],
      "metadata": {
        "colab": {
          "base_uri": "https://localhost:8080/"
        },
        "id": "ydQ99GZ770id",
        "outputId": "17050f0f-f6f9-4c1a-fa69-3c764bb8b9e3"
      },
      "execution_count": 300,
      "outputs": [
        {
          "output_type": "stream",
          "name": "stdout",
          "text": [
            "Qual o seu usuário? armando\n",
            "Bem vindo armando ao sistema!\n"
          ]
        }
      ]
    },
    {
      "cell_type": "code",
      "source": [
        "## Entrada padrao (teclado) input \n",
        "\n",
        "nome_usuario = input(\"Qual o seu usuário? \")\n",
        "print(f\"Bem vindo {nome_usuario} ao sistema!\")\n",
        "\n",
        "ano_nascimento = int(input(\"Qual seu ano de nascimento? \"))\n",
        "print(f\"O usuário {nome_usuario} nasceu em {ano_nascimento}.\")"
      ],
      "metadata": {
        "colab": {
          "base_uri": "https://localhost:8080/"
        },
        "id": "EnaGfmJQml0I",
        "outputId": "04961d35-c9cd-48b3-81aa-526471d622e0"
      },
      "execution_count": 301,
      "outputs": [
        {
          "output_type": "stream",
          "name": "stdout",
          "text": [
            "Qual o seu usuário? armando.sousa\n",
            "Bem vindo armando.sousa ao sistema!\n",
            "Qual seu ano de nascimento? 1979\n",
            "O usuário armando.sousa nasceu em 1979.\n"
          ]
        }
      ]
    },
    {
      "cell_type": "code",
      "source": [
        "type(ano_nascimento)"
      ],
      "metadata": {
        "colab": {
          "base_uri": "https://localhost:8080/"
        },
        "id": "Y09yIEqM8Ppq",
        "outputId": "bbe4def9-78c6-4ed8-c9fb-36f6224de399"
      },
      "execution_count": 302,
      "outputs": [
        {
          "output_type": "execute_result",
          "data": {
            "text/plain": [
              "int"
            ]
          },
          "metadata": {},
          "execution_count": 302
        }
      ]
    },
    {
      "cell_type": "code",
      "source": [
        "ano_corrente = int(input(\"Qual o ano corrente? \"))\n",
        "\n",
        "idade = ano_corrente - ano_nascimento\n",
        "\n",
        "print(f\"O usuário {nome_usuario} tem {idade} anos.\")"
      ],
      "metadata": {
        "colab": {
          "base_uri": "https://localhost:8080/"
        },
        "id": "2luVmwsFmxyh",
        "outputId": "00d3f786-e439-47a3-c588-2669127d6c14"
      },
      "execution_count": 303,
      "outputs": [
        {
          "output_type": "stream",
          "name": "stdout",
          "text": [
            "Qual o ano corrente? 2023\n",
            "O usuário armando.sousa tem 44 anos.\n"
          ]
        }
      ]
    },
    {
      "cell_type": "code",
      "source": [
        "try:\n",
        "  ano_nascimento = int(input(\"Qual o ano de nascimento? \"))\n",
        "  print(ano_nascimento)\n",
        "except Exception:\n",
        "  print(\"Digite um número inteiro válido!\")"
      ],
      "metadata": {
        "colab": {
          "base_uri": "https://localhost:8080/"
        },
        "id": "IlZ0Rrfq8uxM",
        "outputId": "46eb9a66-68b0-456b-9020-5a84a513285e"
      },
      "execution_count": 304,
      "outputs": [
        {
          "output_type": "stream",
          "name": "stdout",
          "text": [
            "Qual o ano de nascimento? 1979\n",
            "1979\n"
          ]
        }
      ]
    },
    {
      "cell_type": "code",
      "source": [
        "try:\n",
        "  numero = int(input(\"Digite um número: \"))\n",
        "  print(numero)\n",
        "except Exception as ex:\n",
        "  print(f\"Valor inválido! Digite um número inteiro! - Erro: {ex}\")"
      ],
      "metadata": {
        "colab": {
          "base_uri": "https://localhost:8080/"
        },
        "id": "Qt5MtK3RizLC",
        "outputId": "ee9eef17-eb67-4091-eff0-8f34ed7235d4"
      },
      "execution_count": 305,
      "outputs": [
        {
          "output_type": "stream",
          "name": "stdout",
          "text": [
            "Digite um número: 10\n",
            "10\n"
          ]
        }
      ]
    },
    {
      "cell_type": "markdown",
      "source": [
        "# Loops"
      ],
      "metadata": {
        "id": "xA2TRh5AnbdG"
      }
    },
    {
      "cell_type": "code",
      "source": [
        "lista_numeros = [2,4,6,8,10,12]\n",
        "print(lista_numeros)"
      ],
      "metadata": {
        "colab": {
          "base_uri": "https://localhost:8080/"
        },
        "id": "ulfcucHh-LWZ",
        "outputId": "e4dcfe0f-f20f-4c8e-fce5-0eecc031be70"
      },
      "execution_count": 306,
      "outputs": [
        {
          "output_type": "stream",
          "name": "stdout",
          "text": [
            "[2, 4, 6, 8, 10, 12]\n"
          ]
        }
      ]
    },
    {
      "cell_type": "code",
      "source": [
        "type(lista_numeros)"
      ],
      "metadata": {
        "colab": {
          "base_uri": "https://localhost:8080/"
        },
        "id": "QuG5ZBQ0-WuK",
        "outputId": "92cc1659-9a6c-40a9-e73e-163ca5e7b14e"
      },
      "execution_count": 307,
      "outputs": [
        {
          "output_type": "execute_result",
          "data": {
            "text/plain": [
              "list"
            ]
          },
          "metadata": {},
          "execution_count": 307
        }
      ]
    },
    {
      "cell_type": "code",
      "source": [
        "for elemento in lista_numeros:\n",
        "  print(elemento)"
      ],
      "metadata": {
        "colab": {
          "base_uri": "https://localhost:8080/"
        },
        "id": "74tOOLa9-hFd",
        "outputId": "c605642d-cd69-4a05-f331-d4dec73f2100"
      },
      "execution_count": 308,
      "outputs": [
        {
          "output_type": "stream",
          "name": "stdout",
          "text": [
            "2\n",
            "4\n",
            "6\n",
            "8\n",
            "10\n",
            "12\n"
          ]
        }
      ]
    },
    {
      "cell_type": "code",
      "source": [
        "len(lista_numeros)"
      ],
      "metadata": {
        "colab": {
          "base_uri": "https://localhost:8080/"
        },
        "id": "QL46SWho_UKm",
        "outputId": "043bce7d-519d-481c-d663-06620779b935"
      },
      "execution_count": 309,
      "outputs": [
        {
          "output_type": "execute_result",
          "data": {
            "text/plain": [
              "6"
            ]
          },
          "metadata": {},
          "execution_count": 309
        }
      ]
    },
    {
      "cell_type": "code",
      "source": [
        "for i in range(len(lista_numeros)):\n",
        "  print(f\"índice: {i}, elemento da lista: {lista_numeros[i]}\")"
      ],
      "metadata": {
        "colab": {
          "base_uri": "https://localhost:8080/"
        },
        "id": "D5ZBw5TX_YlN",
        "outputId": "98652884-9a3c-43a4-ef8e-4d8549e0221d"
      },
      "execution_count": 310,
      "outputs": [
        {
          "output_type": "stream",
          "name": "stdout",
          "text": [
            "índice: 0, elemento da lista: 2\n",
            "índice: 1, elemento da lista: 4\n",
            "índice: 2, elemento da lista: 6\n",
            "índice: 3, elemento da lista: 8\n",
            "índice: 4, elemento da lista: 10\n",
            "índice: 5, elemento da lista: 12\n"
          ]
        }
      ]
    },
    {
      "cell_type": "code",
      "source": [
        "range(10)"
      ],
      "metadata": {
        "colab": {
          "base_uri": "https://localhost:8080/"
        },
        "id": "vBctqM6X-22d",
        "outputId": "3b082d72-b035-4175-8e7a-3734d3e10627"
      },
      "execution_count": 311,
      "outputs": [
        {
          "output_type": "execute_result",
          "data": {
            "text/plain": [
              "range(0, 10)"
            ]
          },
          "metadata": {},
          "execution_count": 311
        }
      ]
    },
    {
      "cell_type": "code",
      "source": [
        "for i in range(5):\n",
        "  print(i)"
      ],
      "metadata": {
        "colab": {
          "base_uri": "https://localhost:8080/"
        },
        "id": "OvvXtWJH_CEy",
        "outputId": "38fe6e06-c146-47f9-bae6-82ccb46f87e3"
      },
      "execution_count": 312,
      "outputs": [
        {
          "output_type": "stream",
          "name": "stdout",
          "text": [
            "0\n",
            "1\n",
            "2\n",
            "3\n",
            "4\n"
          ]
        }
      ]
    },
    {
      "cell_type": "markdown",
      "source": [
        "## For"
      ],
      "metadata": {
        "id": "XQ0Ah0R9ndzB"
      }
    },
    {
      "cell_type": "code",
      "source": [
        "# For no python\n",
        "lista_numeros = [1,2,3,4,5]\n",
        "print(lista_numeros)\n",
        "\n",
        "for i in lista_numeros:\n",
        "    print(i)"
      ],
      "metadata": {
        "colab": {
          "base_uri": "https://localhost:8080/"
        },
        "id": "Qk8GGcKvnHeI",
        "outputId": "47373d50-0411-4a33-eae0-69c201e45770"
      },
      "execution_count": 313,
      "outputs": [
        {
          "output_type": "stream",
          "name": "stdout",
          "text": [
            "[1, 2, 3, 4, 5]\n",
            "1\n",
            "2\n",
            "3\n",
            "4\n",
            "5\n"
          ]
        }
      ]
    },
    {
      "cell_type": "code",
      "source": [
        "lista_nomes = ['Maria', 'Ana', 'Carla']\n",
        "print(lista_nomes)"
      ],
      "metadata": {
        "colab": {
          "base_uri": "https://localhost:8080/"
        },
        "id": "9hnis7WeAN7h",
        "outputId": "4e32a4d3-1379-4af3-878d-d2c85f1dd4ed"
      },
      "execution_count": 314,
      "outputs": [
        {
          "output_type": "stream",
          "name": "stdout",
          "text": [
            "['Maria', 'Ana', 'Carla']\n"
          ]
        }
      ]
    },
    {
      "cell_type": "code",
      "source": [
        "for elemento in lista_nomes:\n",
        "    print(elemento)"
      ],
      "metadata": {
        "colab": {
          "base_uri": "https://localhost:8080/"
        },
        "id": "IrLo25ZGnk4j",
        "outputId": "0f146eec-7bdb-4310-b17a-67f8e4a6729c"
      },
      "execution_count": 315,
      "outputs": [
        {
          "output_type": "stream",
          "name": "stdout",
          "text": [
            "Maria\n",
            "Ana\n",
            "Carla\n"
          ]
        }
      ]
    },
    {
      "cell_type": "code",
      "source": [
        "print(range(5))\n",
        "\n",
        "print(\"A classe range\")\n",
        "for i in range(5):\n",
        "    print(i)"
      ],
      "metadata": {
        "colab": {
          "base_uri": "https://localhost:8080/"
        },
        "id": "-rg0D176no_r",
        "outputId": "be672470-9329-4aa8-805a-8a7668d5b98f"
      },
      "execution_count": 316,
      "outputs": [
        {
          "output_type": "stream",
          "name": "stdout",
          "text": [
            "range(0, 5)\n",
            "A classe range\n",
            "0\n",
            "1\n",
            "2\n",
            "3\n",
            "4\n"
          ]
        }
      ]
    },
    {
      "cell_type": "code",
      "source": [
        "print(\"O comando break\")\n",
        "for i in range(10):\n",
        "  # sai do for se i for igual a 5\n",
        "  if i == 5:\n",
        "    break\n",
        "  else:\n",
        "    print(i)\n",
        "print(\"A execução do programa continua daqui...\")"
      ],
      "metadata": {
        "colab": {
          "base_uri": "https://localhost:8080/"
        },
        "id": "ksT2Weahnsic",
        "outputId": "eda24267-4e0a-4eb5-d78e-94da11b2e2cf"
      },
      "execution_count": 317,
      "outputs": [
        {
          "output_type": "stream",
          "name": "stdout",
          "text": [
            "O comando break\n",
            "0\n",
            "1\n",
            "2\n",
            "3\n",
            "4\n",
            "A execução do programa continua daqui...\n"
          ]
        }
      ]
    },
    {
      "cell_type": "code",
      "source": [
        "print(\"O comando continue\")\n",
        "for i in range(10):\n",
        "    if i == 5:\n",
        "        i = 0\n",
        "        # pula a iteracao se i == 5\n",
        "        continue\n",
        "    else:\n",
        "        print(i)"
      ],
      "metadata": {
        "colab": {
          "base_uri": "https://localhost:8080/"
        },
        "id": "o6rQVKVNnvAo",
        "outputId": "d63cc5af-bb9d-408d-b5c5-3c5bc8b03ca4"
      },
      "execution_count": 318,
      "outputs": [
        {
          "output_type": "stream",
          "name": "stdout",
          "text": [
            "O comando continue\n",
            "0\n",
            "1\n",
            "2\n",
            "3\n",
            "4\n",
            "6\n",
            "7\n",
            "8\n",
            "9\n"
          ]
        }
      ]
    },
    {
      "cell_type": "code",
      "source": [
        "print(\"Mostra os números pares de 0 até 10\")\n",
        "for i in range(11):\n",
        "    if i%2==0:\n",
        "        print(i)"
      ],
      "metadata": {
        "colab": {
          "base_uri": "https://localhost:8080/"
        },
        "id": "sqA9JaS1nw6n",
        "outputId": "90922ea9-9492-4c9d-b67b-c2d150e0af12"
      },
      "execution_count": 319,
      "outputs": [
        {
          "output_type": "stream",
          "name": "stdout",
          "text": [
            "Mostra os números pares de 0 até 10\n",
            "0\n",
            "2\n",
            "4\n",
            "6\n",
            "8\n",
            "10\n"
          ]
        }
      ]
    },
    {
      "cell_type": "code",
      "source": [
        "print(\"Mostra apenas os números ímpares de 0 a 10\")\n",
        "for i in range(11):\n",
        "    if i%2 != 0:\n",
        "        print(i)"
      ],
      "metadata": {
        "colab": {
          "base_uri": "https://localhost:8080/"
        },
        "id": "0hqWA617nzaO",
        "outputId": "973e508f-27ea-499b-b5ed-fb35503d909b"
      },
      "execution_count": 320,
      "outputs": [
        {
          "output_type": "stream",
          "name": "stdout",
          "text": [
            "Mostra apenas os números ímpares de 0 a 10\n",
            "1\n",
            "3\n",
            "5\n",
            "7\n",
            "9\n"
          ]
        }
      ]
    },
    {
      "cell_type": "code",
      "source": [
        "print(\"For aninhado\")\n",
        "for i in range(5):\n",
        "  for j in range(5):\n",
        "    print(f\"i:{i}, j:{j} = {i*j}\")"
      ],
      "metadata": {
        "colab": {
          "base_uri": "https://localhost:8080/"
        },
        "id": "7Po0CvFFn08q",
        "outputId": "1f1a062b-4c4b-4913-dec3-573a056c466b"
      },
      "execution_count": 321,
      "outputs": [
        {
          "output_type": "stream",
          "name": "stdout",
          "text": [
            "For aninhado\n",
            "i:0, j:0 = 0\n",
            "i:0, j:1 = 0\n",
            "i:0, j:2 = 0\n",
            "i:0, j:3 = 0\n",
            "i:0, j:4 = 0\n",
            "i:1, j:0 = 0\n",
            "i:1, j:1 = 1\n",
            "i:1, j:2 = 2\n",
            "i:1, j:3 = 3\n",
            "i:1, j:4 = 4\n",
            "i:2, j:0 = 0\n",
            "i:2, j:1 = 2\n",
            "i:2, j:2 = 4\n",
            "i:2, j:3 = 6\n",
            "i:2, j:4 = 8\n",
            "i:3, j:0 = 0\n",
            "i:3, j:1 = 3\n",
            "i:3, j:2 = 6\n",
            "i:3, j:3 = 9\n",
            "i:3, j:4 = 12\n",
            "i:4, j:0 = 0\n",
            "i:4, j:1 = 4\n",
            "i:4, j:2 = 8\n",
            "i:4, j:3 = 12\n",
            "i:4, j:4 = 16\n"
          ]
        }
      ]
    },
    {
      "cell_type": "markdown",
      "source": [
        "## While"
      ],
      "metadata": {
        "id": "COtTdprJoPID"
      }
    },
    {
      "cell_type": "code",
      "source": [
        "# While no python\n",
        "print(\"Imprimie de 0 a 9\")\n",
        "contador = 0\n",
        "limite = 10\n",
        "while (contador < limite):\n",
        "  print(contador)\n",
        "  contador = contador + 1"
      ],
      "metadata": {
        "colab": {
          "base_uri": "https://localhost:8080/"
        },
        "id": "fUhClzWEn2Cz",
        "outputId": "91be01ae-38e8-4ac6-87da-be6e5436cd03"
      },
      "execution_count": 322,
      "outputs": [
        {
          "output_type": "stream",
          "name": "stdout",
          "text": [
            "Imprimie de 0 a 9\n",
            "0\n",
            "1\n",
            "2\n",
            "3\n",
            "4\n",
            "5\n",
            "6\n",
            "7\n",
            "8\n",
            "9\n"
          ]
        }
      ]
    },
    {
      "cell_type": "code",
      "source": [
        "print(\"O comando break no while\")\n",
        "contador = 0\n",
        "limite = 10\n",
        "while (contador < limite):\n",
        "  if contador == 5:\n",
        "    # sai do loop\n",
        "    break\n",
        "  print(contador)\n",
        "  contador = contador + 1\n",
        "print(\"Continua após o bloco do while...\")"
      ],
      "metadata": {
        "colab": {
          "base_uri": "https://localhost:8080/"
        },
        "id": "2i6fz9ZxoSFL",
        "outputId": "e86ede1c-b96d-4a7c-ec31-208edac4bf35"
      },
      "execution_count": 323,
      "outputs": [
        {
          "output_type": "stream",
          "name": "stdout",
          "text": [
            "O comando break no while\n",
            "0\n",
            "1\n",
            "2\n",
            "3\n",
            "4\n",
            "Continua após o bloco do while...\n"
          ]
        }
      ]
    },
    {
      "cell_type": "code",
      "source": [
        "print(\"O comando continue no while\")\n",
        "contador = 0\n",
        "limite = 10\n",
        "while(contador < limite):\n",
        "    contador = contador + 1\n",
        "    # Pula a iteracao quando contador == 5\n",
        "    if contador == 5 or contador == 7 or contador == 9:\n",
        "        continue\n",
        "    print(contador)"
      ],
      "metadata": {
        "colab": {
          "base_uri": "https://localhost:8080/"
        },
        "id": "RDskTCehoUQM",
        "outputId": "6fe803fa-2bb7-45c2-c3e5-afb509e8a897"
      },
      "execution_count": 324,
      "outputs": [
        {
          "output_type": "stream",
          "name": "stdout",
          "text": [
            "O comando continue no while\n",
            "1\n",
            "2\n",
            "3\n",
            "4\n",
            "6\n",
            "8\n",
            "10\n"
          ]
        }
      ]
    },
    {
      "cell_type": "code",
      "source": [
        "while (True):\n",
        "  print(\"Bem vindo ao sistema X\")\n",
        "  print(\"Menu de Opções\")\n",
        "  print(\"1. Opção A\")\n",
        "  print(\"2. Opção B\")\n",
        "  print(\"3. Opção C\")\n",
        "  print(\"4. SAIR\")\n",
        "  opcao = input(\"Qual a sua opção? \")\n",
        "  if opcao=='1':\n",
        "    print(\"Você escolheu a opção A\")\n",
        "  elif opcao=='2':\n",
        "    print(\"Você escolheu a opção B\")\n",
        "  elif opcao=='3':\n",
        "    print(\"Você escolheu a opção C\")\n",
        "  elif opcao=='4':\n",
        "    break\n",
        "  else:\n",
        "    print(\"Opção inválida!\")"
      ],
      "metadata": {
        "colab": {
          "base_uri": "https://localhost:8080/"
        },
        "id": "SAlWr1UyDVgp",
        "outputId": "c9f84250-52c7-46c3-a5be-6d42a11b450b"
      },
      "execution_count": 329,
      "outputs": [
        {
          "name": "stdout",
          "output_type": "stream",
          "text": [
            "Bem vindo ao sistema X\n",
            "Menu de Opções\n",
            "1. Opção A\n",
            "2. Opção B\n",
            "3. Opção C\n",
            "4. SAIR\n",
            "Qual a sua opção? 4\n"
          ]
        }
      ]
    },
    {
      "cell_type": "code",
      "source": [
        "# Só aceita a entrada se o usuário digitar um número inteiro válido\n",
        "numero_valido = False\n",
        "while (not numero_valido):\n",
        "  try:\n",
        "    numero_inteiro = int(input(\"Digite um número inteiro: \"))\n",
        "    print(numero_inteiro)\n",
        "    numero_valido = True\n",
        "  except Exception:\n",
        "    print(\"Digite um número inteiro válido!\")\n",
        "    numero_valido = False"
      ],
      "metadata": {
        "colab": {
          "base_uri": "https://localhost:8080/"
        },
        "id": "SpseSJMyjcIB",
        "outputId": "c1ec2afc-23d2-4f58-fe8f-9078a07aa4bd"
      },
      "execution_count": 330,
      "outputs": [
        {
          "output_type": "stream",
          "name": "stdout",
          "text": [
            "Digite um número inteiro: 10\n",
            "10\n"
          ]
        }
      ]
    },
    {
      "cell_type": "markdown",
      "source": [
        "# Listas"
      ],
      "metadata": {
        "id": "J__VwJvkrud4"
      }
    },
    {
      "cell_type": "code",
      "source": [
        "lista_numeros = [1,2,3, 5, 10, 20]"
      ],
      "metadata": {
        "id": "fV5bNURTpXSf"
      },
      "execution_count": 331,
      "outputs": []
    },
    {
      "cell_type": "code",
      "source": [
        "print(lista_numeros)"
      ],
      "metadata": {
        "colab": {
          "base_uri": "https://localhost:8080/"
        },
        "id": "BaooMoCksMDO",
        "outputId": "5eb2cc45-eabf-4393-9e8a-2b84249fd8e3"
      },
      "execution_count": 332,
      "outputs": [
        {
          "output_type": "stream",
          "name": "stdout",
          "text": [
            "[1, 2, 3, 5, 10, 20]\n"
          ]
        }
      ]
    },
    {
      "cell_type": "code",
      "source": [
        "len(lista_numeros)"
      ],
      "metadata": {
        "colab": {
          "base_uri": "https://localhost:8080/"
        },
        "id": "NR7viLbAsQov",
        "outputId": "a3d2133a-65c2-4e7c-8393-98e536393a83"
      },
      "execution_count": 333,
      "outputs": [
        {
          "output_type": "execute_result",
          "data": {
            "text/plain": [
              "6"
            ]
          },
          "metadata": {},
          "execution_count": 333
        }
      ]
    },
    {
      "cell_type": "code",
      "source": [
        "lista_numeros[0]"
      ],
      "metadata": {
        "colab": {
          "base_uri": "https://localhost:8080/"
        },
        "id": "9stZFf8hsYGJ",
        "outputId": "ee2e23c0-45cc-488b-ab22-f39ffd4d9a12"
      },
      "execution_count": 334,
      "outputs": [
        {
          "output_type": "execute_result",
          "data": {
            "text/plain": [
              "1"
            ]
          },
          "metadata": {},
          "execution_count": 334
        }
      ]
    },
    {
      "cell_type": "code",
      "source": [
        "lista_numeros[5]"
      ],
      "metadata": {
        "colab": {
          "base_uri": "https://localhost:8080/"
        },
        "id": "K4Nk9GyNsd9r",
        "outputId": "06588d45-3688-4cac-c7a5-1805a9d83ffb"
      },
      "execution_count": 335,
      "outputs": [
        {
          "output_type": "execute_result",
          "data": {
            "text/plain": [
              "20"
            ]
          },
          "metadata": {},
          "execution_count": 335
        }
      ]
    },
    {
      "cell_type": "code",
      "source": [
        "indices = [0,1,2,3,4,5,6,7,8,9]\n",
        "print(indices)"
      ],
      "metadata": {
        "colab": {
          "base_uri": "https://localhost:8080/"
        },
        "id": "LJyj7cQhIzBq",
        "outputId": "f3713628-fcf7-4fe4-a060-9f330853a932"
      },
      "execution_count": 336,
      "outputs": [
        {
          "output_type": "stream",
          "name": "stdout",
          "text": [
            "[0, 1, 2, 3, 4, 5, 6, 7, 8, 9]\n"
          ]
        }
      ]
    },
    {
      "cell_type": "code",
      "source": [
        "indices.reverse()\n",
        "print(indices)"
      ],
      "metadata": {
        "colab": {
          "base_uri": "https://localhost:8080/"
        },
        "id": "8h90raOMI8r6",
        "outputId": "a46a4dd2-d547-488b-cfbc-1d5274653ee4"
      },
      "execution_count": 337,
      "outputs": [
        {
          "output_type": "stream",
          "name": "stdout",
          "text": [
            "[9, 8, 7, 6, 5, 4, 3, 2, 1, 0]\n"
          ]
        }
      ]
    },
    {
      "cell_type": "code",
      "source": [
        "for i in indices:\n",
        "  print(i)"
      ],
      "metadata": {
        "colab": {
          "base_uri": "https://localhost:8080/"
        },
        "id": "ZAJcqvLhJjNU",
        "outputId": "bb7751b1-b18a-4e81-fcbf-04014d7c7cb2"
      },
      "execution_count": 338,
      "outputs": [
        {
          "output_type": "stream",
          "name": "stdout",
          "text": [
            "9\n",
            "8\n",
            "7\n",
            "6\n",
            "5\n",
            "4\n",
            "3\n",
            "2\n",
            "1\n",
            "0\n"
          ]
        }
      ]
    },
    {
      "cell_type": "code",
      "source": [
        "print(lista_numeros)\n",
        "print(f\"{lista_numeros[-1]}, {lista_numeros[-2]}\")"
      ],
      "metadata": {
        "colab": {
          "base_uri": "https://localhost:8080/"
        },
        "id": "9Pd2_tNJslh5",
        "outputId": "75a2a73a-6c8a-4672-cbe7-b74663d81334"
      },
      "execution_count": 339,
      "outputs": [
        {
          "output_type": "stream",
          "name": "stdout",
          "text": [
            "[1, 2, 3, 5, 10, 20]\n",
            "20, 10\n"
          ]
        }
      ]
    },
    {
      "cell_type": "code",
      "source": [
        "lista_numeros[4]"
      ],
      "metadata": {
        "colab": {
          "base_uri": "https://localhost:8080/"
        },
        "id": "37C6hCtwsuSW",
        "outputId": "abc9877a-b576-4819-95f6-ef6e44ad8957"
      },
      "execution_count": 340,
      "outputs": [
        {
          "output_type": "execute_result",
          "data": {
            "text/plain": [
              "10"
            ]
          },
          "metadata": {},
          "execution_count": 340
        }
      ]
    },
    {
      "cell_type": "code",
      "source": [
        "lista_vazia = []\n",
        "print(lista_vazia)"
      ],
      "metadata": {
        "id": "WitrmNSOs_xf",
        "colab": {
          "base_uri": "https://localhost:8080/"
        },
        "outputId": "422b0b52-c488-44ed-b80d-caf818ca25a9"
      },
      "execution_count": 341,
      "outputs": [
        {
          "output_type": "stream",
          "name": "stdout",
          "text": [
            "[]\n"
          ]
        }
      ]
    },
    {
      "cell_type": "code",
      "source": [
        "lista_qualquer_coisa = [1, 'Armando', [1,1,1], (1,1), {1,2}]\n",
        "print(lista_qualquer_coisa)"
      ],
      "metadata": {
        "colab": {
          "base_uri": "https://localhost:8080/"
        },
        "id": "Mcn_ZZtaKTzp",
        "outputId": "b0a0debe-ae8f-487b-e9ca-55d1433edb4c"
      },
      "execution_count": 342,
      "outputs": [
        {
          "output_type": "stream",
          "name": "stdout",
          "text": [
            "[1, 'Armando', [1, 1, 1], (1, 1), {1, 2}]\n"
          ]
        }
      ]
    },
    {
      "cell_type": "code",
      "source": [
        "lista_vazia = list()\n",
        "print(lista_vazia)"
      ],
      "metadata": {
        "id": "Pv8ou86RtDHE",
        "colab": {
          "base_uri": "https://localhost:8080/"
        },
        "outputId": "d001b67e-19c0-4540-c446-1fbd006edb70"
      },
      "execution_count": 343,
      "outputs": [
        {
          "output_type": "stream",
          "name": "stdout",
          "text": [
            "[]\n"
          ]
        }
      ]
    },
    {
      "cell_type": "code",
      "source": [
        "len(lista_vazia)"
      ],
      "metadata": {
        "colab": {
          "base_uri": "https://localhost:8080/"
        },
        "id": "YsNmijBEtFd5",
        "outputId": "6330e349-b66e-42dd-f1cb-7379cbf454ba"
      },
      "execution_count": 344,
      "outputs": [
        {
          "output_type": "execute_result",
          "data": {
            "text/plain": [
              "0"
            ]
          },
          "metadata": {},
          "execution_count": 344
        }
      ]
    },
    {
      "cell_type": "code",
      "source": [
        "lista_nomes = []"
      ],
      "metadata": {
        "id": "KluLXrj9K4GL"
      },
      "execution_count": 345,
      "outputs": []
    },
    {
      "cell_type": "code",
      "source": [
        "lista_nomes.append('Armando')"
      ],
      "metadata": {
        "id": "NHGNWhreK8o0"
      },
      "execution_count": 346,
      "outputs": []
    },
    {
      "cell_type": "code",
      "source": [
        "lista_nomes.append('Maria')"
      ],
      "metadata": {
        "id": "on_SyQeWLBi3"
      },
      "execution_count": 347,
      "outputs": []
    },
    {
      "cell_type": "code",
      "source": [
        "lista_nomes.append('Carla')"
      ],
      "metadata": {
        "id": "VYxFjFAwLDx5"
      },
      "execution_count": 348,
      "outputs": []
    },
    {
      "cell_type": "code",
      "source": [
        "print(lista_nomes)"
      ],
      "metadata": {
        "colab": {
          "base_uri": "https://localhost:8080/"
        },
        "id": "-bT5OajBLHvg",
        "outputId": "5a9f5def-24d9-4e2c-f7c4-d281e6e8d5f6"
      },
      "execution_count": 349,
      "outputs": [
        {
          "output_type": "stream",
          "name": "stdout",
          "text": [
            "['Armando', 'Maria', 'Carla']\n"
          ]
        }
      ]
    },
    {
      "cell_type": "code",
      "source": [
        "lista_nomes.append('João')"
      ],
      "metadata": {
        "id": "fDZaZHchLNRr"
      },
      "execution_count": 350,
      "outputs": []
    },
    {
      "cell_type": "code",
      "source": [
        "print(lista_nomes)"
      ],
      "metadata": {
        "colab": {
          "base_uri": "https://localhost:8080/"
        },
        "id": "a4ehgsLxLQ8_",
        "outputId": "d5c5ffe3-fcb8-4434-f958-af8d9b99ccc6"
      },
      "execution_count": 351,
      "outputs": [
        {
          "output_type": "stream",
          "name": "stdout",
          "text": [
            "['Armando', 'Maria', 'Carla', 'João']\n"
          ]
        }
      ]
    },
    {
      "cell_type": "code",
      "source": [
        "lista_nomes.insert(2, 'Francisco')"
      ],
      "metadata": {
        "id": "m-alr9RVLWlm"
      },
      "execution_count": 352,
      "outputs": []
    },
    {
      "cell_type": "code",
      "source": [
        "lista_nomes.sort()"
      ],
      "metadata": {
        "id": "z8A8k2v2teev"
      },
      "execution_count": 353,
      "outputs": []
    },
    {
      "cell_type": "code",
      "source": [
        "print(lista_nomes)"
      ],
      "metadata": {
        "colab": {
          "base_uri": "https://localhost:8080/"
        },
        "id": "8wb9wLYWt062",
        "outputId": "8be7e345-48db-4ba9-afcb-826379777b2b"
      },
      "execution_count": 354,
      "outputs": [
        {
          "output_type": "stream",
          "name": "stdout",
          "text": [
            "['Armando', 'Carla', 'Francisco', 'João', 'Maria']\n"
          ]
        }
      ]
    },
    {
      "cell_type": "code",
      "source": [
        "lista_nomes.reverse()\n",
        "print(lista_nomes)"
      ],
      "metadata": {
        "colab": {
          "base_uri": "https://localhost:8080/"
        },
        "id": "m5RThXXyMU6S",
        "outputId": "b462326f-41a0-47e5-9afe-4737f9c871c9"
      },
      "execution_count": 355,
      "outputs": [
        {
          "output_type": "stream",
          "name": "stdout",
          "text": [
            "['Maria', 'João', 'Francisco', 'Carla', 'Armando']\n"
          ]
        }
      ]
    },
    {
      "cell_type": "code",
      "source": [
        "print(lista_nomes)"
      ],
      "metadata": {
        "colab": {
          "base_uri": "https://localhost:8080/"
        },
        "id": "NhN8C_GUMnN8",
        "outputId": "dbc50db8-fc3b-4cf8-8c2c-52046944d1f4"
      },
      "execution_count": 356,
      "outputs": [
        {
          "output_type": "stream",
          "name": "stdout",
          "text": [
            "['Maria', 'João', 'Francisco', 'Carla', 'Armando']\n"
          ]
        }
      ]
    },
    {
      "cell_type": "code",
      "source": [
        "lista_nomes[3:]"
      ],
      "metadata": {
        "colab": {
          "base_uri": "https://localhost:8080/"
        },
        "id": "Vpvuv3TmMeYt",
        "outputId": "c700a148-e8ba-4aed-fe41-ebf30fd37c10"
      },
      "execution_count": 357,
      "outputs": [
        {
          "output_type": "execute_result",
          "data": {
            "text/plain": [
              "['Carla', 'Armando']"
            ]
          },
          "metadata": {},
          "execution_count": 357
        }
      ]
    },
    {
      "cell_type": "code",
      "source": [
        "lista_nomes[:4]"
      ],
      "metadata": {
        "colab": {
          "base_uri": "https://localhost:8080/"
        },
        "id": "hgiza67OuI0r",
        "outputId": "b1b8db83-0d86-472d-bedc-b307308ff644"
      },
      "execution_count": 358,
      "outputs": [
        {
          "output_type": "execute_result",
          "data": {
            "text/plain": [
              "['Maria', 'João', 'Francisco', 'Carla']"
            ]
          },
          "metadata": {},
          "execution_count": 358
        }
      ]
    },
    {
      "cell_type": "code",
      "source": [
        "lista_nomes[-1]"
      ],
      "metadata": {
        "colab": {
          "base_uri": "https://localhost:8080/",
          "height": 35
        },
        "id": "ElqBRcc-uSim",
        "outputId": "5e5e4089-92b7-405a-f836-a986cd859773"
      },
      "execution_count": 359,
      "outputs": [
        {
          "output_type": "execute_result",
          "data": {
            "text/plain": [
              "'Armando'"
            ],
            "application/vnd.google.colaboratory.intrinsic+json": {
              "type": "string"
            }
          },
          "metadata": {},
          "execution_count": 359
        }
      ]
    },
    {
      "cell_type": "code",
      "source": [
        "lista_nomes[1:]"
      ],
      "metadata": {
        "colab": {
          "base_uri": "https://localhost:8080/"
        },
        "id": "V-1F3quluXMv",
        "outputId": "2a50d243-58a8-4b4f-9e6e-9d62db6f1e40"
      },
      "execution_count": 360,
      "outputs": [
        {
          "output_type": "execute_result",
          "data": {
            "text/plain": [
              "['João', 'Francisco', 'Carla', 'Armando']"
            ]
          },
          "metadata": {},
          "execution_count": 360
        }
      ]
    },
    {
      "cell_type": "code",
      "source": [
        "lista_numeros = [1,2, 4,5,6,7]"
      ],
      "metadata": {
        "id": "q1lYwUQKNG29"
      },
      "execution_count": 361,
      "outputs": []
    },
    {
      "cell_type": "code",
      "source": [
        "print(f\"Mínimo: {min(lista_numeros)}, Máximo: {max(lista_numeros)}, Soma: {sum(lista_numeros)}\")"
      ],
      "metadata": {
        "colab": {
          "base_uri": "https://localhost:8080/"
        },
        "id": "IXFWmlpBnIlD",
        "outputId": "267bf3f0-2cf4-49da-c684-31c55be4dd28"
      },
      "execution_count": 362,
      "outputs": [
        {
          "output_type": "stream",
          "name": "stdout",
          "text": [
            "Mínimo: 1, Máximo: 7, Soma: 25\n"
          ]
        }
      ]
    },
    {
      "cell_type": "code",
      "source": [
        "lista_nomes = ['Maria', 'Ana', 'Carla']"
      ],
      "metadata": {
        "id": "uxI3_gkNuhQO"
      },
      "execution_count": 363,
      "outputs": []
    },
    {
      "cell_type": "code",
      "source": [
        "print(lista_nomes)"
      ],
      "metadata": {
        "colab": {
          "base_uri": "https://localhost:8080/"
        },
        "id": "Yoin2PWUumPi",
        "outputId": "bb910457-7deb-4a34-c969-14c9717c9f38"
      },
      "execution_count": 364,
      "outputs": [
        {
          "output_type": "stream",
          "name": "stdout",
          "text": [
            "['Maria', 'Ana', 'Carla']\n"
          ]
        }
      ]
    },
    {
      "cell_type": "code",
      "source": [
        "'Ana' in lista_nomes"
      ],
      "metadata": {
        "colab": {
          "base_uri": "https://localhost:8080/"
        },
        "id": "b8vERMQwuq0f",
        "outputId": "f2607e2d-62eb-4ef3-88d7-152a283ebd1d"
      },
      "execution_count": 365,
      "outputs": [
        {
          "output_type": "execute_result",
          "data": {
            "text/plain": [
              "True"
            ]
          },
          "metadata": {},
          "execution_count": 365
        }
      ]
    },
    {
      "cell_type": "code",
      "source": [
        "'Armando' in lista_nomes"
      ],
      "metadata": {
        "colab": {
          "base_uri": "https://localhost:8080/"
        },
        "id": "AXvxUgESuw78",
        "outputId": "0769e6ba-5227-4659-dbb9-5eaa7b879056"
      },
      "execution_count": 366,
      "outputs": [
        {
          "output_type": "execute_result",
          "data": {
            "text/plain": [
              "False"
            ]
          },
          "metadata": {},
          "execution_count": 366
        }
      ]
    },
    {
      "cell_type": "code",
      "source": [
        "for elemento in lista_nomes:\n",
        "  print(elemento)"
      ],
      "metadata": {
        "colab": {
          "base_uri": "https://localhost:8080/"
        },
        "id": "qJ-zGXcCuzz-",
        "outputId": "ff4616ef-9683-4267-c47a-cfa6c76b63a6"
      },
      "execution_count": 367,
      "outputs": [
        {
          "output_type": "stream",
          "name": "stdout",
          "text": [
            "Maria\n",
            "Ana\n",
            "Carla\n"
          ]
        }
      ]
    },
    {
      "cell_type": "code",
      "source": [
        "for elemento in lista_numeros:\n",
        "  print(elemento)"
      ],
      "metadata": {
        "colab": {
          "base_uri": "https://localhost:8080/"
        },
        "id": "Xd4s2gSRu4rc",
        "outputId": "14feb592-a551-413a-f7b9-d250e7c81bec"
      },
      "execution_count": 368,
      "outputs": [
        {
          "output_type": "stream",
          "name": "stdout",
          "text": [
            "1\n",
            "2\n",
            "4\n",
            "5\n",
            "6\n",
            "7\n"
          ]
        }
      ]
    },
    {
      "cell_type": "code",
      "source": [
        "lista_nomes.append('Armando')\n",
        "print(lista_nomes)"
      ],
      "metadata": {
        "colab": {
          "base_uri": "https://localhost:8080/"
        },
        "id": "J6I8KmlLvCkP",
        "outputId": "639e93f3-70fd-4922-cb1a-6a3681605724"
      },
      "execution_count": 369,
      "outputs": [
        {
          "output_type": "stream",
          "name": "stdout",
          "text": [
            "['Maria', 'Ana', 'Carla', 'Armando']\n"
          ]
        }
      ]
    },
    {
      "cell_type": "code",
      "source": [
        "lista_nomes.insert(0,'Teste')\n",
        "print(lista_nomes)"
      ],
      "metadata": {
        "colab": {
          "base_uri": "https://localhost:8080/"
        },
        "id": "G5tpx6pfvJC6",
        "outputId": "e972cfd1-4e70-4b05-c2da-3b2e66f77d49"
      },
      "execution_count": 370,
      "outputs": [
        {
          "output_type": "stream",
          "name": "stdout",
          "text": [
            "['Teste', 'Maria', 'Ana', 'Carla', 'Armando']\n"
          ]
        }
      ]
    },
    {
      "cell_type": "code",
      "source": [
        "lista_nomes.remove('Teste')\n",
        "print(lista_nomes)"
      ],
      "metadata": {
        "colab": {
          "base_uri": "https://localhost:8080/"
        },
        "id": "QxgSNSTnvZ7e",
        "outputId": "0230842b-4233-4dd9-ba0b-50496fa1202d"
      },
      "execution_count": 371,
      "outputs": [
        {
          "output_type": "stream",
          "name": "stdout",
          "text": [
            "['Maria', 'Ana', 'Carla', 'Armando']\n"
          ]
        }
      ]
    },
    {
      "cell_type": "code",
      "source": [
        "lista_nomes.remove('Armando')\n",
        "print(lista_nomes)"
      ],
      "metadata": {
        "colab": {
          "base_uri": "https://localhost:8080/"
        },
        "id": "Lx3u3VGdvhSR",
        "outputId": "a80390b5-866e-4a55-f4d9-db4abdb279c8"
      },
      "execution_count": 372,
      "outputs": [
        {
          "output_type": "stream",
          "name": "stdout",
          "text": [
            "['Maria', 'Ana', 'Carla']\n"
          ]
        }
      ]
    },
    {
      "cell_type": "code",
      "source": [
        "try:\n",
        "  lista_nomes.remove('Francisco')\n",
        "except Exception as ex:\n",
        "  print(f\"Elemento inválido! Erro: {ex}\")"
      ],
      "metadata": {
        "colab": {
          "base_uri": "https://localhost:8080/"
        },
        "id": "wCX2NOuuvxIT",
        "outputId": "1f1e0c3b-3ab1-4825-9d6c-c9d015ecdbe0"
      },
      "execution_count": 374,
      "outputs": [
        {
          "output_type": "stream",
          "name": "stdout",
          "text": [
            "Elemento inválido! Erro: list.remove(x): x not in list\n"
          ]
        }
      ]
    },
    {
      "cell_type": "code",
      "source": [
        "print(lista_nomes)\n",
        "lista_nomes.pop(2)\n",
        "print(lista_nomes)"
      ],
      "metadata": {
        "colab": {
          "base_uri": "https://localhost:8080/"
        },
        "id": "w2BUygB5wOF3",
        "outputId": "43b7414a-c08a-4ff4-faf6-be17f9a0b56e"
      },
      "execution_count": 375,
      "outputs": [
        {
          "output_type": "stream",
          "name": "stdout",
          "text": [
            "['Maria', 'Ana', 'Carla']\n",
            "['Maria', 'Ana']\n"
          ]
        }
      ]
    },
    {
      "cell_type": "code",
      "source": [
        "len(lista_nomes)"
      ],
      "metadata": {
        "id": "6-T3ArGJw2BK",
        "colab": {
          "base_uri": "https://localhost:8080/"
        },
        "outputId": "78ac8b8a-5a3d-4817-82be-22b68699cce1"
      },
      "execution_count": 377,
      "outputs": [
        {
          "output_type": "execute_result",
          "data": {
            "text/plain": [
              "2"
            ]
          },
          "metadata": {},
          "execution_count": 377
        }
      ]
    },
    {
      "cell_type": "code",
      "source": [
        "for nome in lista_nomes:\n",
        "  print(nome)"
      ],
      "metadata": {
        "id": "IpAWc9pAxALv",
        "colab": {
          "base_uri": "https://localhost:8080/"
        },
        "outputId": "351db100-d677-4233-85ec-39064797b763"
      },
      "execution_count": 378,
      "outputs": [
        {
          "output_type": "stream",
          "name": "stdout",
          "text": [
            "Maria\n",
            "Ana\n"
          ]
        }
      ]
    },
    {
      "cell_type": "code",
      "source": [
        "for i in range(len(lista_nomes)):\n",
        "  print(f\"índice: {i}, valor: {lista_nomes[i]}\")"
      ],
      "metadata": {
        "id": "I9fAGi6Hw4q9",
        "colab": {
          "base_uri": "https://localhost:8080/"
        },
        "outputId": "9a03ae05-5f71-439d-a906-a9c61cd95f97"
      },
      "execution_count": 379,
      "outputs": [
        {
          "output_type": "stream",
          "name": "stdout",
          "text": [
            "índice: 0, valor: Maria\n",
            "índice: 1, valor: Ana\n"
          ]
        }
      ]
    },
    {
      "cell_type": "code",
      "source": [
        "lista_nomes.sort()\n",
        "print(lista_nomes)"
      ],
      "metadata": {
        "id": "CqgACsOKxSe6",
        "colab": {
          "base_uri": "https://localhost:8080/"
        },
        "outputId": "08d05ae4-edce-46db-f401-3535a9e119e5"
      },
      "execution_count": 380,
      "outputs": [
        {
          "output_type": "stream",
          "name": "stdout",
          "text": [
            "['Ana', 'Maria']\n"
          ]
        }
      ]
    },
    {
      "cell_type": "code",
      "source": [
        "print(lista_nomes)"
      ],
      "metadata": {
        "id": "ams3mQ8Oxkqm",
        "colab": {
          "base_uri": "https://localhost:8080/"
        },
        "outputId": "d436b082-4172-41fa-94c1-65663e481870"
      },
      "execution_count": 381,
      "outputs": [
        {
          "output_type": "stream",
          "name": "stdout",
          "text": [
            "['Ana', 'Maria']\n"
          ]
        }
      ]
    },
    {
      "cell_type": "code",
      "source": [
        "lista_nomes_ordenado = lista_nomes.copy()\n",
        "lista_nomes_ordenado.sort()\n",
        "print(lista_nomes_ordenado)"
      ],
      "metadata": {
        "id": "XgVgMNSlxpW0",
        "colab": {
          "base_uri": "https://localhost:8080/"
        },
        "outputId": "1931a942-ebff-4b43-c048-c76d2be523cd"
      },
      "execution_count": 382,
      "outputs": [
        {
          "output_type": "stream",
          "name": "stdout",
          "text": [
            "['Ana', 'Maria']\n"
          ]
        }
      ]
    },
    {
      "cell_type": "code",
      "source": [
        "nova_lista_nomes = lista_nomes_ordenado + lista_nomes\n",
        "print(nova_lista_nomes)"
      ],
      "metadata": {
        "id": "cPuQ38q9yRCe",
        "colab": {
          "base_uri": "https://localhost:8080/"
        },
        "outputId": "2d7412bc-85fd-49f5-9df1-112fed17052f"
      },
      "execution_count": 383,
      "outputs": [
        {
          "output_type": "stream",
          "name": "stdout",
          "text": [
            "['Ana', 'Maria', 'Ana', 'Maria']\n"
          ]
        }
      ]
    },
    {
      "cell_type": "code",
      "source": [
        "print(lista_numeros)"
      ],
      "metadata": {
        "id": "dUFDRORAzmEk",
        "colab": {
          "base_uri": "https://localhost:8080/"
        },
        "outputId": "3d1c2244-bbfe-4249-a310-0f0235c73dd5"
      },
      "execution_count": 384,
      "outputs": [
        {
          "output_type": "stream",
          "name": "stdout",
          "text": [
            "[1, 2, 4, 5, 6, 7]\n"
          ]
        }
      ]
    },
    {
      "cell_type": "code",
      "source": [
        "lista_numeros.append(5)\n",
        "print(lista_numeros)"
      ],
      "metadata": {
        "id": "44h-TT8vzpjC",
        "colab": {
          "base_uri": "https://localhost:8080/"
        },
        "outputId": "7555770e-dd8b-4fa7-a4cf-037e563bea38"
      },
      "execution_count": 385,
      "outputs": [
        {
          "output_type": "stream",
          "name": "stdout",
          "text": [
            "[1, 2, 4, 5, 6, 7, 5]\n"
          ]
        }
      ]
    },
    {
      "cell_type": "code",
      "source": [
        "lista_numeros.count(5)"
      ],
      "metadata": {
        "id": "U76orNgFztrR",
        "colab": {
          "base_uri": "https://localhost:8080/"
        },
        "outputId": "13653ab2-efa0-47c4-e208-366201624dce"
      },
      "execution_count": 386,
      "outputs": [
        {
          "output_type": "execute_result",
          "data": {
            "text/plain": [
              "2"
            ]
          },
          "metadata": {},
          "execution_count": 386
        }
      ]
    },
    {
      "cell_type": "code",
      "source": [
        "lista_numeros.count(7)"
      ],
      "metadata": {
        "id": "rRO--mUIz1WI",
        "colab": {
          "base_uri": "https://localhost:8080/"
        },
        "outputId": "793376ca-60be-41c3-fb2d-5923e0127bb6"
      },
      "execution_count": 387,
      "outputs": [
        {
          "output_type": "execute_result",
          "data": {
            "text/plain": [
              "1"
            ]
          },
          "metadata": {},
          "execution_count": 387
        }
      ]
    },
    {
      "cell_type": "code",
      "source": [
        "lista_numeros.sort()\n",
        "print(lista_numeros)"
      ],
      "metadata": {
        "id": "GwsURLPZz80b",
        "colab": {
          "base_uri": "https://localhost:8080/"
        },
        "outputId": "132e80a1-daf5-46c7-9c30-491d0f62dfed"
      },
      "execution_count": 388,
      "outputs": [
        {
          "output_type": "stream",
          "name": "stdout",
          "text": [
            "[1, 2, 4, 5, 5, 6, 7]\n"
          ]
        }
      ]
    },
    {
      "cell_type": "code",
      "source": [
        "lista_numeros.reverse()\n",
        "print(lista_numeros)"
      ],
      "metadata": {
        "id": "uwxR8FI80Aol",
        "colab": {
          "base_uri": "https://localhost:8080/"
        },
        "outputId": "dfa7ed0e-e588-423e-db8c-a73091f1b8a7"
      },
      "execution_count": 389,
      "outputs": [
        {
          "output_type": "stream",
          "name": "stdout",
          "text": [
            "[7, 6, 5, 5, 4, 2, 1]\n"
          ]
        }
      ]
    },
    {
      "cell_type": "code",
      "source": [
        "lista_alunos = ['Maria', 'Ana', 'Carla']\n",
        "lista_notas = [[10, 8, 9], [8, 7, 9], [7,7,7]]\n",
        "\n",
        "# Associa alunos e notas por índice:\n",
        "print(f\"Aluno: {lista_alunos[0]}, notas: {lista_notas[0]}\")"
      ],
      "metadata": {
        "id": "tphaCfAeUaYZ",
        "colab": {
          "base_uri": "https://localhost:8080/"
        },
        "outputId": "51109143-f817-4eb4-ef27-cd27d9c125a0"
      },
      "execution_count": 390,
      "outputs": [
        {
          "output_type": "stream",
          "name": "stdout",
          "text": [
            "Aluno: Maria, notas: [10, 8, 9]\n"
          ]
        }
      ]
    },
    {
      "cell_type": "code",
      "source": [
        "for i in range(len(lista_alunos)):\n",
        "  print(f\"índice: {i}, aluno: {lista_alunos[i]}, notas: {lista_notas[i]}\")"
      ],
      "metadata": {
        "id": "MFNx9Rh3VFT0",
        "colab": {
          "base_uri": "https://localhost:8080/"
        },
        "outputId": "bdf3ff3a-5ba7-4593-a069-be38ead1ec8a"
      },
      "execution_count": 391,
      "outputs": [
        {
          "output_type": "stream",
          "name": "stdout",
          "text": [
            "índice: 0, aluno: Maria, notas: [10, 8, 9]\n",
            "índice: 1, aluno: Ana, notas: [8, 7, 9]\n",
            "índice: 2, aluno: Carla, notas: [7, 7, 7]\n"
          ]
        }
      ]
    },
    {
      "cell_type": "code",
      "source": [
        "matriz_2x3 = [[1,2,3], [4,5,6]]\n",
        "print(matriz_2x3)\n",
        "print(f\"Linha: {0}, {matriz_2x3[0]}\")\n",
        "print(f\"coluna 1: {matriz_2x3[0][0]}, coluna 2: {matriz_2x3[0][1]}, coluna 3: {matriz_2x3[0][2]}\")\n",
        "print(f\"Linha: {1}, {matriz_2x3[1]}\")\n",
        "print(f\"coluna 1: {matriz_2x3[1][0]}, coluna 2: {matriz_2x3[1][1]}, coluna 3: {matriz_2x3[1][2]}\")"
      ],
      "metadata": {
        "id": "AL7Vv286VZYC",
        "colab": {
          "base_uri": "https://localhost:8080/"
        },
        "outputId": "aa92f68f-a51a-4144-f1c9-2ea3dbb42ad3"
      },
      "execution_count": 392,
      "outputs": [
        {
          "output_type": "stream",
          "name": "stdout",
          "text": [
            "[[1, 2, 3], [4, 5, 6]]\n",
            "Linha: 0, [1, 2, 3]\n",
            "coluna 1: 1, coluna 2: 2, coluna 3: 3\n",
            "Linha: 1, [4, 5, 6]\n",
            "coluna 1: 4, coluna 2: 5, coluna 3: 6\n"
          ]
        }
      ]
    },
    {
      "cell_type": "markdown",
      "source": [
        "# Tuplas"
      ],
      "metadata": {
        "id": "vxOtCg2Jrvwf"
      }
    },
    {
      "cell_type": "code",
      "source": [
        "frutas = ('apple', 'banana', 'cherry')\n",
        "print(frutas)"
      ],
      "metadata": {
        "id": "NUh4LnP1wbJr",
        "colab": {
          "base_uri": "https://localhost:8080/"
        },
        "outputId": "d6ee2351-bc14-4f3c-de9f-2fcbdff6add1"
      },
      "execution_count": 393,
      "outputs": [
        {
          "output_type": "stream",
          "name": "stdout",
          "text": [
            "('apple', 'banana', 'cherry')\n"
          ]
        }
      ]
    },
    {
      "cell_type": "code",
      "source": [
        "frutas[0]"
      ],
      "metadata": {
        "id": "gbhEJLRcrwoZ",
        "colab": {
          "base_uri": "https://localhost:8080/",
          "height": 35
        },
        "outputId": "4ca05c44-6a30-4227-8070-2bd8b81ec102"
      },
      "execution_count": 394,
      "outputs": [
        {
          "output_type": "execute_result",
          "data": {
            "text/plain": [
              "'apple'"
            ],
            "application/vnd.google.colaboratory.intrinsic+json": {
              "type": "string"
            }
          },
          "metadata": {},
          "execution_count": 394
        }
      ]
    },
    {
      "cell_type": "code",
      "source": [
        "frutas[2:]"
      ],
      "metadata": {
        "id": "suO15v4fbOJf",
        "colab": {
          "base_uri": "https://localhost:8080/"
        },
        "outputId": "4b5bfb71-f942-4195-d287-428388ebf57f"
      },
      "execution_count": 395,
      "outputs": [
        {
          "output_type": "execute_result",
          "data": {
            "text/plain": [
              "('cherry',)"
            ]
          },
          "metadata": {},
          "execution_count": 395
        }
      ]
    },
    {
      "cell_type": "code",
      "source": [
        "lado = 10\n",
        "altura = 5\n",
        "retangulo = (lado, altura)"
      ],
      "metadata": {
        "id": "t8IT-hVpba2_"
      },
      "execution_count": 396,
      "outputs": []
    },
    {
      "cell_type": "code",
      "source": [
        "a = 10\n",
        "b = 20\n",
        "c = 30\n",
        "triangulo = (a, b, c)"
      ],
      "metadata": {
        "id": "3DvEO944bipB"
      },
      "execution_count": 397,
      "outputs": []
    },
    {
      "cell_type": "code",
      "source": [
        "x, y, z = frutas"
      ],
      "metadata": {
        "id": "9X8ERLwdb-oz"
      },
      "execution_count": 398,
      "outputs": []
    },
    {
      "cell_type": "code",
      "source": [
        "print(x, y, z)"
      ],
      "metadata": {
        "id": "7l06dc8vcA3a",
        "colab": {
          "base_uri": "https://localhost:8080/"
        },
        "outputId": "72482fc7-120d-498d-d8bf-58813300a8ee"
      },
      "execution_count": 399,
      "outputs": [
        {
          "output_type": "stream",
          "name": "stdout",
          "text": [
            "apple banana cherry\n"
          ]
        }
      ]
    },
    {
      "cell_type": "code",
      "source": [
        "for item in frutas:\n",
        "  print(item)"
      ],
      "metadata": {
        "id": "ZW_WlXmZcPxK",
        "colab": {
          "base_uri": "https://localhost:8080/"
        },
        "outputId": "efbfc699-34f7-44d4-f3f0-88e938f7a12c"
      },
      "execution_count": 400,
      "outputs": [
        {
          "output_type": "stream",
          "name": "stdout",
          "text": [
            "apple\n",
            "banana\n",
            "cherry\n"
          ]
        }
      ]
    },
    {
      "cell_type": "code",
      "source": [
        "for i in range(len(frutas)):\n",
        "  print(i, frutas[i])"
      ],
      "metadata": {
        "id": "0MXbTiu5comk",
        "colab": {
          "base_uri": "https://localhost:8080/"
        },
        "outputId": "908e3490-6425-41e7-c67e-082e3e757096"
      },
      "execution_count": 401,
      "outputs": [
        {
          "output_type": "stream",
          "name": "stdout",
          "text": [
            "0 apple\n",
            "1 banana\n",
            "2 cherry\n"
          ]
        }
      ]
    },
    {
      "cell_type": "code",
      "source": [
        "frutas_do_nordeste = ('bacuri', 'acerola', 'melancia')\n",
        "print(frutas_do_nordeste)"
      ],
      "metadata": {
        "id": "pfb8RuZvcyA2",
        "colab": {
          "base_uri": "https://localhost:8080/"
        },
        "outputId": "0aa89553-08f4-4076-f1b6-3a605476b61b"
      },
      "execution_count": 402,
      "outputs": [
        {
          "output_type": "stream",
          "name": "stdout",
          "text": [
            "('bacuri', 'acerola', 'melancia')\n"
          ]
        }
      ]
    },
    {
      "cell_type": "code",
      "source": [
        "minhas_frutas = frutas + frutas_do_nordeste\n",
        "print(minhas_frutas)"
      ],
      "metadata": {
        "id": "4XOtoR3Tc9u2",
        "colab": {
          "base_uri": "https://localhost:8080/"
        },
        "outputId": "d68e7a47-600b-4db3-e0fd-b8b1ad41e591"
      },
      "execution_count": 403,
      "outputs": [
        {
          "output_type": "stream",
          "name": "stdout",
          "text": [
            "('apple', 'banana', 'cherry', 'bacuri', 'acerola', 'melancia')\n"
          ]
        }
      ]
    },
    {
      "cell_type": "markdown",
      "source": [
        "# Conjuntos"
      ],
      "metadata": {
        "id": "nbbs737orxyu"
      }
    },
    {
      "cell_type": "code",
      "source": [
        "cores = {'azul', 'amarelo', 'verde', 'vermelho'}\n",
        "print(cores)"
      ],
      "metadata": {
        "id": "58x93vnsbZqL",
        "colab": {
          "base_uri": "https://localhost:8080/"
        },
        "outputId": "8409a23b-797f-4750-e61e-d7a330770ee6"
      },
      "execution_count": 404,
      "outputs": [
        {
          "output_type": "stream",
          "name": "stdout",
          "text": [
            "{'amarelo', 'vermelho', 'azul', 'verde'}\n"
          ]
        }
      ]
    },
    {
      "cell_type": "code",
      "source": [
        "for item in cores:\n",
        "  print(item)"
      ],
      "metadata": {
        "id": "96zcL8v1rzsi",
        "colab": {
          "base_uri": "https://localhost:8080/"
        },
        "outputId": "905eae6c-4d36-476f-bb3d-2cd1aa397243"
      },
      "execution_count": 405,
      "outputs": [
        {
          "output_type": "stream",
          "name": "stdout",
          "text": [
            "amarelo\n",
            "vermelho\n",
            "azul\n",
            "verde\n"
          ]
        }
      ]
    },
    {
      "cell_type": "code",
      "source": [
        "'rosa' in cores"
      ],
      "metadata": {
        "id": "G8uMBULhdl8M",
        "colab": {
          "base_uri": "https://localhost:8080/"
        },
        "outputId": "54ddceb6-3626-4850-f286-a1fd94fd494e"
      },
      "execution_count": 406,
      "outputs": [
        {
          "output_type": "execute_result",
          "data": {
            "text/plain": [
              "False"
            ]
          },
          "metadata": {},
          "execution_count": 406
        }
      ]
    },
    {
      "cell_type": "code",
      "source": [
        "minhas_cores = {'azul', 'rosa', 'laranja', 'verde'}\n",
        "print(minhas_cores)"
      ],
      "metadata": {
        "id": "JKw6_XMUdpBZ",
        "colab": {
          "base_uri": "https://localhost:8080/"
        },
        "outputId": "b29b75c5-5b58-46a8-9d5f-28484a6691b9"
      },
      "execution_count": 407,
      "outputs": [
        {
          "output_type": "stream",
          "name": "stdout",
          "text": [
            "{'rosa', 'azul', 'laranja', 'verde'}\n"
          ]
        }
      ]
    },
    {
      "cell_type": "code",
      "source": [
        "minhas_cores.add('preto')\n",
        "print(minhas_cores)"
      ],
      "metadata": {
        "id": "XMSzckiddw_y",
        "colab": {
          "base_uri": "https://localhost:8080/"
        },
        "outputId": "6be38cf7-6e28-4b98-96ff-fb50b99976e8"
      },
      "execution_count": 408,
      "outputs": [
        {
          "output_type": "stream",
          "name": "stdout",
          "text": [
            "{'preto', 'verde', 'laranja', 'rosa', 'azul'}\n"
          ]
        }
      ]
    },
    {
      "cell_type": "code",
      "source": [
        "minhas_cores.add('preto')\n",
        "print(minhas_cores)"
      ],
      "metadata": {
        "id": "EG9qYbZXd3Zb",
        "colab": {
          "base_uri": "https://localhost:8080/"
        },
        "outputId": "e6666d33-ce7e-43da-c10f-017976785504"
      },
      "execution_count": 409,
      "outputs": [
        {
          "output_type": "stream",
          "name": "stdout",
          "text": [
            "{'preto', 'verde', 'laranja', 'rosa', 'azul'}\n"
          ]
        }
      ]
    },
    {
      "cell_type": "code",
      "source": [
        "nossas_cores = cores.union(minhas_cores)"
      ],
      "metadata": {
        "id": "dPFIKuCkd-S_"
      },
      "execution_count": 410,
      "outputs": []
    },
    {
      "cell_type": "code",
      "source": [
        "print(nossas_cores)"
      ],
      "metadata": {
        "id": "wgpoej_4eH9D",
        "colab": {
          "base_uri": "https://localhost:8080/"
        },
        "outputId": "5d39416f-a7f6-4314-8a2d-8819503b3944"
      },
      "execution_count": 411,
      "outputs": [
        {
          "output_type": "stream",
          "name": "stdout",
          "text": [
            "{'preto', 'verde', 'laranja', 'rosa', 'amarelo', 'vermelho', 'azul'}\n"
          ]
        }
      ]
    },
    {
      "cell_type": "code",
      "source": [
        "dif_cores_minhas_cores = cores.difference(minhas_cores)\n",
        "print(dif_cores_minhas_cores)"
      ],
      "metadata": {
        "id": "7Su_lt7weJdC",
        "colab": {
          "base_uri": "https://localhost:8080/"
        },
        "outputId": "8e83d1e6-4ea5-4ecb-a0db-b746db04c9b0"
      },
      "execution_count": 412,
      "outputs": [
        {
          "output_type": "stream",
          "name": "stdout",
          "text": [
            "{'amarelo', 'vermelho'}\n"
          ]
        }
      ]
    },
    {
      "cell_type": "code",
      "source": [
        "dif_minhas_cores_cores = minhas_cores.difference(cores)\n",
        "print(dif_minhas_cores_cores)"
      ],
      "metadata": {
        "id": "DGxbFnKheX91",
        "colab": {
          "base_uri": "https://localhost:8080/"
        },
        "outputId": "4ec051d8-0114-46dd-e4a7-e5515540e7e7"
      },
      "execution_count": 413,
      "outputs": [
        {
          "output_type": "stream",
          "name": "stdout",
          "text": [
            "{'rosa', 'preto', 'laranja'}\n"
          ]
        }
      ]
    }
  ]
}