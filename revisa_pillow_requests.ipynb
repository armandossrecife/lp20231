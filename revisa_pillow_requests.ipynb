{
  "nbformat": 4,
  "nbformat_minor": 0,
  "metadata": {
    "colab": {
      "provenance": [],
      "authorship_tag": "ABX9TyO8BzIySi4AuIn02WDdz+v4",
      "include_colab_link": true
    },
    "kernelspec": {
      "name": "python3",
      "display_name": "Python 3"
    },
    "language_info": {
      "name": "python"
    }
  },
  "cells": [
    {
      "cell_type": "markdown",
      "metadata": {
        "id": "view-in-github",
        "colab_type": "text"
      },
      "source": [
        "<a href=\"https://colab.research.google.com/github/armandossrecife/lp20231/blob/main/revisa_pillow_requests.ipynb\" target=\"_parent\"><img src=\"https://colab.research.google.com/assets/colab-badge.svg\" alt=\"Open In Colab\"/></a>"
      ]
    },
    {
      "cell_type": "code",
      "source": [
        "# Instale o módulo Pillow via pip install Pillow\n",
        "!pip install Pillow"
      ],
      "metadata": {
        "colab": {
          "base_uri": "https://localhost:8080/"
        },
        "id": "Gkir-WFZ5Wx7",
        "outputId": "0c9577fd-96e6-4c66-ddaf-1bddcc40cade"
      },
      "execution_count": 1,
      "outputs": [
        {
          "output_type": "stream",
          "name": "stdout",
          "text": [
            "Looking in indexes: https://pypi.org/simple, https://us-python.pkg.dev/colab-wheels/public/simple/\n",
            "Requirement already satisfied: Pillow in /usr/local/lib/python3.10/dist-packages (8.4.0)\n"
          ]
        }
      ]
    },
    {
      "cell_type": "code",
      "source": [
        "url_imagem = 'https://raw.githubusercontent.com/armandossrecife/teste/main/atdmethods1.png'"
      ],
      "metadata": {
        "id": "XSJOwYcH6FMr"
      },
      "execution_count": 11,
      "outputs": []
    },
    {
      "cell_type": "code",
      "source": [
        "!pip install requests"
      ],
      "metadata": {
        "colab": {
          "base_uri": "https://localhost:8080/"
        },
        "id": "snS4ruPh6gf6",
        "outputId": "b919cd9e-8ed9-40c4-94e8-4da27c51472c"
      },
      "execution_count": 3,
      "outputs": [
        {
          "output_type": "stream",
          "name": "stdout",
          "text": [
            "Looking in indexes: https://pypi.org/simple, https://us-python.pkg.dev/colab-wheels/public/simple/\n",
            "Requirement already satisfied: requests in /usr/local/lib/python3.10/dist-packages (2.27.1)\n",
            "Requirement already satisfied: urllib3<1.27,>=1.21.1 in /usr/local/lib/python3.10/dist-packages (from requests) (1.26.15)\n",
            "Requirement already satisfied: certifi>=2017.4.17 in /usr/local/lib/python3.10/dist-packages (from requests) (2022.12.7)\n",
            "Requirement already satisfied: charset-normalizer~=2.0.0 in /usr/local/lib/python3.10/dist-packages (from requests) (2.0.12)\n",
            "Requirement already satisfied: idna<4,>=2.5 in /usr/local/lib/python3.10/dist-packages (from requests) (3.4)\n"
          ]
        }
      ]
    },
    {
      "cell_type": "code",
      "source": [
        "### Fazendo o download de arquivos\n",
        "import requests\n",
        "\n",
        "def download_file(url, destination):\n",
        "    try:\n",
        "        response = requests.get(url)\n",
        "        response.raise_for_status()  # Verifica se houve algum erro na requisição\n",
        "\n",
        "        with open(destination, 'wb') as file:\n",
        "            file.write(response.content)\n",
        "\n",
        "        print(f\"Download completo. Arquivo salvo em: {destination}\")\n",
        "    except requests.exceptions.MissingSchema:\n",
        "        print(\"URL inválida. Certifique-se de fornecer uma URL válida.\")\n",
        "    except requests.exceptions.RequestException as e:\n",
        "        print(f\"Erro na conexão: {e}\")"
      ],
      "metadata": {
        "id": "ewQJIKwk6PuP"
      },
      "execution_count": 12,
      "outputs": []
    },
    {
      "cell_type": "code",
      "source": [
        "download_file(url=url_imagem, destination='atdmethods.png')"
      ],
      "metadata": {
        "colab": {
          "base_uri": "https://localhost:8080/"
        },
        "id": "dkbdzaz97HiL",
        "outputId": "4918ff9d-9218-4438-f9ef-abb3d07d05b7"
      },
      "execution_count": 14,
      "outputs": [
        {
          "output_type": "stream",
          "name": "stdout",
          "text": [
            "Download completo. Arquivo salvo em: atdmethods.png\n"
          ]
        }
      ]
    },
    {
      "cell_type": "code",
      "execution_count": 16,
      "metadata": {
        "id": "TT9SwRkt5TQp"
      },
      "outputs": [],
      "source": [
        "import PIL\n",
        "\n",
        "try:\n",
        "  my_image = PIL.Image.open('atdmethods.png')\n",
        "except Exception as ex:\n",
        "  print(f'Erro ao criar a instância da imagem: {str(ex)}')"
      ]
    },
    {
      "cell_type": "code",
      "source": [
        "print(f\"Tamanho: {my_image.size}, Formato: {my_image.format}, Modo: {my_image.mode}, \")"
      ],
      "metadata": {
        "colab": {
          "base_uri": "https://localhost:8080/"
        },
        "id": "DR1YFFyP8HPf",
        "outputId": "357a0af3-f674-4b52-95d9-d6c1b87d5c3a"
      },
      "execution_count": 17,
      "outputs": [
        {
          "output_type": "stream",
          "name": "stdout",
          "text": [
            "Tamanho: (1920, 1080), Formato: PNG, Modo: RGB, \n"
          ]
        }
      ]
    }
  ]
}